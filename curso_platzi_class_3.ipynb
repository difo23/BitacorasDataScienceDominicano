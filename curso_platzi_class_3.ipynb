{
  "nbformat": 4,
  "nbformat_minor": 0,
  "metadata": {
    "colab": {
      "name": "curso-platzi-class-3.ipynb",
      "provenance": [],
      "collapsed_sections": [],
      "mount_file_id": "1_GjBU511-SSH9URn6jLMzvc8g4MagyEi",
      "authorship_tag": "ABX9TyOQALYt2gFiY6lN2i14QIx1",
      "include_colab_link": true
    },
    "kernelspec": {
      "name": "python3",
      "display_name": "Python 3"
    },
    "language_info": {
      "name": "python"
    }
  },
  "cells": [
    {
      "cell_type": "markdown",
      "metadata": {
        "id": "view-in-github",
        "colab_type": "text"
      },
      "source": [
        "<a href=\"https://colab.research.google.com/github/difo23/BitacorasDataScienceDominicano/blob/master/curso_platzi_class_3.ipynb\" target=\"_parent\"><img src=\"https://colab.research.google.com/assets/colab-badge.svg\" alt=\"Open In Colab\"/></a>"
      ]
    },
    {
      "cell_type": "markdown",
      "metadata": {
        "id": "Sz4TKgJegBxh"
      },
      "source": [
        "# Series e Indexación y selección de datos"
      ]
    },
    {
      "cell_type": "code",
      "metadata": {
        "id": "cMqo7zE1fxYc"
      },
      "source": [
        "import numpy as np # Import numpy and pandas library for the projects"
      ],
      "execution_count": null,
      "outputs": []
    },
    {
      "cell_type": "code",
      "metadata": {
        "id": "Wzixht97gzmp"
      },
      "source": [
        "import pandas as pd"
      ],
      "execution_count": null,
      "outputs": []
    },
    {
      "cell_type": "code",
      "metadata": {
        "colab": {
          "base_uri": "https://localhost:8080/"
        },
        "id": "BerdF7dzjUHD",
        "outputId": "2fb3cb80-1614-4829-c098-c52d19cbb6f0"
      },
      "source": [
        "# This a simply array of number \n",
        "np.array([2,3,4,5,1])"
      ],
      "execution_count": null,
      "outputs": [
        {
          "output_type": "execute_result",
          "data": {
            "text/plain": [
              "array([2, 3, 4, 5, 1])"
            ]
          },
          "metadata": {
            "tags": []
          },
          "execution_count": 6
        }
      ]
    },
    {
      "cell_type": "code",
      "metadata": {
        "id": "ewRe0CRyhQBc",
        "colab": {
          "base_uri": "https://localhost:8080/"
        },
        "outputId": "312f6e1d-6cfa-4877-d09d-3766586a6943"
      },
      "source": [
        "# Create series with pandas, this have index columns \n",
        "sr = pd.Series([2,3,4,5,1])\n",
        "sr"
      ],
      "execution_count": null,
      "outputs": [
        {
          "output_type": "execute_result",
          "data": {
            "text/plain": [
              "0    2\n",
              "1    3\n",
              "2    4\n",
              "3    5\n",
              "4    1\n",
              "dtype: int64"
            ]
          },
          "metadata": {
            "tags": []
          },
          "execution_count": 15
        }
      ]
    },
    {
      "cell_type": "code",
      "metadata": {
        "colab": {
          "base_uri": "https://localhost:8080/"
        },
        "id": "aiEsFNqijnCM",
        "outputId": "edaca167-d938-4707-b062-36d30242bc84"
      },
      "source": [
        "# Show values\n",
        "sr.values"
      ],
      "execution_count": null,
      "outputs": [
        {
          "output_type": "execute_result",
          "data": {
            "text/plain": [
              "array([2, 3, 4, 5, 1])"
            ]
          },
          "metadata": {
            "tags": []
          },
          "execution_count": 9
        }
      ]
    },
    {
      "cell_type": "code",
      "metadata": {
        "colab": {
          "base_uri": "https://localhost:8080/"
        },
        "id": "Z8Sijg5Dj5fM",
        "outputId": "34384b79-3c00-4e71-eeb4-40662ebee381"
      },
      "source": [
        "sr.index"
      ],
      "execution_count": null,
      "outputs": [
        {
          "output_type": "execute_result",
          "data": {
            "text/plain": [
              "RangeIndex(start=0, stop=5, step=1)"
            ]
          },
          "metadata": {
            "tags": []
          },
          "execution_count": 10
        }
      ]
    },
    {
      "cell_type": "code",
      "metadata": {
        "colab": {
          "base_uri": "https://localhost:8080/"
        },
        "id": "slntdi92j9P9",
        "outputId": "cdf6e28f-963e-475b-b92e-eb90b6ae8c00"
      },
      "source": [
        "sr.shape"
      ],
      "execution_count": null,
      "outputs": [
        {
          "output_type": "execute_result",
          "data": {
            "text/plain": [
              "(5,)"
            ]
          },
          "metadata": {
            "tags": []
          },
          "execution_count": 11
        }
      ]
    },
    {
      "cell_type": "code",
      "metadata": {
        "colab": {
          "base_uri": "https://localhost:8080/"
        },
        "id": "uKRkJMYGkKpN",
        "outputId": "82c70ef5-9941-4533-9c91-ab69b7064410"
      },
      "source": [
        "sr.all"
      ],
      "execution_count": null,
      "outputs": [
        {
          "output_type": "execute_result",
          "data": {
            "text/plain": [
              "<bound method Series.all of 0    2\n",
              "1    3\n",
              "2    4\n",
              "3    5\n",
              "4    1\n",
              "dtype: int64>"
            ]
          },
          "metadata": {
            "tags": []
          },
          "execution_count": 12
        }
      ]
    },
    {
      "cell_type": "code",
      "metadata": {
        "colab": {
          "base_uri": "https://localhost:8080/"
        },
        "id": "nLzyJjoDkdtR",
        "outputId": "25c16afe-e52e-456a-ecaf-57b82efe754c"
      },
      "source": [
        "# Can chage the index of series pandas\n",
        "sr = pd.Series([8,7,2,3,4,5], index= ['a','b','c','d','f','g'])"
      ],
      "execution_count": null,
      "outputs": [
        {
          "output_type": "execute_result",
          "data": {
            "text/plain": [
              "a    8\n",
              "b    7\n",
              "c    2\n",
              "d    3\n",
              "f    4\n",
              "g    5\n",
              "dtype: int64"
            ]
          },
          "metadata": {
            "tags": []
          },
          "execution_count": 17
        }
      ]
    },
    {
      "cell_type": "code",
      "metadata": {
        "id": "h92Bfskxk0gB",
        "colab": {
          "base_uri": "https://localhost:8080/"
        },
        "outputId": "449db633-c81e-4c73-ff1b-1d63cbc07bab"
      },
      "source": [
        "# The dictionaries can become pandas series.\n",
        "dic_data = {'MX':100,'AR':200,'PR':300}\n",
        "dic_data"
      ],
      "execution_count": null,
      "outputs": [
        {
          "output_type": "execute_result",
          "data": {
            "text/plain": [
              "{'AR': 200, 'MX': 100, 'PR': 300}"
            ]
          },
          "metadata": {
            "tags": []
          },
          "execution_count": 22
        }
      ]
    },
    {
      "cell_type": "code",
      "metadata": {
        "id": "DPLpXCNMqvMq",
        "colab": {
          "base_uri": "https://localhost:8080/",
          "height": 35
        },
        "outputId": "5a1c89c4-ccaf-40cd-e011-17b2eb7af0ab"
      },
      "source": [
        "pd.__version__"
      ],
      "execution_count": 23,
      "outputs": [
        {
          "output_type": "execute_result",
          "data": {
            "application/vnd.google.colaboratory.intrinsic+json": {
              "type": "string"
            },
            "text/plain": [
              "'1.1.5'"
            ]
          },
          "metadata": {
            "tags": []
          },
          "execution_count": 23
        }
      ]
    },
    {
      "cell_type": "code",
      "metadata": {
        "colab": {
          "base_uri": "https://localhost:8080/"
        },
        "id": "yq_ncaFbzcM4",
        "outputId": "d0ad2b85-b8e8-4100-b66c-66abd7d64fb2"
      },
      "source": [
        "dict_data = {\n",
        "    'edad': [10,9,13,14,12,11,12],\n",
        "    'cm': [115,110,130,155,125,120,125],\n",
        "    'pais':['co','mx','co','mx','mx','ch','ch'],\n",
        "    'genero':['M','F','F','M','M','M','F'],\n",
        "    'Q1':[5,10,8,np.nan,7,8,3],\n",
        "    'Q2':[7,9,9,8,8,8,9]\n",
        "}\n",
        "dict_data"
      ],
      "execution_count": 26,
      "outputs": [
        {
          "output_type": "execute_result",
          "data": {
            "text/plain": [
              "{'Q1': [5, 10, 8, nan, 7, 8, 3],\n",
              " 'Q2': [7, 9, 9, 8, 8, 8, 9],\n",
              " 'cm': [115, 110, 130, 155, 125, 120, 125],\n",
              " 'edad': [10, 9, 13, 14, 12, 11, 12],\n",
              " 'genero': ['M', 'F', 'F', 'M', 'M', 'M', 'F'],\n",
              " 'pais': ['co', 'mx', 'co', 'mx', 'mx', 'ch', 'ch']}"
            ]
          },
          "metadata": {
            "tags": []
          },
          "execution_count": 26
        }
      ]
    },
    {
      "cell_type": "code",
      "metadata": {
        "colab": {
          "base_uri": "https://localhost:8080/",
          "height": 269
        },
        "id": "nNVtR5Cb0CLE",
        "outputId": "e37a36e8-9a73-4cc0-ec3f-b881ff67def6"
      },
      "source": [
        "df = pd.DataFrame(dict_data)\n",
        "df"
      ],
      "execution_count": 53,
      "outputs": [
        {
          "output_type": "execute_result",
          "data": {
            "text/html": [
              "<div>\n",
              "<style scoped>\n",
              "    .dataframe tbody tr th:only-of-type {\n",
              "        vertical-align: middle;\n",
              "    }\n",
              "\n",
              "    .dataframe tbody tr th {\n",
              "        vertical-align: top;\n",
              "    }\n",
              "\n",
              "    .dataframe thead th {\n",
              "        text-align: right;\n",
              "    }\n",
              "</style>\n",
              "<table border=\"1\" class=\"dataframe\">\n",
              "  <thead>\n",
              "    <tr style=\"text-align: right;\">\n",
              "      <th></th>\n",
              "      <th>edad</th>\n",
              "      <th>cm</th>\n",
              "      <th>pais</th>\n",
              "      <th>genero</th>\n",
              "      <th>Q1</th>\n",
              "      <th>Q2</th>\n",
              "    </tr>\n",
              "  </thead>\n",
              "  <tbody>\n",
              "    <tr>\n",
              "      <th>0</th>\n",
              "      <td>10</td>\n",
              "      <td>115</td>\n",
              "      <td>co</td>\n",
              "      <td>M</td>\n",
              "      <td>5.0</td>\n",
              "      <td>7</td>\n",
              "    </tr>\n",
              "    <tr>\n",
              "      <th>1</th>\n",
              "      <td>9</td>\n",
              "      <td>110</td>\n",
              "      <td>mx</td>\n",
              "      <td>F</td>\n",
              "      <td>10.0</td>\n",
              "      <td>9</td>\n",
              "    </tr>\n",
              "    <tr>\n",
              "      <th>2</th>\n",
              "      <td>13</td>\n",
              "      <td>130</td>\n",
              "      <td>co</td>\n",
              "      <td>F</td>\n",
              "      <td>8.0</td>\n",
              "      <td>9</td>\n",
              "    </tr>\n",
              "    <tr>\n",
              "      <th>3</th>\n",
              "      <td>14</td>\n",
              "      <td>155</td>\n",
              "      <td>mx</td>\n",
              "      <td>M</td>\n",
              "      <td>NaN</td>\n",
              "      <td>8</td>\n",
              "    </tr>\n",
              "    <tr>\n",
              "      <th>4</th>\n",
              "      <td>12</td>\n",
              "      <td>125</td>\n",
              "      <td>mx</td>\n",
              "      <td>M</td>\n",
              "      <td>7.0</td>\n",
              "      <td>8</td>\n",
              "    </tr>\n",
              "    <tr>\n",
              "      <th>5</th>\n",
              "      <td>11</td>\n",
              "      <td>120</td>\n",
              "      <td>ch</td>\n",
              "      <td>M</td>\n",
              "      <td>8.0</td>\n",
              "      <td>8</td>\n",
              "    </tr>\n",
              "    <tr>\n",
              "      <th>6</th>\n",
              "      <td>12</td>\n",
              "      <td>125</td>\n",
              "      <td>ch</td>\n",
              "      <td>F</td>\n",
              "      <td>3.0</td>\n",
              "      <td>9</td>\n",
              "    </tr>\n",
              "  </tbody>\n",
              "</table>\n",
              "</div>"
            ],
            "text/plain": [
              "   edad   cm pais genero    Q1  Q2\n",
              "0    10  115   co      M   5.0   7\n",
              "1     9  110   mx      F  10.0   9\n",
              "2    13  130   co      F   8.0   9\n",
              "3    14  155   mx      M   NaN   8\n",
              "4    12  125   mx      M   7.0   8\n",
              "5    11  120   ch      M   8.0   8\n",
              "6    12  125   ch      F   3.0   9"
            ]
          },
          "metadata": {
            "tags": []
          },
          "execution_count": 53
        }
      ]
    },
    {
      "cell_type": "code",
      "metadata": {
        "id": "p9h2ySyzzoMu"
      },
      "source": [
        "df = pd.DataFrame(dict_data, index = ['ana','benito','camilo','daniel','erika','fabian','gabriela'])"
      ],
      "execution_count": 55,
      "outputs": []
    },
    {
      "cell_type": "code",
      "metadata": {
        "colab": {
          "base_uri": "https://localhost:8080/",
          "height": 269
        },
        "id": "Xc2UHeDbz-BZ",
        "outputId": "b52e7935-b0bc-486d-9d82-873890b6fd19"
      },
      "source": [
        "df"
      ],
      "execution_count": 56,
      "outputs": [
        {
          "output_type": "execute_result",
          "data": {
            "text/html": [
              "<div>\n",
              "<style scoped>\n",
              "    .dataframe tbody tr th:only-of-type {\n",
              "        vertical-align: middle;\n",
              "    }\n",
              "\n",
              "    .dataframe tbody tr th {\n",
              "        vertical-align: top;\n",
              "    }\n",
              "\n",
              "    .dataframe thead th {\n",
              "        text-align: right;\n",
              "    }\n",
              "</style>\n",
              "<table border=\"1\" class=\"dataframe\">\n",
              "  <thead>\n",
              "    <tr style=\"text-align: right;\">\n",
              "      <th></th>\n",
              "      <th>edad</th>\n",
              "      <th>cm</th>\n",
              "      <th>pais</th>\n",
              "      <th>genero</th>\n",
              "      <th>Q1</th>\n",
              "      <th>Q2</th>\n",
              "    </tr>\n",
              "  </thead>\n",
              "  <tbody>\n",
              "    <tr>\n",
              "      <th>ana</th>\n",
              "      <td>10</td>\n",
              "      <td>115</td>\n",
              "      <td>co</td>\n",
              "      <td>M</td>\n",
              "      <td>5.0</td>\n",
              "      <td>7</td>\n",
              "    </tr>\n",
              "    <tr>\n",
              "      <th>benito</th>\n",
              "      <td>9</td>\n",
              "      <td>110</td>\n",
              "      <td>mx</td>\n",
              "      <td>F</td>\n",
              "      <td>10.0</td>\n",
              "      <td>9</td>\n",
              "    </tr>\n",
              "    <tr>\n",
              "      <th>camilo</th>\n",
              "      <td>13</td>\n",
              "      <td>130</td>\n",
              "      <td>co</td>\n",
              "      <td>F</td>\n",
              "      <td>8.0</td>\n",
              "      <td>9</td>\n",
              "    </tr>\n",
              "    <tr>\n",
              "      <th>daniel</th>\n",
              "      <td>14</td>\n",
              "      <td>155</td>\n",
              "      <td>mx</td>\n",
              "      <td>M</td>\n",
              "      <td>NaN</td>\n",
              "      <td>8</td>\n",
              "    </tr>\n",
              "    <tr>\n",
              "      <th>erika</th>\n",
              "      <td>12</td>\n",
              "      <td>125</td>\n",
              "      <td>mx</td>\n",
              "      <td>M</td>\n",
              "      <td>7.0</td>\n",
              "      <td>8</td>\n",
              "    </tr>\n",
              "    <tr>\n",
              "      <th>fabian</th>\n",
              "      <td>11</td>\n",
              "      <td>120</td>\n",
              "      <td>ch</td>\n",
              "      <td>M</td>\n",
              "      <td>8.0</td>\n",
              "      <td>8</td>\n",
              "    </tr>\n",
              "    <tr>\n",
              "      <th>gabriela</th>\n",
              "      <td>12</td>\n",
              "      <td>125</td>\n",
              "      <td>ch</td>\n",
              "      <td>F</td>\n",
              "      <td>3.0</td>\n",
              "      <td>9</td>\n",
              "    </tr>\n",
              "  </tbody>\n",
              "</table>\n",
              "</div>"
            ],
            "text/plain": [
              "          edad   cm pais genero    Q1  Q2\n",
              "ana         10  115   co      M   5.0   7\n",
              "benito       9  110   mx      F  10.0   9\n",
              "camilo      13  130   co      F   8.0   9\n",
              "daniel      14  155   mx      M   NaN   8\n",
              "erika       12  125   mx      M   7.0   8\n",
              "fabian      11  120   ch      M   8.0   8\n",
              "gabriela    12  125   ch      F   3.0   9"
            ]
          },
          "metadata": {
            "tags": []
          },
          "execution_count": 56
        }
      ]
    },
    {
      "cell_type": "code",
      "metadata": {
        "colab": {
          "base_uri": "https://localhost:8080/",
          "height": 269
        },
        "id": "Nlc33NOo0y8s",
        "outputId": "f7af2056-a199-498b-d38d-d0568584be0d"
      },
      "source": [
        "# Show the columns\n",
        "df[['cm','pais']]"
      ],
      "execution_count": 45,
      "outputs": [
        {
          "output_type": "execute_result",
          "data": {
            "text/html": [
              "<div>\n",
              "<style scoped>\n",
              "    .dataframe tbody tr th:only-of-type {\n",
              "        vertical-align: middle;\n",
              "    }\n",
              "\n",
              "    .dataframe tbody tr th {\n",
              "        vertical-align: top;\n",
              "    }\n",
              "\n",
              "    .dataframe thead th {\n",
              "        text-align: right;\n",
              "    }\n",
              "</style>\n",
              "<table border=\"1\" class=\"dataframe\">\n",
              "  <thead>\n",
              "    <tr style=\"text-align: right;\">\n",
              "      <th></th>\n",
              "      <th>cm</th>\n",
              "      <th>pais</th>\n",
              "    </tr>\n",
              "  </thead>\n",
              "  <tbody>\n",
              "    <tr>\n",
              "      <th>ana</th>\n",
              "      <td>115</td>\n",
              "      <td>co</td>\n",
              "    </tr>\n",
              "    <tr>\n",
              "      <th>benito</th>\n",
              "      <td>110</td>\n",
              "      <td>mx</td>\n",
              "    </tr>\n",
              "    <tr>\n",
              "      <th>camilo</th>\n",
              "      <td>130</td>\n",
              "      <td>co</td>\n",
              "    </tr>\n",
              "    <tr>\n",
              "      <th>daniel</th>\n",
              "      <td>155</td>\n",
              "      <td>mx</td>\n",
              "    </tr>\n",
              "    <tr>\n",
              "      <th>erika</th>\n",
              "      <td>125</td>\n",
              "      <td>mx</td>\n",
              "    </tr>\n",
              "    <tr>\n",
              "      <th>fabian</th>\n",
              "      <td>120</td>\n",
              "      <td>ch</td>\n",
              "    </tr>\n",
              "    <tr>\n",
              "      <th>gabriela</th>\n",
              "      <td>125</td>\n",
              "      <td>ch</td>\n",
              "    </tr>\n",
              "  </tbody>\n",
              "</table>\n",
              "</div>"
            ],
            "text/plain": [
              "           cm pais\n",
              "ana       115   co\n",
              "benito    110   mx\n",
              "camilo    130   co\n",
              "daniel    155   mx\n",
              "erika     125   mx\n",
              "fabian    120   ch\n",
              "gabriela  125   ch"
            ]
          },
          "metadata": {
            "tags": []
          },
          "execution_count": 45
        }
      ]
    },
    {
      "cell_type": "code",
      "metadata": {
        "colab": {
          "base_uri": "https://localhost:8080/"
        },
        "id": "ZgYC580R1auW",
        "outputId": "e5e36f2d-c8b4-467d-fc3a-ffb41b1cca95"
      },
      "source": [
        "df.loc['ana',['cm','edad']]"
      ],
      "execution_count": 49,
      "outputs": [
        {
          "output_type": "execute_result",
          "data": {
            "text/plain": [
              "cm      115\n",
              "edad     10\n",
              "Name: ana, dtype: object"
            ]
          },
          "metadata": {
            "tags": []
          },
          "execution_count": 49
        }
      ]
    },
    {
      "cell_type": "code",
      "metadata": {
        "colab": {
          "base_uri": "https://localhost:8080/",
          "height": 112
        },
        "id": "ab9zkaQc2bxd",
        "outputId": "261bf9d0-2198-4c21-97d6-b600b76b208d"
      },
      "source": [
        "df.loc[['ana', 'erika'],['cm','edad']] # Return ana and erika age and cm"
      ],
      "execution_count": 52,
      "outputs": [
        {
          "output_type": "execute_result",
          "data": {
            "text/html": [
              "<div>\n",
              "<style scoped>\n",
              "    .dataframe tbody tr th:only-of-type {\n",
              "        vertical-align: middle;\n",
              "    }\n",
              "\n",
              "    .dataframe tbody tr th {\n",
              "        vertical-align: top;\n",
              "    }\n",
              "\n",
              "    .dataframe thead th {\n",
              "        text-align: right;\n",
              "    }\n",
              "</style>\n",
              "<table border=\"1\" class=\"dataframe\">\n",
              "  <thead>\n",
              "    <tr style=\"text-align: right;\">\n",
              "      <th></th>\n",
              "      <th>cm</th>\n",
              "      <th>edad</th>\n",
              "    </tr>\n",
              "  </thead>\n",
              "  <tbody>\n",
              "    <tr>\n",
              "      <th>ana</th>\n",
              "      <td>115</td>\n",
              "      <td>10</td>\n",
              "    </tr>\n",
              "    <tr>\n",
              "      <th>erika</th>\n",
              "      <td>125</td>\n",
              "      <td>12</td>\n",
              "    </tr>\n",
              "  </tbody>\n",
              "</table>\n",
              "</div>"
            ],
            "text/plain": [
              "        cm  edad\n",
              "ana    115    10\n",
              "erika  125    12"
            ]
          },
          "metadata": {
            "tags": []
          },
          "execution_count": 52
        }
      ]
    },
    {
      "cell_type": "code",
      "metadata": {
        "colab": {
          "base_uri": "https://localhost:8080/"
        },
        "id": "PdJ_FZ633mZj",
        "outputId": "44f303f9-07aa-4d65-b268-fa5fde38cdb7"
      },
      "source": [
        "df.loc['ana','cm'] # Return 115 value in the cell match with row ana and column cm"
      ],
      "execution_count": 57,
      "outputs": [
        {
          "output_type": "execute_result",
          "data": {
            "text/plain": [
              "115"
            ]
          },
          "metadata": {
            "tags": []
          },
          "execution_count": 57
        }
      ]
    },
    {
      "cell_type": "code",
      "metadata": {
        "colab": {
          "base_uri": "https://localhost:8080/"
        },
        "id": "P36uT-1A5I1M",
        "outputId": "e5be7edc-bbe9-4c7c-d339-d189a532f592"
      },
      "source": [
        "df.iloc[0,1] # Is the same! More fast only need the number of [row, column] (this start in 0, 0)"
      ],
      "execution_count": 62,
      "outputs": [
        {
          "output_type": "execute_result",
          "data": {
            "text/plain": [
              "115"
            ]
          },
          "metadata": {
            "tags": []
          },
          "execution_count": 62
        }
      ]
    },
    {
      "cell_type": "code",
      "metadata": {
        "colab": {
          "base_uri": "https://localhost:8080/"
        },
        "id": "NLLOCO4z6q--",
        "outputId": "6d0f9925-0819-42c3-fda1-031cf064c699"
      },
      "source": [
        "df.iloc[0,[1,3]]"
      ],
      "execution_count": 65,
      "outputs": [
        {
          "output_type": "execute_result",
          "data": {
            "text/plain": [
              "cm        115\n",
              "genero      M\n",
              "Name: ana, dtype: object"
            ]
          },
          "metadata": {
            "tags": []
          },
          "execution_count": 65
        }
      ]
    },
    {
      "cell_type": "code",
      "metadata": {
        "colab": {
          "base_uri": "https://localhost:8080/",
          "height": 269
        },
        "id": "pzQwdLxe7kDH",
        "outputId": "23b037cb-6b60-4e9e-cf68-3f9f60eea933"
      },
      "source": [
        "df.iloc[:,[1,3]]"
      ],
      "execution_count": 66,
      "outputs": [
        {
          "output_type": "execute_result",
          "data": {
            "text/html": [
              "<div>\n",
              "<style scoped>\n",
              "    .dataframe tbody tr th:only-of-type {\n",
              "        vertical-align: middle;\n",
              "    }\n",
              "\n",
              "    .dataframe tbody tr th {\n",
              "        vertical-align: top;\n",
              "    }\n",
              "\n",
              "    .dataframe thead th {\n",
              "        text-align: right;\n",
              "    }\n",
              "</style>\n",
              "<table border=\"1\" class=\"dataframe\">\n",
              "  <thead>\n",
              "    <tr style=\"text-align: right;\">\n",
              "      <th></th>\n",
              "      <th>cm</th>\n",
              "      <th>genero</th>\n",
              "    </tr>\n",
              "  </thead>\n",
              "  <tbody>\n",
              "    <tr>\n",
              "      <th>ana</th>\n",
              "      <td>115</td>\n",
              "      <td>M</td>\n",
              "    </tr>\n",
              "    <tr>\n",
              "      <th>benito</th>\n",
              "      <td>110</td>\n",
              "      <td>F</td>\n",
              "    </tr>\n",
              "    <tr>\n",
              "      <th>camilo</th>\n",
              "      <td>130</td>\n",
              "      <td>F</td>\n",
              "    </tr>\n",
              "    <tr>\n",
              "      <th>daniel</th>\n",
              "      <td>155</td>\n",
              "      <td>M</td>\n",
              "    </tr>\n",
              "    <tr>\n",
              "      <th>erika</th>\n",
              "      <td>125</td>\n",
              "      <td>M</td>\n",
              "    </tr>\n",
              "    <tr>\n",
              "      <th>fabian</th>\n",
              "      <td>120</td>\n",
              "      <td>M</td>\n",
              "    </tr>\n",
              "    <tr>\n",
              "      <th>gabriela</th>\n",
              "      <td>125</td>\n",
              "      <td>F</td>\n",
              "    </tr>\n",
              "  </tbody>\n",
              "</table>\n",
              "</div>"
            ],
            "text/plain": [
              "           cm genero\n",
              "ana       115      M\n",
              "benito    110      F\n",
              "camilo    130      F\n",
              "daniel    155      M\n",
              "erika     125      M\n",
              "fabian    120      M\n",
              "gabriela  125      F"
            ]
          },
          "metadata": {
            "tags": []
          },
          "execution_count": 66
        }
      ]
    },
    {
      "cell_type": "code",
      "metadata": {
        "colab": {
          "base_uri": "https://localhost:8080/"
        },
        "id": "ElvNUE597qwG",
        "outputId": "ec2cb268-4bf0-4c1d-d607-273b29410012"
      },
      "source": [
        "df.iloc[0,range(3)]"
      ],
      "execution_count": 70,
      "outputs": [
        {
          "output_type": "execute_result",
          "data": {
            "text/plain": [
              "edad     10\n",
              "cm      115\n",
              "pais     co\n",
              "Name: ana, dtype: object"
            ]
          },
          "metadata": {
            "tags": []
          },
          "execution_count": 70
        }
      ]
    },
    {
      "cell_type": "markdown",
      "metadata": {
        "id": "0mVuel7r3DNh"
      },
      "source": [
        "## Function Query in DataFrames with pandas"
      ]
    },
    {
      "cell_type": "code",
      "metadata": {
        "colab": {
          "base_uri": "https://localhost:8080/",
          "height": 81
        },
        "id": "OYrC4cLZ2zDC",
        "outputId": "d1b7dcfe-33fa-4aa0-e2ef-f78d166f44f4"
      },
      "source": [
        "df.query('cm > 130 ')"
      ],
      "execution_count": 60,
      "outputs": [
        {
          "output_type": "execute_result",
          "data": {
            "text/html": [
              "<div>\n",
              "<style scoped>\n",
              "    .dataframe tbody tr th:only-of-type {\n",
              "        vertical-align: middle;\n",
              "    }\n",
              "\n",
              "    .dataframe tbody tr th {\n",
              "        vertical-align: top;\n",
              "    }\n",
              "\n",
              "    .dataframe thead th {\n",
              "        text-align: right;\n",
              "    }\n",
              "</style>\n",
              "<table border=\"1\" class=\"dataframe\">\n",
              "  <thead>\n",
              "    <tr style=\"text-align: right;\">\n",
              "      <th></th>\n",
              "      <th>edad</th>\n",
              "      <th>cm</th>\n",
              "      <th>pais</th>\n",
              "      <th>genero</th>\n",
              "      <th>Q1</th>\n",
              "      <th>Q2</th>\n",
              "    </tr>\n",
              "  </thead>\n",
              "  <tbody>\n",
              "    <tr>\n",
              "      <th>daniel</th>\n",
              "      <td>14</td>\n",
              "      <td>155</td>\n",
              "      <td>mx</td>\n",
              "      <td>M</td>\n",
              "      <td>NaN</td>\n",
              "      <td>8</td>\n",
              "    </tr>\n",
              "  </tbody>\n",
              "</table>\n",
              "</div>"
            ],
            "text/plain": [
              "        edad   cm pais genero  Q1  Q2\n",
              "daniel    14  155   mx      M NaN   8"
            ]
          },
          "metadata": {
            "tags": []
          },
          "execution_count": 60
        }
      ]
    },
    {
      "cell_type": "code",
      "metadata": {
        "colab": {
          "base_uri": "https://localhost:8080/",
          "height": 112
        },
        "id": "MPWf7nJe7_Qz",
        "outputId": "10a99328-66f6-44aa-dc2b-bd64bfd0b645"
      },
      "source": [
        "df[(df['edad'] >= 12) & (df['pais'] == 'mx')] # operator & is and"
      ],
      "execution_count": 72,
      "outputs": [
        {
          "output_type": "execute_result",
          "data": {
            "text/html": [
              "<div>\n",
              "<style scoped>\n",
              "    .dataframe tbody tr th:only-of-type {\n",
              "        vertical-align: middle;\n",
              "    }\n",
              "\n",
              "    .dataframe tbody tr th {\n",
              "        vertical-align: top;\n",
              "    }\n",
              "\n",
              "    .dataframe thead th {\n",
              "        text-align: right;\n",
              "    }\n",
              "</style>\n",
              "<table border=\"1\" class=\"dataframe\">\n",
              "  <thead>\n",
              "    <tr style=\"text-align: right;\">\n",
              "      <th></th>\n",
              "      <th>edad</th>\n",
              "      <th>cm</th>\n",
              "      <th>pais</th>\n",
              "      <th>genero</th>\n",
              "      <th>Q1</th>\n",
              "      <th>Q2</th>\n",
              "    </tr>\n",
              "  </thead>\n",
              "  <tbody>\n",
              "    <tr>\n",
              "      <th>daniel</th>\n",
              "      <td>14</td>\n",
              "      <td>155</td>\n",
              "      <td>mx</td>\n",
              "      <td>M</td>\n",
              "      <td>NaN</td>\n",
              "      <td>8</td>\n",
              "    </tr>\n",
              "    <tr>\n",
              "      <th>erika</th>\n",
              "      <td>12</td>\n",
              "      <td>125</td>\n",
              "      <td>mx</td>\n",
              "      <td>M</td>\n",
              "      <td>7.0</td>\n",
              "      <td>8</td>\n",
              "    </tr>\n",
              "  </tbody>\n",
              "</table>\n",
              "</div>"
            ],
            "text/plain": [
              "        edad   cm pais genero   Q1  Q2\n",
              "daniel    14  155   mx      M  NaN   8\n",
              "erika     12  125   mx      M  7.0   8"
            ]
          },
          "metadata": {
            "tags": []
          },
          "execution_count": 72
        }
      ]
    },
    {
      "cell_type": "code",
      "metadata": {
        "colab": {
          "base_uri": "https://localhost:8080/"
        },
        "id": "gBURi9n1DaXE",
        "outputId": "5f021b17-e5e8-4c48-96c8-fbbb689ad92b"
      },
      "source": [
        ""
      ],
      "execution_count": 79,
      "outputs": [
        {
          "output_type": "stream",
          "text": [
            "Hello Google Drive!"
          ],
          "name": "stdout"
        }
      ]
    },
    {
      "cell_type": "code",
      "metadata": {
        "colab": {
          "base_uri": "https://localhost:8080/",
          "height": 112
        },
        "id": "4MxxDIeb8YWZ",
        "outputId": "37e4a313-bff2-4b4f-b8e5-1a4b75fcccd9"
      },
      "source": [
        "df.query('(edad >= 12) and (pais == \"mx\")') # operator and, this is the same of before"
      ],
      "execution_count": 77,
      "outputs": [
        {
          "output_type": "execute_result",
          "data": {
            "text/html": [
              "<div>\n",
              "<style scoped>\n",
              "    .dataframe tbody tr th:only-of-type {\n",
              "        vertical-align: middle;\n",
              "    }\n",
              "\n",
              "    .dataframe tbody tr th {\n",
              "        vertical-align: top;\n",
              "    }\n",
              "\n",
              "    .dataframe thead th {\n",
              "        text-align: right;\n",
              "    }\n",
              "</style>\n",
              "<table border=\"1\" class=\"dataframe\">\n",
              "  <thead>\n",
              "    <tr style=\"text-align: right;\">\n",
              "      <th></th>\n",
              "      <th>edad</th>\n",
              "      <th>cm</th>\n",
              "      <th>pais</th>\n",
              "      <th>genero</th>\n",
              "      <th>Q1</th>\n",
              "      <th>Q2</th>\n",
              "    </tr>\n",
              "  </thead>\n",
              "  <tbody>\n",
              "    <tr>\n",
              "      <th>daniel</th>\n",
              "      <td>14</td>\n",
              "      <td>155</td>\n",
              "      <td>mx</td>\n",
              "      <td>M</td>\n",
              "      <td>NaN</td>\n",
              "      <td>8</td>\n",
              "    </tr>\n",
              "    <tr>\n",
              "      <th>erika</th>\n",
              "      <td>12</td>\n",
              "      <td>125</td>\n",
              "      <td>mx</td>\n",
              "      <td>M</td>\n",
              "      <td>7.0</td>\n",
              "      <td>8</td>\n",
              "    </tr>\n",
              "  </tbody>\n",
              "</table>\n",
              "</div>"
            ],
            "text/plain": [
              "        edad   cm pais genero   Q1  Q2\n",
              "daniel    14  155   mx      M  NaN   8\n",
              "erika     12  125   mx      M  7.0   8"
            ]
          },
          "metadata": {
            "tags": []
          },
          "execution_count": 77
        }
      ]
    },
    {
      "cell_type": "markdown",
      "metadata": {
        "id": "ZEvRCSnUD3Q0"
      },
      "source": [
        "## Conect with drive and load csv"
      ]
    },
    {
      "cell_type": "code",
      "metadata": {
        "colab": {
          "base_uri": "https://localhost:8080/"
        },
        "id": "r8qcjysHDaXD",
        "outputId": "67bef69d-3305-4171-8edd-ecc43fd558ff"
      },
      "source": [
        "from google.colab import drive\n",
        "drive.mount('/gdrive')"
      ],
      "execution_count": 78,
      "outputs": [
        {
          "output_type": "stream",
          "text": [
            "Mounted at /gdrive\n"
          ],
          "name": "stdout"
        }
      ]
    },
    {
      "cell_type": "code",
      "metadata": {
        "colab": {
          "base_uri": "https://localhost:8080/"
        },
        "id": "h--boUfgD9wz",
        "outputId": "312c752c-4c38-499e-d380-650d8af55e60"
      },
      "source": [
        "%cd '/content/drive/MyDrive/Colab_Notebooks/curso-manipulaciin-analisis-pandas-python/db-20210404T222125Z-001/db'"
      ],
      "execution_count": 80,
      "outputs": [
        {
          "output_type": "stream",
          "text": [
            "/content/drive/MyDrive/Colab_Notebooks/curso-manipulaciin-analisis-pandas-python/db-20210404T222125Z-001/db\n"
          ],
          "name": "stdout"
        }
      ]
    },
    {
      "cell_type": "code",
      "metadata": {
        "colab": {
          "base_uri": "https://localhost:8080/"
        },
        "id": "DLNEcfOlEJHq",
        "outputId": "764ae98e-9138-478a-9dbd-7772cff6414d"
      },
      "source": [
        "!ls"
      ],
      "execution_count": 85,
      "outputs": [
        {
          "output_type": "stream",
          "text": [
            "API_AG.LND.AGRI.K2_DS2_en_csv_v2_716226.csv\tMeteorite_Landings.csv\n",
            "API_AG.LND.FRST.K2_DS2_en_csv_v2_716262.csv\tpoblacion.csv\n",
            "API_EG.USE.ELEC.KH.PC_DS2_en_csv_v2_715482.csv\ttest.csv\n",
            "API_EN.ATM.CO2E.KT_DS2_en_csv_v2_713263.csv\ttest.hdf\n",
            "API_SP.POP.TOTL_DS2_en_csv_v2_713131.csv\ttest.json\n",
            "covid_19_data.csv\t\t\t\ttest.parquet\n",
            "flights.db\t\t\t\t\ttest.pkl\n",
            "GlobalLandTemperaturesByCountry.csv\t\ttest.xlsx\n",
            "london_merged.csv\n"
          ],
          "name": "stdout"
        }
      ]
    },
    {
      "cell_type": "code",
      "metadata": {
        "id": "91S1F_7GFBKz"
      },
      "source": [
        "dir_pandas = '/content/drive/MyDrive/Colab_Notebooks/curso-manipulaciin-analisis-pandas-python/db-20210404T222125Z-001/db/{}'.format('test_lizandro.csv')"
      ],
      "execution_count": 94,
      "outputs": []
    },
    {
      "cell_type": "code",
      "metadata": {
        "colab": {
          "base_uri": "https://localhost:8080/",
          "height": 35
        },
        "id": "qotu-YNAF1tS",
        "outputId": "ea1b71b3-4903-43b1-d50a-277704095ea5"
      },
      "source": [
        "dir_pandas"
      ],
      "execution_count": 95,
      "outputs": [
        {
          "output_type": "execute_result",
          "data": {
            "application/vnd.google.colaboratory.intrinsic+json": {
              "type": "string"
            },
            "text/plain": [
              "'/content/drive/MyDrive/Colab_Notebooks/curso-manipulaciin-analisis-pandas-python/db-20210404T222125Z-001/db/test_lizandro.csv'"
            ]
          },
          "metadata": {
            "tags": []
          },
          "execution_count": 95
        }
      ]
    },
    {
      "cell_type": "markdown",
      "metadata": {
        "id": "sRMukQJ-GHIN"
      },
      "source": [
        "### Save DataFrame in csv"
      ]
    },
    {
      "cell_type": "code",
      "metadata": {
        "id": "iC2XR0UzGGnp"
      },
      "source": [
        "df.to_csv(dir_pandas)"
      ],
      "execution_count": 96,
      "outputs": []
    },
    {
      "cell_type": "code",
      "metadata": {
        "colab": {
          "base_uri": "https://localhost:8080/"
        },
        "id": "ctbV9ZsYHftD",
        "outputId": "714d8b10-50c1-4685-d84c-104fdf135d5e"
      },
      "source": [
        "!ls"
      ],
      "execution_count": 97,
      "outputs": [
        {
          "output_type": "stream",
          "text": [
            "API_AG.LND.AGRI.K2_DS2_en_csv_v2_716226.csv\tMeteorite_Landings.csv\n",
            "API_AG.LND.FRST.K2_DS2_en_csv_v2_716262.csv\tpoblacion.csv\n",
            "API_EG.USE.ELEC.KH.PC_DS2_en_csv_v2_715482.csv\ttest.csv\n",
            "API_EN.ATM.CO2E.KT_DS2_en_csv_v2_713263.csv\ttest.hdf\n",
            "API_SP.POP.TOTL_DS2_en_csv_v2_713131.csv\ttest.json\n",
            "covid_19_data.csv\t\t\t\ttest_lizandro.csv\n",
            "flights.db\t\t\t\t\ttest.parquet\n",
            "GlobalLandTemperaturesByCountry.csv\t\ttest.pkl\n",
            "london_merged.csv\t\t\t\ttest.xlsx\n"
          ],
          "name": "stdout"
        }
      ]
    },
    {
      "cell_type": "code",
      "metadata": {
        "colab": {
          "base_uri": "https://localhost:8080/"
        },
        "id": "nLWWQVISHiT3",
        "outputId": "277ce349-3b27-4736-9ac1-105094d53422"
      },
      "source": [
        "!cat test_lizandro.csv"
      ],
      "execution_count": 98,
      "outputs": [
        {
          "output_type": "stream",
          "text": [
            ",edad,cm,pais,genero,Q1,Q2\n",
            "ana,10,115,co,M,5.0,7\n",
            "benito,9,110,mx,F,10.0,9\n",
            "camilo,13,130,co,F,8.0,9\n",
            "daniel,14,155,mx,M,,8\n",
            "erika,12,125,mx,M,7.0,8\n",
            "fabian,11,120,ch,M,8.0,8\n",
            "gabriela,12,125,ch,F,3.0,9\n"
          ],
          "name": "stdout"
        }
      ]
    },
    {
      "cell_type": "code",
      "metadata": {
        "id": "KYc8P-Y5HuHG"
      },
      "source": [
        "df.to_csv(dir_pandas, index= True) # Yo can add index with True, False otherwise"
      ],
      "execution_count": 108,
      "outputs": []
    },
    {
      "cell_type": "code",
      "metadata": {
        "colab": {
          "base_uri": "https://localhost:8080/"
        },
        "id": "bbezHqcCHzj5",
        "outputId": "f6cd5778-950e-498b-a684-ecc435652d82"
      },
      "source": [
        "!cat test_lizandro.csv"
      ],
      "execution_count": 109,
      "outputs": [
        {
          "output_type": "stream",
          "text": [
            ",edad,cm,pais,genero,Q1,Q2\n",
            "ana,10,115,co,M,5.0,7\n",
            "benito,9,110,mx,F,10.0,9\n",
            "camilo,13,130,co,F,8.0,9\n",
            "daniel,14,155,mx,M,,8\n",
            "erika,12,125,mx,M,7.0,8\n",
            "fabian,11,120,ch,M,8.0,8\n",
            "gabriela,12,125,ch,F,3.0,9\n"
          ],
          "name": "stdout"
        }
      ]
    },
    {
      "cell_type": "code",
      "metadata": {
        "colab": {
          "base_uri": "https://localhost:8080/",
          "height": 269
        },
        "id": "nh6vcuIGIVlU",
        "outputId": "26bdd160-7abb-4403-a121-0358b53745ce"
      },
      "source": [
        "df_read_drive = pd.read_csv(dir_pandas)\n",
        "df_read_drive"
      ],
      "execution_count": 110,
      "outputs": [
        {
          "output_type": "execute_result",
          "data": {
            "text/html": [
              "<div>\n",
              "<style scoped>\n",
              "    .dataframe tbody tr th:only-of-type {\n",
              "        vertical-align: middle;\n",
              "    }\n",
              "\n",
              "    .dataframe tbody tr th {\n",
              "        vertical-align: top;\n",
              "    }\n",
              "\n",
              "    .dataframe thead th {\n",
              "        text-align: right;\n",
              "    }\n",
              "</style>\n",
              "<table border=\"1\" class=\"dataframe\">\n",
              "  <thead>\n",
              "    <tr style=\"text-align: right;\">\n",
              "      <th></th>\n",
              "      <th>Unnamed: 0</th>\n",
              "      <th>edad</th>\n",
              "      <th>cm</th>\n",
              "      <th>pais</th>\n",
              "      <th>genero</th>\n",
              "      <th>Q1</th>\n",
              "      <th>Q2</th>\n",
              "    </tr>\n",
              "  </thead>\n",
              "  <tbody>\n",
              "    <tr>\n",
              "      <th>0</th>\n",
              "      <td>ana</td>\n",
              "      <td>10</td>\n",
              "      <td>115</td>\n",
              "      <td>co</td>\n",
              "      <td>M</td>\n",
              "      <td>5.0</td>\n",
              "      <td>7</td>\n",
              "    </tr>\n",
              "    <tr>\n",
              "      <th>1</th>\n",
              "      <td>benito</td>\n",
              "      <td>9</td>\n",
              "      <td>110</td>\n",
              "      <td>mx</td>\n",
              "      <td>F</td>\n",
              "      <td>10.0</td>\n",
              "      <td>9</td>\n",
              "    </tr>\n",
              "    <tr>\n",
              "      <th>2</th>\n",
              "      <td>camilo</td>\n",
              "      <td>13</td>\n",
              "      <td>130</td>\n",
              "      <td>co</td>\n",
              "      <td>F</td>\n",
              "      <td>8.0</td>\n",
              "      <td>9</td>\n",
              "    </tr>\n",
              "    <tr>\n",
              "      <th>3</th>\n",
              "      <td>daniel</td>\n",
              "      <td>14</td>\n",
              "      <td>155</td>\n",
              "      <td>mx</td>\n",
              "      <td>M</td>\n",
              "      <td>NaN</td>\n",
              "      <td>8</td>\n",
              "    </tr>\n",
              "    <tr>\n",
              "      <th>4</th>\n",
              "      <td>erika</td>\n",
              "      <td>12</td>\n",
              "      <td>125</td>\n",
              "      <td>mx</td>\n",
              "      <td>M</td>\n",
              "      <td>7.0</td>\n",
              "      <td>8</td>\n",
              "    </tr>\n",
              "    <tr>\n",
              "      <th>5</th>\n",
              "      <td>fabian</td>\n",
              "      <td>11</td>\n",
              "      <td>120</td>\n",
              "      <td>ch</td>\n",
              "      <td>M</td>\n",
              "      <td>8.0</td>\n",
              "      <td>8</td>\n",
              "    </tr>\n",
              "    <tr>\n",
              "      <th>6</th>\n",
              "      <td>gabriela</td>\n",
              "      <td>12</td>\n",
              "      <td>125</td>\n",
              "      <td>ch</td>\n",
              "      <td>F</td>\n",
              "      <td>3.0</td>\n",
              "      <td>9</td>\n",
              "    </tr>\n",
              "  </tbody>\n",
              "</table>\n",
              "</div>"
            ],
            "text/plain": [
              "  Unnamed: 0  edad   cm pais genero    Q1  Q2\n",
              "0        ana    10  115   co      M   5.0   7\n",
              "1     benito     9  110   mx      F  10.0   9\n",
              "2     camilo    13  130   co      F   8.0   9\n",
              "3     daniel    14  155   mx      M   NaN   8\n",
              "4      erika    12  125   mx      M   7.0   8\n",
              "5     fabian    11  120   ch      M   8.0   8\n",
              "6   gabriela    12  125   ch      F   3.0   9"
            ]
          },
          "metadata": {
            "tags": []
          },
          "execution_count": 110
        }
      ]
    },
    {
      "cell_type": "code",
      "metadata": {
        "id": "aN70wn6kJMb0"
      },
      "source": [
        "df.to_csv(dir_pandas, sep= '|', index= False) # You can change the separator with sep"
      ],
      "execution_count": 115,
      "outputs": []
    },
    {
      "cell_type": "code",
      "metadata": {
        "colab": {
          "base_uri": "https://localhost:8080/"
        },
        "id": "bxD4R4HuJadk",
        "outputId": "80dcfdf5-fd2d-4dfa-e036-06557de7bc48"
      },
      "source": [
        "!cat test_lizandro.csv"
      ],
      "execution_count": 117,
      "outputs": [
        {
          "output_type": "stream",
          "text": [
            "edad|cm|pais|genero|Q1|Q2\n",
            "10|115|co|M|5.0|7\n",
            "9|110|mx|F|10.0|9\n",
            "13|130|co|F|8.0|9\n",
            "14|155|mx|M||8\n",
            "12|125|mx|M|7.0|8\n",
            "11|120|ch|M|8.0|8\n",
            "12|125|ch|F|3.0|9\n"
          ],
          "name": "stdout"
        }
      ]
    },
    {
      "cell_type": "code",
      "metadata": {
        "colab": {
          "base_uri": "https://localhost:8080/",
          "height": 269
        },
        "id": "JWFr6whEJcQi",
        "outputId": "17bf4f54-4f02-44bd-c823-ce6198361f6d"
      },
      "source": [
        "df_read_drive = pd.read_csv(dir_pandas, sep='|')\n",
        "df_read_drive"
      ],
      "execution_count": 116,
      "outputs": [
        {
          "output_type": "execute_result",
          "data": {
            "text/html": [
              "<div>\n",
              "<style scoped>\n",
              "    .dataframe tbody tr th:only-of-type {\n",
              "        vertical-align: middle;\n",
              "    }\n",
              "\n",
              "    .dataframe tbody tr th {\n",
              "        vertical-align: top;\n",
              "    }\n",
              "\n",
              "    .dataframe thead th {\n",
              "        text-align: right;\n",
              "    }\n",
              "</style>\n",
              "<table border=\"1\" class=\"dataframe\">\n",
              "  <thead>\n",
              "    <tr style=\"text-align: right;\">\n",
              "      <th></th>\n",
              "      <th>edad</th>\n",
              "      <th>cm</th>\n",
              "      <th>pais</th>\n",
              "      <th>genero</th>\n",
              "      <th>Q1</th>\n",
              "      <th>Q2</th>\n",
              "    </tr>\n",
              "  </thead>\n",
              "  <tbody>\n",
              "    <tr>\n",
              "      <th>0</th>\n",
              "      <td>10</td>\n",
              "      <td>115</td>\n",
              "      <td>co</td>\n",
              "      <td>M</td>\n",
              "      <td>5.0</td>\n",
              "      <td>7</td>\n",
              "    </tr>\n",
              "    <tr>\n",
              "      <th>1</th>\n",
              "      <td>9</td>\n",
              "      <td>110</td>\n",
              "      <td>mx</td>\n",
              "      <td>F</td>\n",
              "      <td>10.0</td>\n",
              "      <td>9</td>\n",
              "    </tr>\n",
              "    <tr>\n",
              "      <th>2</th>\n",
              "      <td>13</td>\n",
              "      <td>130</td>\n",
              "      <td>co</td>\n",
              "      <td>F</td>\n",
              "      <td>8.0</td>\n",
              "      <td>9</td>\n",
              "    </tr>\n",
              "    <tr>\n",
              "      <th>3</th>\n",
              "      <td>14</td>\n",
              "      <td>155</td>\n",
              "      <td>mx</td>\n",
              "      <td>M</td>\n",
              "      <td>NaN</td>\n",
              "      <td>8</td>\n",
              "    </tr>\n",
              "    <tr>\n",
              "      <th>4</th>\n",
              "      <td>12</td>\n",
              "      <td>125</td>\n",
              "      <td>mx</td>\n",
              "      <td>M</td>\n",
              "      <td>7.0</td>\n",
              "      <td>8</td>\n",
              "    </tr>\n",
              "    <tr>\n",
              "      <th>5</th>\n",
              "      <td>11</td>\n",
              "      <td>120</td>\n",
              "      <td>ch</td>\n",
              "      <td>M</td>\n",
              "      <td>8.0</td>\n",
              "      <td>8</td>\n",
              "    </tr>\n",
              "    <tr>\n",
              "      <th>6</th>\n",
              "      <td>12</td>\n",
              "      <td>125</td>\n",
              "      <td>ch</td>\n",
              "      <td>F</td>\n",
              "      <td>3.0</td>\n",
              "      <td>9</td>\n",
              "    </tr>\n",
              "  </tbody>\n",
              "</table>\n",
              "</div>"
            ],
            "text/plain": [
              "   edad   cm pais genero    Q1  Q2\n",
              "0    10  115   co      M   5.0   7\n",
              "1     9  110   mx      F  10.0   9\n",
              "2    13  130   co      F   8.0   9\n",
              "3    14  155   mx      M   NaN   8\n",
              "4    12  125   mx      M   7.0   8\n",
              "5    11  120   ch      M   8.0   8\n",
              "6    12  125   ch      F   3.0   9"
            ]
          },
          "metadata": {
            "tags": []
          },
          "execution_count": 116
        }
      ]
    },
    {
      "cell_type": "markdown",
      "metadata": {
        "id": "YnYhXru7RFo7"
      },
      "source": [
        "### Use progresSQL in the notebook"
      ]
    },
    {
      "cell_type": "code",
      "metadata": {
        "colab": {
          "base_uri": "https://localhost:8080/"
        },
        "id": "QhqsJwXASxZG",
        "outputId": "f09ee985-b1b5-49e9-a3b6-1bc514c15f9b"
      },
      "source": [
        "!pip install psycopg2-binary"
      ],
      "execution_count": 1,
      "outputs": [
        {
          "output_type": "stream",
          "text": [
            "Requirement already satisfied: psycopg2-binary in /usr/local/lib/python3.7/dist-packages (2.8.6)\n"
          ],
          "name": "stdout"
        }
      ]
    },
    {
      "cell_type": "code",
      "metadata": {
        "id": "SYDVryj4RD0s"
      },
      "source": [
        "import pandas as pd\n",
        "import psycopg2"
      ],
      "execution_count": 2,
      "outputs": []
    },
    {
      "cell_type": "code",
      "metadata": {
        "id": "8NW-3UtgTxnj"
      },
      "source": [
        "!apt install postgresql postgresql-contrib &>log\n"
      ],
      "execution_count": 13,
      "outputs": []
    },
    {
      "cell_type": "code",
      "metadata": {
        "colab": {
          "base_uri": "https://localhost:8080/"
        },
        "id": "lZeSIWaTYft7",
        "outputId": "959383ab-96d2-4146-f916-2c0d0eb7cb15"
      },
      "source": [
        "!service postgresql start"
      ],
      "execution_count": 14,
      "outputs": [
        {
          "output_type": "stream",
          "text": [
            " * Starting PostgreSQL 10 database server\n",
            "   ...done.\n"
          ],
          "name": "stdout"
        }
      ]
    },
    {
      "cell_type": "code",
      "metadata": {
        "colab": {
          "base_uri": "https://localhost:8080/"
        },
        "id": "Qi-HYB3tcS0m",
        "outputId": "863d502c-3faa-4315-f379-0318b960b4b1"
      },
      "source": [
        "!sudo -u postgres psql -c \"CREATE USER root WITH SUPERUSER\""
      ],
      "execution_count": 21,
      "outputs": [
        {
          "output_type": "stream",
          "text": [
            "CREATE ROLE\n"
          ],
          "name": "stdout"
        }
      ]
    },
    {
      "cell_type": "code",
      "metadata": {
        "colab": {
          "base_uri": "https://localhost:8080/"
        },
        "id": "i4M8KbOMceC6",
        "outputId": "ccbcecaf-3d46-4bef-bfdf-1d669b5b32d2"
      },
      "source": [
        "%load_ext sql"
      ],
      "execution_count": 22,
      "outputs": [
        {
          "output_type": "stream",
          "text": [
            "The sql extension is already loaded. To reload it, use:\n",
            "  %reload_ext sql\n"
          ],
          "name": "stdout"
        }
      ]
    },
    {
      "cell_type": "code",
      "metadata": {
        "id": "yLrttODGcjZ7"
      },
      "source": [
        "%config SqlMagic.feedback=False "
      ],
      "execution_count": 23,
      "outputs": []
    },
    {
      "cell_type": "code",
      "metadata": {
        "id": "0AAOvazVcoSp"
      },
      "source": [
        "%config SqlMagic.autopandas=True"
      ],
      "execution_count": 24,
      "outputs": []
    },
    {
      "cell_type": "code",
      "metadata": {
        "colab": {
          "base_uri": "https://localhost:8080/",
          "height": 35
        },
        "id": "IJBrm5bog2IM",
        "outputId": "3bd3ba73-eb17-422d-8b71-4defdee1556f"
      },
      "source": [
        "%sql postgresql+psycopg2://@/postgres"
      ],
      "execution_count": 25,
      "outputs": [
        {
          "output_type": "execute_result",
          "data": {
            "application/vnd.google.colaboratory.intrinsic+json": {
              "type": "string"
            },
            "text/plain": [
              "'Connected: @postgres'"
            ]
          },
          "metadata": {
            "tags": []
          },
          "execution_count": 25
        }
      ]
    },
    {
      "cell_type": "code",
      "metadata": {
        "id": "6vOpepivg_Qx"
      },
      "source": [
        "query_sql = '''\n",
        "select *\n",
        "from pg_catalog.pg_tables\n",
        "limit 10\n",
        "'''"
      ],
      "execution_count": 32,
      "outputs": []
    },
    {
      "cell_type": "code",
      "metadata": {
        "colab": {
          "base_uri": "https://localhost:8080/"
        },
        "id": "Z0amwt4jijwQ",
        "outputId": "25014556-3394-4d43-9d5e-5630ccfe7960"
      },
      "source": [
        "df = %sql $query_sql"
      ],
      "execution_count": 33,
      "outputs": [
        {
          "output_type": "stream",
          "text": [
            " * postgresql+psycopg2://@/postgres\n"
          ],
          "name": "stdout"
        }
      ]
    },
    {
      "cell_type": "code",
      "metadata": {
        "colab": {
          "base_uri": "https://localhost:8080/",
          "height": 363
        },
        "id": "nRcneHX0iq2G",
        "outputId": "aad88859-4bc6-4998-eb48-34a1ad12459d"
      },
      "source": [
        "df.head(10)"
      ],
      "execution_count": 34,
      "outputs": [
        {
          "output_type": "execute_result",
          "data": {
            "text/html": [
              "<div>\n",
              "<style scoped>\n",
              "    .dataframe tbody tr th:only-of-type {\n",
              "        vertical-align: middle;\n",
              "    }\n",
              "\n",
              "    .dataframe tbody tr th {\n",
              "        vertical-align: top;\n",
              "    }\n",
              "\n",
              "    .dataframe thead th {\n",
              "        text-align: right;\n",
              "    }\n",
              "</style>\n",
              "<table border=\"1\" class=\"dataframe\">\n",
              "  <thead>\n",
              "    <tr style=\"text-align: right;\">\n",
              "      <th></th>\n",
              "      <th>schemaname</th>\n",
              "      <th>tablename</th>\n",
              "      <th>tableowner</th>\n",
              "      <th>tablespace</th>\n",
              "      <th>hasindexes</th>\n",
              "      <th>hasrules</th>\n",
              "      <th>hastriggers</th>\n",
              "      <th>rowsecurity</th>\n",
              "    </tr>\n",
              "  </thead>\n",
              "  <tbody>\n",
              "    <tr>\n",
              "      <th>0</th>\n",
              "      <td>pg_catalog</td>\n",
              "      <td>pg_statistic</td>\n",
              "      <td>postgres</td>\n",
              "      <td>None</td>\n",
              "      <td>True</td>\n",
              "      <td>False</td>\n",
              "      <td>False</td>\n",
              "      <td>False</td>\n",
              "    </tr>\n",
              "    <tr>\n",
              "      <th>1</th>\n",
              "      <td>pg_catalog</td>\n",
              "      <td>pg_type</td>\n",
              "      <td>postgres</td>\n",
              "      <td>None</td>\n",
              "      <td>True</td>\n",
              "      <td>False</td>\n",
              "      <td>False</td>\n",
              "      <td>False</td>\n",
              "    </tr>\n",
              "    <tr>\n",
              "      <th>2</th>\n",
              "      <td>pg_catalog</td>\n",
              "      <td>pg_policy</td>\n",
              "      <td>postgres</td>\n",
              "      <td>None</td>\n",
              "      <td>True</td>\n",
              "      <td>False</td>\n",
              "      <td>False</td>\n",
              "      <td>False</td>\n",
              "    </tr>\n",
              "    <tr>\n",
              "      <th>3</th>\n",
              "      <td>pg_catalog</td>\n",
              "      <td>pg_authid</td>\n",
              "      <td>postgres</td>\n",
              "      <td>pg_global</td>\n",
              "      <td>True</td>\n",
              "      <td>False</td>\n",
              "      <td>False</td>\n",
              "      <td>False</td>\n",
              "    </tr>\n",
              "    <tr>\n",
              "      <th>4</th>\n",
              "      <td>pg_catalog</td>\n",
              "      <td>pg_user_mapping</td>\n",
              "      <td>postgres</td>\n",
              "      <td>None</td>\n",
              "      <td>True</td>\n",
              "      <td>False</td>\n",
              "      <td>False</td>\n",
              "      <td>False</td>\n",
              "    </tr>\n",
              "    <tr>\n",
              "      <th>5</th>\n",
              "      <td>pg_catalog</td>\n",
              "      <td>pg_subscription</td>\n",
              "      <td>postgres</td>\n",
              "      <td>pg_global</td>\n",
              "      <td>True</td>\n",
              "      <td>False</td>\n",
              "      <td>False</td>\n",
              "      <td>False</td>\n",
              "    </tr>\n",
              "    <tr>\n",
              "      <th>6</th>\n",
              "      <td>pg_catalog</td>\n",
              "      <td>pg_attribute</td>\n",
              "      <td>postgres</td>\n",
              "      <td>None</td>\n",
              "      <td>True</td>\n",
              "      <td>False</td>\n",
              "      <td>False</td>\n",
              "      <td>False</td>\n",
              "    </tr>\n",
              "    <tr>\n",
              "      <th>7</th>\n",
              "      <td>pg_catalog</td>\n",
              "      <td>pg_proc</td>\n",
              "      <td>postgres</td>\n",
              "      <td>None</td>\n",
              "      <td>True</td>\n",
              "      <td>False</td>\n",
              "      <td>False</td>\n",
              "      <td>False</td>\n",
              "    </tr>\n",
              "    <tr>\n",
              "      <th>8</th>\n",
              "      <td>pg_catalog</td>\n",
              "      <td>pg_class</td>\n",
              "      <td>postgres</td>\n",
              "      <td>None</td>\n",
              "      <td>True</td>\n",
              "      <td>False</td>\n",
              "      <td>False</td>\n",
              "      <td>False</td>\n",
              "    </tr>\n",
              "    <tr>\n",
              "      <th>9</th>\n",
              "      <td>pg_catalog</td>\n",
              "      <td>pg_attrdef</td>\n",
              "      <td>postgres</td>\n",
              "      <td>None</td>\n",
              "      <td>True</td>\n",
              "      <td>False</td>\n",
              "      <td>False</td>\n",
              "      <td>False</td>\n",
              "    </tr>\n",
              "  </tbody>\n",
              "</table>\n",
              "</div>"
            ],
            "text/plain": [
              "   schemaname        tablename tableowner  ... hasrules  hastriggers  rowsecurity\n",
              "0  pg_catalog     pg_statistic   postgres  ...    False        False        False\n",
              "1  pg_catalog          pg_type   postgres  ...    False        False        False\n",
              "2  pg_catalog        pg_policy   postgres  ...    False        False        False\n",
              "3  pg_catalog        pg_authid   postgres  ...    False        False        False\n",
              "4  pg_catalog  pg_user_mapping   postgres  ...    False        False        False\n",
              "5  pg_catalog  pg_subscription   postgres  ...    False        False        False\n",
              "6  pg_catalog     pg_attribute   postgres  ...    False        False        False\n",
              "7  pg_catalog          pg_proc   postgres  ...    False        False        False\n",
              "8  pg_catalog         pg_class   postgres  ...    False        False        False\n",
              "9  pg_catalog       pg_attrdef   postgres  ...    False        False        False\n",
              "\n",
              "[10 rows x 8 columns]"
            ]
          },
          "metadata": {
            "tags": []
          },
          "execution_count": 34
        }
      ]
    },
    {
      "cell_type": "markdown",
      "metadata": {
        "id": "HdjScO-Utbc4"
      },
      "source": [
        "# Work with excel\n",
        "\n"
      ]
    },
    {
      "cell_type": "code",
      "metadata": {
        "id": "xtBkMwp8sEFE"
      },
      "source": [
        "dir_pandas = '/content/drive/MyDrive/Colab_Notebooks/curso-manipulaciin-analisis-pandas-python/db-20210404T222125Z-001/db/{}'.format('test_lizandro.xlsx')"
      ],
      "execution_count": 44,
      "outputs": []
    },
    {
      "cell_type": "code",
      "metadata": {
        "id": "UYiIuBaWtqp2"
      },
      "source": [
        "df.to_excel(dir_pandas, index=False, sheet_name='platzi') # Save is with DataFrame"
      ],
      "execution_count": 50,
      "outputs": []
    },
    {
      "cell_type": "code",
      "metadata": {
        "colab": {
          "base_uri": "https://localhost:8080/",
          "height": 363
        },
        "id": "cGVC_vzDuJ4K",
        "outputId": "740bae52-b0ea-4385-f07a-a57f44fa0d36"
      },
      "source": [
        "pd.read_excel(dir_pandas) # Read is with pandas"
      ],
      "execution_count": 51,
      "outputs": [
        {
          "output_type": "execute_result",
          "data": {
            "text/html": [
              "<div>\n",
              "<style scoped>\n",
              "    .dataframe tbody tr th:only-of-type {\n",
              "        vertical-align: middle;\n",
              "    }\n",
              "\n",
              "    .dataframe tbody tr th {\n",
              "        vertical-align: top;\n",
              "    }\n",
              "\n",
              "    .dataframe thead th {\n",
              "        text-align: right;\n",
              "    }\n",
              "</style>\n",
              "<table border=\"1\" class=\"dataframe\">\n",
              "  <thead>\n",
              "    <tr style=\"text-align: right;\">\n",
              "      <th></th>\n",
              "      <th>schemaname</th>\n",
              "      <th>tablename</th>\n",
              "      <th>tableowner</th>\n",
              "      <th>tablespace</th>\n",
              "      <th>hasindexes</th>\n",
              "      <th>hasrules</th>\n",
              "      <th>hastriggers</th>\n",
              "      <th>rowsecurity</th>\n",
              "    </tr>\n",
              "  </thead>\n",
              "  <tbody>\n",
              "    <tr>\n",
              "      <th>0</th>\n",
              "      <td>pg_catalog</td>\n",
              "      <td>pg_statistic</td>\n",
              "      <td>postgres</td>\n",
              "      <td>NaN</td>\n",
              "      <td>True</td>\n",
              "      <td>False</td>\n",
              "      <td>False</td>\n",
              "      <td>False</td>\n",
              "    </tr>\n",
              "    <tr>\n",
              "      <th>1</th>\n",
              "      <td>pg_catalog</td>\n",
              "      <td>pg_type</td>\n",
              "      <td>postgres</td>\n",
              "      <td>NaN</td>\n",
              "      <td>True</td>\n",
              "      <td>False</td>\n",
              "      <td>False</td>\n",
              "      <td>False</td>\n",
              "    </tr>\n",
              "    <tr>\n",
              "      <th>2</th>\n",
              "      <td>pg_catalog</td>\n",
              "      <td>pg_policy</td>\n",
              "      <td>postgres</td>\n",
              "      <td>NaN</td>\n",
              "      <td>True</td>\n",
              "      <td>False</td>\n",
              "      <td>False</td>\n",
              "      <td>False</td>\n",
              "    </tr>\n",
              "    <tr>\n",
              "      <th>3</th>\n",
              "      <td>pg_catalog</td>\n",
              "      <td>pg_authid</td>\n",
              "      <td>postgres</td>\n",
              "      <td>pg_global</td>\n",
              "      <td>True</td>\n",
              "      <td>False</td>\n",
              "      <td>False</td>\n",
              "      <td>False</td>\n",
              "    </tr>\n",
              "    <tr>\n",
              "      <th>4</th>\n",
              "      <td>pg_catalog</td>\n",
              "      <td>pg_user_mapping</td>\n",
              "      <td>postgres</td>\n",
              "      <td>NaN</td>\n",
              "      <td>True</td>\n",
              "      <td>False</td>\n",
              "      <td>False</td>\n",
              "      <td>False</td>\n",
              "    </tr>\n",
              "    <tr>\n",
              "      <th>5</th>\n",
              "      <td>pg_catalog</td>\n",
              "      <td>pg_subscription</td>\n",
              "      <td>postgres</td>\n",
              "      <td>pg_global</td>\n",
              "      <td>True</td>\n",
              "      <td>False</td>\n",
              "      <td>False</td>\n",
              "      <td>False</td>\n",
              "    </tr>\n",
              "    <tr>\n",
              "      <th>6</th>\n",
              "      <td>pg_catalog</td>\n",
              "      <td>pg_attribute</td>\n",
              "      <td>postgres</td>\n",
              "      <td>NaN</td>\n",
              "      <td>True</td>\n",
              "      <td>False</td>\n",
              "      <td>False</td>\n",
              "      <td>False</td>\n",
              "    </tr>\n",
              "    <tr>\n",
              "      <th>7</th>\n",
              "      <td>pg_catalog</td>\n",
              "      <td>pg_proc</td>\n",
              "      <td>postgres</td>\n",
              "      <td>NaN</td>\n",
              "      <td>True</td>\n",
              "      <td>False</td>\n",
              "      <td>False</td>\n",
              "      <td>False</td>\n",
              "    </tr>\n",
              "    <tr>\n",
              "      <th>8</th>\n",
              "      <td>pg_catalog</td>\n",
              "      <td>pg_class</td>\n",
              "      <td>postgres</td>\n",
              "      <td>NaN</td>\n",
              "      <td>True</td>\n",
              "      <td>False</td>\n",
              "      <td>False</td>\n",
              "      <td>False</td>\n",
              "    </tr>\n",
              "    <tr>\n",
              "      <th>9</th>\n",
              "      <td>pg_catalog</td>\n",
              "      <td>pg_attrdef</td>\n",
              "      <td>postgres</td>\n",
              "      <td>NaN</td>\n",
              "      <td>True</td>\n",
              "      <td>False</td>\n",
              "      <td>False</td>\n",
              "      <td>False</td>\n",
              "    </tr>\n",
              "  </tbody>\n",
              "</table>\n",
              "</div>"
            ],
            "text/plain": [
              "   schemaname        tablename tableowner  ... hasrules  hastriggers  rowsecurity\n",
              "0  pg_catalog     pg_statistic   postgres  ...    False        False        False\n",
              "1  pg_catalog          pg_type   postgres  ...    False        False        False\n",
              "2  pg_catalog        pg_policy   postgres  ...    False        False        False\n",
              "3  pg_catalog        pg_authid   postgres  ...    False        False        False\n",
              "4  pg_catalog  pg_user_mapping   postgres  ...    False        False        False\n",
              "5  pg_catalog  pg_subscription   postgres  ...    False        False        False\n",
              "6  pg_catalog     pg_attribute   postgres  ...    False        False        False\n",
              "7  pg_catalog          pg_proc   postgres  ...    False        False        False\n",
              "8  pg_catalog         pg_class   postgres  ...    False        False        False\n",
              "9  pg_catalog       pg_attrdef   postgres  ...    False        False        False\n",
              "\n",
              "[10 rows x 8 columns]"
            ]
          },
          "metadata": {
            "tags": []
          },
          "execution_count": 51
        }
      ]
    },
    {
      "cell_type": "markdown",
      "metadata": {
        "id": "vv0EIDJBxX5q"
      },
      "source": [
        "## Format JSON"
      ]
    },
    {
      "cell_type": "code",
      "metadata": {
        "id": "Wc3fYTysxblM"
      },
      "source": [
        "dir_pandas = '/content/drive/MyDrive/Colab_Notebooks/curso-manipulaciin-analisis-pandas-python/db-20210404T222125Z-001/db/{}'.format('test_lizandro.json')"
      ],
      "execution_count": 52,
      "outputs": []
    },
    {
      "cell_type": "code",
      "metadata": {
        "id": "sAnUxR2XxikS"
      },
      "source": [
        "df.to_json(dir_pandas, indent=False) # Save is with DataFrame"
      ],
      "execution_count": 55,
      "outputs": []
    },
    {
      "cell_type": "code",
      "metadata": {
        "colab": {
          "base_uri": "https://localhost:8080/",
          "height": 363
        },
        "id": "2u9kbhWKxyFB",
        "outputId": "77b7332a-79d6-4b4d-ad4b-10462b483bed"
      },
      "source": [
        "pd.read_json(dir_pandas) # Read is with pandas"
      ],
      "execution_count": 56,
      "outputs": [
        {
          "output_type": "execute_result",
          "data": {
            "text/html": [
              "<div>\n",
              "<style scoped>\n",
              "    .dataframe tbody tr th:only-of-type {\n",
              "        vertical-align: middle;\n",
              "    }\n",
              "\n",
              "    .dataframe tbody tr th {\n",
              "        vertical-align: top;\n",
              "    }\n",
              "\n",
              "    .dataframe thead th {\n",
              "        text-align: right;\n",
              "    }\n",
              "</style>\n",
              "<table border=\"1\" class=\"dataframe\">\n",
              "  <thead>\n",
              "    <tr style=\"text-align: right;\">\n",
              "      <th></th>\n",
              "      <th>schemaname</th>\n",
              "      <th>tablename</th>\n",
              "      <th>tableowner</th>\n",
              "      <th>tablespace</th>\n",
              "      <th>hasindexes</th>\n",
              "      <th>hasrules</th>\n",
              "      <th>hastriggers</th>\n",
              "      <th>rowsecurity</th>\n",
              "    </tr>\n",
              "  </thead>\n",
              "  <tbody>\n",
              "    <tr>\n",
              "      <th>0</th>\n",
              "      <td>pg_catalog</td>\n",
              "      <td>pg_statistic</td>\n",
              "      <td>postgres</td>\n",
              "      <td>None</td>\n",
              "      <td>True</td>\n",
              "      <td>False</td>\n",
              "      <td>False</td>\n",
              "      <td>False</td>\n",
              "    </tr>\n",
              "    <tr>\n",
              "      <th>1</th>\n",
              "      <td>pg_catalog</td>\n",
              "      <td>pg_type</td>\n",
              "      <td>postgres</td>\n",
              "      <td>None</td>\n",
              "      <td>True</td>\n",
              "      <td>False</td>\n",
              "      <td>False</td>\n",
              "      <td>False</td>\n",
              "    </tr>\n",
              "    <tr>\n",
              "      <th>2</th>\n",
              "      <td>pg_catalog</td>\n",
              "      <td>pg_policy</td>\n",
              "      <td>postgres</td>\n",
              "      <td>None</td>\n",
              "      <td>True</td>\n",
              "      <td>False</td>\n",
              "      <td>False</td>\n",
              "      <td>False</td>\n",
              "    </tr>\n",
              "    <tr>\n",
              "      <th>3</th>\n",
              "      <td>pg_catalog</td>\n",
              "      <td>pg_authid</td>\n",
              "      <td>postgres</td>\n",
              "      <td>pg_global</td>\n",
              "      <td>True</td>\n",
              "      <td>False</td>\n",
              "      <td>False</td>\n",
              "      <td>False</td>\n",
              "    </tr>\n",
              "    <tr>\n",
              "      <th>4</th>\n",
              "      <td>pg_catalog</td>\n",
              "      <td>pg_user_mapping</td>\n",
              "      <td>postgres</td>\n",
              "      <td>None</td>\n",
              "      <td>True</td>\n",
              "      <td>False</td>\n",
              "      <td>False</td>\n",
              "      <td>False</td>\n",
              "    </tr>\n",
              "    <tr>\n",
              "      <th>5</th>\n",
              "      <td>pg_catalog</td>\n",
              "      <td>pg_subscription</td>\n",
              "      <td>postgres</td>\n",
              "      <td>pg_global</td>\n",
              "      <td>True</td>\n",
              "      <td>False</td>\n",
              "      <td>False</td>\n",
              "      <td>False</td>\n",
              "    </tr>\n",
              "    <tr>\n",
              "      <th>6</th>\n",
              "      <td>pg_catalog</td>\n",
              "      <td>pg_attribute</td>\n",
              "      <td>postgres</td>\n",
              "      <td>None</td>\n",
              "      <td>True</td>\n",
              "      <td>False</td>\n",
              "      <td>False</td>\n",
              "      <td>False</td>\n",
              "    </tr>\n",
              "    <tr>\n",
              "      <th>7</th>\n",
              "      <td>pg_catalog</td>\n",
              "      <td>pg_proc</td>\n",
              "      <td>postgres</td>\n",
              "      <td>None</td>\n",
              "      <td>True</td>\n",
              "      <td>False</td>\n",
              "      <td>False</td>\n",
              "      <td>False</td>\n",
              "    </tr>\n",
              "    <tr>\n",
              "      <th>8</th>\n",
              "      <td>pg_catalog</td>\n",
              "      <td>pg_class</td>\n",
              "      <td>postgres</td>\n",
              "      <td>None</td>\n",
              "      <td>True</td>\n",
              "      <td>False</td>\n",
              "      <td>False</td>\n",
              "      <td>False</td>\n",
              "    </tr>\n",
              "    <tr>\n",
              "      <th>9</th>\n",
              "      <td>pg_catalog</td>\n",
              "      <td>pg_attrdef</td>\n",
              "      <td>postgres</td>\n",
              "      <td>None</td>\n",
              "      <td>True</td>\n",
              "      <td>False</td>\n",
              "      <td>False</td>\n",
              "      <td>False</td>\n",
              "    </tr>\n",
              "  </tbody>\n",
              "</table>\n",
              "</div>"
            ],
            "text/plain": [
              "   schemaname        tablename tableowner  ... hasrules  hastriggers  rowsecurity\n",
              "0  pg_catalog     pg_statistic   postgres  ...    False        False        False\n",
              "1  pg_catalog          pg_type   postgres  ...    False        False        False\n",
              "2  pg_catalog        pg_policy   postgres  ...    False        False        False\n",
              "3  pg_catalog        pg_authid   postgres  ...    False        False        False\n",
              "4  pg_catalog  pg_user_mapping   postgres  ...    False        False        False\n",
              "5  pg_catalog  pg_subscription   postgres  ...    False        False        False\n",
              "6  pg_catalog     pg_attribute   postgres  ...    False        False        False\n",
              "7  pg_catalog          pg_proc   postgres  ...    False        False        False\n",
              "8  pg_catalog         pg_class   postgres  ...    False        False        False\n",
              "9  pg_catalog       pg_attrdef   postgres  ...    False        False        False\n",
              "\n",
              "[10 rows x 8 columns]"
            ]
          },
          "metadata": {
            "tags": []
          },
          "execution_count": 56
        }
      ]
    },
    {
      "cell_type": "markdown",
      "metadata": {
        "id": "0ttwWKz1yNf_"
      },
      "source": [
        "## Format pickle binary"
      ]
    },
    {
      "cell_type": "code",
      "metadata": {
        "id": "IpK6jNCsyNLO"
      },
      "source": [
        "dir_pandas = '/content/drive/MyDrive/Colab_Notebooks/curso-manipulaciin-analisis-pandas-python/db-20210404T222125Z-001/db/{}'.format('test_lizandro.pkl')"
      ],
      "execution_count": 57,
      "outputs": []
    },
    {
      "cell_type": "code",
      "metadata": {
        "id": "lJoWsQqQyemN"
      },
      "source": [
        "df.to_pickle(dir_pandas) # Save is with DataFrame"
      ],
      "execution_count": 62,
      "outputs": []
    },
    {
      "cell_type": "code",
      "metadata": {
        "colab": {
          "base_uri": "https://localhost:8080/",
          "height": 363
        },
        "id": "9XYRcRoxyvmB",
        "outputId": "7ecf97e5-8296-4344-b0ac-e73baf99751a"
      },
      "source": [
        "pd.read_pickle(dir_pandas) # Save is with DataFrame"
      ],
      "execution_count": 64,
      "outputs": [
        {
          "output_type": "execute_result",
          "data": {
            "text/html": [
              "<div>\n",
              "<style scoped>\n",
              "    .dataframe tbody tr th:only-of-type {\n",
              "        vertical-align: middle;\n",
              "    }\n",
              "\n",
              "    .dataframe tbody tr th {\n",
              "        vertical-align: top;\n",
              "    }\n",
              "\n",
              "    .dataframe thead th {\n",
              "        text-align: right;\n",
              "    }\n",
              "</style>\n",
              "<table border=\"1\" class=\"dataframe\">\n",
              "  <thead>\n",
              "    <tr style=\"text-align: right;\">\n",
              "      <th></th>\n",
              "      <th>schemaname</th>\n",
              "      <th>tablename</th>\n",
              "      <th>tableowner</th>\n",
              "      <th>tablespace</th>\n",
              "      <th>hasindexes</th>\n",
              "      <th>hasrules</th>\n",
              "      <th>hastriggers</th>\n",
              "      <th>rowsecurity</th>\n",
              "    </tr>\n",
              "  </thead>\n",
              "  <tbody>\n",
              "    <tr>\n",
              "      <th>0</th>\n",
              "      <td>pg_catalog</td>\n",
              "      <td>pg_statistic</td>\n",
              "      <td>postgres</td>\n",
              "      <td>None</td>\n",
              "      <td>True</td>\n",
              "      <td>False</td>\n",
              "      <td>False</td>\n",
              "      <td>False</td>\n",
              "    </tr>\n",
              "    <tr>\n",
              "      <th>1</th>\n",
              "      <td>pg_catalog</td>\n",
              "      <td>pg_type</td>\n",
              "      <td>postgres</td>\n",
              "      <td>None</td>\n",
              "      <td>True</td>\n",
              "      <td>False</td>\n",
              "      <td>False</td>\n",
              "      <td>False</td>\n",
              "    </tr>\n",
              "    <tr>\n",
              "      <th>2</th>\n",
              "      <td>pg_catalog</td>\n",
              "      <td>pg_policy</td>\n",
              "      <td>postgres</td>\n",
              "      <td>None</td>\n",
              "      <td>True</td>\n",
              "      <td>False</td>\n",
              "      <td>False</td>\n",
              "      <td>False</td>\n",
              "    </tr>\n",
              "    <tr>\n",
              "      <th>3</th>\n",
              "      <td>pg_catalog</td>\n",
              "      <td>pg_authid</td>\n",
              "      <td>postgres</td>\n",
              "      <td>pg_global</td>\n",
              "      <td>True</td>\n",
              "      <td>False</td>\n",
              "      <td>False</td>\n",
              "      <td>False</td>\n",
              "    </tr>\n",
              "    <tr>\n",
              "      <th>4</th>\n",
              "      <td>pg_catalog</td>\n",
              "      <td>pg_user_mapping</td>\n",
              "      <td>postgres</td>\n",
              "      <td>None</td>\n",
              "      <td>True</td>\n",
              "      <td>False</td>\n",
              "      <td>False</td>\n",
              "      <td>False</td>\n",
              "    </tr>\n",
              "    <tr>\n",
              "      <th>5</th>\n",
              "      <td>pg_catalog</td>\n",
              "      <td>pg_subscription</td>\n",
              "      <td>postgres</td>\n",
              "      <td>pg_global</td>\n",
              "      <td>True</td>\n",
              "      <td>False</td>\n",
              "      <td>False</td>\n",
              "      <td>False</td>\n",
              "    </tr>\n",
              "    <tr>\n",
              "      <th>6</th>\n",
              "      <td>pg_catalog</td>\n",
              "      <td>pg_attribute</td>\n",
              "      <td>postgres</td>\n",
              "      <td>None</td>\n",
              "      <td>True</td>\n",
              "      <td>False</td>\n",
              "      <td>False</td>\n",
              "      <td>False</td>\n",
              "    </tr>\n",
              "    <tr>\n",
              "      <th>7</th>\n",
              "      <td>pg_catalog</td>\n",
              "      <td>pg_proc</td>\n",
              "      <td>postgres</td>\n",
              "      <td>None</td>\n",
              "      <td>True</td>\n",
              "      <td>False</td>\n",
              "      <td>False</td>\n",
              "      <td>False</td>\n",
              "    </tr>\n",
              "    <tr>\n",
              "      <th>8</th>\n",
              "      <td>pg_catalog</td>\n",
              "      <td>pg_class</td>\n",
              "      <td>postgres</td>\n",
              "      <td>None</td>\n",
              "      <td>True</td>\n",
              "      <td>False</td>\n",
              "      <td>False</td>\n",
              "      <td>False</td>\n",
              "    </tr>\n",
              "    <tr>\n",
              "      <th>9</th>\n",
              "      <td>pg_catalog</td>\n",
              "      <td>pg_attrdef</td>\n",
              "      <td>postgres</td>\n",
              "      <td>None</td>\n",
              "      <td>True</td>\n",
              "      <td>False</td>\n",
              "      <td>False</td>\n",
              "      <td>False</td>\n",
              "    </tr>\n",
              "  </tbody>\n",
              "</table>\n",
              "</div>"
            ],
            "text/plain": [
              "   schemaname        tablename tableowner  ... hasrules  hastriggers  rowsecurity\n",
              "0  pg_catalog     pg_statistic   postgres  ...    False        False        False\n",
              "1  pg_catalog          pg_type   postgres  ...    False        False        False\n",
              "2  pg_catalog        pg_policy   postgres  ...    False        False        False\n",
              "3  pg_catalog        pg_authid   postgres  ...    False        False        False\n",
              "4  pg_catalog  pg_user_mapping   postgres  ...    False        False        False\n",
              "5  pg_catalog  pg_subscription   postgres  ...    False        False        False\n",
              "6  pg_catalog     pg_attribute   postgres  ...    False        False        False\n",
              "7  pg_catalog          pg_proc   postgres  ...    False        False        False\n",
              "8  pg_catalog         pg_class   postgres  ...    False        False        False\n",
              "9  pg_catalog       pg_attrdef   postgres  ...    False        False        False\n",
              "\n",
              "[10 rows x 8 columns]"
            ]
          },
          "metadata": {
            "tags": []
          },
          "execution_count": 64
        }
      ]
    },
    {
      "cell_type": "markdown",
      "metadata": {
        "id": "PPLUP4E-zBZh"
      },
      "source": [
        "## Format parquet and hdf form apache, big data and Hadoop"
      ]
    },
    {
      "cell_type": "code",
      "metadata": {
        "id": "0dN5jR9UzG-2"
      },
      "source": [
        "dir_pandas = '/content/drive/MyDrive/Colab_Notebooks/curso-manipulaciin-analisis-pandas-python/db-20210404T222125Z-001/db/{}'.format('test_lizandro.parquet')"
      ],
      "execution_count": 65,
      "outputs": []
    },
    {
      "cell_type": "code",
      "metadata": {
        "id": "w9kEnVirzW1U"
      },
      "source": [
        "df.to_parquet(dir_pandas) # Save is with DataFrame"
      ],
      "execution_count": 66,
      "outputs": []
    },
    {
      "cell_type": "code",
      "metadata": {
        "colab": {
          "base_uri": "https://localhost:8080/",
          "height": 363
        },
        "id": "SVZkL-ARzXtF",
        "outputId": "1d842f12-8889-4bfc-9859-e4dfd0e1063d"
      },
      "source": [
        "pd.read_parquet(dir_pandas)"
      ],
      "execution_count": 67,
      "outputs": [
        {
          "output_type": "execute_result",
          "data": {
            "text/html": [
              "<div>\n",
              "<style scoped>\n",
              "    .dataframe tbody tr th:only-of-type {\n",
              "        vertical-align: middle;\n",
              "    }\n",
              "\n",
              "    .dataframe tbody tr th {\n",
              "        vertical-align: top;\n",
              "    }\n",
              "\n",
              "    .dataframe thead th {\n",
              "        text-align: right;\n",
              "    }\n",
              "</style>\n",
              "<table border=\"1\" class=\"dataframe\">\n",
              "  <thead>\n",
              "    <tr style=\"text-align: right;\">\n",
              "      <th></th>\n",
              "      <th>schemaname</th>\n",
              "      <th>tablename</th>\n",
              "      <th>tableowner</th>\n",
              "      <th>tablespace</th>\n",
              "      <th>hasindexes</th>\n",
              "      <th>hasrules</th>\n",
              "      <th>hastriggers</th>\n",
              "      <th>rowsecurity</th>\n",
              "    </tr>\n",
              "  </thead>\n",
              "  <tbody>\n",
              "    <tr>\n",
              "      <th>0</th>\n",
              "      <td>pg_catalog</td>\n",
              "      <td>pg_statistic</td>\n",
              "      <td>postgres</td>\n",
              "      <td>None</td>\n",
              "      <td>True</td>\n",
              "      <td>False</td>\n",
              "      <td>False</td>\n",
              "      <td>False</td>\n",
              "    </tr>\n",
              "    <tr>\n",
              "      <th>1</th>\n",
              "      <td>pg_catalog</td>\n",
              "      <td>pg_type</td>\n",
              "      <td>postgres</td>\n",
              "      <td>None</td>\n",
              "      <td>True</td>\n",
              "      <td>False</td>\n",
              "      <td>False</td>\n",
              "      <td>False</td>\n",
              "    </tr>\n",
              "    <tr>\n",
              "      <th>2</th>\n",
              "      <td>pg_catalog</td>\n",
              "      <td>pg_policy</td>\n",
              "      <td>postgres</td>\n",
              "      <td>None</td>\n",
              "      <td>True</td>\n",
              "      <td>False</td>\n",
              "      <td>False</td>\n",
              "      <td>False</td>\n",
              "    </tr>\n",
              "    <tr>\n",
              "      <th>3</th>\n",
              "      <td>pg_catalog</td>\n",
              "      <td>pg_authid</td>\n",
              "      <td>postgres</td>\n",
              "      <td>pg_global</td>\n",
              "      <td>True</td>\n",
              "      <td>False</td>\n",
              "      <td>False</td>\n",
              "      <td>False</td>\n",
              "    </tr>\n",
              "    <tr>\n",
              "      <th>4</th>\n",
              "      <td>pg_catalog</td>\n",
              "      <td>pg_user_mapping</td>\n",
              "      <td>postgres</td>\n",
              "      <td>None</td>\n",
              "      <td>True</td>\n",
              "      <td>False</td>\n",
              "      <td>False</td>\n",
              "      <td>False</td>\n",
              "    </tr>\n",
              "    <tr>\n",
              "      <th>5</th>\n",
              "      <td>pg_catalog</td>\n",
              "      <td>pg_subscription</td>\n",
              "      <td>postgres</td>\n",
              "      <td>pg_global</td>\n",
              "      <td>True</td>\n",
              "      <td>False</td>\n",
              "      <td>False</td>\n",
              "      <td>False</td>\n",
              "    </tr>\n",
              "    <tr>\n",
              "      <th>6</th>\n",
              "      <td>pg_catalog</td>\n",
              "      <td>pg_attribute</td>\n",
              "      <td>postgres</td>\n",
              "      <td>None</td>\n",
              "      <td>True</td>\n",
              "      <td>False</td>\n",
              "      <td>False</td>\n",
              "      <td>False</td>\n",
              "    </tr>\n",
              "    <tr>\n",
              "      <th>7</th>\n",
              "      <td>pg_catalog</td>\n",
              "      <td>pg_proc</td>\n",
              "      <td>postgres</td>\n",
              "      <td>None</td>\n",
              "      <td>True</td>\n",
              "      <td>False</td>\n",
              "      <td>False</td>\n",
              "      <td>False</td>\n",
              "    </tr>\n",
              "    <tr>\n",
              "      <th>8</th>\n",
              "      <td>pg_catalog</td>\n",
              "      <td>pg_class</td>\n",
              "      <td>postgres</td>\n",
              "      <td>None</td>\n",
              "      <td>True</td>\n",
              "      <td>False</td>\n",
              "      <td>False</td>\n",
              "      <td>False</td>\n",
              "    </tr>\n",
              "    <tr>\n",
              "      <th>9</th>\n",
              "      <td>pg_catalog</td>\n",
              "      <td>pg_attrdef</td>\n",
              "      <td>postgres</td>\n",
              "      <td>None</td>\n",
              "      <td>True</td>\n",
              "      <td>False</td>\n",
              "      <td>False</td>\n",
              "      <td>False</td>\n",
              "    </tr>\n",
              "  </tbody>\n",
              "</table>\n",
              "</div>"
            ],
            "text/plain": [
              "   schemaname        tablename tableowner  ... hasrules  hastriggers  rowsecurity\n",
              "0  pg_catalog     pg_statistic   postgres  ...    False        False        False\n",
              "1  pg_catalog          pg_type   postgres  ...    False        False        False\n",
              "2  pg_catalog        pg_policy   postgres  ...    False        False        False\n",
              "3  pg_catalog        pg_authid   postgres  ...    False        False        False\n",
              "4  pg_catalog  pg_user_mapping   postgres  ...    False        False        False\n",
              "5  pg_catalog  pg_subscription   postgres  ...    False        False        False\n",
              "6  pg_catalog     pg_attribute   postgres  ...    False        False        False\n",
              "7  pg_catalog          pg_proc   postgres  ...    False        False        False\n",
              "8  pg_catalog         pg_class   postgres  ...    False        False        False\n",
              "9  pg_catalog       pg_attrdef   postgres  ...    False        False        False\n",
              "\n",
              "[10 rows x 8 columns]"
            ]
          },
          "metadata": {
            "tags": []
          },
          "execution_count": 67
        }
      ]
    },
    {
      "cell_type": "code",
      "metadata": {
        "id": "b_IWP4ajzxnv"
      },
      "source": [
        "dir_pandas = '/content/drive/MyDrive/Colab_Notebooks/curso-manipulaciin-analisis-pandas-python/db-20210404T222125Z-001/db/{}'.format('test_lizandro.h5')"
      ],
      "execution_count": 76,
      "outputs": []
    },
    {
      "cell_type": "markdown",
      "metadata": {
        "id": "KW-kfyi21DoF"
      },
      "source": [
        "Note: HDF is now .h5"
      ]
    },
    {
      "cell_type": "code",
      "metadata": {
        "id": "gGxxqEFyzysN"
      },
      "source": [
        "df.to_hdf(dir_pandas, key='data', format='table') # Save is with DataFrame"
      ],
      "execution_count": 77,
      "outputs": []
    },
    {
      "cell_type": "code",
      "metadata": {
        "colab": {
          "base_uri": "https://localhost:8080/",
          "height": 363
        },
        "id": "K-PNv1odzyZQ",
        "outputId": "e74b506f-99ac-4f84-d07e-6820fa850083"
      },
      "source": [
        "pd.read_hdf(dir_pandas)"
      ],
      "execution_count": 78,
      "outputs": [
        {
          "output_type": "execute_result",
          "data": {
            "text/html": [
              "<div>\n",
              "<style scoped>\n",
              "    .dataframe tbody tr th:only-of-type {\n",
              "        vertical-align: middle;\n",
              "    }\n",
              "\n",
              "    .dataframe tbody tr th {\n",
              "        vertical-align: top;\n",
              "    }\n",
              "\n",
              "    .dataframe thead th {\n",
              "        text-align: right;\n",
              "    }\n",
              "</style>\n",
              "<table border=\"1\" class=\"dataframe\">\n",
              "  <thead>\n",
              "    <tr style=\"text-align: right;\">\n",
              "      <th></th>\n",
              "      <th>schemaname</th>\n",
              "      <th>tablename</th>\n",
              "      <th>tableowner</th>\n",
              "      <th>tablespace</th>\n",
              "      <th>hasindexes</th>\n",
              "      <th>hasrules</th>\n",
              "      <th>hastriggers</th>\n",
              "      <th>rowsecurity</th>\n",
              "    </tr>\n",
              "  </thead>\n",
              "  <tbody>\n",
              "    <tr>\n",
              "      <th>0</th>\n",
              "      <td>pg_catalog</td>\n",
              "      <td>pg_statistic</td>\n",
              "      <td>postgres</td>\n",
              "      <td>NaN</td>\n",
              "      <td>True</td>\n",
              "      <td>False</td>\n",
              "      <td>False</td>\n",
              "      <td>False</td>\n",
              "    </tr>\n",
              "    <tr>\n",
              "      <th>1</th>\n",
              "      <td>pg_catalog</td>\n",
              "      <td>pg_type</td>\n",
              "      <td>postgres</td>\n",
              "      <td>NaN</td>\n",
              "      <td>True</td>\n",
              "      <td>False</td>\n",
              "      <td>False</td>\n",
              "      <td>False</td>\n",
              "    </tr>\n",
              "    <tr>\n",
              "      <th>2</th>\n",
              "      <td>pg_catalog</td>\n",
              "      <td>pg_policy</td>\n",
              "      <td>postgres</td>\n",
              "      <td>NaN</td>\n",
              "      <td>True</td>\n",
              "      <td>False</td>\n",
              "      <td>False</td>\n",
              "      <td>False</td>\n",
              "    </tr>\n",
              "    <tr>\n",
              "      <th>3</th>\n",
              "      <td>pg_catalog</td>\n",
              "      <td>pg_authid</td>\n",
              "      <td>postgres</td>\n",
              "      <td>pg_global</td>\n",
              "      <td>True</td>\n",
              "      <td>False</td>\n",
              "      <td>False</td>\n",
              "      <td>False</td>\n",
              "    </tr>\n",
              "    <tr>\n",
              "      <th>4</th>\n",
              "      <td>pg_catalog</td>\n",
              "      <td>pg_user_mapping</td>\n",
              "      <td>postgres</td>\n",
              "      <td>NaN</td>\n",
              "      <td>True</td>\n",
              "      <td>False</td>\n",
              "      <td>False</td>\n",
              "      <td>False</td>\n",
              "    </tr>\n",
              "    <tr>\n",
              "      <th>5</th>\n",
              "      <td>pg_catalog</td>\n",
              "      <td>pg_subscription</td>\n",
              "      <td>postgres</td>\n",
              "      <td>pg_global</td>\n",
              "      <td>True</td>\n",
              "      <td>False</td>\n",
              "      <td>False</td>\n",
              "      <td>False</td>\n",
              "    </tr>\n",
              "    <tr>\n",
              "      <th>6</th>\n",
              "      <td>pg_catalog</td>\n",
              "      <td>pg_attribute</td>\n",
              "      <td>postgres</td>\n",
              "      <td>NaN</td>\n",
              "      <td>True</td>\n",
              "      <td>False</td>\n",
              "      <td>False</td>\n",
              "      <td>False</td>\n",
              "    </tr>\n",
              "    <tr>\n",
              "      <th>7</th>\n",
              "      <td>pg_catalog</td>\n",
              "      <td>pg_proc</td>\n",
              "      <td>postgres</td>\n",
              "      <td>NaN</td>\n",
              "      <td>True</td>\n",
              "      <td>False</td>\n",
              "      <td>False</td>\n",
              "      <td>False</td>\n",
              "    </tr>\n",
              "    <tr>\n",
              "      <th>8</th>\n",
              "      <td>pg_catalog</td>\n",
              "      <td>pg_class</td>\n",
              "      <td>postgres</td>\n",
              "      <td>NaN</td>\n",
              "      <td>True</td>\n",
              "      <td>False</td>\n",
              "      <td>False</td>\n",
              "      <td>False</td>\n",
              "    </tr>\n",
              "    <tr>\n",
              "      <th>9</th>\n",
              "      <td>pg_catalog</td>\n",
              "      <td>pg_attrdef</td>\n",
              "      <td>postgres</td>\n",
              "      <td>NaN</td>\n",
              "      <td>True</td>\n",
              "      <td>False</td>\n",
              "      <td>False</td>\n",
              "      <td>False</td>\n",
              "    </tr>\n",
              "  </tbody>\n",
              "</table>\n",
              "</div>"
            ],
            "text/plain": [
              "   schemaname        tablename tableowner  ... hasrules  hastriggers  rowsecurity\n",
              "0  pg_catalog     pg_statistic   postgres  ...    False        False        False\n",
              "1  pg_catalog          pg_type   postgres  ...    False        False        False\n",
              "2  pg_catalog        pg_policy   postgres  ...    False        False        False\n",
              "3  pg_catalog        pg_authid   postgres  ...    False        False        False\n",
              "4  pg_catalog  pg_user_mapping   postgres  ...    False        False        False\n",
              "5  pg_catalog  pg_subscription   postgres  ...    False        False        False\n",
              "6  pg_catalog     pg_attribute   postgres  ...    False        False        False\n",
              "7  pg_catalog          pg_proc   postgres  ...    False        False        False\n",
              "8  pg_catalog         pg_class   postgres  ...    False        False        False\n",
              "9  pg_catalog       pg_attrdef   postgres  ...    False        False        False\n",
              "\n",
              "[10 rows x 8 columns]"
            ]
          },
          "metadata": {
            "tags": []
          },
          "execution_count": 78
        }
      ]
    },
    {
      "cell_type": "markdown",
      "metadata": {
        "id": "jD4JbVDm5IPq"
      },
      "source": [
        "## Work with [Google dataset search ](https://datasetsearch.research.google.com/)"
      ]
    },
    {
      "cell_type": "code",
      "metadata": {
        "colab": {
          "base_uri": "https://localhost:8080/"
        },
        "id": "PltgPPPa6QuN",
        "outputId": "b182c1e5-e042-4ec3-affb-2253cf9bae2f"
      },
      "source": [
        "%cd '/content/drive/MyDrive/Colab_Notebooks/curso-manipulaciin-analisis-pandas-python/db-20210404T222125Z-001/db'"
      ],
      "execution_count": 4,
      "outputs": [
        {
          "output_type": "stream",
          "text": [
            "/content/drive/MyDrive/Colab_Notebooks/curso-manipulaciin-analisis-pandas-python/db-20210404T222125Z-001/db\n"
          ],
          "name": "stdout"
        }
      ]
    },
    {
      "cell_type": "code",
      "metadata": {
        "colab": {
          "base_uri": "https://localhost:8080/"
        },
        "id": "s1dtLpYq5WUe",
        "outputId": "14e857e2-f9f1-4dcc-a940-bf7259442a08"
      },
      "source": [
        "!ls # Need to move "
      ],
      "execution_count": 5,
      "outputs": [
        {
          "output_type": "stream",
          "text": [
            "API_AG.LND.AGRI.K2_DS2_en_csv_v2_716226.csv\ttest.hdf\n",
            "API_AG.LND.FRST.K2_DS2_en_csv_v2_716262.csv\ttest.json\n",
            "API_EG.USE.ELEC.KH.PC_DS2_en_csv_v2_715482.csv\ttest_lizandro.csv\n",
            "API_EN.ATM.CO2E.KT_DS2_en_csv_v2_713263.csv\ttest_lizandro.h5\n",
            "API_SP.POP.TOTL_DS2_en_csv_v2_713131.csv\ttest_lizandro.hdf\n",
            "covid_19_data.csv\t\t\t\ttest_lizandro.json\n",
            "flights.db\t\t\t\t\ttest_lizandro.parquet\n",
            "GlobalLandTemperaturesByCountry.csv\t\ttest_lizandro.pkl\n",
            "london_merged.csv\t\t\t\ttest_lizandro.xlsx\n",
            "Meteorite_Landings.csv\t\t\t\ttest.parquet\n",
            "poblacion.csv\t\t\t\t\ttest.pkl\n",
            "test.csv\t\t\t\t\ttest.xlsx\n"
          ],
          "name": "stdout"
        }
      ]
    },
    {
      "cell_type": "code",
      "metadata": {
        "id": "gZ-W7eWS5Y8M"
      },
      "source": [
        "import pandas as pd"
      ],
      "execution_count": 6,
      "outputs": []
    },
    {
      "cell_type": "code",
      "metadata": {
        "id": "ei54Vz3J5ud1"
      },
      "source": [
        "df_meteorite = pd.read_csv('./Meteorite_Landings.csv')"
      ],
      "execution_count": 33,
      "outputs": []
    },
    {
      "cell_type": "code",
      "metadata": {
        "colab": {
          "base_uri": "https://localhost:8080/",
          "height": 363
        },
        "id": "Iutky5kx6Bl1",
        "outputId": "7c9be809-c55f-470f-9ea6-8c270bcc8681"
      },
      "source": [
        "df_meteorite.sample(10) # take a sample random from the table"
      ],
      "execution_count": 34,
      "outputs": [
        {
          "output_type": "execute_result",
          "data": {
            "text/html": [
              "<div>\n",
              "<style scoped>\n",
              "    .dataframe tbody tr th:only-of-type {\n",
              "        vertical-align: middle;\n",
              "    }\n",
              "\n",
              "    .dataframe tbody tr th {\n",
              "        vertical-align: top;\n",
              "    }\n",
              "\n",
              "    .dataframe thead th {\n",
              "        text-align: right;\n",
              "    }\n",
              "</style>\n",
              "<table border=\"1\" class=\"dataframe\">\n",
              "  <thead>\n",
              "    <tr style=\"text-align: right;\">\n",
              "      <th></th>\n",
              "      <th>name</th>\n",
              "      <th>id</th>\n",
              "      <th>nametype</th>\n",
              "      <th>recclass</th>\n",
              "      <th>mass (g)</th>\n",
              "      <th>fall</th>\n",
              "      <th>year</th>\n",
              "      <th>reclat</th>\n",
              "      <th>reclong</th>\n",
              "      <th>GeoLocation</th>\n",
              "    </tr>\n",
              "  </thead>\n",
              "  <tbody>\n",
              "    <tr>\n",
              "      <th>12407</th>\n",
              "      <td>Frontier Mountain 95006</td>\n",
              "      <td>10691</td>\n",
              "      <td>Valid</td>\n",
              "      <td>H6</td>\n",
              "      <td>121.7</td>\n",
              "      <td>Found</td>\n",
              "      <td>01/01/1995 12:00:00 AM</td>\n",
              "      <td>-73.0</td>\n",
              "      <td>160.4</td>\n",
              "      <td>(-72.96528, 160.43111)</td>\n",
              "    </tr>\n",
              "    <tr>\n",
              "      <th>879</th>\n",
              "      <td>San Pedro de Quiles</td>\n",
              "      <td>23130</td>\n",
              "      <td>Valid</td>\n",
              "      <td>L6</td>\n",
              "      <td>282.0</td>\n",
              "      <td>Fell</td>\n",
              "      <td>01/01/1956 12:00:00 AM</td>\n",
              "      <td>-31.0</td>\n",
              "      <td>-71.4</td>\n",
              "      <td>(-31.01667, -71.4)</td>\n",
              "    </tr>\n",
              "    <tr>\n",
              "      <th>30509</th>\n",
              "      <td>Northwest Africa 7488</td>\n",
              "      <td>56311</td>\n",
              "      <td>Valid</td>\n",
              "      <td>Eucrite</td>\n",
              "      <td>259.0</td>\n",
              "      <td>Found</td>\n",
              "      <td>01/01/2012 12:00:00 AM</td>\n",
              "      <td>0.0</td>\n",
              "      <td>0.0</td>\n",
              "      <td>(0.0, 0.0)</td>\n",
              "    </tr>\n",
              "    <tr>\n",
              "      <th>1383</th>\n",
              "      <td>Acfer 268</td>\n",
              "      <td>276</td>\n",
              "      <td>Valid</td>\n",
              "      <td>LL4-6</td>\n",
              "      <td>764.0</td>\n",
              "      <td>Found</td>\n",
              "      <td>01/01/1991 12:00:00 AM</td>\n",
              "      <td>27.5</td>\n",
              "      <td>3.9</td>\n",
              "      <td>(27.51389, 3.87528)</td>\n",
              "    </tr>\n",
              "    <tr>\n",
              "      <th>19122</th>\n",
              "      <td>Larkman Nunatak 06278</td>\n",
              "      <td>49554</td>\n",
              "      <td>Valid</td>\n",
              "      <td>H6</td>\n",
              "      <td>1,196.8</td>\n",
              "      <td>Found</td>\n",
              "      <td>01/01/2006 12:00:00 AM</td>\n",
              "      <td>0.0</td>\n",
              "      <td>0.0</td>\n",
              "      <td>(0.0, 0.0)</td>\n",
              "    </tr>\n",
              "    <tr>\n",
              "      <th>774</th>\n",
              "      <td>Pavlovka</td>\n",
              "      <td>18177</td>\n",
              "      <td>Valid</td>\n",
              "      <td>Howardite</td>\n",
              "      <td>2,000.0</td>\n",
              "      <td>Fell</td>\n",
              "      <td>01/01/1882 12:00:00 AM</td>\n",
              "      <td>52.0</td>\n",
              "      <td>43.0</td>\n",
              "      <td>(52.03333, 43.0)</td>\n",
              "    </tr>\n",
              "    <tr>\n",
              "      <th>42063</th>\n",
              "      <td>Yamato 793406</td>\n",
              "      <td>28755</td>\n",
              "      <td>Valid</td>\n",
              "      <td>H6</td>\n",
              "      <td>4.5</td>\n",
              "      <td>Found</td>\n",
              "      <td>01/01/1979 12:00:00 AM</td>\n",
              "      <td>-71.5</td>\n",
              "      <td>35.7</td>\n",
              "      <td>(-71.5, 35.66667)</td>\n",
              "    </tr>\n",
              "    <tr>\n",
              "      <th>29678</th>\n",
              "      <td>Northwest Africa 6095</td>\n",
              "      <td>51504</td>\n",
              "      <td>Valid</td>\n",
              "      <td>LL6</td>\n",
              "      <td>130.0</td>\n",
              "      <td>Found</td>\n",
              "      <td>01/01/2007 12:00:00 AM</td>\n",
              "      <td>0.0</td>\n",
              "      <td>0.0</td>\n",
              "      <td>(0.0, 0.0)</td>\n",
              "    </tr>\n",
              "    <tr>\n",
              "      <th>2767</th>\n",
              "      <td>Allan Hills A78026</td>\n",
              "      <td>1642</td>\n",
              "      <td>Valid</td>\n",
              "      <td>H4</td>\n",
              "      <td>7.8</td>\n",
              "      <td>Found</td>\n",
              "      <td>01/01/1977 12:00:00 AM</td>\n",
              "      <td>-76.7</td>\n",
              "      <td>159.7</td>\n",
              "      <td>(-76.71667, 159.66667)</td>\n",
              "    </tr>\n",
              "    <tr>\n",
              "      <th>8803</th>\n",
              "      <td>Finger Ridge 01601</td>\n",
              "      <td>10098</td>\n",
              "      <td>Valid</td>\n",
              "      <td>L6</td>\n",
              "      <td>287.5</td>\n",
              "      <td>Found</td>\n",
              "      <td>01/01/2001 12:00:00 AM</td>\n",
              "      <td>nan</td>\n",
              "      <td>nan</td>\n",
              "      <td>NaN</td>\n",
              "    </tr>\n",
              "  </tbody>\n",
              "</table>\n",
              "</div>"
            ],
            "text/plain": [
              "                          name     id  ... reclong             GeoLocation\n",
              "12407  Frontier Mountain 95006  10691  ...   160.4  (-72.96528, 160.43111)\n",
              "879        San Pedro de Quiles  23130  ...   -71.4      (-31.01667, -71.4)\n",
              "30509    Northwest Africa 7488  56311  ...     0.0              (0.0, 0.0)\n",
              "1383                 Acfer 268    276  ...     3.9     (27.51389, 3.87528)\n",
              "19122    Larkman Nunatak 06278  49554  ...     0.0              (0.0, 0.0)\n",
              "774                   Pavlovka  18177  ...    43.0        (52.03333, 43.0)\n",
              "42063            Yamato 793406  28755  ...    35.7       (-71.5, 35.66667)\n",
              "29678    Northwest Africa 6095  51504  ...     0.0              (0.0, 0.0)\n",
              "2767        Allan Hills A78026   1642  ...   159.7  (-76.71667, 159.66667)\n",
              "8803        Finger Ridge 01601  10098  ...     nan                     NaN\n",
              "\n",
              "[10 rows x 10 columns]"
            ]
          },
          "metadata": {
            "tags": []
          },
          "execution_count": 34
        }
      ]
    },
    {
      "cell_type": "code",
      "metadata": {
        "colab": {
          "base_uri": "https://localhost:8080/"
        },
        "id": "a0Rnix7F6tQS",
        "outputId": "acd6e832-41c8-4325-b28d-88d58267ebff"
      },
      "source": [
        "df_meteorite.shape # (rows, columns)"
      ],
      "execution_count": 35,
      "outputs": [
        {
          "output_type": "execute_result",
          "data": {
            "text/plain": [
              "(45716, 10)"
            ]
          },
          "metadata": {
            "tags": []
          },
          "execution_count": 35
        }
      ]
    },
    {
      "cell_type": "code",
      "metadata": {
        "colab": {
          "base_uri": "https://localhost:8080/"
        },
        "id": "k_kwpKRM6w_n",
        "outputId": "1f436859-1f1b-4aba-8a1e-9b2541e0b35f"
      },
      "source": [
        "df_meteorite.size # rows * columns"
      ],
      "execution_count": 36,
      "outputs": [
        {
          "output_type": "execute_result",
          "data": {
            "text/plain": [
              "457160"
            ]
          },
          "metadata": {
            "tags": []
          },
          "execution_count": 36
        }
      ]
    },
    {
      "cell_type": "code",
      "metadata": {
        "colab": {
          "base_uri": "https://localhost:8080/",
          "height": 301
        },
        "id": "_NxSIwHq7Afd",
        "outputId": "c9486bf4-918f-4b9b-cb46-e26787374e12"
      },
      "source": [
        "df_meteorite.describe() # Data statistics from my number type columns"
      ],
      "execution_count": 37,
      "outputs": [
        {
          "output_type": "execute_result",
          "data": {
            "text/html": [
              "<div>\n",
              "<style scoped>\n",
              "    .dataframe tbody tr th:only-of-type {\n",
              "        vertical-align: middle;\n",
              "    }\n",
              "\n",
              "    .dataframe tbody tr th {\n",
              "        vertical-align: top;\n",
              "    }\n",
              "\n",
              "    .dataframe thead th {\n",
              "        text-align: right;\n",
              "    }\n",
              "</style>\n",
              "<table border=\"1\" class=\"dataframe\">\n",
              "  <thead>\n",
              "    <tr style=\"text-align: right;\">\n",
              "      <th></th>\n",
              "      <th>id</th>\n",
              "      <th>mass (g)</th>\n",
              "      <th>reclat</th>\n",
              "      <th>reclong</th>\n",
              "    </tr>\n",
              "  </thead>\n",
              "  <tbody>\n",
              "    <tr>\n",
              "      <th>count</th>\n",
              "      <td>45,716.0</td>\n",
              "      <td>45,585.0</td>\n",
              "      <td>38,401.0</td>\n",
              "      <td>38,401.0</td>\n",
              "    </tr>\n",
              "    <tr>\n",
              "      <th>mean</th>\n",
              "      <td>26,889.7</td>\n",
              "      <td>13,278.1</td>\n",
              "      <td>-39.1</td>\n",
              "      <td>61.1</td>\n",
              "    </tr>\n",
              "    <tr>\n",
              "      <th>std</th>\n",
              "      <td>16,860.7</td>\n",
              "      <td>574,988.9</td>\n",
              "      <td>46.4</td>\n",
              "      <td>80.6</td>\n",
              "    </tr>\n",
              "    <tr>\n",
              "      <th>min</th>\n",
              "      <td>1.0</td>\n",
              "      <td>0.0</td>\n",
              "      <td>-87.4</td>\n",
              "      <td>-165.4</td>\n",
              "    </tr>\n",
              "    <tr>\n",
              "      <th>25%</th>\n",
              "      <td>12,688.8</td>\n",
              "      <td>7.2</td>\n",
              "      <td>-76.7</td>\n",
              "      <td>0.0</td>\n",
              "    </tr>\n",
              "    <tr>\n",
              "      <th>50%</th>\n",
              "      <td>24,261.5</td>\n",
              "      <td>32.6</td>\n",
              "      <td>-71.5</td>\n",
              "      <td>35.7</td>\n",
              "    </tr>\n",
              "    <tr>\n",
              "      <th>75%</th>\n",
              "      <td>40,656.8</td>\n",
              "      <td>202.6</td>\n",
              "      <td>0.0</td>\n",
              "      <td>157.2</td>\n",
              "    </tr>\n",
              "    <tr>\n",
              "      <th>max</th>\n",
              "      <td>57,458.0</td>\n",
              "      <td>60,000,000.0</td>\n",
              "      <td>81.2</td>\n",
              "      <td>354.5</td>\n",
              "    </tr>\n",
              "  </tbody>\n",
              "</table>\n",
              "</div>"
            ],
            "text/plain": [
              "            id     mass (g)   reclat  reclong\n",
              "count 45,716.0     45,585.0 38,401.0 38,401.0\n",
              "mean  26,889.7     13,278.1    -39.1     61.1\n",
              "std   16,860.7    574,988.9     46.4     80.6\n",
              "min        1.0          0.0    -87.4   -165.4\n",
              "25%   12,688.8          7.2    -76.7      0.0\n",
              "50%   24,261.5         32.6    -71.5     35.7\n",
              "75%   40,656.8        202.6      0.0    157.2\n",
              "max   57,458.0 60,000,000.0     81.2    354.5"
            ]
          },
          "metadata": {
            "tags": []
          },
          "execution_count": 37
        }
      ]
    },
    {
      "cell_type": "code",
      "metadata": {
        "id": "lZoN0odr82P8"
      },
      "source": [
        "pd.options.display.float_format = '{:,.1f}'.format # change the notation format in the discribe function"
      ],
      "execution_count": 38,
      "outputs": []
    },
    {
      "cell_type": "code",
      "metadata": {
        "colab": {
          "base_uri": "https://localhost:8080/",
          "height": 395
        },
        "id": "2Il9afnH-ai2",
        "outputId": "570e9a78-00d4-4b5f-9428-3cbba93c5200"
      },
      "source": [
        "df_meteorite.describe(include='all') # Data statistics from my number and text type columns"
      ],
      "execution_count": 39,
      "outputs": [
        {
          "output_type": "execute_result",
          "data": {
            "text/html": [
              "<div>\n",
              "<style scoped>\n",
              "    .dataframe tbody tr th:only-of-type {\n",
              "        vertical-align: middle;\n",
              "    }\n",
              "\n",
              "    .dataframe tbody tr th {\n",
              "        vertical-align: top;\n",
              "    }\n",
              "\n",
              "    .dataframe thead th {\n",
              "        text-align: right;\n",
              "    }\n",
              "</style>\n",
              "<table border=\"1\" class=\"dataframe\">\n",
              "  <thead>\n",
              "    <tr style=\"text-align: right;\">\n",
              "      <th></th>\n",
              "      <th>name</th>\n",
              "      <th>id</th>\n",
              "      <th>nametype</th>\n",
              "      <th>recclass</th>\n",
              "      <th>mass (g)</th>\n",
              "      <th>fall</th>\n",
              "      <th>year</th>\n",
              "      <th>reclat</th>\n",
              "      <th>reclong</th>\n",
              "      <th>GeoLocation</th>\n",
              "    </tr>\n",
              "  </thead>\n",
              "  <tbody>\n",
              "    <tr>\n",
              "      <th>count</th>\n",
              "      <td>45716</td>\n",
              "      <td>45,716.0</td>\n",
              "      <td>45716</td>\n",
              "      <td>45716</td>\n",
              "      <td>45,585.0</td>\n",
              "      <td>45716</td>\n",
              "      <td>45425</td>\n",
              "      <td>38,401.0</td>\n",
              "      <td>38,401.0</td>\n",
              "      <td>38401</td>\n",
              "    </tr>\n",
              "    <tr>\n",
              "      <th>unique</th>\n",
              "      <td>45716</td>\n",
              "      <td>nan</td>\n",
              "      <td>2</td>\n",
              "      <td>466</td>\n",
              "      <td>nan</td>\n",
              "      <td>2</td>\n",
              "      <td>266</td>\n",
              "      <td>nan</td>\n",
              "      <td>nan</td>\n",
              "      <td>17100</td>\n",
              "    </tr>\n",
              "    <tr>\n",
              "      <th>top</th>\n",
              "      <td>Miller Range 090422</td>\n",
              "      <td>nan</td>\n",
              "      <td>Valid</td>\n",
              "      <td>L6</td>\n",
              "      <td>nan</td>\n",
              "      <td>Found</td>\n",
              "      <td>01/01/2003 12:00:00 AM</td>\n",
              "      <td>nan</td>\n",
              "      <td>nan</td>\n",
              "      <td>(0.0, 0.0)</td>\n",
              "    </tr>\n",
              "    <tr>\n",
              "      <th>freq</th>\n",
              "      <td>1</td>\n",
              "      <td>nan</td>\n",
              "      <td>45641</td>\n",
              "      <td>8285</td>\n",
              "      <td>nan</td>\n",
              "      <td>44609</td>\n",
              "      <td>3323</td>\n",
              "      <td>nan</td>\n",
              "      <td>nan</td>\n",
              "      <td>6214</td>\n",
              "    </tr>\n",
              "    <tr>\n",
              "      <th>mean</th>\n",
              "      <td>NaN</td>\n",
              "      <td>26,889.7</td>\n",
              "      <td>NaN</td>\n",
              "      <td>NaN</td>\n",
              "      <td>13,278.1</td>\n",
              "      <td>NaN</td>\n",
              "      <td>NaN</td>\n",
              "      <td>-39.1</td>\n",
              "      <td>61.1</td>\n",
              "      <td>NaN</td>\n",
              "    </tr>\n",
              "    <tr>\n",
              "      <th>std</th>\n",
              "      <td>NaN</td>\n",
              "      <td>16,860.7</td>\n",
              "      <td>NaN</td>\n",
              "      <td>NaN</td>\n",
              "      <td>574,988.9</td>\n",
              "      <td>NaN</td>\n",
              "      <td>NaN</td>\n",
              "      <td>46.4</td>\n",
              "      <td>80.6</td>\n",
              "      <td>NaN</td>\n",
              "    </tr>\n",
              "    <tr>\n",
              "      <th>min</th>\n",
              "      <td>NaN</td>\n",
              "      <td>1.0</td>\n",
              "      <td>NaN</td>\n",
              "      <td>NaN</td>\n",
              "      <td>0.0</td>\n",
              "      <td>NaN</td>\n",
              "      <td>NaN</td>\n",
              "      <td>-87.4</td>\n",
              "      <td>-165.4</td>\n",
              "      <td>NaN</td>\n",
              "    </tr>\n",
              "    <tr>\n",
              "      <th>25%</th>\n",
              "      <td>NaN</td>\n",
              "      <td>12,688.8</td>\n",
              "      <td>NaN</td>\n",
              "      <td>NaN</td>\n",
              "      <td>7.2</td>\n",
              "      <td>NaN</td>\n",
              "      <td>NaN</td>\n",
              "      <td>-76.7</td>\n",
              "      <td>0.0</td>\n",
              "      <td>NaN</td>\n",
              "    </tr>\n",
              "    <tr>\n",
              "      <th>50%</th>\n",
              "      <td>NaN</td>\n",
              "      <td>24,261.5</td>\n",
              "      <td>NaN</td>\n",
              "      <td>NaN</td>\n",
              "      <td>32.6</td>\n",
              "      <td>NaN</td>\n",
              "      <td>NaN</td>\n",
              "      <td>-71.5</td>\n",
              "      <td>35.7</td>\n",
              "      <td>NaN</td>\n",
              "    </tr>\n",
              "    <tr>\n",
              "      <th>75%</th>\n",
              "      <td>NaN</td>\n",
              "      <td>40,656.8</td>\n",
              "      <td>NaN</td>\n",
              "      <td>NaN</td>\n",
              "      <td>202.6</td>\n",
              "      <td>NaN</td>\n",
              "      <td>NaN</td>\n",
              "      <td>0.0</td>\n",
              "      <td>157.2</td>\n",
              "      <td>NaN</td>\n",
              "    </tr>\n",
              "    <tr>\n",
              "      <th>max</th>\n",
              "      <td>NaN</td>\n",
              "      <td>57,458.0</td>\n",
              "      <td>NaN</td>\n",
              "      <td>NaN</td>\n",
              "      <td>60,000,000.0</td>\n",
              "      <td>NaN</td>\n",
              "      <td>NaN</td>\n",
              "      <td>81.2</td>\n",
              "      <td>354.5</td>\n",
              "      <td>NaN</td>\n",
              "    </tr>\n",
              "  </tbody>\n",
              "</table>\n",
              "</div>"
            ],
            "text/plain": [
              "                       name       id nametype  ...   reclat  reclong GeoLocation\n",
              "count                 45716 45,716.0    45716  ... 38,401.0 38,401.0       38401\n",
              "unique                45716      nan        2  ...      nan      nan       17100\n",
              "top     Miller Range 090422      nan    Valid  ...      nan      nan  (0.0, 0.0)\n",
              "freq                      1      nan    45641  ...      nan      nan        6214\n",
              "mean                    NaN 26,889.7      NaN  ...    -39.1     61.1         NaN\n",
              "std                     NaN 16,860.7      NaN  ...     46.4     80.6         NaN\n",
              "min                     NaN      1.0      NaN  ...    -87.4   -165.4         NaN\n",
              "25%                     NaN 12,688.8      NaN  ...    -76.7      0.0         NaN\n",
              "50%                     NaN 24,261.5      NaN  ...    -71.5     35.7         NaN\n",
              "75%                     NaN 40,656.8      NaN  ...      0.0    157.2         NaN\n",
              "max                     NaN 57,458.0      NaN  ...     81.2    354.5         NaN\n",
              "\n",
              "[11 rows x 10 columns]"
            ]
          },
          "metadata": {
            "tags": []
          },
          "execution_count": 39
        }
      ]
    },
    {
      "cell_type": "code",
      "metadata": {
        "colab": {
          "base_uri": "https://localhost:8080/"
        },
        "id": "sM64pBwx__Tj",
        "outputId": "05c799b4-ec9f-4758-b6dd-9e9f01363793"
      },
      "source": [
        "df_meteorite.info()"
      ],
      "execution_count": 40,
      "outputs": [
        {
          "output_type": "stream",
          "text": [
            "<class 'pandas.core.frame.DataFrame'>\n",
            "RangeIndex: 45716 entries, 0 to 45715\n",
            "Data columns (total 10 columns):\n",
            " #   Column       Non-Null Count  Dtype  \n",
            "---  ------       --------------  -----  \n",
            " 0   name         45716 non-null  object \n",
            " 1   id           45716 non-null  int64  \n",
            " 2   nametype     45716 non-null  object \n",
            " 3   recclass     45716 non-null  object \n",
            " 4   mass (g)     45585 non-null  float64\n",
            " 5   fall         45716 non-null  object \n",
            " 6   year         45425 non-null  object \n",
            " 7   reclat       38401 non-null  float64\n",
            " 8   reclong      38401 non-null  float64\n",
            " 9   GeoLocation  38401 non-null  object \n",
            "dtypes: float64(3), int64(1), object(6)\n",
            "memory usage: 3.5+ MB\n"
          ],
          "name": "stdout"
        }
      ]
    },
    {
      "cell_type": "code",
      "metadata": {
        "colab": {
          "base_uri": "https://localhost:8080/"
        },
        "id": "z86PET6uBjs9",
        "outputId": "47d8117a-df43-4959-f4cc-e1f26f1f3382"
      },
      "source": [
        "df_meteorite.dtypes"
      ],
      "execution_count": 41,
      "outputs": [
        {
          "output_type": "execute_result",
          "data": {
            "text/plain": [
              "name            object\n",
              "id               int64\n",
              "nametype        object\n",
              "recclass        object\n",
              "mass (g)       float64\n",
              "fall            object\n",
              "year            object\n",
              "reclat         float64\n",
              "reclong        float64\n",
              "GeoLocation     object\n",
              "dtype: object"
            ]
          },
          "metadata": {
            "tags": []
          },
          "execution_count": 41
        }
      ]
    },
    {
      "cell_type": "code",
      "metadata": {
        "id": "y2fYtuJGCD--"
      },
      "source": [
        "df_meteorite[['fall', 'nametype']]= df_meteorite[['fall', 'nametype']].astype('category')"
      ],
      "execution_count": 42,
      "outputs": []
    },
    {
      "cell_type": "code",
      "metadata": {
        "colab": {
          "base_uri": "https://localhost:8080/"
        },
        "id": "oerQiGnPCjrb",
        "outputId": "2b36e7b8-51ba-45ca-8de3-f842b70265c9"
      },
      "source": [
        "df_meteorite.dtypes"
      ],
      "execution_count": 43,
      "outputs": [
        {
          "output_type": "execute_result",
          "data": {
            "text/plain": [
              "name             object\n",
              "id                int64\n",
              "nametype       category\n",
              "recclass         object\n",
              "mass (g)        float64\n",
              "fall           category\n",
              "year             object\n",
              "reclat          float64\n",
              "reclong         float64\n",
              "GeoLocation      object\n",
              "dtype: object"
            ]
          },
          "metadata": {
            "tags": []
          },
          "execution_count": 43
        }
      ]
    },
    {
      "cell_type": "code",
      "metadata": {
        "colab": {
          "base_uri": "https://localhost:8080/"
        },
        "id": "prqFSifxCrlw",
        "outputId": "52b702aa-675c-4e78-ceb9-e203cc4a73fe"
      },
      "source": [
        "df_meteorite['fall'].unique()"
      ],
      "execution_count": 44,
      "outputs": [
        {
          "output_type": "execute_result",
          "data": {
            "text/plain": [
              "['Fell', 'Found']\n",
              "Categories (2, object): ['Fell', 'Found']"
            ]
          },
          "metadata": {
            "tags": []
          },
          "execution_count": 44
        }
      ]
    },
    {
      "cell_type": "code",
      "metadata": {
        "colab": {
          "base_uri": "https://localhost:8080/"
        },
        "id": "6eMTqfqdC9FG",
        "outputId": "d2ef07ff-b90e-490c-c5a5-6cf407aa0388"
      },
      "source": [
        "df_meteorite['fall'].value_counts() # Frequency "
      ],
      "execution_count": 45,
      "outputs": [
        {
          "output_type": "execute_result",
          "data": {
            "text/plain": [
              "Found    44609\n",
              "Fell      1107\n",
              "Name: fall, dtype: int64"
            ]
          },
          "metadata": {
            "tags": []
          },
          "execution_count": 45
        }
      ]
    },
    {
      "cell_type": "code",
      "metadata": {
        "colab": {
          "base_uri": "https://localhost:8080/",
          "height": 424
        },
        "id": "igRUCxtJDMUG",
        "outputId": "cb257163-0495-47bf-a505-f2ec52593a78"
      },
      "source": [
        "pd.get_dummies(df_meteorite['fall']) # create vars dummy very good for analytics, fall 1 or 0 and found 1 or 0"
      ],
      "execution_count": 46,
      "outputs": [
        {
          "output_type": "execute_result",
          "data": {
            "text/html": [
              "<div>\n",
              "<style scoped>\n",
              "    .dataframe tbody tr th:only-of-type {\n",
              "        vertical-align: middle;\n",
              "    }\n",
              "\n",
              "    .dataframe tbody tr th {\n",
              "        vertical-align: top;\n",
              "    }\n",
              "\n",
              "    .dataframe thead th {\n",
              "        text-align: right;\n",
              "    }\n",
              "</style>\n",
              "<table border=\"1\" class=\"dataframe\">\n",
              "  <thead>\n",
              "    <tr style=\"text-align: right;\">\n",
              "      <th></th>\n",
              "      <th>Fell</th>\n",
              "      <th>Found</th>\n",
              "    </tr>\n",
              "  </thead>\n",
              "  <tbody>\n",
              "    <tr>\n",
              "      <th>0</th>\n",
              "      <td>1</td>\n",
              "      <td>0</td>\n",
              "    </tr>\n",
              "    <tr>\n",
              "      <th>1</th>\n",
              "      <td>1</td>\n",
              "      <td>0</td>\n",
              "    </tr>\n",
              "    <tr>\n",
              "      <th>2</th>\n",
              "      <td>1</td>\n",
              "      <td>0</td>\n",
              "    </tr>\n",
              "    <tr>\n",
              "      <th>3</th>\n",
              "      <td>1</td>\n",
              "      <td>0</td>\n",
              "    </tr>\n",
              "    <tr>\n",
              "      <th>4</th>\n",
              "      <td>1</td>\n",
              "      <td>0</td>\n",
              "    </tr>\n",
              "    <tr>\n",
              "      <th>...</th>\n",
              "      <td>...</td>\n",
              "      <td>...</td>\n",
              "    </tr>\n",
              "    <tr>\n",
              "      <th>45711</th>\n",
              "      <td>0</td>\n",
              "      <td>1</td>\n",
              "    </tr>\n",
              "    <tr>\n",
              "      <th>45712</th>\n",
              "      <td>0</td>\n",
              "      <td>1</td>\n",
              "    </tr>\n",
              "    <tr>\n",
              "      <th>45713</th>\n",
              "      <td>0</td>\n",
              "      <td>1</td>\n",
              "    </tr>\n",
              "    <tr>\n",
              "      <th>45714</th>\n",
              "      <td>0</td>\n",
              "      <td>1</td>\n",
              "    </tr>\n",
              "    <tr>\n",
              "      <th>45715</th>\n",
              "      <td>0</td>\n",
              "      <td>1</td>\n",
              "    </tr>\n",
              "  </tbody>\n",
              "</table>\n",
              "<p>45716 rows × 2 columns</p>\n",
              "</div>"
            ],
            "text/plain": [
              "       Fell  Found\n",
              "0         1      0\n",
              "1         1      0\n",
              "2         1      0\n",
              "3         1      0\n",
              "4         1      0\n",
              "...     ...    ...\n",
              "45711     0      1\n",
              "45712     0      1\n",
              "45713     0      1\n",
              "45714     0      1\n",
              "45715     0      1\n",
              "\n",
              "[45716 rows x 2 columns]"
            ]
          },
          "metadata": {
            "tags": []
          },
          "execution_count": 46
        }
      ]
    },
    {
      "cell_type": "code",
      "metadata": {
        "id": "Z2ishdg7EK_M"
      },
      "source": [
        "df_meteorite[['fell', 'found']] = pd.get_dummies(df_meteorite['fall'])"
      ],
      "execution_count": 47,
      "outputs": []
    },
    {
      "cell_type": "code",
      "metadata": {
        "colab": {
          "base_uri": "https://localhost:8080/",
          "height": 537
        },
        "id": "eM-id4cuEQKz",
        "outputId": "81e7097a-8442-46ee-faaa-1297f98ae888"
      },
      "source": [
        "df_meteorite.tail(10)"
      ],
      "execution_count": 51,
      "outputs": [
        {
          "output_type": "execute_result",
          "data": {
            "text/html": [
              "<div>\n",
              "<style scoped>\n",
              "    .dataframe tbody tr th:only-of-type {\n",
              "        vertical-align: middle;\n",
              "    }\n",
              "\n",
              "    .dataframe tbody tr th {\n",
              "        vertical-align: top;\n",
              "    }\n",
              "\n",
              "    .dataframe thead th {\n",
              "        text-align: right;\n",
              "    }\n",
              "</style>\n",
              "<table border=\"1\" class=\"dataframe\">\n",
              "  <thead>\n",
              "    <tr style=\"text-align: right;\">\n",
              "      <th></th>\n",
              "      <th>name</th>\n",
              "      <th>id</th>\n",
              "      <th>nametype</th>\n",
              "      <th>recclass</th>\n",
              "      <th>mass (g)</th>\n",
              "      <th>fall</th>\n",
              "      <th>year</th>\n",
              "      <th>reclat</th>\n",
              "      <th>reclong</th>\n",
              "      <th>GeoLocation</th>\n",
              "      <th>fell</th>\n",
              "      <th>found</th>\n",
              "    </tr>\n",
              "  </thead>\n",
              "  <tbody>\n",
              "    <tr>\n",
              "      <th>45706</th>\n",
              "      <td>Zerkaly</td>\n",
              "      <td>31354</td>\n",
              "      <td>Valid</td>\n",
              "      <td>H5</td>\n",
              "      <td>16,000.0</td>\n",
              "      <td>Found</td>\n",
              "      <td>01/01/1956 12:00:00 AM</td>\n",
              "      <td>52.1</td>\n",
              "      <td>82.0</td>\n",
              "      <td>(52.13333, 81.96667)</td>\n",
              "      <td>0</td>\n",
              "      <td>1</td>\n",
              "    </tr>\n",
              "    <tr>\n",
              "      <th>45707</th>\n",
              "      <td>Zhaoping</td>\n",
              "      <td>54609</td>\n",
              "      <td>Valid</td>\n",
              "      <td>Iron, IAB complex</td>\n",
              "      <td>2,000,000.0</td>\n",
              "      <td>Found</td>\n",
              "      <td>01/01/1983 12:00:00 AM</td>\n",
              "      <td>24.2</td>\n",
              "      <td>111.2</td>\n",
              "      <td>(24.23333, 111.18333)</td>\n",
              "      <td>0</td>\n",
              "      <td>1</td>\n",
              "    </tr>\n",
              "    <tr>\n",
              "      <th>45708</th>\n",
              "      <td>Zhigansk</td>\n",
              "      <td>30405</td>\n",
              "      <td>Valid</td>\n",
              "      <td>Iron, IIIAB</td>\n",
              "      <td>900,000.0</td>\n",
              "      <td>Found</td>\n",
              "      <td>01/01/1966 12:00:00 AM</td>\n",
              "      <td>68.0</td>\n",
              "      <td>128.3</td>\n",
              "      <td>(68.0, 128.3)</td>\n",
              "      <td>0</td>\n",
              "      <td>1</td>\n",
              "    </tr>\n",
              "    <tr>\n",
              "      <th>45709</th>\n",
              "      <td>Zhongxiang</td>\n",
              "      <td>30406</td>\n",
              "      <td>Valid</td>\n",
              "      <td>Iron</td>\n",
              "      <td>100,000.0</td>\n",
              "      <td>Found</td>\n",
              "      <td>01/01/1981 12:00:00 AM</td>\n",
              "      <td>31.2</td>\n",
              "      <td>112.5</td>\n",
              "      <td>(31.2, 112.5)</td>\n",
              "      <td>0</td>\n",
              "      <td>1</td>\n",
              "    </tr>\n",
              "    <tr>\n",
              "      <th>45710</th>\n",
              "      <td>Zillah 001</td>\n",
              "      <td>31355</td>\n",
              "      <td>Valid</td>\n",
              "      <td>L6</td>\n",
              "      <td>1,475.0</td>\n",
              "      <td>Found</td>\n",
              "      <td>01/01/1990 12:00:00 AM</td>\n",
              "      <td>29.0</td>\n",
              "      <td>17.0</td>\n",
              "      <td>(29.037, 17.0185)</td>\n",
              "      <td>0</td>\n",
              "      <td>1</td>\n",
              "    </tr>\n",
              "    <tr>\n",
              "      <th>45711</th>\n",
              "      <td>Zillah 002</td>\n",
              "      <td>31356</td>\n",
              "      <td>Valid</td>\n",
              "      <td>Eucrite</td>\n",
              "      <td>172.0</td>\n",
              "      <td>Found</td>\n",
              "      <td>01/01/1990 12:00:00 AM</td>\n",
              "      <td>29.0</td>\n",
              "      <td>17.0</td>\n",
              "      <td>(29.037, 17.0185)</td>\n",
              "      <td>0</td>\n",
              "      <td>1</td>\n",
              "    </tr>\n",
              "    <tr>\n",
              "      <th>45712</th>\n",
              "      <td>Zinder</td>\n",
              "      <td>30409</td>\n",
              "      <td>Valid</td>\n",
              "      <td>Pallasite, ungrouped</td>\n",
              "      <td>46.0</td>\n",
              "      <td>Found</td>\n",
              "      <td>01/01/1999 12:00:00 AM</td>\n",
              "      <td>13.8</td>\n",
              "      <td>9.0</td>\n",
              "      <td>(13.78333, 8.96667)</td>\n",
              "      <td>0</td>\n",
              "      <td>1</td>\n",
              "    </tr>\n",
              "    <tr>\n",
              "      <th>45713</th>\n",
              "      <td>Zlin</td>\n",
              "      <td>30410</td>\n",
              "      <td>Valid</td>\n",
              "      <td>H4</td>\n",
              "      <td>3.3</td>\n",
              "      <td>Found</td>\n",
              "      <td>01/01/1939 12:00:00 AM</td>\n",
              "      <td>49.2</td>\n",
              "      <td>17.7</td>\n",
              "      <td>(49.25, 17.66667)</td>\n",
              "      <td>0</td>\n",
              "      <td>1</td>\n",
              "    </tr>\n",
              "    <tr>\n",
              "      <th>45714</th>\n",
              "      <td>Zubkovsky</td>\n",
              "      <td>31357</td>\n",
              "      <td>Valid</td>\n",
              "      <td>L6</td>\n",
              "      <td>2,167.0</td>\n",
              "      <td>Found</td>\n",
              "      <td>01/01/2003 12:00:00 AM</td>\n",
              "      <td>49.8</td>\n",
              "      <td>41.5</td>\n",
              "      <td>(49.78917, 41.5046)</td>\n",
              "      <td>0</td>\n",
              "      <td>1</td>\n",
              "    </tr>\n",
              "    <tr>\n",
              "      <th>45715</th>\n",
              "      <td>Zulu Queen</td>\n",
              "      <td>30414</td>\n",
              "      <td>Valid</td>\n",
              "      <td>L3.7</td>\n",
              "      <td>200.0</td>\n",
              "      <td>Found</td>\n",
              "      <td>01/01/1976 12:00:00 AM</td>\n",
              "      <td>34.0</td>\n",
              "      <td>-115.7</td>\n",
              "      <td>(33.98333, -115.68333)</td>\n",
              "      <td>0</td>\n",
              "      <td>1</td>\n",
              "    </tr>\n",
              "  </tbody>\n",
              "</table>\n",
              "</div>"
            ],
            "text/plain": [
              "             name     id nametype  ...             GeoLocation  fell found\n",
              "45706     Zerkaly  31354    Valid  ...    (52.13333, 81.96667)     0     1\n",
              "45707    Zhaoping  54609    Valid  ...   (24.23333, 111.18333)     0     1\n",
              "45708    Zhigansk  30405    Valid  ...           (68.0, 128.3)     0     1\n",
              "45709  Zhongxiang  30406    Valid  ...           (31.2, 112.5)     0     1\n",
              "45710  Zillah 001  31355    Valid  ...       (29.037, 17.0185)     0     1\n",
              "45711  Zillah 002  31356    Valid  ...       (29.037, 17.0185)     0     1\n",
              "45712      Zinder  30409    Valid  ...     (13.78333, 8.96667)     0     1\n",
              "45713        Zlin  30410    Valid  ...       (49.25, 17.66667)     0     1\n",
              "45714   Zubkovsky  31357    Valid  ...     (49.78917, 41.5046)     0     1\n",
              "45715  Zulu Queen  30414    Valid  ...  (33.98333, -115.68333)     0     1\n",
              "\n",
              "[10 rows x 12 columns]"
            ]
          },
          "metadata": {
            "tags": []
          },
          "execution_count": 51
        }
      ]
    },
    {
      "cell_type": "code",
      "metadata": {
        "colab": {
          "base_uri": "https://localhost:8080/"
        },
        "id": "dFuI5Un0FM2H",
        "outputId": "5fc0603f-f864-4f1d-c3ed-01430b60b404"
      },
      "source": [
        "# Create NaN if the number is not a type date\n",
        "date_format= pd.to_datetime(\n",
        "    df_meteorite['year'],\n",
        "    errors = 'coerce', \n",
        "    format ='%m/%d/%Y %H:%M:%S %p'\n",
        ")\n",
        "\n",
        "date_format"
      ],
      "execution_count": 55,
      "outputs": [
        {
          "output_type": "execute_result",
          "data": {
            "text/plain": [
              "0       1880-01-01 12:00:00\n",
              "1       1951-01-01 12:00:00\n",
              "2       1952-01-01 12:00:00\n",
              "3       1976-01-01 12:00:00\n",
              "4       1902-01-01 12:00:00\n",
              "                ...        \n",
              "45711   1990-01-01 12:00:00\n",
              "45712   1999-01-01 12:00:00\n",
              "45713   1939-01-01 12:00:00\n",
              "45714   2003-01-01 12:00:00\n",
              "45715   1976-01-01 12:00:00\n",
              "Name: year, Length: 45716, dtype: datetime64[ns]"
            ]
          },
          "metadata": {
            "tags": []
          },
          "execution_count": 55
        }
      ]
    },
    {
      "cell_type": "code",
      "metadata": {
        "id": "xIILjwbhGtt2"
      },
      "source": [
        "df_meteorite['year'] = date_format"
      ],
      "execution_count": 56,
      "outputs": []
    },
    {
      "cell_type": "code",
      "metadata": {
        "colab": {
          "base_uri": "https://localhost:8080/",
          "height": 363
        },
        "id": "t8ZKuSxvG9ZX",
        "outputId": "599ceeef-a239-4565-99ec-2ecb13b2bedb"
      },
      "source": [
        "df_meteorite.tail(10)"
      ],
      "execution_count": 57,
      "outputs": [
        {
          "output_type": "execute_result",
          "data": {
            "text/html": [
              "<div>\n",
              "<style scoped>\n",
              "    .dataframe tbody tr th:only-of-type {\n",
              "        vertical-align: middle;\n",
              "    }\n",
              "\n",
              "    .dataframe tbody tr th {\n",
              "        vertical-align: top;\n",
              "    }\n",
              "\n",
              "    .dataframe thead th {\n",
              "        text-align: right;\n",
              "    }\n",
              "</style>\n",
              "<table border=\"1\" class=\"dataframe\">\n",
              "  <thead>\n",
              "    <tr style=\"text-align: right;\">\n",
              "      <th></th>\n",
              "      <th>name</th>\n",
              "      <th>id</th>\n",
              "      <th>nametype</th>\n",
              "      <th>recclass</th>\n",
              "      <th>mass (g)</th>\n",
              "      <th>fall</th>\n",
              "      <th>year</th>\n",
              "      <th>reclat</th>\n",
              "      <th>reclong</th>\n",
              "      <th>GeoLocation</th>\n",
              "      <th>fell</th>\n",
              "      <th>found</th>\n",
              "    </tr>\n",
              "  </thead>\n",
              "  <tbody>\n",
              "    <tr>\n",
              "      <th>45706</th>\n",
              "      <td>Zerkaly</td>\n",
              "      <td>31354</td>\n",
              "      <td>Valid</td>\n",
              "      <td>H5</td>\n",
              "      <td>16,000.0</td>\n",
              "      <td>Found</td>\n",
              "      <td>1956-01-01 12:00:00</td>\n",
              "      <td>52.1</td>\n",
              "      <td>82.0</td>\n",
              "      <td>(52.13333, 81.96667)</td>\n",
              "      <td>0</td>\n",
              "      <td>1</td>\n",
              "    </tr>\n",
              "    <tr>\n",
              "      <th>45707</th>\n",
              "      <td>Zhaoping</td>\n",
              "      <td>54609</td>\n",
              "      <td>Valid</td>\n",
              "      <td>Iron, IAB complex</td>\n",
              "      <td>2,000,000.0</td>\n",
              "      <td>Found</td>\n",
              "      <td>1983-01-01 12:00:00</td>\n",
              "      <td>24.2</td>\n",
              "      <td>111.2</td>\n",
              "      <td>(24.23333, 111.18333)</td>\n",
              "      <td>0</td>\n",
              "      <td>1</td>\n",
              "    </tr>\n",
              "    <tr>\n",
              "      <th>45708</th>\n",
              "      <td>Zhigansk</td>\n",
              "      <td>30405</td>\n",
              "      <td>Valid</td>\n",
              "      <td>Iron, IIIAB</td>\n",
              "      <td>900,000.0</td>\n",
              "      <td>Found</td>\n",
              "      <td>1966-01-01 12:00:00</td>\n",
              "      <td>68.0</td>\n",
              "      <td>128.3</td>\n",
              "      <td>(68.0, 128.3)</td>\n",
              "      <td>0</td>\n",
              "      <td>1</td>\n",
              "    </tr>\n",
              "    <tr>\n",
              "      <th>45709</th>\n",
              "      <td>Zhongxiang</td>\n",
              "      <td>30406</td>\n",
              "      <td>Valid</td>\n",
              "      <td>Iron</td>\n",
              "      <td>100,000.0</td>\n",
              "      <td>Found</td>\n",
              "      <td>1981-01-01 12:00:00</td>\n",
              "      <td>31.2</td>\n",
              "      <td>112.5</td>\n",
              "      <td>(31.2, 112.5)</td>\n",
              "      <td>0</td>\n",
              "      <td>1</td>\n",
              "    </tr>\n",
              "    <tr>\n",
              "      <th>45710</th>\n",
              "      <td>Zillah 001</td>\n",
              "      <td>31355</td>\n",
              "      <td>Valid</td>\n",
              "      <td>L6</td>\n",
              "      <td>1,475.0</td>\n",
              "      <td>Found</td>\n",
              "      <td>1990-01-01 12:00:00</td>\n",
              "      <td>29.0</td>\n",
              "      <td>17.0</td>\n",
              "      <td>(29.037, 17.0185)</td>\n",
              "      <td>0</td>\n",
              "      <td>1</td>\n",
              "    </tr>\n",
              "    <tr>\n",
              "      <th>45711</th>\n",
              "      <td>Zillah 002</td>\n",
              "      <td>31356</td>\n",
              "      <td>Valid</td>\n",
              "      <td>Eucrite</td>\n",
              "      <td>172.0</td>\n",
              "      <td>Found</td>\n",
              "      <td>1990-01-01 12:00:00</td>\n",
              "      <td>29.0</td>\n",
              "      <td>17.0</td>\n",
              "      <td>(29.037, 17.0185)</td>\n",
              "      <td>0</td>\n",
              "      <td>1</td>\n",
              "    </tr>\n",
              "    <tr>\n",
              "      <th>45712</th>\n",
              "      <td>Zinder</td>\n",
              "      <td>30409</td>\n",
              "      <td>Valid</td>\n",
              "      <td>Pallasite, ungrouped</td>\n",
              "      <td>46.0</td>\n",
              "      <td>Found</td>\n",
              "      <td>1999-01-01 12:00:00</td>\n",
              "      <td>13.8</td>\n",
              "      <td>9.0</td>\n",
              "      <td>(13.78333, 8.96667)</td>\n",
              "      <td>0</td>\n",
              "      <td>1</td>\n",
              "    </tr>\n",
              "    <tr>\n",
              "      <th>45713</th>\n",
              "      <td>Zlin</td>\n",
              "      <td>30410</td>\n",
              "      <td>Valid</td>\n",
              "      <td>H4</td>\n",
              "      <td>3.3</td>\n",
              "      <td>Found</td>\n",
              "      <td>1939-01-01 12:00:00</td>\n",
              "      <td>49.2</td>\n",
              "      <td>17.7</td>\n",
              "      <td>(49.25, 17.66667)</td>\n",
              "      <td>0</td>\n",
              "      <td>1</td>\n",
              "    </tr>\n",
              "    <tr>\n",
              "      <th>45714</th>\n",
              "      <td>Zubkovsky</td>\n",
              "      <td>31357</td>\n",
              "      <td>Valid</td>\n",
              "      <td>L6</td>\n",
              "      <td>2,167.0</td>\n",
              "      <td>Found</td>\n",
              "      <td>2003-01-01 12:00:00</td>\n",
              "      <td>49.8</td>\n",
              "      <td>41.5</td>\n",
              "      <td>(49.78917, 41.5046)</td>\n",
              "      <td>0</td>\n",
              "      <td>1</td>\n",
              "    </tr>\n",
              "    <tr>\n",
              "      <th>45715</th>\n",
              "      <td>Zulu Queen</td>\n",
              "      <td>30414</td>\n",
              "      <td>Valid</td>\n",
              "      <td>L3.7</td>\n",
              "      <td>200.0</td>\n",
              "      <td>Found</td>\n",
              "      <td>1976-01-01 12:00:00</td>\n",
              "      <td>34.0</td>\n",
              "      <td>-115.7</td>\n",
              "      <td>(33.98333, -115.68333)</td>\n",
              "      <td>0</td>\n",
              "      <td>1</td>\n",
              "    </tr>\n",
              "  </tbody>\n",
              "</table>\n",
              "</div>"
            ],
            "text/plain": [
              "             name     id nametype  ...             GeoLocation  fell found\n",
              "45706     Zerkaly  31354    Valid  ...    (52.13333, 81.96667)     0     1\n",
              "45707    Zhaoping  54609    Valid  ...   (24.23333, 111.18333)     0     1\n",
              "45708    Zhigansk  30405    Valid  ...           (68.0, 128.3)     0     1\n",
              "45709  Zhongxiang  30406    Valid  ...           (31.2, 112.5)     0     1\n",
              "45710  Zillah 001  31355    Valid  ...       (29.037, 17.0185)     0     1\n",
              "45711  Zillah 002  31356    Valid  ...       (29.037, 17.0185)     0     1\n",
              "45712      Zinder  30409    Valid  ...     (13.78333, 8.96667)     0     1\n",
              "45713        Zlin  30410    Valid  ...       (49.25, 17.66667)     0     1\n",
              "45714   Zubkovsky  31357    Valid  ...     (49.78917, 41.5046)     0     1\n",
              "45715  Zulu Queen  30414    Valid  ...  (33.98333, -115.68333)     0     1\n",
              "\n",
              "[10 rows x 12 columns]"
            ]
          },
          "metadata": {
            "tags": []
          },
          "execution_count": 57
        }
      ]
    },
    {
      "cell_type": "code",
      "metadata": {
        "colab": {
          "base_uri": "https://localhost:8080/"
        },
        "id": "NPudNq8lHaUU",
        "outputId": "d2585293-ff79-4ee8-e5a8-16f6a3709be3"
      },
      "source": [
        "df_meteorite.dtypes # Will have a new type of data datetime64"
      ],
      "execution_count": 66,
      "outputs": [
        {
          "output_type": "execute_result",
          "data": {
            "text/plain": [
              "name                   object\n",
              "id                      int64\n",
              "nametype             category\n",
              "recclass               object\n",
              "mass_g                float64\n",
              "fall                 category\n",
              "year           datetime64[ns]\n",
              "reclong               float64\n",
              "GeoLocation            object\n",
              "fell                    uint8\n",
              "found                   uint8\n",
              "dtype: object"
            ]
          },
          "metadata": {
            "tags": []
          },
          "execution_count": 66
        }
      ]
    },
    {
      "cell_type": "code",
      "metadata": {
        "id": "8AeWfbvGHiFe"
      },
      "source": [
        "df_meteorite.rename(columns={'mass (g)':'mass_g'}, inplace=True) # change the name mass (g) by mass_g and save this with inplace in true"
      ],
      "execution_count": 59,
      "outputs": []
    },
    {
      "cell_type": "markdown",
      "metadata": {
        "id": "J70lB16uInCy"
      },
      "source": [
        "## All about delete columns, rows and register, extra correctly copy dataframare "
      ]
    },
    {
      "cell_type": "code",
      "metadata": {
        "id": "AIr9_JTWIMYX"
      },
      "source": [
        "df_meteorite.drop(['reclat'], axis=1, inplace=True) # delete columns two optios in axis o for index or rows and 1 for columns"
      ],
      "execution_count": 65,
      "outputs": []
    },
    {
      "cell_type": "code",
      "metadata": {
        "colab": {
          "base_uri": "https://localhost:8080/",
          "height": 363
        },
        "id": "Rfmb28jfNy3k",
        "outputId": "bce93d24-e5ad-4951-c6ae-9f2abde66e0f"
      },
      "source": [
        "df_meteorite.head(10)"
      ],
      "execution_count": 67,
      "outputs": [
        {
          "output_type": "execute_result",
          "data": {
            "text/html": [
              "<div>\n",
              "<style scoped>\n",
              "    .dataframe tbody tr th:only-of-type {\n",
              "        vertical-align: middle;\n",
              "    }\n",
              "\n",
              "    .dataframe tbody tr th {\n",
              "        vertical-align: top;\n",
              "    }\n",
              "\n",
              "    .dataframe thead th {\n",
              "        text-align: right;\n",
              "    }\n",
              "</style>\n",
              "<table border=\"1\" class=\"dataframe\">\n",
              "  <thead>\n",
              "    <tr style=\"text-align: right;\">\n",
              "      <th></th>\n",
              "      <th>name</th>\n",
              "      <th>id</th>\n",
              "      <th>nametype</th>\n",
              "      <th>recclass</th>\n",
              "      <th>mass_g</th>\n",
              "      <th>fall</th>\n",
              "      <th>year</th>\n",
              "      <th>reclong</th>\n",
              "      <th>GeoLocation</th>\n",
              "      <th>fell</th>\n",
              "      <th>found</th>\n",
              "    </tr>\n",
              "  </thead>\n",
              "  <tbody>\n",
              "    <tr>\n",
              "      <th>0</th>\n",
              "      <td>Aachen</td>\n",
              "      <td>1</td>\n",
              "      <td>Valid</td>\n",
              "      <td>L5</td>\n",
              "      <td>21.0</td>\n",
              "      <td>Fell</td>\n",
              "      <td>1880-01-01 12:00:00</td>\n",
              "      <td>6.1</td>\n",
              "      <td>(50.775, 6.08333)</td>\n",
              "      <td>1</td>\n",
              "      <td>0</td>\n",
              "    </tr>\n",
              "    <tr>\n",
              "      <th>1</th>\n",
              "      <td>Aarhus</td>\n",
              "      <td>2</td>\n",
              "      <td>Valid</td>\n",
              "      <td>H6</td>\n",
              "      <td>720.0</td>\n",
              "      <td>Fell</td>\n",
              "      <td>1951-01-01 12:00:00</td>\n",
              "      <td>10.2</td>\n",
              "      <td>(56.18333, 10.23333)</td>\n",
              "      <td>1</td>\n",
              "      <td>0</td>\n",
              "    </tr>\n",
              "    <tr>\n",
              "      <th>2</th>\n",
              "      <td>Abee</td>\n",
              "      <td>6</td>\n",
              "      <td>Valid</td>\n",
              "      <td>EH4</td>\n",
              "      <td>107,000.0</td>\n",
              "      <td>Fell</td>\n",
              "      <td>1952-01-01 12:00:00</td>\n",
              "      <td>-113.0</td>\n",
              "      <td>(54.21667, -113.0)</td>\n",
              "      <td>1</td>\n",
              "      <td>0</td>\n",
              "    </tr>\n",
              "    <tr>\n",
              "      <th>3</th>\n",
              "      <td>Acapulco</td>\n",
              "      <td>10</td>\n",
              "      <td>Valid</td>\n",
              "      <td>Acapulcoite</td>\n",
              "      <td>1,914.0</td>\n",
              "      <td>Fell</td>\n",
              "      <td>1976-01-01 12:00:00</td>\n",
              "      <td>-99.9</td>\n",
              "      <td>(16.88333, -99.9)</td>\n",
              "      <td>1</td>\n",
              "      <td>0</td>\n",
              "    </tr>\n",
              "    <tr>\n",
              "      <th>4</th>\n",
              "      <td>Achiras</td>\n",
              "      <td>370</td>\n",
              "      <td>Valid</td>\n",
              "      <td>L6</td>\n",
              "      <td>780.0</td>\n",
              "      <td>Fell</td>\n",
              "      <td>1902-01-01 12:00:00</td>\n",
              "      <td>-65.0</td>\n",
              "      <td>(-33.16667, -64.95)</td>\n",
              "      <td>1</td>\n",
              "      <td>0</td>\n",
              "    </tr>\n",
              "    <tr>\n",
              "      <th>5</th>\n",
              "      <td>Adhi Kot</td>\n",
              "      <td>379</td>\n",
              "      <td>Valid</td>\n",
              "      <td>EH4</td>\n",
              "      <td>4,239.0</td>\n",
              "      <td>Fell</td>\n",
              "      <td>1919-01-01 12:00:00</td>\n",
              "      <td>71.8</td>\n",
              "      <td>(32.1, 71.8)</td>\n",
              "      <td>1</td>\n",
              "      <td>0</td>\n",
              "    </tr>\n",
              "    <tr>\n",
              "      <th>6</th>\n",
              "      <td>Adzhi-Bogdo (stone)</td>\n",
              "      <td>390</td>\n",
              "      <td>Valid</td>\n",
              "      <td>LL3-6</td>\n",
              "      <td>910.0</td>\n",
              "      <td>Fell</td>\n",
              "      <td>1949-01-01 12:00:00</td>\n",
              "      <td>95.2</td>\n",
              "      <td>(44.83333, 95.16667)</td>\n",
              "      <td>1</td>\n",
              "      <td>0</td>\n",
              "    </tr>\n",
              "    <tr>\n",
              "      <th>7</th>\n",
              "      <td>Agen</td>\n",
              "      <td>392</td>\n",
              "      <td>Valid</td>\n",
              "      <td>H5</td>\n",
              "      <td>30,000.0</td>\n",
              "      <td>Fell</td>\n",
              "      <td>1814-01-01 12:00:00</td>\n",
              "      <td>0.6</td>\n",
              "      <td>(44.21667, 0.61667)</td>\n",
              "      <td>1</td>\n",
              "      <td>0</td>\n",
              "    </tr>\n",
              "    <tr>\n",
              "      <th>8</th>\n",
              "      <td>Aguada</td>\n",
              "      <td>398</td>\n",
              "      <td>Valid</td>\n",
              "      <td>L6</td>\n",
              "      <td>1,620.0</td>\n",
              "      <td>Fell</td>\n",
              "      <td>1930-01-01 12:00:00</td>\n",
              "      <td>-65.2</td>\n",
              "      <td>(-31.6, -65.23333)</td>\n",
              "      <td>1</td>\n",
              "      <td>0</td>\n",
              "    </tr>\n",
              "    <tr>\n",
              "      <th>9</th>\n",
              "      <td>Aguila Blanca</td>\n",
              "      <td>417</td>\n",
              "      <td>Valid</td>\n",
              "      <td>L</td>\n",
              "      <td>1,440.0</td>\n",
              "      <td>Fell</td>\n",
              "      <td>1920-01-01 12:00:00</td>\n",
              "      <td>-64.5</td>\n",
              "      <td>(-30.86667, -64.55)</td>\n",
              "      <td>1</td>\n",
              "      <td>0</td>\n",
              "    </tr>\n",
              "  </tbody>\n",
              "</table>\n",
              "</div>"
            ],
            "text/plain": [
              "                  name   id nametype  ...           GeoLocation  fell found\n",
              "0               Aachen    1    Valid  ...     (50.775, 6.08333)     1     0\n",
              "1               Aarhus    2    Valid  ...  (56.18333, 10.23333)     1     0\n",
              "2                 Abee    6    Valid  ...    (54.21667, -113.0)     1     0\n",
              "3             Acapulco   10    Valid  ...     (16.88333, -99.9)     1     0\n",
              "4              Achiras  370    Valid  ...   (-33.16667, -64.95)     1     0\n",
              "5             Adhi Kot  379    Valid  ...          (32.1, 71.8)     1     0\n",
              "6  Adzhi-Bogdo (stone)  390    Valid  ...  (44.83333, 95.16667)     1     0\n",
              "7                 Agen  392    Valid  ...   (44.21667, 0.61667)     1     0\n",
              "8               Aguada  398    Valid  ...    (-31.6, -65.23333)     1     0\n",
              "9        Aguila Blanca  417    Valid  ...   (-30.86667, -64.55)     1     0\n",
              "\n",
              "[10 rows x 11 columns]"
            ]
          },
          "metadata": {
            "tags": []
          },
          "execution_count": 67
        }
      ]
    },
    {
      "cell_type": "code",
      "metadata": {
        "id": "nMhnVxGONjZv"
      },
      "source": [
        "df_meteorite.drop([0,2,3,6], axis=0, inplace=True) # delete rows two optios in axis o for index or rows and 1 for columns"
      ],
      "execution_count": 68,
      "outputs": []
    },
    {
      "cell_type": "code",
      "metadata": {
        "colab": {
          "base_uri": "https://localhost:8080/",
          "height": 363
        },
        "id": "jifnmioIN3xM",
        "outputId": "9a9cb085-4ed1-4f5b-e6e5-8567456b60ea"
      },
      "source": [
        "df_meteorite.head(10)"
      ],
      "execution_count": 69,
      "outputs": [
        {
          "output_type": "execute_result",
          "data": {
            "text/html": [
              "<div>\n",
              "<style scoped>\n",
              "    .dataframe tbody tr th:only-of-type {\n",
              "        vertical-align: middle;\n",
              "    }\n",
              "\n",
              "    .dataframe tbody tr th {\n",
              "        vertical-align: top;\n",
              "    }\n",
              "\n",
              "    .dataframe thead th {\n",
              "        text-align: right;\n",
              "    }\n",
              "</style>\n",
              "<table border=\"1\" class=\"dataframe\">\n",
              "  <thead>\n",
              "    <tr style=\"text-align: right;\">\n",
              "      <th></th>\n",
              "      <th>name</th>\n",
              "      <th>id</th>\n",
              "      <th>nametype</th>\n",
              "      <th>recclass</th>\n",
              "      <th>mass_g</th>\n",
              "      <th>fall</th>\n",
              "      <th>year</th>\n",
              "      <th>reclong</th>\n",
              "      <th>GeoLocation</th>\n",
              "      <th>fell</th>\n",
              "      <th>found</th>\n",
              "    </tr>\n",
              "  </thead>\n",
              "  <tbody>\n",
              "    <tr>\n",
              "      <th>1</th>\n",
              "      <td>Aarhus</td>\n",
              "      <td>2</td>\n",
              "      <td>Valid</td>\n",
              "      <td>H6</td>\n",
              "      <td>720.0</td>\n",
              "      <td>Fell</td>\n",
              "      <td>1951-01-01 12:00:00</td>\n",
              "      <td>10.2</td>\n",
              "      <td>(56.18333, 10.23333)</td>\n",
              "      <td>1</td>\n",
              "      <td>0</td>\n",
              "    </tr>\n",
              "    <tr>\n",
              "      <th>4</th>\n",
              "      <td>Achiras</td>\n",
              "      <td>370</td>\n",
              "      <td>Valid</td>\n",
              "      <td>L6</td>\n",
              "      <td>780.0</td>\n",
              "      <td>Fell</td>\n",
              "      <td>1902-01-01 12:00:00</td>\n",
              "      <td>-65.0</td>\n",
              "      <td>(-33.16667, -64.95)</td>\n",
              "      <td>1</td>\n",
              "      <td>0</td>\n",
              "    </tr>\n",
              "    <tr>\n",
              "      <th>5</th>\n",
              "      <td>Adhi Kot</td>\n",
              "      <td>379</td>\n",
              "      <td>Valid</td>\n",
              "      <td>EH4</td>\n",
              "      <td>4,239.0</td>\n",
              "      <td>Fell</td>\n",
              "      <td>1919-01-01 12:00:00</td>\n",
              "      <td>71.8</td>\n",
              "      <td>(32.1, 71.8)</td>\n",
              "      <td>1</td>\n",
              "      <td>0</td>\n",
              "    </tr>\n",
              "    <tr>\n",
              "      <th>7</th>\n",
              "      <td>Agen</td>\n",
              "      <td>392</td>\n",
              "      <td>Valid</td>\n",
              "      <td>H5</td>\n",
              "      <td>30,000.0</td>\n",
              "      <td>Fell</td>\n",
              "      <td>1814-01-01 12:00:00</td>\n",
              "      <td>0.6</td>\n",
              "      <td>(44.21667, 0.61667)</td>\n",
              "      <td>1</td>\n",
              "      <td>0</td>\n",
              "    </tr>\n",
              "    <tr>\n",
              "      <th>8</th>\n",
              "      <td>Aguada</td>\n",
              "      <td>398</td>\n",
              "      <td>Valid</td>\n",
              "      <td>L6</td>\n",
              "      <td>1,620.0</td>\n",
              "      <td>Fell</td>\n",
              "      <td>1930-01-01 12:00:00</td>\n",
              "      <td>-65.2</td>\n",
              "      <td>(-31.6, -65.23333)</td>\n",
              "      <td>1</td>\n",
              "      <td>0</td>\n",
              "    </tr>\n",
              "    <tr>\n",
              "      <th>9</th>\n",
              "      <td>Aguila Blanca</td>\n",
              "      <td>417</td>\n",
              "      <td>Valid</td>\n",
              "      <td>L</td>\n",
              "      <td>1,440.0</td>\n",
              "      <td>Fell</td>\n",
              "      <td>1920-01-01 12:00:00</td>\n",
              "      <td>-64.5</td>\n",
              "      <td>(-30.86667, -64.55)</td>\n",
              "      <td>1</td>\n",
              "      <td>0</td>\n",
              "    </tr>\n",
              "    <tr>\n",
              "      <th>10</th>\n",
              "      <td>Aioun el Atrouss</td>\n",
              "      <td>423</td>\n",
              "      <td>Valid</td>\n",
              "      <td>Diogenite-pm</td>\n",
              "      <td>1,000.0</td>\n",
              "      <td>Fell</td>\n",
              "      <td>1974-01-01 12:00:00</td>\n",
              "      <td>-9.6</td>\n",
              "      <td>(16.39806, -9.57028)</td>\n",
              "      <td>1</td>\n",
              "      <td>0</td>\n",
              "    </tr>\n",
              "    <tr>\n",
              "      <th>11</th>\n",
              "      <td>Aïr</td>\n",
              "      <td>424</td>\n",
              "      <td>Valid</td>\n",
              "      <td>L6</td>\n",
              "      <td>24,000.0</td>\n",
              "      <td>Fell</td>\n",
              "      <td>1925-01-01 12:00:00</td>\n",
              "      <td>8.4</td>\n",
              "      <td>(19.08333, 8.38333)</td>\n",
              "      <td>1</td>\n",
              "      <td>0</td>\n",
              "    </tr>\n",
              "    <tr>\n",
              "      <th>12</th>\n",
              "      <td>Aire-sur-la-Lys</td>\n",
              "      <td>425</td>\n",
              "      <td>Valid</td>\n",
              "      <td>Unknown</td>\n",
              "      <td>nan</td>\n",
              "      <td>Fell</td>\n",
              "      <td>1769-01-01 12:00:00</td>\n",
              "      <td>2.3</td>\n",
              "      <td>(50.66667, 2.33333)</td>\n",
              "      <td>1</td>\n",
              "      <td>0</td>\n",
              "    </tr>\n",
              "    <tr>\n",
              "      <th>13</th>\n",
              "      <td>Akaba</td>\n",
              "      <td>426</td>\n",
              "      <td>Valid</td>\n",
              "      <td>L6</td>\n",
              "      <td>779.0</td>\n",
              "      <td>Fell</td>\n",
              "      <td>1949-01-01 12:00:00</td>\n",
              "      <td>35.0</td>\n",
              "      <td>(29.51667, 35.05)</td>\n",
              "      <td>1</td>\n",
              "      <td>0</td>\n",
              "    </tr>\n",
              "  </tbody>\n",
              "</table>\n",
              "</div>"
            ],
            "text/plain": [
              "                name   id nametype  ...           GeoLocation  fell found\n",
              "1             Aarhus    2    Valid  ...  (56.18333, 10.23333)     1     0\n",
              "4            Achiras  370    Valid  ...   (-33.16667, -64.95)     1     0\n",
              "5           Adhi Kot  379    Valid  ...          (32.1, 71.8)     1     0\n",
              "7               Agen  392    Valid  ...   (44.21667, 0.61667)     1     0\n",
              "8             Aguada  398    Valid  ...    (-31.6, -65.23333)     1     0\n",
              "9      Aguila Blanca  417    Valid  ...   (-30.86667, -64.55)     1     0\n",
              "10  Aioun el Atrouss  423    Valid  ...  (16.39806, -9.57028)     1     0\n",
              "11               Aïr  424    Valid  ...   (19.08333, 8.38333)     1     0\n",
              "12   Aire-sur-la-Lys  425    Valid  ...   (50.66667, 2.33333)     1     0\n",
              "13             Akaba  426    Valid  ...     (29.51667, 35.05)     1     0\n",
              "\n",
              "[10 rows x 11 columns]"
            ]
          },
          "metadata": {
            "tags": []
          },
          "execution_count": 69
        }
      ]
    },
    {
      "cell_type": "code",
      "metadata": {
        "id": "RJSWR0e0Pm2Q"
      },
      "source": [
        "df_meteorite.drop(index=[1,4,10,11], columns=['name', 'recclass'], inplace=True)"
      ],
      "execution_count": 71,
      "outputs": []
    },
    {
      "cell_type": "code",
      "metadata": {
        "colab": {
          "base_uri": "https://localhost:8080/",
          "height": 363
        },
        "id": "zmYfczT5P_tI",
        "outputId": "531a57db-4ab8-42c1-9d1b-b36638ffad07"
      },
      "source": [
        "df_meteorite.head(10)"
      ],
      "execution_count": 72,
      "outputs": [
        {
          "output_type": "execute_result",
          "data": {
            "text/html": [
              "<div>\n",
              "<style scoped>\n",
              "    .dataframe tbody tr th:only-of-type {\n",
              "        vertical-align: middle;\n",
              "    }\n",
              "\n",
              "    .dataframe tbody tr th {\n",
              "        vertical-align: top;\n",
              "    }\n",
              "\n",
              "    .dataframe thead th {\n",
              "        text-align: right;\n",
              "    }\n",
              "</style>\n",
              "<table border=\"1\" class=\"dataframe\">\n",
              "  <thead>\n",
              "    <tr style=\"text-align: right;\">\n",
              "      <th></th>\n",
              "      <th>id</th>\n",
              "      <th>nametype</th>\n",
              "      <th>mass_g</th>\n",
              "      <th>fall</th>\n",
              "      <th>year</th>\n",
              "      <th>reclong</th>\n",
              "      <th>GeoLocation</th>\n",
              "      <th>fell</th>\n",
              "      <th>found</th>\n",
              "    </tr>\n",
              "  </thead>\n",
              "  <tbody>\n",
              "    <tr>\n",
              "      <th>5</th>\n",
              "      <td>379</td>\n",
              "      <td>Valid</td>\n",
              "      <td>4,239.0</td>\n",
              "      <td>Fell</td>\n",
              "      <td>1919-01-01 12:00:00</td>\n",
              "      <td>71.8</td>\n",
              "      <td>(32.1, 71.8)</td>\n",
              "      <td>1</td>\n",
              "      <td>0</td>\n",
              "    </tr>\n",
              "    <tr>\n",
              "      <th>7</th>\n",
              "      <td>392</td>\n",
              "      <td>Valid</td>\n",
              "      <td>30,000.0</td>\n",
              "      <td>Fell</td>\n",
              "      <td>1814-01-01 12:00:00</td>\n",
              "      <td>0.6</td>\n",
              "      <td>(44.21667, 0.61667)</td>\n",
              "      <td>1</td>\n",
              "      <td>0</td>\n",
              "    </tr>\n",
              "    <tr>\n",
              "      <th>8</th>\n",
              "      <td>398</td>\n",
              "      <td>Valid</td>\n",
              "      <td>1,620.0</td>\n",
              "      <td>Fell</td>\n",
              "      <td>1930-01-01 12:00:00</td>\n",
              "      <td>-65.2</td>\n",
              "      <td>(-31.6, -65.23333)</td>\n",
              "      <td>1</td>\n",
              "      <td>0</td>\n",
              "    </tr>\n",
              "    <tr>\n",
              "      <th>9</th>\n",
              "      <td>417</td>\n",
              "      <td>Valid</td>\n",
              "      <td>1,440.0</td>\n",
              "      <td>Fell</td>\n",
              "      <td>1920-01-01 12:00:00</td>\n",
              "      <td>-64.5</td>\n",
              "      <td>(-30.86667, -64.55)</td>\n",
              "      <td>1</td>\n",
              "      <td>0</td>\n",
              "    </tr>\n",
              "    <tr>\n",
              "      <th>12</th>\n",
              "      <td>425</td>\n",
              "      <td>Valid</td>\n",
              "      <td>nan</td>\n",
              "      <td>Fell</td>\n",
              "      <td>1769-01-01 12:00:00</td>\n",
              "      <td>2.3</td>\n",
              "      <td>(50.66667, 2.33333)</td>\n",
              "      <td>1</td>\n",
              "      <td>0</td>\n",
              "    </tr>\n",
              "    <tr>\n",
              "      <th>13</th>\n",
              "      <td>426</td>\n",
              "      <td>Valid</td>\n",
              "      <td>779.0</td>\n",
              "      <td>Fell</td>\n",
              "      <td>1949-01-01 12:00:00</td>\n",
              "      <td>35.0</td>\n",
              "      <td>(29.51667, 35.05)</td>\n",
              "      <td>1</td>\n",
              "      <td>0</td>\n",
              "    </tr>\n",
              "    <tr>\n",
              "      <th>14</th>\n",
              "      <td>427</td>\n",
              "      <td>Valid</td>\n",
              "      <td>1,800.0</td>\n",
              "      <td>Fell</td>\n",
              "      <td>1838-01-01 12:00:00</td>\n",
              "      <td>78.0</td>\n",
              "      <td>(29.71667, 77.95)</td>\n",
              "      <td>1</td>\n",
              "      <td>0</td>\n",
              "    </tr>\n",
              "    <tr>\n",
              "      <th>15</th>\n",
              "      <td>432</td>\n",
              "      <td>Valid</td>\n",
              "      <td>3,000.0</td>\n",
              "      <td>Fell</td>\n",
              "      <td>1959-01-01 12:00:00</td>\n",
              "      <td>8.4</td>\n",
              "      <td>(8.91667, 8.43333)</td>\n",
              "      <td>1</td>\n",
              "      <td>0</td>\n",
              "    </tr>\n",
              "    <tr>\n",
              "      <th>16</th>\n",
              "      <td>433</td>\n",
              "      <td>Valid</td>\n",
              "      <td>50,000.0</td>\n",
              "      <td>Fell</td>\n",
              "      <td>1981-01-01 12:00:00</td>\n",
              "      <td>42.8</td>\n",
              "      <td>(39.91667, 42.81667)</td>\n",
              "      <td>1</td>\n",
              "      <td>0</td>\n",
              "    </tr>\n",
              "    <tr>\n",
              "      <th>17</th>\n",
              "      <td>446</td>\n",
              "      <td>Valid</td>\n",
              "      <td>160.0</td>\n",
              "      <td>Fell</td>\n",
              "      <td>1957-01-01 12:00:00</td>\n",
              "      <td>39.5</td>\n",
              "      <td>(24.41667, 39.51667)</td>\n",
              "      <td>1</td>\n",
              "      <td>0</td>\n",
              "    </tr>\n",
              "  </tbody>\n",
              "</table>\n",
              "</div>"
            ],
            "text/plain": [
              "     id nametype   mass_g  fall  ... reclong           GeoLocation fell  found\n",
              "5   379    Valid  4,239.0  Fell  ...    71.8          (32.1, 71.8)    1      0\n",
              "7   392    Valid 30,000.0  Fell  ...     0.6   (44.21667, 0.61667)    1      0\n",
              "8   398    Valid  1,620.0  Fell  ...   -65.2    (-31.6, -65.23333)    1      0\n",
              "9   417    Valid  1,440.0  Fell  ...   -64.5   (-30.86667, -64.55)    1      0\n",
              "12  425    Valid      nan  Fell  ...     2.3   (50.66667, 2.33333)    1      0\n",
              "13  426    Valid    779.0  Fell  ...    35.0     (29.51667, 35.05)    1      0\n",
              "14  427    Valid  1,800.0  Fell  ...    78.0     (29.71667, 77.95)    1      0\n",
              "15  432    Valid  3,000.0  Fell  ...     8.4    (8.91667, 8.43333)    1      0\n",
              "16  433    Valid 50,000.0  Fell  ...    42.8  (39.91667, 42.81667)    1      0\n",
              "17  446    Valid    160.0  Fell  ...    39.5  (24.41667, 39.51667)    1      0\n",
              "\n",
              "[10 rows x 9 columns]"
            ]
          },
          "metadata": {
            "tags": []
          },
          "execution_count": 72
        }
      ]
    },
    {
      "cell_type": "code",
      "metadata": {
        "id": "ukCWk5WYRUgk"
      },
      "source": [
        "df_new = df_meteorite.copy(deep=True) # Deep is important for value copy and deep in false is copy by reference"
      ],
      "execution_count": null,
      "outputs": []
    },
    {
      "cell_type": "code",
      "metadata": {
        "id": "ZzywxmI8RuiI"
      },
      "source": [
        "# It is recommended to always copy your origin data frame and work with this copy."
      ],
      "execution_count": null,
      "outputs": []
    },
    {
      "cell_type": "code",
      "metadata": {
        "id": "0_ITCRtcSJik"
      },
      "source": [
        ""
      ],
      "execution_count": null,
      "outputs": []
    }
  ]
}