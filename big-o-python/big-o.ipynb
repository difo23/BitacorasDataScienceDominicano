{
  "nbformat": 4,
  "nbformat_minor": 0,
  "metadata": {
    "colab": {
      "name": "BitacoraBigO",
      "provenance": [],
      "collapsed_sections": [
        "x6JX9RBhmN51",
        "EtrPPYkVbvO6",
        "WeR9uWQwa3iE",
        "w_GuiMosnmkR",
        "VPWf_Qb2egpz",
        "VZeCFeUxn8ff",
        "amM4eM6vrJoS",
        "SPlwpq3bsxNh",
        "3IxSaMf6hlBP",
        "IDz80KAsiXUb",
        "iTvDJ8l6md-T",
        "THFHheDiwFFa",
        "VsBSBG6wwwfb",
        "ya_ZNRd8xMm0",
        "9TGB8wGuVLX9",
        "SCO10jG3hy4P",
        "z9GHy_cP6JJ6"
      ],
      "include_colab_link": true
    },
    "kernelspec": {
      "name": "python3",
      "display_name": "Python 3"
    }
  },
  "cells": [
    {
      "cell_type": "markdown",
      "metadata": {
        "id": "view-in-github",
        "colab_type": "text"
      },
      "source": [
        "<a href=\"https://colab.research.google.com/github/difo23/BitacorasDataScienceDominicano/blob/master/BitacoraBigO.ipynb\" target=\"_parent\"><img src=\"https://colab.research.google.com/assets/colab-badge.svg\" alt=\"Open In Colab\"/></a>"
      ]
    },
    {
      "cell_type": "markdown",
      "metadata": {
        "id": "Nr_unz6cban4",
        "colab_type": "text"
      },
      "source": [
        "# Bitácora sobre Big O (Oh Asymptotic Analysis)\n",
        "Análisis de Algoritmos y su complejidad."
      ]
    },
    {
      "cell_type": "markdown",
      "metadata": {
        "id": "kexoNRCqjTUV",
        "colab_type": "text"
      },
      "source": [
        "### **¿Cuando un algoritmo o estructura de datos es mejor que otra?**"
      ]
    },
    {
      "cell_type": "markdown",
      "metadata": {
        "id": "x6JX9RBhmN51",
        "colab_type": "text"
      },
      "source": [
        "## Conceptos fundamentales de la computación:"
      ]
    },
    {
      "cell_type": "markdown",
      "metadata": {
        "id": "rBFwLm9EltzU",
        "colab_type": "text"
      },
      "source": [
        "### Estructura de Datos:\n",
        "\n",
        " Es una manera sistemática de organizar y acceder a los datos.\n",
        "\n",
        "\n",
        "\n"
      ]
    },
    {
      "cell_type": "markdown",
      "metadata": {
        "id": "SO3su5cFlv_1",
        "colab_type": "text"
      },
      "source": [
        "### Algoritmo:\n",
        " Es un procedimiento para realizar una tarea paso a paso en una cantidad de tiempo finita."
      ]
    },
    {
      "cell_type": "markdown",
      "metadata": {
        "id": "EtrPPYkVbvO6",
        "colab_type": "text"
      },
      "source": [
        "### Librerias Random y Time"
      ]
    },
    {
      "cell_type": "code",
      "metadata": {
        "id": "ND37oy98dXjD",
        "colab_type": "code",
        "colab": {}
      },
      "source": [
        "from random import randrange\n",
        "from time import time\n",
        "import numpy as np\n",
        "import pandas as pd\n",
        "import altair as alt\n",
        "import matplotlib.pyplot as plt"
      ],
      "execution_count": 0,
      "outputs": []
    },
    {
      "cell_type": "markdown",
      "metadata": {
        "id": "WeR9uWQwa3iE",
        "colab_type": "text"
      },
      "source": [
        "## Algoritmos de ordenamiento"
      ]
    },
    {
      "cell_type": "markdown",
      "metadata": {
        "id": "w_GuiMosnmkR",
        "colab_type": "text"
      },
      "source": [
        "### Análisis tiempo de ejecución vs Tamaño de la entrada:"
      ]
    },
    {
      "cell_type": "markdown",
      "metadata": {
        "id": "zQOX3EMphRgY",
        "colab_type": "text"
      },
      "source": [
        "* La primera herramienta de análisis para los algoritmos y estructuras de datos involucra el tiempo de ejecución para eso usaremos la librería 'Time'.\n",
        "\n",
        "* El algortimo con el promedio de tiempo de ejecución mas bajo sera el ganador.\n",
        "\n"
      ]
    },
    {
      "cell_type": "markdown",
      "metadata": {
        "id": "VPWf_Qb2egpz",
        "colab_type": "text"
      },
      "source": [
        "### Generando datos de prueba"
      ]
    },
    {
      "cell_type": "code",
      "metadata": {
        "id": "-y3H4tWNdaWK",
        "colab_type": "code",
        "colab": {}
      },
      "source": [
        "\"\"\"\n",
        "Genero n datos de prueba entre 0 n aleatoriamente.\n",
        "\"\"\"\n",
        "def generaDatosPrueba(n):\n",
        "  datosPrueba= []\n",
        "  for valor in range(n):\n",
        "    datosPrueba.append(randrange(n))\n",
        "  return datosPrueba\n",
        "  \n"
      ],
      "execution_count": 0,
      "outputs": []
    },
    {
      "cell_type": "code",
      "metadata": {
        "id": "Gzxvl4vU-mBo",
        "colab_type": "code",
        "colab": {}
      },
      "source": [
        "\n",
        "\n",
        "def testAlgoritmo(datos, algoritmo):\n",
        "  tiempo = []\n",
        "  for elemento in datos:\n",
        "    #print( \"Inicio Prueba de tiempo para \"+str(elemento)+\":\\n\")\n",
        "    start = time()\n",
        "    algoritmo(generaDatosPrueba(elemento))\n",
        "    end = time()\n",
        "    tiempoEjecucion = end-start\n",
        "    #print (tiempoEjecucion)\n",
        "    tiempo.append(tiempoEjecucion)\n",
        "  return tiempo\n",
        "  \n",
        "\n"
      ],
      "execution_count": 0,
      "outputs": []
    },
    {
      "cell_type": "markdown",
      "metadata": {
        "id": "alNcs_25d7GT",
        "colab_type": "text"
      },
      "source": [
        "### Algortimo BubbleSort\n",
        "Complejidad: $O(n²)$"
      ]
    },
    {
      "cell_type": "code",
      "metadata": {
        "id": "9fQsYfy2d5I9",
        "colab_type": "code",
        "colab": {}
      },
      "source": [
        "def bubbleSort(seq):\n",
        "    if seq.__len__() <= 1: \n",
        "        return seq\n",
        "    \n",
        "    seqSize = seq.__len__()\n",
        "    aux = 0\n",
        "    for i in range(1,seqSize):\n",
        "        for j in range(0, seqSize-i):\n",
        "            if seq[j] > seq[j+1]:\n",
        "                aux = seq[j]\n",
        "                seq[j] = seq[j+1]\n",
        "                seq[j+1] = aux     \n",
        "    return seq"
      ],
      "execution_count": 0,
      "outputs": []
    },
    {
      "cell_type": "code",
      "metadata": {
        "id": "moaZHWB3C2jY",
        "colab_type": "code",
        "colab": {}
      },
      "source": [
        "datosCantidad = range(10, 10000, 100)\n",
        "\n",
        "tiemposbubbleSort = testAlgoritmo(datosCantidad, bubbleSort)"
      ],
      "execution_count": 0,
      "outputs": []
    },
    {
      "cell_type": "code",
      "metadata": {
        "id": "IxQva-VvKe_j",
        "colab_type": "code",
        "colab": {
          "base_uri": "https://localhost:8080/",
          "height": 510
        },
        "outputId": "9c3c72cb-3154-4780-a7c5-8cb405f2660a"
      },
      "source": [
        "df_burbuja = pd.DataFrame({\n",
        "    'input_size': datosCantidad,\n",
        "    'tiempo_ejecucion':tiemposbubbleSort\n",
        "})\n",
        "\n",
        "df_burbuja.head(15)"
      ],
      "execution_count": 131,
      "outputs": [
        {
          "output_type": "execute_result",
          "data": {
            "text/html": [
              "<div>\n",
              "<style scoped>\n",
              "    .dataframe tbody tr th:only-of-type {\n",
              "        vertical-align: middle;\n",
              "    }\n",
              "\n",
              "    .dataframe tbody tr th {\n",
              "        vertical-align: top;\n",
              "    }\n",
              "\n",
              "    .dataframe thead th {\n",
              "        text-align: right;\n",
              "    }\n",
              "</style>\n",
              "<table border=\"1\" class=\"dataframe\">\n",
              "  <thead>\n",
              "    <tr style=\"text-align: right;\">\n",
              "      <th></th>\n",
              "      <th>input_size</th>\n",
              "      <th>tiempo_ejecucion</th>\n",
              "    </tr>\n",
              "  </thead>\n",
              "  <tbody>\n",
              "    <tr>\n",
              "      <th>0</th>\n",
              "      <td>10</td>\n",
              "      <td>0.000049</td>\n",
              "    </tr>\n",
              "    <tr>\n",
              "      <th>1</th>\n",
              "      <td>110</td>\n",
              "      <td>0.001335</td>\n",
              "    </tr>\n",
              "    <tr>\n",
              "      <th>2</th>\n",
              "      <td>210</td>\n",
              "      <td>0.002880</td>\n",
              "    </tr>\n",
              "    <tr>\n",
              "      <th>3</th>\n",
              "      <td>310</td>\n",
              "      <td>0.013609</td>\n",
              "    </tr>\n",
              "    <tr>\n",
              "      <th>4</th>\n",
              "      <td>410</td>\n",
              "      <td>0.015296</td>\n",
              "    </tr>\n",
              "    <tr>\n",
              "      <th>5</th>\n",
              "      <td>510</td>\n",
              "      <td>0.018193</td>\n",
              "    </tr>\n",
              "    <tr>\n",
              "      <th>6</th>\n",
              "      <td>610</td>\n",
              "      <td>0.026106</td>\n",
              "    </tr>\n",
              "    <tr>\n",
              "      <th>7</th>\n",
              "      <td>710</td>\n",
              "      <td>0.035702</td>\n",
              "    </tr>\n",
              "    <tr>\n",
              "      <th>8</th>\n",
              "      <td>810</td>\n",
              "      <td>0.045751</td>\n",
              "    </tr>\n",
              "    <tr>\n",
              "      <th>9</th>\n",
              "      <td>910</td>\n",
              "      <td>0.059973</td>\n",
              "    </tr>\n",
              "    <tr>\n",
              "      <th>10</th>\n",
              "      <td>1010</td>\n",
              "      <td>0.073327</td>\n",
              "    </tr>\n",
              "    <tr>\n",
              "      <th>11</th>\n",
              "      <td>1110</td>\n",
              "      <td>0.089277</td>\n",
              "    </tr>\n",
              "    <tr>\n",
              "      <th>12</th>\n",
              "      <td>1210</td>\n",
              "      <td>0.106193</td>\n",
              "    </tr>\n",
              "    <tr>\n",
              "      <th>13</th>\n",
              "      <td>1310</td>\n",
              "      <td>0.127751</td>\n",
              "    </tr>\n",
              "    <tr>\n",
              "      <th>14</th>\n",
              "      <td>1410</td>\n",
              "      <td>0.145169</td>\n",
              "    </tr>\n",
              "  </tbody>\n",
              "</table>\n",
              "</div>"
            ],
            "text/plain": [
              "    input_size  tiempo_ejecucion\n",
              "0           10          0.000049\n",
              "1          110          0.001335\n",
              "2          210          0.002880\n",
              "3          310          0.013609\n",
              "4          410          0.015296\n",
              "5          510          0.018193\n",
              "6          610          0.026106\n",
              "7          710          0.035702\n",
              "8          810          0.045751\n",
              "9          910          0.059973\n",
              "10        1010          0.073327\n",
              "11        1110          0.089277\n",
              "12        1210          0.106193\n",
              "13        1310          0.127751\n",
              "14        1410          0.145169"
            ]
          },
          "metadata": {
            "tags": []
          },
          "execution_count": 131
        }
      ]
    },
    {
      "cell_type": "code",
      "metadata": {
        "id": "jS-Pspeyj5DE",
        "colab_type": "code",
        "colab": {
          "base_uri": "https://localhost:8080/",
          "height": 35
        },
        "outputId": "0bad6e41-4a17-40f6-e43d-f0344fd7e643"
      },
      "source": [
        "np.mean(tiemposbubbleSort) # promedio de tiempo bubbleSort"
      ],
      "execution_count": 134,
      "outputs": [
        {
          "output_type": "execute_result",
          "data": {
            "text/plain": [
              "2.5421057319641114"
            ]
          },
          "metadata": {
            "tags": []
          },
          "execution_count": 134
        }
      ]
    },
    {
      "cell_type": "code",
      "metadata": {
        "id": "BYQhupE0P6z_",
        "colab_type": "code",
        "colab": {
          "base_uri": "https://localhost:8080/",
          "height": 368
        },
        "outputId": "bc4cc78b-13aa-41d7-f3ac-f1f34a906613"
      },
      "source": [
        "import altair as alt\n",
        "\n",
        "interval = alt.selection_interval()\n",
        "\n",
        "points = alt.Chart(df_burbuja).mark_point().encode(\n",
        "  x='tiempo_ejecucion',\n",
        "  y='input_size',\n",
        "  color=alt.condition(interval, 'input_size', alt.value('lightgray'))\n",
        ").properties(\n",
        "  selection=interval\n",
        ")\n",
        "\n",
        "\n",
        "\n",
        "points "
      ],
      "execution_count": 65,
      "outputs": [
        {
          "output_type": "execute_result",
          "data": {
            "text/plain": [
              "alt.Chart(...)"
            ],
            "text/html": [
              "<!DOCTYPE html>\n",
              "<html>\n",
              "<head>\n",
              "  <style>\n",
              "    .vega-actions a {\n",
              "        margin-right: 12px;\n",
              "        color: #757575;\n",
              "        font-weight: normal;\n",
              "        font-size: 13px;\n",
              "    }\n",
              "    .error {\n",
              "        color: red;\n",
              "    }\n",
              "  </style>\n",
              "  <script type=\"text/javascript\" src=\"https://cdn.jsdelivr.net/npm//vega@5\"></script>\n",
              "  <script type=\"text/javascript\" src=\"https://cdn.jsdelivr.net/npm//vega-lite@3.4.0\"></script>\n",
              "  <script type=\"text/javascript\" src=\"https://cdn.jsdelivr.net/npm//vega-embed@4\"></script>\n",
              "</head>\n",
              "<body>\n",
              "  <div id=\"altair-viz\"></div>\n",
              "  <script>\n",
              "    (function(vegaEmbed) {\n",
              "      var spec = {\"config\": {\"view\": {\"width\": 400, \"height\": 300}, \"mark\": {\"tooltip\": null}}, \"data\": {\"name\": \"data-dd12b5ccbc75b296e46e608d5f3162aa\"}, \"mark\": \"point\", \"encoding\": {\"color\": {\"condition\": {\"type\": \"quantitative\", \"field\": \"input_size\", \"selection\": \"selector008\"}, \"value\": \"lightgray\"}, \"x\": {\"type\": \"quantitative\", \"field\": \"tiempo_ejecucion\"}, \"y\": {\"type\": \"quantitative\", \"field\": \"input_size\"}}, \"selection\": {\"selector008\": {\"type\": \"interval\"}}, \"$schema\": \"https://vega.github.io/schema/vega-lite/v3.4.0.json\", \"datasets\": {\"data-dd12b5ccbc75b296e46e608d5f3162aa\": [{\"input_size\": 10, \"tiempo_ejecucion\": 4.887580871582031e-05}, {\"input_size\": 110, \"tiempo_ejecucion\": 0.0013346672058105469}, {\"input_size\": 210, \"tiempo_ejecucion\": 0.002880096435546875}, {\"input_size\": 310, \"tiempo_ejecucion\": 0.013609170913696289}, {\"input_size\": 410, \"tiempo_ejecucion\": 0.01529550552368164}, {\"input_size\": 510, \"tiempo_ejecucion\": 0.018192529678344727}, {\"input_size\": 610, \"tiempo_ejecucion\": 0.02610635757446289}, {\"input_size\": 710, \"tiempo_ejecucion\": 0.035701751708984375}, {\"input_size\": 810, \"tiempo_ejecucion\": 0.045751333236694336}, {\"input_size\": 910, \"tiempo_ejecucion\": 0.05997276306152344}, {\"input_size\": 1010, \"tiempo_ejecucion\": 0.07332706451416016}, {\"input_size\": 1110, \"tiempo_ejecucion\": 0.08927679061889648}, {\"input_size\": 1210, \"tiempo_ejecucion\": 0.10619282722473145}, {\"input_size\": 1310, \"tiempo_ejecucion\": 0.12775063514709473}, {\"input_size\": 1410, \"tiempo_ejecucion\": 0.14516901969909668}, {\"input_size\": 1510, \"tiempo_ejecucion\": 0.16605567932128906}, {\"input_size\": 1610, \"tiempo_ejecucion\": 0.1885223388671875}, {\"input_size\": 1710, \"tiempo_ejecucion\": 0.21422243118286133}, {\"input_size\": 1810, \"tiempo_ejecucion\": 0.24153661727905273}, {\"input_size\": 1910, \"tiempo_ejecucion\": 0.2688560485839844}, {\"input_size\": 2010, \"tiempo_ejecucion\": 0.3013594150543213}, {\"input_size\": 2110, \"tiempo_ejecucion\": 0.3322429656982422}, {\"input_size\": 2210, \"tiempo_ejecucion\": 0.3636746406555176}, {\"input_size\": 2310, \"tiempo_ejecucion\": 0.39794063568115234}, {\"input_size\": 2410, \"tiempo_ejecucion\": 0.44815659523010254}, {\"input_size\": 2510, \"tiempo_ejecucion\": 0.47371673583984375}, {\"input_size\": 2610, \"tiempo_ejecucion\": 0.5119283199310303}, {\"input_size\": 2710, \"tiempo_ejecucion\": 0.5492980480194092}, {\"input_size\": 2810, \"tiempo_ejecucion\": 0.5909121036529541}, {\"input_size\": 2910, \"tiempo_ejecucion\": 0.6499834060668945}, {\"input_size\": 3010, \"tiempo_ejecucion\": 0.6776547431945801}, {\"input_size\": 3110, \"tiempo_ejecucion\": 0.7282567024230957}, {\"input_size\": 3210, \"tiempo_ejecucion\": 0.7911951541900635}, {\"input_size\": 3310, \"tiempo_ejecucion\": 0.8507468700408936}, {\"input_size\": 3410, \"tiempo_ejecucion\": 0.8742423057556152}, {\"input_size\": 3510, \"tiempo_ejecucion\": 0.9279963970184326}, {\"input_size\": 3610, \"tiempo_ejecucion\": 0.9857096672058105}, {\"input_size\": 3710, \"tiempo_ejecucion\": 1.0547163486480713}, {\"input_size\": 3810, \"tiempo_ejecucion\": 1.0942273139953613}, {\"input_size\": 3910, \"tiempo_ejecucion\": 1.1484131813049316}, {\"input_size\": 4010, \"tiempo_ejecucion\": 1.2188754081726074}, {\"input_size\": 4110, \"tiempo_ejecucion\": 1.2764379978179932}, {\"input_size\": 4210, \"tiempo_ejecucion\": 1.3605256080627441}, {\"input_size\": 4310, \"tiempo_ejecucion\": 1.421018362045288}, {\"input_size\": 4410, \"tiempo_ejecucion\": 1.5602872371673584}, {\"input_size\": 4510, \"tiempo_ejecucion\": 1.5463066101074219}, {\"input_size\": 4610, \"tiempo_ejecucion\": 1.6325452327728271}, {\"input_size\": 4710, \"tiempo_ejecucion\": 1.684795618057251}, {\"input_size\": 4810, \"tiempo_ejecucion\": 1.7580008506774902}, {\"input_size\": 4910, \"tiempo_ejecucion\": 1.8610436916351318}, {\"input_size\": 5010, \"tiempo_ejecucion\": 1.8956365585327148}, {\"input_size\": 5110, \"tiempo_ejecucion\": 1.995901346206665}, {\"input_size\": 5210, \"tiempo_ejecucion\": 2.0852131843566895}, {\"input_size\": 5310, \"tiempo_ejecucion\": 2.173271417617798}, {\"input_size\": 5410, \"tiempo_ejecucion\": 2.2619924545288086}, {\"input_size\": 5510, \"tiempo_ejecucion\": 2.3296847343444824}, {\"input_size\": 5610, \"tiempo_ejecucion\": 2.4091110229492188}, {\"input_size\": 5710, \"tiempo_ejecucion\": 2.4938912391662598}, {\"input_size\": 5810, \"tiempo_ejecucion\": 2.5792996883392334}, {\"input_size\": 5910, \"tiempo_ejecucion\": 2.683053493499756}, {\"input_size\": 6010, \"tiempo_ejecucion\": 2.777055501937866}, {\"input_size\": 6110, \"tiempo_ejecucion\": 2.86147403717041}, {\"input_size\": 6210, \"tiempo_ejecucion\": 2.9499094486236572}, {\"input_size\": 6310, \"tiempo_ejecucion\": 3.074007749557495}, {\"input_size\": 6410, \"tiempo_ejecucion\": 3.156820058822632}, {\"input_size\": 6510, \"tiempo_ejecucion\": 3.2559120655059814}, {\"input_size\": 6610, \"tiempo_ejecucion\": 3.3691980838775635}, {\"input_size\": 6710, \"tiempo_ejecucion\": 3.4550445079803467}, {\"input_size\": 6810, \"tiempo_ejecucion\": 3.6008501052856445}, {\"input_size\": 6910, \"tiempo_ejecucion\": 3.684882164001465}, {\"input_size\": 7010, \"tiempo_ejecucion\": 3.7779080867767334}, {\"input_size\": 7110, \"tiempo_ejecucion\": 3.8780312538146973}, {\"input_size\": 7210, \"tiempo_ejecucion\": 4.032257080078125}, {\"input_size\": 7310, \"tiempo_ejecucion\": 4.18048357963562}, {\"input_size\": 7410, \"tiempo_ejecucion\": 4.226715803146362}, {\"input_size\": 7510, \"tiempo_ejecucion\": 4.338531494140625}, {\"input_size\": 7610, \"tiempo_ejecucion\": 4.483634948730469}, {\"input_size\": 7710, \"tiempo_ejecucion\": 4.558326482772827}, {\"input_size\": 7810, \"tiempo_ejecucion\": 4.999605417251587}, {\"input_size\": 7910, \"tiempo_ejecucion\": 4.846671104431152}, {\"input_size\": 8010, \"tiempo_ejecucion\": 4.941304922103882}, {\"input_size\": 8110, \"tiempo_ejecucion\": 5.096978425979614}, {\"input_size\": 8210, \"tiempo_ejecucion\": 5.21053147315979}, {\"input_size\": 8310, \"tiempo_ejecucion\": 5.305502891540527}, {\"input_size\": 8410, \"tiempo_ejecucion\": 5.48216438293457}, {\"input_size\": 8510, \"tiempo_ejecucion\": 5.623679876327515}, {\"input_size\": 8610, \"tiempo_ejecucion\": 5.738797903060913}, {\"input_size\": 8710, \"tiempo_ejecucion\": 5.875694513320923}, {\"input_size\": 8810, \"tiempo_ejecucion\": 6.028702735900879}, {\"input_size\": 8910, \"tiempo_ejecucion\": 6.172284126281738}, {\"input_size\": 9010, \"tiempo_ejecucion\": 6.322831630706787}, {\"input_size\": 9110, \"tiempo_ejecucion\": 6.384389638900757}, {\"input_size\": 9210, \"tiempo_ejecucion\": 6.591379642486572}, {\"input_size\": 9310, \"tiempo_ejecucion\": 6.686280727386475}, {\"input_size\": 9410, \"tiempo_ejecucion\": 6.845507383346558}, {\"input_size\": 9510, \"tiempo_ejecucion\": 7.016716241836548}, {\"input_size\": 9610, \"tiempo_ejecucion\": 7.197566747665405}, {\"input_size\": 9710, \"tiempo_ejecucion\": 7.3182902336120605}, {\"input_size\": 9810, \"tiempo_ejecucion\": 7.428698778152466}, {\"input_size\": 9910, \"tiempo_ejecucion\": 7.616886138916016}]}};\n",
              "      var embedOpt = {\"mode\": \"vega-lite\"};\n",
              "\n",
              "      function showError(el, error){\n",
              "          el.innerHTML = ('<div class=\"error\" style=\"color:red;\">'\n",
              "                          + '<p>JavaScript Error: ' + error.message + '</p>'\n",
              "                          + \"<p>This usually means there's a typo in your chart specification. \"\n",
              "                          + \"See the javascript console for the full traceback.</p>\"\n",
              "                          + '</div>');\n",
              "          throw error;\n",
              "      }\n",
              "      const el = document.getElementById('altair-viz');\n",
              "      vegaEmbed(\"#altair-viz\", spec, embedOpt)\n",
              "        .catch(error => showError(el, error));\n",
              "    })(vegaEmbed);\n",
              "\n",
              "  </script>\n",
              "</body>\n",
              "</html>"
            ]
          },
          "metadata": {
            "tags": []
          },
          "execution_count": 65
        }
      ]
    },
    {
      "cell_type": "markdown",
      "metadata": {
        "id": "lrdaStxWe73x",
        "colab_type": "text"
      },
      "source": [
        "### Algoritmo HeapSort\n",
        "Complejidad: $O(n *log( n))$"
      ]
    },
    {
      "cell_type": "code",
      "metadata": {
        "id": "JkByrfzpb9mB",
        "colab_type": "code",
        "colab": {}
      },
      "source": [
        "def heapSort(lst):\n",
        "\n",
        "    for start in range(int((len(lst)-2)/2), -1, -1):\n",
        "      siftdown(lst, start, len(lst)-1)\n",
        " \n",
        "    for end in range(len(lst)-1, 0, -1):\n",
        "      lst[end], lst[0] = lst[0], lst[end]\n",
        "      siftdown(lst, 0, end - 1)\n",
        "    return lst\n",
        " \n",
        "def siftdown(lst, start, end):\n",
        "  root = start\n",
        "  while True:\n",
        "        child = root * 2 + 1\n",
        "        if child > end: break\n",
        "        if child + 1 <= end and lst[child] < lst[child + 1]:\n",
        "            child += 1\n",
        "        if lst[root] < lst[child]:\n",
        "            lst[root], lst[child] = lst[child], lst[root]\n",
        "            root = child\n",
        "        else:\n",
        "             break\n"
      ],
      "execution_count": 0,
      "outputs": []
    },
    {
      "cell_type": "code",
      "metadata": {
        "id": "ygkpreoAdr93",
        "colab_type": "code",
        "colab": {}
      },
      "source": [
        "\n",
        "\n",
        "tiemposheapSort = testAlgoritmo(datosCantidad, heapSort)"
      ],
      "execution_count": 0,
      "outputs": []
    },
    {
      "cell_type": "code",
      "metadata": {
        "id": "jQgR5vUwLFKQ",
        "colab_type": "code",
        "colab": {
          "base_uri": "https://localhost:8080/",
          "height": 510
        },
        "outputId": "e0f98c07-1d5e-4726-e385-44fe4508e662"
      },
      "source": [
        "df_heapSort = pd.DataFrame({\n",
        "    'input_size': datosCantidad,\n",
        "    'tiempo_ejecucion':tiemposheapSort\n",
        "})\n",
        "\n",
        "df_heapSort.head(15)"
      ],
      "execution_count": 63,
      "outputs": [
        {
          "output_type": "execute_result",
          "data": {
            "text/html": [
              "<div>\n",
              "<style scoped>\n",
              "    .dataframe tbody tr th:only-of-type {\n",
              "        vertical-align: middle;\n",
              "    }\n",
              "\n",
              "    .dataframe tbody tr th {\n",
              "        vertical-align: top;\n",
              "    }\n",
              "\n",
              "    .dataframe thead th {\n",
              "        text-align: right;\n",
              "    }\n",
              "</style>\n",
              "<table border=\"1\" class=\"dataframe\">\n",
              "  <thead>\n",
              "    <tr style=\"text-align: right;\">\n",
              "      <th></th>\n",
              "      <th>input_size</th>\n",
              "      <th>tiempo_ejecucion</th>\n",
              "    </tr>\n",
              "  </thead>\n",
              "  <tbody>\n",
              "    <tr>\n",
              "      <th>0</th>\n",
              "      <td>10</td>\n",
              "      <td>0.000090</td>\n",
              "    </tr>\n",
              "    <tr>\n",
              "      <th>1</th>\n",
              "      <td>110</td>\n",
              "      <td>0.000569</td>\n",
              "    </tr>\n",
              "    <tr>\n",
              "      <th>2</th>\n",
              "      <td>210</td>\n",
              "      <td>0.001233</td>\n",
              "    </tr>\n",
              "    <tr>\n",
              "      <th>3</th>\n",
              "      <td>310</td>\n",
              "      <td>0.001959</td>\n",
              "    </tr>\n",
              "    <tr>\n",
              "      <th>4</th>\n",
              "      <td>410</td>\n",
              "      <td>0.001875</td>\n",
              "    </tr>\n",
              "    <tr>\n",
              "      <th>5</th>\n",
              "      <td>510</td>\n",
              "      <td>0.001764</td>\n",
              "    </tr>\n",
              "    <tr>\n",
              "      <th>6</th>\n",
              "      <td>610</td>\n",
              "      <td>0.002189</td>\n",
              "    </tr>\n",
              "    <tr>\n",
              "      <th>7</th>\n",
              "      <td>710</td>\n",
              "      <td>0.002748</td>\n",
              "    </tr>\n",
              "    <tr>\n",
              "      <th>8</th>\n",
              "      <td>810</td>\n",
              "      <td>0.003019</td>\n",
              "    </tr>\n",
              "    <tr>\n",
              "      <th>9</th>\n",
              "      <td>910</td>\n",
              "      <td>0.003352</td>\n",
              "    </tr>\n",
              "    <tr>\n",
              "      <th>10</th>\n",
              "      <td>1010</td>\n",
              "      <td>0.003806</td>\n",
              "    </tr>\n",
              "    <tr>\n",
              "      <th>11</th>\n",
              "      <td>1110</td>\n",
              "      <td>0.004613</td>\n",
              "    </tr>\n",
              "    <tr>\n",
              "      <th>12</th>\n",
              "      <td>1210</td>\n",
              "      <td>0.005301</td>\n",
              "    </tr>\n",
              "    <tr>\n",
              "      <th>13</th>\n",
              "      <td>1310</td>\n",
              "      <td>0.005424</td>\n",
              "    </tr>\n",
              "    <tr>\n",
              "      <th>14</th>\n",
              "      <td>1410</td>\n",
              "      <td>0.005776</td>\n",
              "    </tr>\n",
              "  </tbody>\n",
              "</table>\n",
              "</div>"
            ],
            "text/plain": [
              "    input_size  tiempo_ejecucion\n",
              "0           10          0.000090\n",
              "1          110          0.000569\n",
              "2          210          0.001233\n",
              "3          310          0.001959\n",
              "4          410          0.001875\n",
              "5          510          0.001764\n",
              "6          610          0.002189\n",
              "7          710          0.002748\n",
              "8          810          0.003019\n",
              "9          910          0.003352\n",
              "10        1010          0.003806\n",
              "11        1110          0.004613\n",
              "12        1210          0.005301\n",
              "13        1310          0.005424\n",
              "14        1410          0.005776"
            ]
          },
          "metadata": {
            "tags": []
          },
          "execution_count": 63
        }
      ]
    },
    {
      "cell_type": "code",
      "metadata": {
        "id": "hMveqDi2j9lP",
        "colab_type": "code",
        "colab": {
          "base_uri": "https://localhost:8080/",
          "height": 35
        },
        "outputId": "c0f0c2d4-d784-4453-d77d-74aa7b066716"
      },
      "source": [
        "np.mean(tiemposheapSort) #promedio de tiempo heapSort"
      ],
      "execution_count": 133,
      "outputs": [
        {
          "output_type": "execute_result",
          "data": {
            "text/plain": [
              "0.023761510848999023"
            ]
          },
          "metadata": {
            "tags": []
          },
          "execution_count": 133
        }
      ]
    },
    {
      "cell_type": "code",
      "metadata": {
        "id": "ViRuGsl4MRqK",
        "colab_type": "code",
        "colab": {
          "base_uri": "https://localhost:8080/",
          "height": 368
        },
        "outputId": "d78c525e-5fe4-47a0-a7e2-8fb9fe9b4c25"
      },
      "source": [
        "import altair as alt\n",
        "\n",
        "interval = alt.selection_interval()\n",
        "\n",
        "points = alt.Chart(df_heapSort).mark_point().encode(\n",
        "  x='tiempo_ejecucion',\n",
        "  y='input_size',\n",
        "  color=alt.condition(interval, 'input_size', alt.value('lightgray'))\n",
        ").properties(\n",
        "  selection=interval\n",
        ")\n",
        "\n",
        "\n",
        "\n",
        "points "
      ],
      "execution_count": 64,
      "outputs": [
        {
          "output_type": "execute_result",
          "data": {
            "text/plain": [
              "alt.Chart(...)"
            ],
            "text/html": [
              "<!DOCTYPE html>\n",
              "<html>\n",
              "<head>\n",
              "  <style>\n",
              "    .vega-actions a {\n",
              "        margin-right: 12px;\n",
              "        color: #757575;\n",
              "        font-weight: normal;\n",
              "        font-size: 13px;\n",
              "    }\n",
              "    .error {\n",
              "        color: red;\n",
              "    }\n",
              "  </style>\n",
              "  <script type=\"text/javascript\" src=\"https://cdn.jsdelivr.net/npm//vega@5\"></script>\n",
              "  <script type=\"text/javascript\" src=\"https://cdn.jsdelivr.net/npm//vega-lite@3.4.0\"></script>\n",
              "  <script type=\"text/javascript\" src=\"https://cdn.jsdelivr.net/npm//vega-embed@4\"></script>\n",
              "</head>\n",
              "<body>\n",
              "  <div id=\"altair-viz\"></div>\n",
              "  <script>\n",
              "    (function(vegaEmbed) {\n",
              "      var spec = {\"config\": {\"view\": {\"width\": 400, \"height\": 300}, \"mark\": {\"tooltip\": null}}, \"data\": {\"name\": \"data-3dc70e4a57b6249c4fd8d17dbd17ab05\"}, \"mark\": \"point\", \"encoding\": {\"color\": {\"condition\": {\"type\": \"quantitative\", \"field\": \"input_size\", \"selection\": \"selector007\"}, \"value\": \"lightgray\"}, \"x\": {\"type\": \"quantitative\", \"field\": \"tiempo_ejecucion\"}, \"y\": {\"type\": \"quantitative\", \"field\": \"input_size\"}}, \"selection\": {\"selector007\": {\"type\": \"interval\"}}, \"$schema\": \"https://vega.github.io/schema/vega-lite/v3.4.0.json\", \"datasets\": {\"data-3dc70e4a57b6249c4fd8d17dbd17ab05\": [{\"input_size\": 10, \"tiempo_ejecucion\": 9.012222290039062e-05}, {\"input_size\": 110, \"tiempo_ejecucion\": 0.0005693435668945312}, {\"input_size\": 210, \"tiempo_ejecucion\": 0.0012331008911132812}, {\"input_size\": 310, \"tiempo_ejecucion\": 0.0019588470458984375}, {\"input_size\": 410, \"tiempo_ejecucion\": 0.001874685287475586}, {\"input_size\": 510, \"tiempo_ejecucion\": 0.0017635822296142578}, {\"input_size\": 610, \"tiempo_ejecucion\": 0.0021889209747314453}, {\"input_size\": 710, \"tiempo_ejecucion\": 0.0027480125427246094}, {\"input_size\": 810, \"tiempo_ejecucion\": 0.0030188560485839844}, {\"input_size\": 910, \"tiempo_ejecucion\": 0.003351926803588867}, {\"input_size\": 1010, \"tiempo_ejecucion\": 0.0038056373596191406}, {\"input_size\": 1110, \"tiempo_ejecucion\": 0.004612922668457031}, {\"input_size\": 1210, \"tiempo_ejecucion\": 0.0053005218505859375}, {\"input_size\": 1310, \"tiempo_ejecucion\": 0.005423784255981445}, {\"input_size\": 1410, \"tiempo_ejecucion\": 0.005776405334472656}, {\"input_size\": 1510, \"tiempo_ejecucion\": 0.005990743637084961}, {\"input_size\": 1610, \"tiempo_ejecucion\": 0.0064013004302978516}, {\"input_size\": 1710, \"tiempo_ejecucion\": 0.006825923919677734}, {\"input_size\": 1810, \"tiempo_ejecucion\": 0.007220745086669922}, {\"input_size\": 1910, \"tiempo_ejecucion\": 0.011862516403198242}, {\"input_size\": 2010, \"tiempo_ejecucion\": 0.009431123733520508}, {\"input_size\": 2110, \"tiempo_ejecucion\": 0.009139776229858398}, {\"input_size\": 2210, \"tiempo_ejecucion\": 0.009653329849243164}, {\"input_size\": 2310, \"tiempo_ejecucion\": 0.010423421859741211}, {\"input_size\": 2410, \"tiempo_ejecucion\": 0.010695219039916992}, {\"input_size\": 2510, \"tiempo_ejecucion\": 0.011094808578491211}, {\"input_size\": 2610, \"tiempo_ejecucion\": 0.011479616165161133}, {\"input_size\": 2710, \"tiempo_ejecucion\": 0.011548280715942383}, {\"input_size\": 2810, \"tiempo_ejecucion\": 0.011995077133178711}, {\"input_size\": 2910, \"tiempo_ejecucion\": 0.015184879302978516}, {\"input_size\": 3010, \"tiempo_ejecucion\": 0.01322174072265625}, {\"input_size\": 3110, \"tiempo_ejecucion\": 0.01361083984375}, {\"input_size\": 3210, \"tiempo_ejecucion\": 0.014253377914428711}, {\"input_size\": 3310, \"tiempo_ejecucion\": 0.01446843147277832}, {\"input_size\": 3410, \"tiempo_ejecucion\": 0.014942407608032227}, {\"input_size\": 3510, \"tiempo_ejecucion\": 0.01534271240234375}, {\"input_size\": 3610, \"tiempo_ejecucion\": 0.015891075134277344}, {\"input_size\": 3710, \"tiempo_ejecucion\": 0.0162203311920166}, {\"input_size\": 3810, \"tiempo_ejecucion\": 0.01681995391845703}, {\"input_size\": 3910, \"tiempo_ejecucion\": 0.017196178436279297}, {\"input_size\": 4010, \"tiempo_ejecucion\": 0.01813530921936035}, {\"input_size\": 4110, \"tiempo_ejecucion\": 0.0188443660736084}, {\"input_size\": 4210, \"tiempo_ejecucion\": 0.024046897888183594}, {\"input_size\": 4310, \"tiempo_ejecucion\": 0.019672155380249023}, {\"input_size\": 4410, \"tiempo_ejecucion\": 0.02073812484741211}, {\"input_size\": 4510, \"tiempo_ejecucion\": 0.02063274383544922}, {\"input_size\": 4610, \"tiempo_ejecucion\": 0.02163076400756836}, {\"input_size\": 4710, \"tiempo_ejecucion\": 0.021760940551757812}, {\"input_size\": 4810, \"tiempo_ejecucion\": 0.022134780883789062}, {\"input_size\": 4910, \"tiempo_ejecucion\": 0.022545576095581055}, {\"input_size\": 5010, \"tiempo_ejecucion\": 0.023266315460205078}, {\"input_size\": 5110, \"tiempo_ejecucion\": 0.02373981475830078}, {\"input_size\": 5210, \"tiempo_ejecucion\": 0.024086713790893555}, {\"input_size\": 5310, \"tiempo_ejecucion\": 0.02471780776977539}, {\"input_size\": 5410, \"tiempo_ejecucion\": 0.025758981704711914}, {\"input_size\": 5510, \"tiempo_ejecucion\": 0.026041507720947266}, {\"input_size\": 5610, \"tiempo_ejecucion\": 0.026048898696899414}, {\"input_size\": 5710, \"tiempo_ejecucion\": 0.02669382095336914}, {\"input_size\": 5810, \"tiempo_ejecucion\": 0.027650833129882812}, {\"input_size\": 5910, \"tiempo_ejecucion\": 0.02777576446533203}, {\"input_size\": 6010, \"tiempo_ejecucion\": 0.028224706649780273}, {\"input_size\": 6110, \"tiempo_ejecucion\": 0.028699636459350586}, {\"input_size\": 6210, \"tiempo_ejecucion\": 0.02945852279663086}, {\"input_size\": 6310, \"tiempo_ejecucion\": 0.02973198890686035}, {\"input_size\": 6410, \"tiempo_ejecucion\": 0.030382871627807617}, {\"input_size\": 6510, \"tiempo_ejecucion\": 0.03086686134338379}, {\"input_size\": 6610, \"tiempo_ejecucion\": 0.031273603439331055}, {\"input_size\": 6710, \"tiempo_ejecucion\": 0.03189420700073242}, {\"input_size\": 6810, \"tiempo_ejecucion\": 0.03241896629333496}, {\"input_size\": 6910, \"tiempo_ejecucion\": 0.0330657958984375}, {\"input_size\": 7010, \"tiempo_ejecucion\": 0.033594369888305664}, {\"input_size\": 7110, \"tiempo_ejecucion\": 0.03392910957336426}, {\"input_size\": 7210, \"tiempo_ejecucion\": 0.03429746627807617}, {\"input_size\": 7310, \"tiempo_ejecucion\": 0.03482508659362793}, {\"input_size\": 7410, \"tiempo_ejecucion\": 0.03537607192993164}, {\"input_size\": 7510, \"tiempo_ejecucion\": 0.035880088806152344}, {\"input_size\": 7610, \"tiempo_ejecucion\": 0.03644585609436035}, {\"input_size\": 7710, \"tiempo_ejecucion\": 0.03712582588195801}, {\"input_size\": 7810, \"tiempo_ejecucion\": 0.03743290901184082}, {\"input_size\": 7910, \"tiempo_ejecucion\": 0.03799152374267578}, {\"input_size\": 8010, \"tiempo_ejecucion\": 0.03847837448120117}, {\"input_size\": 8110, \"tiempo_ejecucion\": 0.03944063186645508}, {\"input_size\": 8210, \"tiempo_ejecucion\": 0.040941476821899414}, {\"input_size\": 8310, \"tiempo_ejecucion\": 0.041271209716796875}, {\"input_size\": 8410, \"tiempo_ejecucion\": 0.04192924499511719}, {\"input_size\": 8510, \"tiempo_ejecucion\": 0.042548418045043945}, {\"input_size\": 8610, \"tiempo_ejecucion\": 0.04266762733459473}, {\"input_size\": 8710, \"tiempo_ejecucion\": 0.0438992977142334}, {\"input_size\": 8810, \"tiempo_ejecucion\": 0.043830156326293945}, {\"input_size\": 8910, \"tiempo_ejecucion\": 0.04465532302856445}, {\"input_size\": 9010, \"tiempo_ejecucion\": 0.04502153396606445}, {\"input_size\": 9110, \"tiempo_ejecucion\": 0.054297685623168945}, {\"input_size\": 9210, \"tiempo_ejecucion\": 0.046417951583862305}, {\"input_size\": 9310, \"tiempo_ejecucion\": 0.04664468765258789}, {\"input_size\": 9410, \"tiempo_ejecucion\": 0.047144174575805664}, {\"input_size\": 9510, \"tiempo_ejecucion\": 0.047647953033447266}, {\"input_size\": 9610, \"tiempo_ejecucion\": 0.048232316970825195}, {\"input_size\": 9710, \"tiempo_ejecucion\": 0.04867672920227051}, {\"input_size\": 9810, \"tiempo_ejecucion\": 0.04926919937133789}, {\"input_size\": 9910, \"tiempo_ejecucion\": 0.04966902732849121}]}};\n",
              "      var embedOpt = {\"mode\": \"vega-lite\"};\n",
              "\n",
              "      function showError(el, error){\n",
              "          el.innerHTML = ('<div class=\"error\" style=\"color:red;\">'\n",
              "                          + '<p>JavaScript Error: ' + error.message + '</p>'\n",
              "                          + \"<p>This usually means there's a typo in your chart specification. \"\n",
              "                          + \"See the javascript console for the full traceback.</p>\"\n",
              "                          + '</div>');\n",
              "          throw error;\n",
              "      }\n",
              "      const el = document.getElementById('altair-viz');\n",
              "      vegaEmbed(\"#altair-viz\", spec, embedOpt)\n",
              "        .catch(error => showError(el, error));\n",
              "    })(vegaEmbed);\n",
              "\n",
              "  </script>\n",
              "</body>\n",
              "</html>"
            ]
          },
          "metadata": {
            "tags": []
          },
          "execution_count": 64
        }
      ]
    },
    {
      "cell_type": "markdown",
      "metadata": {
        "id": "VZeCFeUxn8ff",
        "colab_type": "text"
      },
      "source": [
        "## Problemas con el metódo de análisis tiempo de ejcucion vs tamaño de la entrada:"
      ]
    },
    {
      "cell_type": "markdown",
      "metadata": {
        "id": "UOO9fAknoQ0M",
        "colab_type": "text"
      },
      "source": [
        "* Es difícil comparar el tiempo de ejecución de 2 algoritmos a menos que el experimento se lleve a cabo en el mismo ambiente de hardware y software.\n",
        "\n",
        "* El experimento sólo puede ser realizado con un número limitado de entradas para pruebas, de esta forma siempre se dejarán fuera datos de prueba que podrían ser importantes.\n",
        "\n",
        "\n",
        "* Un algoritmo debe implementarse completamente para ejecutarlo y estudiar su tiempo de ejecución experimentalmente.\n"
      ]
    },
    {
      "cell_type": "markdown",
      "metadata": {
        "id": "amM4eM6vrJoS",
        "colab_type": "text"
      },
      "source": [
        "## Análisis Eficiente de los algoritmos:\n"
      ]
    },
    {
      "cell_type": "markdown",
      "metadata": {
        "id": "iBi4jLoisENu",
        "colab_type": "text"
      },
      "source": [
        "* Debe ser posible permitirnos evaluar la eficiencia relativa de cualquiera de los dos algoritmos de manera que sea independiente del ambiente de hardware y software.\n",
        "\n",
        "* Se puede realizar el estudio del algoritmo con un nivel alto de descripción sin necesidad de implementación de dicho algoritmo.\n",
        "\n",
        "* Toma en cuenta todas las posibles entradas.\n"
      ]
    },
    {
      "cell_type": "markdown",
      "metadata": {
        "id": "SPlwpq3bsxNh",
        "colab_type": "text"
      },
      "source": [
        "### Para realizar este análisis es necesario:"
      ]
    },
    {
      "cell_type": "markdown",
      "metadata": {
        "id": "zsU9UHVzt0ju",
        "colab_type": "text"
      },
      "source": [
        "\n",
        "\n",
        "1.   Contar con las operaciones primitivas que realizan los algortimos.\n",
        "2.   Medir operaciones como una función del tamaño de entrada.\n",
        "\n",
        "    $S = F(N)$;\n",
        "    Donde S es pasos a realizar por el algoritmo,\n",
        "    N es tamaño de los datos.\n",
        "3. Enfocarse en el peor de los casos posibles de los valores de entrada.\n",
        "\n"
      ]
    },
    {
      "cell_type": "markdown",
      "metadata": {
        "id": "F_gCiwlohCnB",
        "colab_type": "text"
      },
      "source": [
        "### Los 7 tipos de funciones más utilizadas en el análisis de algortimos:"
      ]
    },
    {
      "cell_type": "markdown",
      "metadata": {
        "id": "3IxSaMf6hlBP",
        "colab_type": "text"
      },
      "source": [
        "#### La función constante:\n",
        "$f(n)=c$"
      ]
    },
    {
      "cell_type": "code",
      "metadata": {
        "id": "THPQ2nWYQ4cn",
        "colab_type": "code",
        "colab": {}
      },
      "source": [
        "n = range(10, 1000, 10)\n",
        "c = np.ones(len(n))*10\n",
        "df = pd.DataFrame({\n",
        "    'input': n,\n",
        "    'pasos':c\n",
        "})\n"
      ],
      "execution_count": 0,
      "outputs": []
    },
    {
      "cell_type": "code",
      "metadata": {
        "id": "9V53NqjrSb-y",
        "colab_type": "code",
        "colab": {
          "base_uri": "https://localhost:8080/",
          "height": 368
        },
        "outputId": "740d665c-c464-4f4d-e0ad-26cda9b145bb"
      },
      "source": [
        "\n",
        "\n",
        "interval = alt.selection_interval()\n",
        "\n",
        "points = alt.Chart(df).mark_point().encode(\n",
        "  x='pasos',\n",
        "  y='input',\n",
        "  color=alt.condition(interval, 'input', alt.value('lightgray'))\n",
        ").properties(\n",
        "  selection=interval\n",
        ")\n",
        "\n",
        "points "
      ],
      "execution_count": 98,
      "outputs": [
        {
          "output_type": "execute_result",
          "data": {
            "text/plain": [
              "alt.Chart(...)"
            ],
            "text/html": [
              "<!DOCTYPE html>\n",
              "<html>\n",
              "<head>\n",
              "  <style>\n",
              "    .vega-actions a {\n",
              "        margin-right: 12px;\n",
              "        color: #757575;\n",
              "        font-weight: normal;\n",
              "        font-size: 13px;\n",
              "    }\n",
              "    .error {\n",
              "        color: red;\n",
              "    }\n",
              "  </style>\n",
              "  <script type=\"text/javascript\" src=\"https://cdn.jsdelivr.net/npm//vega@5\"></script>\n",
              "  <script type=\"text/javascript\" src=\"https://cdn.jsdelivr.net/npm//vega-lite@3.4.0\"></script>\n",
              "  <script type=\"text/javascript\" src=\"https://cdn.jsdelivr.net/npm//vega-embed@4\"></script>\n",
              "</head>\n",
              "<body>\n",
              "  <div id=\"altair-viz\"></div>\n",
              "  <script>\n",
              "    (function(vegaEmbed) {\n",
              "      var spec = {\"config\": {\"view\": {\"width\": 400, \"height\": 300}, \"mark\": {\"tooltip\": null}}, \"data\": {\"name\": \"data-4690c337e580d20e77e0450fa6412d2b\"}, \"mark\": \"point\", \"encoding\": {\"color\": {\"condition\": {\"type\": \"quantitative\", \"field\": \"input\", \"selection\": \"selector024\"}, \"value\": \"lightgray\"}, \"x\": {\"type\": \"quantitative\", \"field\": \"pasos\"}, \"y\": {\"type\": \"quantitative\", \"field\": \"input\"}}, \"selection\": {\"selector024\": {\"type\": \"interval\"}}, \"$schema\": \"https://vega.github.io/schema/vega-lite/v3.4.0.json\", \"datasets\": {\"data-4690c337e580d20e77e0450fa6412d2b\": [{\"input\": 10, \"pasos\": 10.0}, {\"input\": 20, \"pasos\": 10.0}, {\"input\": 30, \"pasos\": 10.0}, {\"input\": 40, \"pasos\": 10.0}, {\"input\": 50, \"pasos\": 10.0}, {\"input\": 60, \"pasos\": 10.0}, {\"input\": 70, \"pasos\": 10.0}, {\"input\": 80, \"pasos\": 10.0}, {\"input\": 90, \"pasos\": 10.0}, {\"input\": 100, \"pasos\": 10.0}, {\"input\": 110, \"pasos\": 10.0}, {\"input\": 120, \"pasos\": 10.0}, {\"input\": 130, \"pasos\": 10.0}, {\"input\": 140, \"pasos\": 10.0}, {\"input\": 150, \"pasos\": 10.0}, {\"input\": 160, \"pasos\": 10.0}, {\"input\": 170, \"pasos\": 10.0}, {\"input\": 180, \"pasos\": 10.0}, {\"input\": 190, \"pasos\": 10.0}, {\"input\": 200, \"pasos\": 10.0}, {\"input\": 210, \"pasos\": 10.0}, {\"input\": 220, \"pasos\": 10.0}, {\"input\": 230, \"pasos\": 10.0}, {\"input\": 240, \"pasos\": 10.0}, {\"input\": 250, \"pasos\": 10.0}, {\"input\": 260, \"pasos\": 10.0}, {\"input\": 270, \"pasos\": 10.0}, {\"input\": 280, \"pasos\": 10.0}, {\"input\": 290, \"pasos\": 10.0}, {\"input\": 300, \"pasos\": 10.0}, {\"input\": 310, \"pasos\": 10.0}, {\"input\": 320, \"pasos\": 10.0}, {\"input\": 330, \"pasos\": 10.0}, {\"input\": 340, \"pasos\": 10.0}, {\"input\": 350, \"pasos\": 10.0}, {\"input\": 360, \"pasos\": 10.0}, {\"input\": 370, \"pasos\": 10.0}, {\"input\": 380, \"pasos\": 10.0}, {\"input\": 390, \"pasos\": 10.0}, {\"input\": 400, \"pasos\": 10.0}, {\"input\": 410, \"pasos\": 10.0}, {\"input\": 420, \"pasos\": 10.0}, {\"input\": 430, \"pasos\": 10.0}, {\"input\": 440, \"pasos\": 10.0}, {\"input\": 450, \"pasos\": 10.0}, {\"input\": 460, \"pasos\": 10.0}, {\"input\": 470, \"pasos\": 10.0}, {\"input\": 480, \"pasos\": 10.0}, {\"input\": 490, \"pasos\": 10.0}, {\"input\": 500, \"pasos\": 10.0}, {\"input\": 510, \"pasos\": 10.0}, {\"input\": 520, \"pasos\": 10.0}, {\"input\": 530, \"pasos\": 10.0}, {\"input\": 540, \"pasos\": 10.0}, {\"input\": 550, \"pasos\": 10.0}, {\"input\": 560, \"pasos\": 10.0}, {\"input\": 570, \"pasos\": 10.0}, {\"input\": 580, \"pasos\": 10.0}, {\"input\": 590, \"pasos\": 10.0}, {\"input\": 600, \"pasos\": 10.0}, {\"input\": 610, \"pasos\": 10.0}, {\"input\": 620, \"pasos\": 10.0}, {\"input\": 630, \"pasos\": 10.0}, {\"input\": 640, \"pasos\": 10.0}, {\"input\": 650, \"pasos\": 10.0}, {\"input\": 660, \"pasos\": 10.0}, {\"input\": 670, \"pasos\": 10.0}, {\"input\": 680, \"pasos\": 10.0}, {\"input\": 690, \"pasos\": 10.0}, {\"input\": 700, \"pasos\": 10.0}, {\"input\": 710, \"pasos\": 10.0}, {\"input\": 720, \"pasos\": 10.0}, {\"input\": 730, \"pasos\": 10.0}, {\"input\": 740, \"pasos\": 10.0}, {\"input\": 750, \"pasos\": 10.0}, {\"input\": 760, \"pasos\": 10.0}, {\"input\": 770, \"pasos\": 10.0}, {\"input\": 780, \"pasos\": 10.0}, {\"input\": 790, \"pasos\": 10.0}, {\"input\": 800, \"pasos\": 10.0}, {\"input\": 810, \"pasos\": 10.0}, {\"input\": 820, \"pasos\": 10.0}, {\"input\": 830, \"pasos\": 10.0}, {\"input\": 840, \"pasos\": 10.0}, {\"input\": 850, \"pasos\": 10.0}, {\"input\": 860, \"pasos\": 10.0}, {\"input\": 870, \"pasos\": 10.0}, {\"input\": 880, \"pasos\": 10.0}, {\"input\": 890, \"pasos\": 10.0}, {\"input\": 900, \"pasos\": 10.0}, {\"input\": 910, \"pasos\": 10.0}, {\"input\": 920, \"pasos\": 10.0}, {\"input\": 930, \"pasos\": 10.0}, {\"input\": 940, \"pasos\": 10.0}, {\"input\": 950, \"pasos\": 10.0}, {\"input\": 960, \"pasos\": 10.0}, {\"input\": 970, \"pasos\": 10.0}, {\"input\": 980, \"pasos\": 10.0}, {\"input\": 990, \"pasos\": 10.0}]}};\n",
              "      var embedOpt = {\"mode\": \"vega-lite\"};\n",
              "\n",
              "      function showError(el, error){\n",
              "          el.innerHTML = ('<div class=\"error\" style=\"color:red;\">'\n",
              "                          + '<p>JavaScript Error: ' + error.message + '</p>'\n",
              "                          + \"<p>This usually means there's a typo in your chart specification. \"\n",
              "                          + \"See the javascript console for the full traceback.</p>\"\n",
              "                          + '</div>');\n",
              "          throw error;\n",
              "      }\n",
              "      const el = document.getElementById('altair-viz');\n",
              "      vegaEmbed(\"#altair-viz\", spec, embedOpt)\n",
              "        .catch(error => showError(el, error));\n",
              "    })(vegaEmbed);\n",
              "\n",
              "  </script>\n",
              "</body>\n",
              "</html>"
            ]
          },
          "metadata": {
            "tags": []
          },
          "execution_count": 98
        }
      ]
    },
    {
      "cell_type": "markdown",
      "metadata": {
        "id": "IDz80KAsiXUb",
        "colab_type": "text"
      },
      "source": [
        "#### La función Logarítmica:\n",
        "$f(n)= log_b(n) , b > 1$ "
      ]
    },
    {
      "cell_type": "code",
      "metadata": {
        "id": "tSyiAR3oTmcE",
        "colab_type": "code",
        "colab": {}
      },
      "source": [
        "\n",
        "n = range(10, 1000, 10)\n",
        "c1 = np.log10(n)\n",
        "df = pd.DataFrame({\n",
        "    'input': n,\n",
        "    'pasos':c1\n",
        "})\n",
        "\n"
      ],
      "execution_count": 0,
      "outputs": []
    },
    {
      "cell_type": "code",
      "metadata": {
        "id": "12e_SO1vUBPp",
        "colab_type": "code",
        "colab": {
          "base_uri": "https://localhost:8080/",
          "height": 368
        },
        "outputId": "a2af8a9a-3642-4a7d-9771-e19cd86b524c"
      },
      "source": [
        "interval = alt.selection_interval()\n",
        "\n",
        "points = alt.Chart(df).mark_point().encode(\n",
        "  x='pasos',\n",
        "  y='input',\n",
        "  color=alt.condition(interval, 'input', alt.value('lightgray'))\n",
        ").properties(\n",
        "  selection=interval\n",
        ")\n",
        "\n",
        "points "
      ],
      "execution_count": 95,
      "outputs": [
        {
          "output_type": "execute_result",
          "data": {
            "text/plain": [
              "alt.Chart(...)"
            ],
            "text/html": [
              "<!DOCTYPE html>\n",
              "<html>\n",
              "<head>\n",
              "  <style>\n",
              "    .vega-actions a {\n",
              "        margin-right: 12px;\n",
              "        color: #757575;\n",
              "        font-weight: normal;\n",
              "        font-size: 13px;\n",
              "    }\n",
              "    .error {\n",
              "        color: red;\n",
              "    }\n",
              "  </style>\n",
              "  <script type=\"text/javascript\" src=\"https://cdn.jsdelivr.net/npm//vega@5\"></script>\n",
              "  <script type=\"text/javascript\" src=\"https://cdn.jsdelivr.net/npm//vega-lite@3.4.0\"></script>\n",
              "  <script type=\"text/javascript\" src=\"https://cdn.jsdelivr.net/npm//vega-embed@4\"></script>\n",
              "</head>\n",
              "<body>\n",
              "  <div id=\"altair-viz\"></div>\n",
              "  <script>\n",
              "    (function(vegaEmbed) {\n",
              "      var spec = {\"config\": {\"view\": {\"width\": 400, \"height\": 300}, \"mark\": {\"tooltip\": null}}, \"data\": {\"name\": \"data-8baf902619ceeff3dd69ee014180173f\"}, \"mark\": \"point\", \"encoding\": {\"color\": {\"condition\": {\"type\": \"quantitative\", \"field\": \"input\", \"selection\": \"selector023\"}, \"value\": \"lightgray\"}, \"x\": {\"type\": \"quantitative\", \"field\": \"pasos\"}, \"y\": {\"type\": \"quantitative\", \"field\": \"input\"}}, \"selection\": {\"selector023\": {\"type\": \"interval\"}}, \"$schema\": \"https://vega.github.io/schema/vega-lite/v3.4.0.json\", \"datasets\": {\"data-8baf902619ceeff3dd69ee014180173f\": [{\"input\": 10, \"pasos\": 1.0}, {\"input\": 20, \"pasos\": 1.3010299956639813}, {\"input\": 30, \"pasos\": 1.4771212547196624}, {\"input\": 40, \"pasos\": 1.6020599913279625}, {\"input\": 50, \"pasos\": 1.6989700043360187}, {\"input\": 60, \"pasos\": 1.7781512503836436}, {\"input\": 70, \"pasos\": 1.845098040014257}, {\"input\": 80, \"pasos\": 1.9030899869919435}, {\"input\": 90, \"pasos\": 1.9542425094393248}, {\"input\": 100, \"pasos\": 2.0}, {\"input\": 110, \"pasos\": 2.041392685158225}, {\"input\": 120, \"pasos\": 2.0791812460476247}, {\"input\": 130, \"pasos\": 2.113943352306837}, {\"input\": 140, \"pasos\": 2.146128035678238}, {\"input\": 150, \"pasos\": 2.1760912590556813}, {\"input\": 160, \"pasos\": 2.204119982655925}, {\"input\": 170, \"pasos\": 2.230448921378274}, {\"input\": 180, \"pasos\": 2.255272505103306}, {\"input\": 190, \"pasos\": 2.278753600952829}, {\"input\": 200, \"pasos\": 2.3010299956639813}, {\"input\": 210, \"pasos\": 2.322219294733919}, {\"input\": 220, \"pasos\": 2.342422680822206}, {\"input\": 230, \"pasos\": 2.361727836017593}, {\"input\": 240, \"pasos\": 2.380211241711606}, {\"input\": 250, \"pasos\": 2.3979400086720375}, {\"input\": 260, \"pasos\": 2.4149733479708178}, {\"input\": 270, \"pasos\": 2.4313637641589874}, {\"input\": 280, \"pasos\": 2.4471580313422194}, {\"input\": 290, \"pasos\": 2.462397997898956}, {\"input\": 300, \"pasos\": 2.4771212547196626}, {\"input\": 310, \"pasos\": 2.4913616938342726}, {\"input\": 320, \"pasos\": 2.505149978319906}, {\"input\": 330, \"pasos\": 2.5185139398778875}, {\"input\": 340, \"pasos\": 2.531478917042255}, {\"input\": 350, \"pasos\": 2.5440680443502757}, {\"input\": 360, \"pasos\": 2.5563025007672873}, {\"input\": 370, \"pasos\": 2.568201724066995}, {\"input\": 380, \"pasos\": 2.57978359661681}, {\"input\": 390, \"pasos\": 2.591064607026499}, {\"input\": 400, \"pasos\": 2.6020599913279625}, {\"input\": 410, \"pasos\": 2.6127838567197355}, {\"input\": 420, \"pasos\": 2.6232492903979003}, {\"input\": 430, \"pasos\": 2.6334684555795866}, {\"input\": 440, \"pasos\": 2.6434526764861874}, {\"input\": 450, \"pasos\": 2.6532125137753435}, {\"input\": 460, \"pasos\": 2.6627578316815743}, {\"input\": 470, \"pasos\": 2.6720978579357175}, {\"input\": 480, \"pasos\": 2.681241237375587}, {\"input\": 490, \"pasos\": 2.690196080028514}, {\"input\": 500, \"pasos\": 2.6989700043360187}, {\"input\": 510, \"pasos\": 2.7075701760979363}, {\"input\": 520, \"pasos\": 2.716003343634799}, {\"input\": 530, \"pasos\": 2.724275869600789}, {\"input\": 540, \"pasos\": 2.7323937598229686}, {\"input\": 550, \"pasos\": 2.7403626894942437}, {\"input\": 560, \"pasos\": 2.7481880270062002}, {\"input\": 570, \"pasos\": 2.7558748556724915}, {\"input\": 580, \"pasos\": 2.7634279935629373}, {\"input\": 590, \"pasos\": 2.7708520116421442}, {\"input\": 600, \"pasos\": 2.7781512503836434}, {\"input\": 610, \"pasos\": 2.785329835010767}, {\"input\": 620, \"pasos\": 2.792391689498254}, {\"input\": 630, \"pasos\": 2.7993405494535817}, {\"input\": 640, \"pasos\": 2.806179973983887}, {\"input\": 650, \"pasos\": 2.8129133566428557}, {\"input\": 660, \"pasos\": 2.8195439355418688}, {\"input\": 670, \"pasos\": 2.8260748027008264}, {\"input\": 680, \"pasos\": 2.832508912706236}, {\"input\": 690, \"pasos\": 2.838849090737255}, {\"input\": 700, \"pasos\": 2.845098040014257}, {\"input\": 710, \"pasos\": 2.8512583487190755}, {\"input\": 720, \"pasos\": 2.8573324964312685}, {\"input\": 730, \"pasos\": 2.863322860120456}, {\"input\": 740, \"pasos\": 2.8692317197309762}, {\"input\": 750, \"pasos\": 2.8750612633917}, {\"input\": 760, \"pasos\": 2.8808135922807914}, {\"input\": 770, \"pasos\": 2.886490725172482}, {\"input\": 780, \"pasos\": 2.8920946026904804}, {\"input\": 790, \"pasos\": 2.8976270912904414}, {\"input\": 800, \"pasos\": 2.9030899869919438}, {\"input\": 810, \"pasos\": 2.9084850188786495}, {\"input\": 820, \"pasos\": 2.9138138523837167}, {\"input\": 830, \"pasos\": 2.9190780923760737}, {\"input\": 840, \"pasos\": 2.9242792860618816}, {\"input\": 850, \"pasos\": 2.929418925714293}, {\"input\": 860, \"pasos\": 2.934498451243568}, {\"input\": 870, \"pasos\": 2.9395192526186187}, {\"input\": 880, \"pasos\": 2.9444826721501687}, {\"input\": 890, \"pasos\": 2.949390006644913}, {\"input\": 900, \"pasos\": 2.9542425094393248}, {\"input\": 910, \"pasos\": 2.9590413923210934}, {\"input\": 920, \"pasos\": 2.963787827345555}, {\"input\": 930, \"pasos\": 2.9684829485539352}, {\"input\": 940, \"pasos\": 2.9731278535996988}, {\"input\": 950, \"pasos\": 2.9777236052888476}, {\"input\": 960, \"pasos\": 2.9822712330395684}, {\"input\": 970, \"pasos\": 2.9867717342662448}, {\"input\": 980, \"pasos\": 2.991226075692495}, {\"input\": 990, \"pasos\": 2.9956351945975497}]}};\n",
              "      var embedOpt = {\"mode\": \"vega-lite\"};\n",
              "\n",
              "      function showError(el, error){\n",
              "          el.innerHTML = ('<div class=\"error\" style=\"color:red;\">'\n",
              "                          + '<p>JavaScript Error: ' + error.message + '</p>'\n",
              "                          + \"<p>This usually means there's a typo in your chart specification. \"\n",
              "                          + \"See the javascript console for the full traceback.</p>\"\n",
              "                          + '</div>');\n",
              "          throw error;\n",
              "      }\n",
              "      const el = document.getElementById('altair-viz');\n",
              "      vegaEmbed(\"#altair-viz\", spec, embedOpt)\n",
              "        .catch(error => showError(el, error));\n",
              "    })(vegaEmbed);\n",
              "\n",
              "  </script>\n",
              "</body>\n",
              "</html>"
            ]
          },
          "metadata": {
            "tags": []
          },
          "execution_count": 95
        }
      ]
    },
    {
      "cell_type": "markdown",
      "metadata": {
        "id": "iTvDJ8l6md-T",
        "colab_type": "text"
      },
      "source": [
        "#### La función Lineal:\n",
        "$f(n)= n$ "
      ]
    },
    {
      "cell_type": "code",
      "metadata": {
        "id": "R5_Yt-hndL6c",
        "colab_type": "code",
        "colab": {}
      },
      "source": [
        "n = range(10, 1000, 10)\n",
        "c2 = (n)\n",
        "df = pd.DataFrame({\n",
        "    'input': n,\n",
        "    'pasos':c2\n",
        "})"
      ],
      "execution_count": 0,
      "outputs": []
    },
    {
      "cell_type": "code",
      "metadata": {
        "id": "vTcmKkJydOrN",
        "colab_type": "code",
        "colab": {
          "base_uri": "https://localhost:8080/",
          "height": 368
        },
        "outputId": "b8d90a31-b6ed-4b40-8f2b-a513e7076b1a"
      },
      "source": [
        "interval = alt.selection_interval()\n",
        "\n",
        "points = alt.Chart(df).mark_point().encode(\n",
        "  x='pasos',\n",
        "  y='input',\n",
        "  color=alt.condition(interval, 'input', alt.value('lightgray'))\n",
        ").properties(\n",
        "  selection=interval\n",
        ")\n",
        "\n",
        "points "
      ],
      "execution_count": 102,
      "outputs": [
        {
          "output_type": "execute_result",
          "data": {
            "text/plain": [
              "alt.Chart(...)"
            ],
            "text/html": [
              "<!DOCTYPE html>\n",
              "<html>\n",
              "<head>\n",
              "  <style>\n",
              "    .vega-actions a {\n",
              "        margin-right: 12px;\n",
              "        color: #757575;\n",
              "        font-weight: normal;\n",
              "        font-size: 13px;\n",
              "    }\n",
              "    .error {\n",
              "        color: red;\n",
              "    }\n",
              "  </style>\n",
              "  <script type=\"text/javascript\" src=\"https://cdn.jsdelivr.net/npm//vega@5\"></script>\n",
              "  <script type=\"text/javascript\" src=\"https://cdn.jsdelivr.net/npm//vega-lite@3.4.0\"></script>\n",
              "  <script type=\"text/javascript\" src=\"https://cdn.jsdelivr.net/npm//vega-embed@4\"></script>\n",
              "</head>\n",
              "<body>\n",
              "  <div id=\"altair-viz\"></div>\n",
              "  <script>\n",
              "    (function(vegaEmbed) {\n",
              "      var spec = {\"config\": {\"view\": {\"width\": 400, \"height\": 300}, \"mark\": {\"tooltip\": null}}, \"data\": {\"name\": \"data-2b611afd0fb139087a0e59943b830553\"}, \"mark\": \"point\", \"encoding\": {\"color\": {\"condition\": {\"type\": \"quantitative\", \"field\": \"input\", \"selection\": \"selector026\"}, \"value\": \"lightgray\"}, \"x\": {\"type\": \"quantitative\", \"field\": \"pasos\"}, \"y\": {\"type\": \"quantitative\", \"field\": \"input\"}}, \"selection\": {\"selector026\": {\"type\": \"interval\"}}, \"$schema\": \"https://vega.github.io/schema/vega-lite/v3.4.0.json\", \"datasets\": {\"data-2b611afd0fb139087a0e59943b830553\": [{\"input\": 10, \"pasos\": 10}, {\"input\": 20, \"pasos\": 20}, {\"input\": 30, \"pasos\": 30}, {\"input\": 40, \"pasos\": 40}, {\"input\": 50, \"pasos\": 50}, {\"input\": 60, \"pasos\": 60}, {\"input\": 70, \"pasos\": 70}, {\"input\": 80, \"pasos\": 80}, {\"input\": 90, \"pasos\": 90}, {\"input\": 100, \"pasos\": 100}, {\"input\": 110, \"pasos\": 110}, {\"input\": 120, \"pasos\": 120}, {\"input\": 130, \"pasos\": 130}, {\"input\": 140, \"pasos\": 140}, {\"input\": 150, \"pasos\": 150}, {\"input\": 160, \"pasos\": 160}, {\"input\": 170, \"pasos\": 170}, {\"input\": 180, \"pasos\": 180}, {\"input\": 190, \"pasos\": 190}, {\"input\": 200, \"pasos\": 200}, {\"input\": 210, \"pasos\": 210}, {\"input\": 220, \"pasos\": 220}, {\"input\": 230, \"pasos\": 230}, {\"input\": 240, \"pasos\": 240}, {\"input\": 250, \"pasos\": 250}, {\"input\": 260, \"pasos\": 260}, {\"input\": 270, \"pasos\": 270}, {\"input\": 280, \"pasos\": 280}, {\"input\": 290, \"pasos\": 290}, {\"input\": 300, \"pasos\": 300}, {\"input\": 310, \"pasos\": 310}, {\"input\": 320, \"pasos\": 320}, {\"input\": 330, \"pasos\": 330}, {\"input\": 340, \"pasos\": 340}, {\"input\": 350, \"pasos\": 350}, {\"input\": 360, \"pasos\": 360}, {\"input\": 370, \"pasos\": 370}, {\"input\": 380, \"pasos\": 380}, {\"input\": 390, \"pasos\": 390}, {\"input\": 400, \"pasos\": 400}, {\"input\": 410, \"pasos\": 410}, {\"input\": 420, \"pasos\": 420}, {\"input\": 430, \"pasos\": 430}, {\"input\": 440, \"pasos\": 440}, {\"input\": 450, \"pasos\": 450}, {\"input\": 460, \"pasos\": 460}, {\"input\": 470, \"pasos\": 470}, {\"input\": 480, \"pasos\": 480}, {\"input\": 490, \"pasos\": 490}, {\"input\": 500, \"pasos\": 500}, {\"input\": 510, \"pasos\": 510}, {\"input\": 520, \"pasos\": 520}, {\"input\": 530, \"pasos\": 530}, {\"input\": 540, \"pasos\": 540}, {\"input\": 550, \"pasos\": 550}, {\"input\": 560, \"pasos\": 560}, {\"input\": 570, \"pasos\": 570}, {\"input\": 580, \"pasos\": 580}, {\"input\": 590, \"pasos\": 590}, {\"input\": 600, \"pasos\": 600}, {\"input\": 610, \"pasos\": 610}, {\"input\": 620, \"pasos\": 620}, {\"input\": 630, \"pasos\": 630}, {\"input\": 640, \"pasos\": 640}, {\"input\": 650, \"pasos\": 650}, {\"input\": 660, \"pasos\": 660}, {\"input\": 670, \"pasos\": 670}, {\"input\": 680, \"pasos\": 680}, {\"input\": 690, \"pasos\": 690}, {\"input\": 700, \"pasos\": 700}, {\"input\": 710, \"pasos\": 710}, {\"input\": 720, \"pasos\": 720}, {\"input\": 730, \"pasos\": 730}, {\"input\": 740, \"pasos\": 740}, {\"input\": 750, \"pasos\": 750}, {\"input\": 760, \"pasos\": 760}, {\"input\": 770, \"pasos\": 770}, {\"input\": 780, \"pasos\": 780}, {\"input\": 790, \"pasos\": 790}, {\"input\": 800, \"pasos\": 800}, {\"input\": 810, \"pasos\": 810}, {\"input\": 820, \"pasos\": 820}, {\"input\": 830, \"pasos\": 830}, {\"input\": 840, \"pasos\": 840}, {\"input\": 850, \"pasos\": 850}, {\"input\": 860, \"pasos\": 860}, {\"input\": 870, \"pasos\": 870}, {\"input\": 880, \"pasos\": 880}, {\"input\": 890, \"pasos\": 890}, {\"input\": 900, \"pasos\": 900}, {\"input\": 910, \"pasos\": 910}, {\"input\": 920, \"pasos\": 920}, {\"input\": 930, \"pasos\": 930}, {\"input\": 940, \"pasos\": 940}, {\"input\": 950, \"pasos\": 950}, {\"input\": 960, \"pasos\": 960}, {\"input\": 970, \"pasos\": 970}, {\"input\": 980, \"pasos\": 980}, {\"input\": 990, \"pasos\": 990}]}};\n",
              "      var embedOpt = {\"mode\": \"vega-lite\"};\n",
              "\n",
              "      function showError(el, error){\n",
              "          el.innerHTML = ('<div class=\"error\" style=\"color:red;\">'\n",
              "                          + '<p>JavaScript Error: ' + error.message + '</p>'\n",
              "                          + \"<p>This usually means there's a typo in your chart specification. \"\n",
              "                          + \"See the javascript console for the full traceback.</p>\"\n",
              "                          + '</div>');\n",
              "          throw error;\n",
              "      }\n",
              "      const el = document.getElementById('altair-viz');\n",
              "      vegaEmbed(\"#altair-viz\", spec, embedOpt)\n",
              "        .catch(error => showError(el, error));\n",
              "    })(vegaEmbed);\n",
              "\n",
              "  </script>\n",
              "</body>\n",
              "</html>"
            ]
          },
          "metadata": {
            "tags": []
          },
          "execution_count": 102
        }
      ]
    },
    {
      "cell_type": "markdown",
      "metadata": {
        "id": "THFHheDiwFFa",
        "colab_type": "text"
      },
      "source": [
        "#### La función N Log N:\n",
        "$f(n)= n* log (n)$ "
      ]
    },
    {
      "cell_type": "code",
      "metadata": {
        "id": "nRaHLbLQePh3",
        "colab_type": "code",
        "colab": {}
      },
      "source": [
        "n = range(10, 1000, 10)\n",
        "c3 = np.log10(n)*n\n",
        "df = pd.DataFrame({\n",
        "    'input': n,\n",
        "    'pasos':c3\n",
        "})"
      ],
      "execution_count": 0,
      "outputs": []
    },
    {
      "cell_type": "code",
      "metadata": {
        "id": "L3aQMcnMeXt7",
        "colab_type": "code",
        "colab": {
          "base_uri": "https://localhost:8080/",
          "height": 368
        },
        "outputId": "d6be588b-e352-48e8-ebee-316bac63adf0"
      },
      "source": [
        "interval = alt.selection_interval()\n",
        "\n",
        "points = alt.Chart(df).mark_point().encode(\n",
        "  x='pasos',\n",
        "  y='input',\n",
        "  color=alt.condition(interval, 'input', alt.value('lightgray'))\n",
        ").properties(\n",
        "  selection=interval\n",
        ")\n",
        "\n",
        "points "
      ],
      "execution_count": 105,
      "outputs": [
        {
          "output_type": "execute_result",
          "data": {
            "text/plain": [
              "alt.Chart(...)"
            ],
            "text/html": [
              "<!DOCTYPE html>\n",
              "<html>\n",
              "<head>\n",
              "  <style>\n",
              "    .vega-actions a {\n",
              "        margin-right: 12px;\n",
              "        color: #757575;\n",
              "        font-weight: normal;\n",
              "        font-size: 13px;\n",
              "    }\n",
              "    .error {\n",
              "        color: red;\n",
              "    }\n",
              "  </style>\n",
              "  <script type=\"text/javascript\" src=\"https://cdn.jsdelivr.net/npm//vega@5\"></script>\n",
              "  <script type=\"text/javascript\" src=\"https://cdn.jsdelivr.net/npm//vega-lite@3.4.0\"></script>\n",
              "  <script type=\"text/javascript\" src=\"https://cdn.jsdelivr.net/npm//vega-embed@4\"></script>\n",
              "</head>\n",
              "<body>\n",
              "  <div id=\"altair-viz\"></div>\n",
              "  <script>\n",
              "    (function(vegaEmbed) {\n",
              "      var spec = {\"config\": {\"view\": {\"width\": 400, \"height\": 300}, \"mark\": {\"tooltip\": null}}, \"data\": {\"name\": \"data-d7f62c5e95254a3e408e2dbf3167cd42\"}, \"mark\": \"point\", \"encoding\": {\"color\": {\"condition\": {\"type\": \"quantitative\", \"field\": \"input\", \"selection\": \"selector028\"}, \"value\": \"lightgray\"}, \"x\": {\"type\": \"quantitative\", \"field\": \"pasos\"}, \"y\": {\"type\": \"quantitative\", \"field\": \"input\"}}, \"selection\": {\"selector028\": {\"type\": \"interval\"}}, \"$schema\": \"https://vega.github.io/schema/vega-lite/v3.4.0.json\", \"datasets\": {\"data-d7f62c5e95254a3e408e2dbf3167cd42\": [{\"input\": 10, \"pasos\": 10.0}, {\"input\": 20, \"pasos\": 26.020599913279625}, {\"input\": 30, \"pasos\": 44.31363764158987}, {\"input\": 40, \"pasos\": 64.0823996531185}, {\"input\": 50, \"pasos\": 84.94850021680094}, {\"input\": 60, \"pasos\": 106.68907502301862}, {\"input\": 70, \"pasos\": 129.156862800998}, {\"input\": 80, \"pasos\": 152.24719895935547}, {\"input\": 90, \"pasos\": 175.88182584953924}, {\"input\": 100, \"pasos\": 200.0}, {\"input\": 110, \"pasos\": 224.55319536740475}, {\"input\": 120, \"pasos\": 249.50174952571496}, {\"input\": 130, \"pasos\": 274.8126357998888}, {\"input\": 140, \"pasos\": 300.4579249949534}, {\"input\": 150, \"pasos\": 326.4136888583522}, {\"input\": 160, \"pasos\": 352.659197224948}, {\"input\": 170, \"pasos\": 379.1763166343066}, {\"input\": 180, \"pasos\": 405.9490509185951}, {\"input\": 190, \"pasos\": 432.9631841810375}, {\"input\": 200, \"pasos\": 460.20599913279625}, {\"input\": 210, \"pasos\": 487.66605189412303}, {\"input\": 220, \"pasos\": 515.3329897808853}, {\"input\": 230, \"pasos\": 543.1974022840463}, {\"input\": 240, \"pasos\": 571.2506980107854}, {\"input\": 250, \"pasos\": 599.4850021680094}, {\"input\": 260, \"pasos\": 627.8930704724127}, {\"input\": 270, \"pasos\": 656.4682163229265}, {\"input\": 280, \"pasos\": 685.2042487758215}, {\"input\": 290, \"pasos\": 714.0954193906973}, {\"input\": 300, \"pasos\": 743.1363764158988}, {\"input\": 310, \"pasos\": 772.3221250886245}, {\"input\": 320, \"pasos\": 801.6479930623699}, {\"input\": 330, \"pasos\": 831.1096001597028}, {\"input\": 340, \"pasos\": 860.7028317943667}, {\"input\": 350, \"pasos\": 890.4238155225964}, {\"input\": 360, \"pasos\": 920.2689002762235}, {\"input\": 370, \"pasos\": 950.2346379047881}, {\"input\": 380, \"pasos\": 980.3177667143879}, {\"input\": 390, \"pasos\": 1010.5151967403347}, {\"input\": 400, \"pasos\": 1040.823996531185}, {\"input\": 410, \"pasos\": 1071.2413812550915}, {\"input\": 420, \"pasos\": 1101.764701967118}, {\"input\": 430, \"pasos\": 1132.3914358992222}, {\"input\": 440, \"pasos\": 1163.1191776539224}, {\"input\": 450, \"pasos\": 1193.9456311989045}, {\"input\": 460, \"pasos\": 1224.8686025735242}, {\"input\": 470, \"pasos\": 1255.8859932297873}, {\"input\": 480, \"pasos\": 1286.9957939402818}, {\"input\": 490, \"pasos\": 1318.1960792139719}, {\"input\": 500, \"pasos\": 1349.4850021680095}, {\"input\": 510, \"pasos\": 1380.8607898099474}, {\"input\": 520, \"pasos\": 1412.3217386900956}, {\"input\": 530, \"pasos\": 1443.8662108884182}, {\"input\": 540, \"pasos\": 1475.492630304403}, {\"input\": 550, \"pasos\": 1507.199479221834}, {\"input\": 560, \"pasos\": 1538.985295123472}, {\"input\": 570, \"pasos\": 1570.84866773332}, {\"input\": 580, \"pasos\": 1602.7882362665036}, {\"input\": 590, \"pasos\": 1634.802686868865}, {\"input\": 600, \"pasos\": 1666.890750230186}, {\"input\": 610, \"pasos\": 1699.0511993565678}, {\"input\": 620, \"pasos\": 1731.2828474889175}, {\"input\": 630, \"pasos\": 1763.5845461557565}, {\"input\": 640, \"pasos\": 1795.9551833496878}, {\"input\": 650, \"pasos\": 1828.3936818178563}, {\"input\": 660, \"pasos\": 1860.8989974576334}, {\"input\": 670, \"pasos\": 1893.4701178095538}, {\"input\": 680, \"pasos\": 1926.1060606402407}, {\"input\": 690, \"pasos\": 1958.805872608706}, {\"input\": 700, \"pasos\": 1991.5686280099799}, {\"input\": 710, \"pasos\": 2024.3934275905435}, {\"input\": 720, \"pasos\": 2057.279397430513}, {\"input\": 730, \"pasos\": 2090.225687887933}, {\"input\": 740, \"pasos\": 2123.2314726009226}, {\"input\": 750, \"pasos\": 2156.295947543775}, {\"input\": 760, \"pasos\": 2189.4183301334015}, {\"input\": 770, \"pasos\": 2222.597858382811}, {\"input\": 780, \"pasos\": 2255.833790098575}, {\"input\": 790, \"pasos\": 2289.1254021194486}, {\"input\": 800, \"pasos\": 2322.471989593555}, {\"input\": 810, \"pasos\": 2355.872865291706}, {\"input\": 820, \"pasos\": 2389.3273589546475}, {\"input\": 830, \"pasos\": 2422.834816672141}, {\"input\": 840, \"pasos\": 2456.3946002919806}, {\"input\": 850, \"pasos\": 2490.006086857149}, {\"input\": 860, \"pasos\": 2523.6686680694684}, {\"input\": 870, \"pasos\": 2557.3817497781984}, {\"input\": 880, \"pasos\": 2591.1447514921483}, {\"input\": 890, \"pasos\": 2624.9571059139726}, {\"input\": 900, \"pasos\": 2658.8182584953925}, {\"input\": 910, \"pasos\": 2692.727667012195}, {\"input\": 920, \"pasos\": 2726.684801157911}, {\"input\": 930, \"pasos\": 2760.68914215516}, {\"input\": 940, \"pasos\": 2794.7401823837167}, {\"input\": 950, \"pasos\": 2828.837425024405}, {\"input\": 960, \"pasos\": 2862.9803837179857}, {\"input\": 970, \"pasos\": 2897.1685822382574}, {\"input\": 980, \"pasos\": 2931.4015541786453}, {\"input\": 990, \"pasos\": 2965.678842651574}]}};\n",
              "      var embedOpt = {\"mode\": \"vega-lite\"};\n",
              "\n",
              "      function showError(el, error){\n",
              "          el.innerHTML = ('<div class=\"error\" style=\"color:red;\">'\n",
              "                          + '<p>JavaScript Error: ' + error.message + '</p>'\n",
              "                          + \"<p>This usually means there's a typo in your chart specification. \"\n",
              "                          + \"See the javascript console for the full traceback.</p>\"\n",
              "                          + '</div>');\n",
              "          throw error;\n",
              "      }\n",
              "      const el = document.getElementById('altair-viz');\n",
              "      vegaEmbed(\"#altair-viz\", spec, embedOpt)\n",
              "        .catch(error => showError(el, error));\n",
              "    })(vegaEmbed);\n",
              "\n",
              "  </script>\n",
              "</body>\n",
              "</html>"
            ]
          },
          "metadata": {
            "tags": []
          },
          "execution_count": 105
        }
      ]
    },
    {
      "cell_type": "markdown",
      "metadata": {
        "id": "HphXbAavwcq1",
        "colab_type": "text"
      },
      "source": [
        "#### La función Cuadrática:\n",
        "$f(n)= n²$ "
      ]
    },
    {
      "cell_type": "code",
      "metadata": {
        "id": "8EYA1I_Ge1Oh",
        "colab_type": "code",
        "colab": {}
      },
      "source": [
        "n = range(10, 1000, 10)\n",
        "c4 = np.power(n,2)\n",
        "df = pd.DataFrame({\n",
        "    'input': n,\n",
        "    'pasos':c4\n",
        "})"
      ],
      "execution_count": 0,
      "outputs": []
    },
    {
      "cell_type": "code",
      "metadata": {
        "id": "n9lbKtmce0sy",
        "colab_type": "code",
        "colab": {
          "base_uri": "https://localhost:8080/",
          "height": 368
        },
        "outputId": "45923863-1050-4990-8207-63778d28c5d8"
      },
      "source": [
        "interval = alt.selection_interval()\n",
        "\n",
        "points = alt.Chart(df).mark_point().encode(\n",
        "  x='pasos',\n",
        "  y='input',\n",
        "  color=alt.condition(interval, 'input', alt.value('lightgray'))\n",
        ").properties(\n",
        "  selection=interval\n",
        ")\n",
        "\n",
        "points "
      ],
      "execution_count": 109,
      "outputs": [
        {
          "output_type": "execute_result",
          "data": {
            "text/plain": [
              "alt.Chart(...)"
            ],
            "text/html": [
              "<!DOCTYPE html>\n",
              "<html>\n",
              "<head>\n",
              "  <style>\n",
              "    .vega-actions a {\n",
              "        margin-right: 12px;\n",
              "        color: #757575;\n",
              "        font-weight: normal;\n",
              "        font-size: 13px;\n",
              "    }\n",
              "    .error {\n",
              "        color: red;\n",
              "    }\n",
              "  </style>\n",
              "  <script type=\"text/javascript\" src=\"https://cdn.jsdelivr.net/npm//vega@5\"></script>\n",
              "  <script type=\"text/javascript\" src=\"https://cdn.jsdelivr.net/npm//vega-lite@3.4.0\"></script>\n",
              "  <script type=\"text/javascript\" src=\"https://cdn.jsdelivr.net/npm//vega-embed@4\"></script>\n",
              "</head>\n",
              "<body>\n",
              "  <div id=\"altair-viz\"></div>\n",
              "  <script>\n",
              "    (function(vegaEmbed) {\n",
              "      var spec = {\"config\": {\"view\": {\"width\": 400, \"height\": 300}, \"mark\": {\"tooltip\": null}}, \"data\": {\"name\": \"data-c2bfb97c463cff948a5343dd7a43316e\"}, \"mark\": \"point\", \"encoding\": {\"color\": {\"condition\": {\"type\": \"quantitative\", \"field\": \"input\", \"selection\": \"selector029\"}, \"value\": \"lightgray\"}, \"x\": {\"type\": \"quantitative\", \"field\": \"pasos\"}, \"y\": {\"type\": \"quantitative\", \"field\": \"input\"}}, \"selection\": {\"selector029\": {\"type\": \"interval\"}}, \"$schema\": \"https://vega.github.io/schema/vega-lite/v3.4.0.json\", \"datasets\": {\"data-c2bfb97c463cff948a5343dd7a43316e\": [{\"input\": 10, \"pasos\": 100}, {\"input\": 20, \"pasos\": 400}, {\"input\": 30, \"pasos\": 900}, {\"input\": 40, \"pasos\": 1600}, {\"input\": 50, \"pasos\": 2500}, {\"input\": 60, \"pasos\": 3600}, {\"input\": 70, \"pasos\": 4900}, {\"input\": 80, \"pasos\": 6400}, {\"input\": 90, \"pasos\": 8100}, {\"input\": 100, \"pasos\": 10000}, {\"input\": 110, \"pasos\": 12100}, {\"input\": 120, \"pasos\": 14400}, {\"input\": 130, \"pasos\": 16900}, {\"input\": 140, \"pasos\": 19600}, {\"input\": 150, \"pasos\": 22500}, {\"input\": 160, \"pasos\": 25600}, {\"input\": 170, \"pasos\": 28900}, {\"input\": 180, \"pasos\": 32400}, {\"input\": 190, \"pasos\": 36100}, {\"input\": 200, \"pasos\": 40000}, {\"input\": 210, \"pasos\": 44100}, {\"input\": 220, \"pasos\": 48400}, {\"input\": 230, \"pasos\": 52900}, {\"input\": 240, \"pasos\": 57600}, {\"input\": 250, \"pasos\": 62500}, {\"input\": 260, \"pasos\": 67600}, {\"input\": 270, \"pasos\": 72900}, {\"input\": 280, \"pasos\": 78400}, {\"input\": 290, \"pasos\": 84100}, {\"input\": 300, \"pasos\": 90000}, {\"input\": 310, \"pasos\": 96100}, {\"input\": 320, \"pasos\": 102400}, {\"input\": 330, \"pasos\": 108900}, {\"input\": 340, \"pasos\": 115600}, {\"input\": 350, \"pasos\": 122500}, {\"input\": 360, \"pasos\": 129600}, {\"input\": 370, \"pasos\": 136900}, {\"input\": 380, \"pasos\": 144400}, {\"input\": 390, \"pasos\": 152100}, {\"input\": 400, \"pasos\": 160000}, {\"input\": 410, \"pasos\": 168100}, {\"input\": 420, \"pasos\": 176400}, {\"input\": 430, \"pasos\": 184900}, {\"input\": 440, \"pasos\": 193600}, {\"input\": 450, \"pasos\": 202500}, {\"input\": 460, \"pasos\": 211600}, {\"input\": 470, \"pasos\": 220900}, {\"input\": 480, \"pasos\": 230400}, {\"input\": 490, \"pasos\": 240100}, {\"input\": 500, \"pasos\": 250000}, {\"input\": 510, \"pasos\": 260100}, {\"input\": 520, \"pasos\": 270400}, {\"input\": 530, \"pasos\": 280900}, {\"input\": 540, \"pasos\": 291600}, {\"input\": 550, \"pasos\": 302500}, {\"input\": 560, \"pasos\": 313600}, {\"input\": 570, \"pasos\": 324900}, {\"input\": 580, \"pasos\": 336400}, {\"input\": 590, \"pasos\": 348100}, {\"input\": 600, \"pasos\": 360000}, {\"input\": 610, \"pasos\": 372100}, {\"input\": 620, \"pasos\": 384400}, {\"input\": 630, \"pasos\": 396900}, {\"input\": 640, \"pasos\": 409600}, {\"input\": 650, \"pasos\": 422500}, {\"input\": 660, \"pasos\": 435600}, {\"input\": 670, \"pasos\": 448900}, {\"input\": 680, \"pasos\": 462400}, {\"input\": 690, \"pasos\": 476100}, {\"input\": 700, \"pasos\": 490000}, {\"input\": 710, \"pasos\": 504100}, {\"input\": 720, \"pasos\": 518400}, {\"input\": 730, \"pasos\": 532900}, {\"input\": 740, \"pasos\": 547600}, {\"input\": 750, \"pasos\": 562500}, {\"input\": 760, \"pasos\": 577600}, {\"input\": 770, \"pasos\": 592900}, {\"input\": 780, \"pasos\": 608400}, {\"input\": 790, \"pasos\": 624100}, {\"input\": 800, \"pasos\": 640000}, {\"input\": 810, \"pasos\": 656100}, {\"input\": 820, \"pasos\": 672400}, {\"input\": 830, \"pasos\": 688900}, {\"input\": 840, \"pasos\": 705600}, {\"input\": 850, \"pasos\": 722500}, {\"input\": 860, \"pasos\": 739600}, {\"input\": 870, \"pasos\": 756900}, {\"input\": 880, \"pasos\": 774400}, {\"input\": 890, \"pasos\": 792100}, {\"input\": 900, \"pasos\": 810000}, {\"input\": 910, \"pasos\": 828100}, {\"input\": 920, \"pasos\": 846400}, {\"input\": 930, \"pasos\": 864900}, {\"input\": 940, \"pasos\": 883600}, {\"input\": 950, \"pasos\": 902500}, {\"input\": 960, \"pasos\": 921600}, {\"input\": 970, \"pasos\": 940900}, {\"input\": 980, \"pasos\": 960400}, {\"input\": 990, \"pasos\": 980100}]}};\n",
              "      var embedOpt = {\"mode\": \"vega-lite\"};\n",
              "\n",
              "      function showError(el, error){\n",
              "          el.innerHTML = ('<div class=\"error\" style=\"color:red;\">'\n",
              "                          + '<p>JavaScript Error: ' + error.message + '</p>'\n",
              "                          + \"<p>This usually means there's a typo in your chart specification. \"\n",
              "                          + \"See the javascript console for the full traceback.</p>\"\n",
              "                          + '</div>');\n",
              "          throw error;\n",
              "      }\n",
              "      const el = document.getElementById('altair-viz');\n",
              "      vegaEmbed(\"#altair-viz\", spec, embedOpt)\n",
              "        .catch(error => showError(el, error));\n",
              "    })(vegaEmbed);\n",
              "\n",
              "  </script>\n",
              "</body>\n",
              "</html>"
            ]
          },
          "metadata": {
            "tags": []
          },
          "execution_count": 109
        }
      ]
    },
    {
      "cell_type": "markdown",
      "metadata": {
        "id": "VsBSBG6wwwfb",
        "colab_type": "text"
      },
      "source": [
        "#### La función polinomial:\n",
        "$f(n)= a_0 + a_1*n+ a_2*n^2+ ... + a_d*n^d $ "
      ]
    },
    {
      "cell_type": "code",
      "metadata": {
        "id": "z6BR-9b9fzZ8",
        "colab_type": "code",
        "colab": {}
      },
      "source": [
        "n = range(10, 1000, 10)\n",
        "c5 = 100+9*np.power(n,1)+5*np.power(n,2)+2*np.power(n,3)\n",
        "df = pd.DataFrame({\n",
        "    'input': n,\n",
        "    'pasos':c5\n",
        "})"
      ],
      "execution_count": 0,
      "outputs": []
    },
    {
      "cell_type": "code",
      "metadata": {
        "id": "93_Pj6BIgXbI",
        "colab_type": "code",
        "colab": {
          "base_uri": "https://localhost:8080/",
          "height": 368
        },
        "outputId": "eba1e459-01d8-4552-d727-cb1a61dc279e"
      },
      "source": [
        "interval = alt.selection_interval()\n",
        "\n",
        "points = alt.Chart(df).mark_point().encode(\n",
        "  x='pasos',\n",
        "  y='input',\n",
        "  color=alt.condition(interval, 'input', alt.value('lightgray'))\n",
        ").properties(\n",
        "  selection=interval\n",
        ")\n",
        "\n",
        "points "
      ],
      "execution_count": 111,
      "outputs": [
        {
          "output_type": "execute_result",
          "data": {
            "text/plain": [
              "alt.Chart(...)"
            ],
            "text/html": [
              "<!DOCTYPE html>\n",
              "<html>\n",
              "<head>\n",
              "  <style>\n",
              "    .vega-actions a {\n",
              "        margin-right: 12px;\n",
              "        color: #757575;\n",
              "        font-weight: normal;\n",
              "        font-size: 13px;\n",
              "    }\n",
              "    .error {\n",
              "        color: red;\n",
              "    }\n",
              "  </style>\n",
              "  <script type=\"text/javascript\" src=\"https://cdn.jsdelivr.net/npm//vega@5\"></script>\n",
              "  <script type=\"text/javascript\" src=\"https://cdn.jsdelivr.net/npm//vega-lite@3.4.0\"></script>\n",
              "  <script type=\"text/javascript\" src=\"https://cdn.jsdelivr.net/npm//vega-embed@4\"></script>\n",
              "</head>\n",
              "<body>\n",
              "  <div id=\"altair-viz\"></div>\n",
              "  <script>\n",
              "    (function(vegaEmbed) {\n",
              "      var spec = {\"config\": {\"view\": {\"width\": 400, \"height\": 300}, \"mark\": {\"tooltip\": null}}, \"data\": {\"name\": \"data-18db260866844a2477f9e8c6156af5b0\"}, \"mark\": \"point\", \"encoding\": {\"color\": {\"condition\": {\"type\": \"quantitative\", \"field\": \"input\", \"selection\": \"selector030\"}, \"value\": \"lightgray\"}, \"x\": {\"type\": \"quantitative\", \"field\": \"pasos\"}, \"y\": {\"type\": \"quantitative\", \"field\": \"input\"}}, \"selection\": {\"selector030\": {\"type\": \"interval\"}}, \"$schema\": \"https://vega.github.io/schema/vega-lite/v3.4.0.json\", \"datasets\": {\"data-18db260866844a2477f9e8c6156af5b0\": [{\"input\": 10, \"pasos\": 2690}, {\"input\": 20, \"pasos\": 18280}, {\"input\": 30, \"pasos\": 58870}, {\"input\": 40, \"pasos\": 136460}, {\"input\": 50, \"pasos\": 263050}, {\"input\": 60, \"pasos\": 450640}, {\"input\": 70, \"pasos\": 711230}, {\"input\": 80, \"pasos\": 1056820}, {\"input\": 90, \"pasos\": 1499410}, {\"input\": 100, \"pasos\": 2051000}, {\"input\": 110, \"pasos\": 2723590}, {\"input\": 120, \"pasos\": 3529180}, {\"input\": 130, \"pasos\": 4479770}, {\"input\": 140, \"pasos\": 5587360}, {\"input\": 150, \"pasos\": 6863950}, {\"input\": 160, \"pasos\": 8321540}, {\"input\": 170, \"pasos\": 9972130}, {\"input\": 180, \"pasos\": 11827720}, {\"input\": 190, \"pasos\": 13900310}, {\"input\": 200, \"pasos\": 16201900}, {\"input\": 210, \"pasos\": 18744490}, {\"input\": 220, \"pasos\": 21540080}, {\"input\": 230, \"pasos\": 24600670}, {\"input\": 240, \"pasos\": 27938260}, {\"input\": 250, \"pasos\": 31564850}, {\"input\": 260, \"pasos\": 35492440}, {\"input\": 270, \"pasos\": 39733030}, {\"input\": 280, \"pasos\": 44298620}, {\"input\": 290, \"pasos\": 49201210}, {\"input\": 300, \"pasos\": 54452800}, {\"input\": 310, \"pasos\": 60065390}, {\"input\": 320, \"pasos\": 66050980}, {\"input\": 330, \"pasos\": 72421570}, {\"input\": 340, \"pasos\": 79189160}, {\"input\": 350, \"pasos\": 86365750}, {\"input\": 360, \"pasos\": 93963340}, {\"input\": 370, \"pasos\": 101993930}, {\"input\": 380, \"pasos\": 110469520}, {\"input\": 390, \"pasos\": 119402110}, {\"input\": 400, \"pasos\": 128803700}, {\"input\": 410, \"pasos\": 138686290}, {\"input\": 420, \"pasos\": 149061880}, {\"input\": 430, \"pasos\": 159942470}, {\"input\": 440, \"pasos\": 171340060}, {\"input\": 450, \"pasos\": 183266650}, {\"input\": 460, \"pasos\": 195734240}, {\"input\": 470, \"pasos\": 208754830}, {\"input\": 480, \"pasos\": 222340420}, {\"input\": 490, \"pasos\": 236503010}, {\"input\": 500, \"pasos\": 251254600}, {\"input\": 510, \"pasos\": 266607190}, {\"input\": 520, \"pasos\": 282572780}, {\"input\": 530, \"pasos\": 299163370}, {\"input\": 540, \"pasos\": 316390960}, {\"input\": 550, \"pasos\": 334267550}, {\"input\": 560, \"pasos\": 352805140}, {\"input\": 570, \"pasos\": 372015730}, {\"input\": 580, \"pasos\": 391911320}, {\"input\": 590, \"pasos\": 412503910}, {\"input\": 600, \"pasos\": 433805500}, {\"input\": 610, \"pasos\": 455828090}, {\"input\": 620, \"pasos\": 478583680}, {\"input\": 630, \"pasos\": 502084270}, {\"input\": 640, \"pasos\": 526341860}, {\"input\": 650, \"pasos\": 551368450}, {\"input\": 660, \"pasos\": 577176040}, {\"input\": 670, \"pasos\": 603776630}, {\"input\": 680, \"pasos\": 631182220}, {\"input\": 690, \"pasos\": 659404810}, {\"input\": 700, \"pasos\": 688456400}, {\"input\": 710, \"pasos\": 718348990}, {\"input\": 720, \"pasos\": 749094580}, {\"input\": 730, \"pasos\": 780705170}, {\"input\": 740, \"pasos\": 813192760}, {\"input\": 750, \"pasos\": 846569350}, {\"input\": 760, \"pasos\": 880846940}, {\"input\": 770, \"pasos\": 916037530}, {\"input\": 780, \"pasos\": 952153120}, {\"input\": 790, \"pasos\": 989205710}, {\"input\": 800, \"pasos\": 1027207300}, {\"input\": 810, \"pasos\": 1066169890}, {\"input\": 820, \"pasos\": 1106105480}, {\"input\": 830, \"pasos\": 1147026070}, {\"input\": 840, \"pasos\": 1188943660}, {\"input\": 850, \"pasos\": 1231870250}, {\"input\": 860, \"pasos\": 1275817840}, {\"input\": 870, \"pasos\": 1320798430}, {\"input\": 880, \"pasos\": 1366824020}, {\"input\": 890, \"pasos\": 1413906610}, {\"input\": 900, \"pasos\": 1462058200}, {\"input\": 910, \"pasos\": 1511290790}, {\"input\": 920, \"pasos\": 1561616380}, {\"input\": 930, \"pasos\": 1613046970}, {\"input\": 940, \"pasos\": 1665594560}, {\"input\": 950, \"pasos\": 1719271150}, {\"input\": 960, \"pasos\": 1774088740}, {\"input\": 970, \"pasos\": 1830059330}, {\"input\": 980, \"pasos\": 1887194920}, {\"input\": 990, \"pasos\": 1945507510}]}};\n",
              "      var embedOpt = {\"mode\": \"vega-lite\"};\n",
              "\n",
              "      function showError(el, error){\n",
              "          el.innerHTML = ('<div class=\"error\" style=\"color:red;\">'\n",
              "                          + '<p>JavaScript Error: ' + error.message + '</p>'\n",
              "                          + \"<p>This usually means there's a typo in your chart specification. \"\n",
              "                          + \"See the javascript console for the full traceback.</p>\"\n",
              "                          + '</div>');\n",
              "          throw error;\n",
              "      }\n",
              "      const el = document.getElementById('altair-viz');\n",
              "      vegaEmbed(\"#altair-viz\", spec, embedOpt)\n",
              "        .catch(error => showError(el, error));\n",
              "    })(vegaEmbed);\n",
              "\n",
              "  </script>\n",
              "</body>\n",
              "</html>"
            ]
          },
          "metadata": {
            "tags": []
          },
          "execution_count": 111
        }
      ]
    },
    {
      "cell_type": "markdown",
      "metadata": {
        "id": "ya_ZNRd8xMm0",
        "colab_type": "text"
      },
      "source": [
        "#### La función Exponencial:\n",
        "$f(n)= b^n$ "
      ]
    },
    {
      "cell_type": "code",
      "metadata": {
        "id": "TRWKX1ZfhNp8",
        "colab_type": "code",
        "colab": {}
      },
      "source": [
        "n = range(1, 10, 1)\n",
        "c6 = np.power(3,n)\n",
        "df = pd.DataFrame({\n",
        "    'input': n,\n",
        "    'pasos':c6\n",
        "})"
      ],
      "execution_count": 0,
      "outputs": []
    },
    {
      "cell_type": "code",
      "metadata": {
        "id": "lRybDa16hYFL",
        "colab_type": "code",
        "colab": {
          "base_uri": "https://localhost:8080/",
          "height": 368
        },
        "outputId": "2a5233dd-f549-4af9-c6c4-37073026d65e"
      },
      "source": [
        "interval = alt.selection_interval()\n",
        "\n",
        "points = alt.Chart(df).mark_point().encode(\n",
        "  x='pasos',\n",
        "  y='input',\n",
        "  color=alt.condition(interval, 'input', alt.value('lightgray'))\n",
        ").properties(\n",
        "  selection=interval\n",
        ")\n",
        "\n",
        "points "
      ],
      "execution_count": 130,
      "outputs": [
        {
          "output_type": "execute_result",
          "data": {
            "text/plain": [
              "alt.Chart(...)"
            ],
            "text/html": [
              "<!DOCTYPE html>\n",
              "<html>\n",
              "<head>\n",
              "  <style>\n",
              "    .vega-actions a {\n",
              "        margin-right: 12px;\n",
              "        color: #757575;\n",
              "        font-weight: normal;\n",
              "        font-size: 13px;\n",
              "    }\n",
              "    .error {\n",
              "        color: red;\n",
              "    }\n",
              "  </style>\n",
              "  <script type=\"text/javascript\" src=\"https://cdn.jsdelivr.net/npm//vega@5\"></script>\n",
              "  <script type=\"text/javascript\" src=\"https://cdn.jsdelivr.net/npm//vega-lite@3.4.0\"></script>\n",
              "  <script type=\"text/javascript\" src=\"https://cdn.jsdelivr.net/npm//vega-embed@4\"></script>\n",
              "</head>\n",
              "<body>\n",
              "  <div id=\"altair-viz\"></div>\n",
              "  <script>\n",
              "    (function(vegaEmbed) {\n",
              "      var spec = {\"config\": {\"view\": {\"width\": 400, \"height\": 300}, \"mark\": {\"tooltip\": null}}, \"data\": {\"name\": \"data-df0d7f53256c825791f04986335b90f0\"}, \"mark\": \"point\", \"encoding\": {\"color\": {\"condition\": {\"type\": \"quantitative\", \"field\": \"input\", \"selection\": \"selector040\"}, \"value\": \"lightgray\"}, \"x\": {\"type\": \"quantitative\", \"field\": \"pasos\"}, \"y\": {\"type\": \"quantitative\", \"field\": \"input\"}}, \"selection\": {\"selector040\": {\"type\": \"interval\"}}, \"$schema\": \"https://vega.github.io/schema/vega-lite/v3.4.0.json\", \"datasets\": {\"data-df0d7f53256c825791f04986335b90f0\": [{\"input\": 1, \"pasos\": 3}, {\"input\": 2, \"pasos\": 9}, {\"input\": 3, \"pasos\": 27}, {\"input\": 4, \"pasos\": 81}, {\"input\": 5, \"pasos\": 243}, {\"input\": 6, \"pasos\": 729}, {\"input\": 7, \"pasos\": 2187}, {\"input\": 8, \"pasos\": 6561}, {\"input\": 9, \"pasos\": 19683}]}};\n",
              "      var embedOpt = {\"mode\": \"vega-lite\"};\n",
              "\n",
              "      function showError(el, error){\n",
              "          el.innerHTML = ('<div class=\"error\" style=\"color:red;\">'\n",
              "                          + '<p>JavaScript Error: ' + error.message + '</p>'\n",
              "                          + \"<p>This usually means there's a typo in your chart specification. \"\n",
              "                          + \"See the javascript console for the full traceback.</p>\"\n",
              "                          + '</div>');\n",
              "          throw error;\n",
              "      }\n",
              "      const el = document.getElementById('altair-viz');\n",
              "      vegaEmbed(\"#altair-viz\", spec, embedOpt)\n",
              "        .catch(error => showError(el, error));\n",
              "    })(vegaEmbed);\n",
              "\n",
              "  </script>\n",
              "</body>\n",
              "</html>"
            ]
          },
          "metadata": {
            "tags": []
          },
          "execution_count": 130
        }
      ]
    },
    {
      "cell_type": "markdown",
      "metadata": {
        "id": "YeHPWvPUtbPr",
        "colab_type": "text"
      },
      "source": [
        "### Big O (Oh Asymptotic Analysis)"
      ]
    },
    {
      "cell_type": "markdown",
      "metadata": {
        "colab_type": "text",
        "id": "9_5MdLsoAt08"
      },
      "source": [
        "En forma simple es como tomar una gran fotografía de una función y quedarnos con una función más manejable."
      ]
    },
    {
      "cell_type": "markdown",
      "metadata": {
        "id": "qSGGv6aGEkln",
        "colab_type": "text"
      },
      "source": [
        "Podemos decir que $f(n)$ es $O(g(n))$ entonces $f(n)>= c*g(n)$ cuando $n >= n0$. “$f(n)$ es big O de $g(n)$”\n",
        "\n"
      ]
    },
    {
      "cell_type": "markdown",
      "metadata": {
        "id": "AYcgxtd0FNtA",
        "colab_type": "text"
      },
      "source": [
        "#### Ejemplo 1: $f(n)=8n+5$ es $O(n)$ (es lineal) "
      ]
    },
    {
      "cell_type": "markdown",
      "metadata": {
        "id": "Ax9gvGPRFyrM",
        "colab_type": "text"
      },
      "source": [
        "Para demostrar esto necesito una constante $c > 0$\n",
        "; una constante entera $n0 >1$.\n",
        "Con esto debe complirse que $8n+5$ $<=$ $c*n$ para cualquier entero $n$$>=$$n0$ "
      ]
    },
    {
      "cell_type": "markdown",
      "metadata": {
        "id": "H794ONMrS0DL",
        "colab_type": "text"
      },
      "source": [
        "##### Caso 1: n0 = 5 y C = 9"
      ]
    },
    {
      "cell_type": "code",
      "metadata": {
        "id": "I7UD4XVXGv9F",
        "colab_type": "code",
        "colab": {}
      },
      "source": [
        "n = np.array(range(0, 10, 1))\n",
        "c = 9\n",
        "cxn = n*c\n",
        "fx = 8*n+5\n",
        "\n",
        "df = pd.DataFrame({\n",
        "    'n': n,\n",
        "    'cxn':cxn,\n",
        "    'fx': fx\n",
        "})"
      ],
      "execution_count": 0,
      "outputs": []
    },
    {
      "cell_type": "code",
      "metadata": {
        "id": "6Jwd_ssJJikJ",
        "colab_type": "code",
        "colab": {
          "base_uri": "https://localhost:8080/",
          "height": 356
        },
        "outputId": "9c79dcc8-75eb-4ef2-8eff-954f3bc63d94"
      },
      "source": [
        "df.head(10)"
      ],
      "execution_count": 140,
      "outputs": [
        {
          "output_type": "execute_result",
          "data": {
            "text/html": [
              "<div>\n",
              "<style scoped>\n",
              "    .dataframe tbody tr th:only-of-type {\n",
              "        vertical-align: middle;\n",
              "    }\n",
              "\n",
              "    .dataframe tbody tr th {\n",
              "        vertical-align: top;\n",
              "    }\n",
              "\n",
              "    .dataframe thead th {\n",
              "        text-align: right;\n",
              "    }\n",
              "</style>\n",
              "<table border=\"1\" class=\"dataframe\">\n",
              "  <thead>\n",
              "    <tr style=\"text-align: right;\">\n",
              "      <th></th>\n",
              "      <th>n</th>\n",
              "      <th>cxn</th>\n",
              "      <th>fx</th>\n",
              "    </tr>\n",
              "  </thead>\n",
              "  <tbody>\n",
              "    <tr>\n",
              "      <th>0</th>\n",
              "      <td>0</td>\n",
              "      <td>0</td>\n",
              "      <td>5</td>\n",
              "    </tr>\n",
              "    <tr>\n",
              "      <th>1</th>\n",
              "      <td>1</td>\n",
              "      <td>9</td>\n",
              "      <td>13</td>\n",
              "    </tr>\n",
              "    <tr>\n",
              "      <th>2</th>\n",
              "      <td>2</td>\n",
              "      <td>18</td>\n",
              "      <td>21</td>\n",
              "    </tr>\n",
              "    <tr>\n",
              "      <th>3</th>\n",
              "      <td>3</td>\n",
              "      <td>27</td>\n",
              "      <td>29</td>\n",
              "    </tr>\n",
              "    <tr>\n",
              "      <th>4</th>\n",
              "      <td>4</td>\n",
              "      <td>36</td>\n",
              "      <td>37</td>\n",
              "    </tr>\n",
              "    <tr>\n",
              "      <th>5</th>\n",
              "      <td>5</td>\n",
              "      <td>45</td>\n",
              "      <td>45</td>\n",
              "    </tr>\n",
              "    <tr>\n",
              "      <th>6</th>\n",
              "      <td>6</td>\n",
              "      <td>54</td>\n",
              "      <td>53</td>\n",
              "    </tr>\n",
              "    <tr>\n",
              "      <th>7</th>\n",
              "      <td>7</td>\n",
              "      <td>63</td>\n",
              "      <td>61</td>\n",
              "    </tr>\n",
              "    <tr>\n",
              "      <th>8</th>\n",
              "      <td>8</td>\n",
              "      <td>72</td>\n",
              "      <td>69</td>\n",
              "    </tr>\n",
              "    <tr>\n",
              "      <th>9</th>\n",
              "      <td>9</td>\n",
              "      <td>81</td>\n",
              "      <td>77</td>\n",
              "    </tr>\n",
              "  </tbody>\n",
              "</table>\n",
              "</div>"
            ],
            "text/plain": [
              "   n  cxn  fx\n",
              "0  0    0   5\n",
              "1  1    9  13\n",
              "2  2   18  21\n",
              "3  3   27  29\n",
              "4  4   36  37\n",
              "5  5   45  45\n",
              "6  6   54  53\n",
              "7  7   63  61\n",
              "8  8   72  69\n",
              "9  9   81  77"
            ]
          },
          "metadata": {
            "tags": []
          },
          "execution_count": 140
        }
      ]
    },
    {
      "cell_type": "code",
      "metadata": {
        "id": "-gc_0gabQDF7",
        "colab_type": "code",
        "colab": {
          "base_uri": "https://localhost:8080/",
          "height": 301
        },
        "outputId": "0e531007-a6d0-444b-d889-8ed06e2936a9"
      },
      "source": [
        "%matplotlib inline\n",
        "df.plot(kind= 'scatter', x = \"n\", y= \"fx\")\n",
        "plt.plot(df['n'], df['cxn'], 'ro')"
      ],
      "execution_count": 165,
      "outputs": [
        {
          "output_type": "execute_result",
          "data": {
            "text/plain": [
              "[<matplotlib.lines.Line2D at 0x7f207a500278>]"
            ]
          },
          "metadata": {
            "tags": []
          },
          "execution_count": 165
        },
        {
          "output_type": "display_data",
          "data": {
            "image/png": "[encoded data removed]",
            "text/plain": [
              "<Figure size 432x288 with 1 Axes>"
            ]
          },
          "metadata": {
            "tags": []
          }
        }
      ]
    },
    {
      "cell_type": "markdown",
      "metadata": {
        "id": "A9XHxjmbSonr",
        "colab_type": "text"
      },
      "source": [
        " f(n)>=c∗g(n) cuando  n>=n0 se cumple para el caso n0  = 5 y c = 9"
      ]
    },
    {
      "cell_type": "markdown",
      "metadata": {
        "id": "bGPjXWvhSoVY",
        "colab_type": "text"
      },
      "source": [
        "Caso 2: n0 = 1 y C = 13"
      ]
    },
    {
      "cell_type": "code",
      "metadata": {
        "id": "h3dLEGwkJlJo",
        "colab_type": "code",
        "colab": {}
      },
      "source": [
        "n = np.array(range(0, 10, 1))\n",
        "c = 13\n",
        "cxn = n*c\n",
        "fx = 8*n+5\n",
        "\n",
        "df = pd.DataFrame({\n",
        "    'n': n,\n",
        "    'cxn':cxn,\n",
        "    'fx': fx\n",
        "})"
      ],
      "execution_count": 0,
      "outputs": []
    },
    {
      "cell_type": "code",
      "metadata": {
        "id": "SYmAfRj4KkRd",
        "colab_type": "code",
        "colab": {
          "base_uri": "https://localhost:8080/",
          "height": 356
        },
        "outputId": "7fe6a4f4-6eab-4f63-e243-c4f9cc79ac82"
      },
      "source": [
        "df.head(10)"
      ],
      "execution_count": 167,
      "outputs": [
        {
          "output_type": "execute_result",
          "data": {
            "text/html": [
              "<div>\n",
              "<style scoped>\n",
              "    .dataframe tbody tr th:only-of-type {\n",
              "        vertical-align: middle;\n",
              "    }\n",
              "\n",
              "    .dataframe tbody tr th {\n",
              "        vertical-align: top;\n",
              "    }\n",
              "\n",
              "    .dataframe thead th {\n",
              "        text-align: right;\n",
              "    }\n",
              "</style>\n",
              "<table border=\"1\" class=\"dataframe\">\n",
              "  <thead>\n",
              "    <tr style=\"text-align: right;\">\n",
              "      <th></th>\n",
              "      <th>n0</th>\n",
              "      <th>cxn</th>\n",
              "      <th>fx</th>\n",
              "    </tr>\n",
              "  </thead>\n",
              "  <tbody>\n",
              "    <tr>\n",
              "      <th>0</th>\n",
              "      <td>0</td>\n",
              "      <td>0</td>\n",
              "      <td>5</td>\n",
              "    </tr>\n",
              "    <tr>\n",
              "      <th>1</th>\n",
              "      <td>1</td>\n",
              "      <td>13</td>\n",
              "      <td>13</td>\n",
              "    </tr>\n",
              "    <tr>\n",
              "      <th>2</th>\n",
              "      <td>2</td>\n",
              "      <td>26</td>\n",
              "      <td>21</td>\n",
              "    </tr>\n",
              "    <tr>\n",
              "      <th>3</th>\n",
              "      <td>3</td>\n",
              "      <td>39</td>\n",
              "      <td>29</td>\n",
              "    </tr>\n",
              "    <tr>\n",
              "      <th>4</th>\n",
              "      <td>4</td>\n",
              "      <td>52</td>\n",
              "      <td>37</td>\n",
              "    </tr>\n",
              "    <tr>\n",
              "      <th>5</th>\n",
              "      <td>5</td>\n",
              "      <td>65</td>\n",
              "      <td>45</td>\n",
              "    </tr>\n",
              "    <tr>\n",
              "      <th>6</th>\n",
              "      <td>6</td>\n",
              "      <td>78</td>\n",
              "      <td>53</td>\n",
              "    </tr>\n",
              "    <tr>\n",
              "      <th>7</th>\n",
              "      <td>7</td>\n",
              "      <td>91</td>\n",
              "      <td>61</td>\n",
              "    </tr>\n",
              "    <tr>\n",
              "      <th>8</th>\n",
              "      <td>8</td>\n",
              "      <td>104</td>\n",
              "      <td>69</td>\n",
              "    </tr>\n",
              "    <tr>\n",
              "      <th>9</th>\n",
              "      <td>9</td>\n",
              "      <td>117</td>\n",
              "      <td>77</td>\n",
              "    </tr>\n",
              "  </tbody>\n",
              "</table>\n",
              "</div>"
            ],
            "text/plain": [
              "   n0  cxn  fx\n",
              "0   0    0   5\n",
              "1   1   13  13\n",
              "2   2   26  21\n",
              "3   3   39  29\n",
              "4   4   52  37\n",
              "5   5   65  45\n",
              "6   6   78  53\n",
              "7   7   91  61\n",
              "8   8  104  69\n",
              "9   9  117  77"
            ]
          },
          "metadata": {
            "tags": []
          },
          "execution_count": 167
        }
      ]
    },
    {
      "cell_type": "code",
      "metadata": {
        "id": "KsYblzoyMFRX",
        "colab_type": "code",
        "colab": {
          "base_uri": "https://localhost:8080/",
          "height": 301
        },
        "outputId": "5dc229c8-2959-451d-e34c-e05dd0f27ddf"
      },
      "source": [
        "%matplotlib inline\n",
        "df.plot(kind= 'scatter', x = \"n\", y= \"fx\")\n",
        "plt.plot(df['n'], df['cxn'], 'ro')"
      ],
      "execution_count": 169,
      "outputs": [
        {
          "output_type": "execute_result",
          "data": {
            "text/plain": [
              "[<matplotlib.lines.Line2D at 0x7f207a14a128>]"
            ]
          },
          "metadata": {
            "tags": []
          },
          "execution_count": 169
        },
        {
          "output_type": "display_data",
          "data": {
            "image/png": "[encoded data removed]",
            "text/plain": [
              "<Figure size 432x288 with 1 Axes>"
            ]
          },
          "metadata": {
            "tags": []
          }
        }
      ]
    },
    {
      "cell_type": "markdown",
      "metadata": {
        "id": "Z8cXhkZKVHpi",
        "colab_type": "text"
      },
      "source": [
        " f(n)>=c∗g(n) cuando  n>=n0 se cumple para el caso n0  = 1 y c = 13"
      ]
    },
    {
      "cell_type": "markdown",
      "metadata": {
        "id": "9TGB8wGuVLX9",
        "colab_type": "text"
      },
      "source": [
        "## Algunas propiedas del Big Oh Notation:"
      ]
    },
    {
      "cell_type": "markdown",
      "metadata": {
        "id": "abcArugoab-5",
        "colab_type": "text"
      },
      "source": [
        "La notación big O nos permite ignorar factores constantes y términos de bajo-orden y nos enfoca en los componentes principales de una función, el componente  que más afecta el crecimiento de la función ."
      ]
    },
    {
      "cell_type": "markdown",
      "metadata": {
        "id": "wSkZ4d1xbF9D",
        "colab_type": "text"
      },
      "source": [
        "Ejemplo: $5n⁴+3n²+4n+1$ es $O(n⁴)$"
      ]
    },
    {
      "cell_type": "markdown",
      "metadata": {
        "id": "tPlpvYH9cXEm",
        "colab_type": "text"
      },
      "source": [
        "$n⁴$ es el factor que mas afecta el crecimiento de la funcion anterior."
      ]
    },
    {
      "cell_type": "markdown",
      "metadata": {
        "id": "Jd0smsNockkk",
        "colab_type": "text"
      },
      "source": [
        "$5n⁴+3n³+2n²+4n+1$ $<=$ $(5+3+2+4+1)n⁴$ entonces\n",
        "$c=(5+3+2+4+1)=15$ y\n",
        "$n0>1$\n",
        " "
      ]
    },
    {
      "cell_type": "markdown",
      "metadata": {
        "id": "il8pNPVZf-w2",
        "colab_type": "text"
      },
      "source": [
        "\n",
        "\n",
        "$5n⁴+3n³+2n²+4n+1$ $<=$ $15n⁴$\n",
        "\n"
      ]
    },
    {
      "cell_type": "code",
      "metadata": {
        "colab_type": "code",
        "id": "SUwbWTcLfT4n",
        "colab": {}
      },
      "source": [
        "n = np.array(range(0, 10, 1))\n",
        "c = 15\n",
        "cxn = np.power(n,4)*c\n",
        "fx = 5*np.power(n,4)+3*np.power(n,3)+2*np.power(n,2)+4*n+1\n",
        "\n",
        "df = pd.DataFrame({\n",
        "    'n': n,\n",
        "    'cxn':cxn,\n",
        "    'fx': fx\n",
        "})"
      ],
      "execution_count": 0,
      "outputs": []
    },
    {
      "cell_type": "code",
      "metadata": {
        "id": "UbJnodN-fx9C",
        "colab_type": "code",
        "colab": {}
      },
      "source": [
        "%matplotlib inline\n",
        "df.plot(kind= 'scatter', x = \"n\", y= \"fx\")\n",
        "plt.plot(df['n'], df['cxn'], 'ro')"
      ],
      "execution_count": 0,
      "outputs": []
    },
    {
      "cell_type": "markdown",
      "metadata": {
        "id": "SCO10jG3hy4P",
        "colab_type": "text"
      },
      "source": [
        "## ¿ Como sacar estas ecuaciónes de un algoritmo hecho en código o pseudocódigo? "
      ]
    },
    {
      "cell_type": "markdown",
      "metadata": {
        "id": "63Ce_l8lhymd",
        "colab_type": "text"
      },
      "source": [
        "### Análisis del algoritmo InsertionSort\n"
      ]
    },
    {
      "cell_type": "markdown",
      "metadata": {
        "id": "_6i5K3GLi2TT",
        "colab_type": "text"
      },
      "source": [
        "1. Deseamos obtener el tiempo de ejecucion:\n",
        "$f(n)->$ número de pasos "
      ]
    },
    {
      "cell_type": "markdown",
      "metadata": {
        "id": "n8CCPymSjV69",
        "colab_type": "text"
      },
      "source": [
        "2. El tiempo de ejecución es usualmente función del tamaño de entrada. $-> n$"
      ]
    },
    {
      "cell_type": "markdown",
      "metadata": {
        "id": "PqemHjnajxBH",
        "colab_type": "text"
      },
      "source": [
        "### Cálculo del tiempo de ejecución (Modelo RAM(Random Access Machine))"
      ]
    },
    {
      "cell_type": "markdown",
      "metadata": {
        "id": "KcrBHB4qklYy",
        "colab_type": "text"
      },
      "source": [
        "1. Cada línea de código se ejecuta en un tiempo constante ($c_i$)\n",
        "2. Una línea puede tomar una cantidad de tiempo diferente a otra línea ($c_1$ vs $c_2$)\n",
        "3. El tiempo total de ejecución de una línea dependera de la constante de tiempo ($c_i$) y la cantidad de vcs que esta se ejecuta.\n",
        "\n",
        "4. El tiempo total de ejecución ($T_n$) es la suma del tiempo de ejecución de todas sus líneas."
      ]
    },
    {
      "cell_type": "markdown",
      "metadata": {
        "id": "S4fAuSLQmdyo",
        "colab_type": "text"
      },
      "source": [
        "#### Algoritmo Insertion Sort: Este algoritmo en el peor de los caso es O(n^2)\n"
      ]
    },
    {
      "cell_type": "code",
      "metadata": {
        "id": "rK_VRmrWopSj",
        "colab_type": "code",
        "colab": {}
      },
      "source": [
        "seq = [3,4,2,5,6,1,3,4]\n",
        "n = len(seq)"
      ],
      "execution_count": 0,
      "outputs": []
    },
    {
      "cell_type": "code",
      "metadata": {
        "id": "NCzheAwwlMAH",
        "colab_type": "code",
        "colab": {}
      },
      "source": [
        "def insertion_sort(seq):\n",
        "    for i in range(1, len(seq)): # inicio linea 2\n",
        "        j = i-1 \n",
        "        key = seq[i]\n",
        "        while (seq[j] > key) and (j >= 0):\n",
        "           seq[j+1] = seq[j]\n",
        "           j -= 1\n",
        "        seq[j+1] = key # fin linea 8\n",
        "    return seq"
      ],
      "execution_count": 0,
      "outputs": []
    },
    {
      "cell_type": "code",
      "metadata": {
        "id": "2x6YSkxQot1D",
        "colab_type": "code",
        "colab": {
          "base_uri": "https://localhost:8080/",
          "height": 35
        },
        "outputId": "64884748-d834-4764-cebf-87c9598042c2"
      },
      "source": [
        "(n,insertion_sort(seq))"
      ],
      "execution_count": 186,
      "outputs": [
        {
          "output_type": "execute_result",
          "data": {
            "text/plain": [
              "(8, [1, 2, 3, 3, 4, 4, 5, 6])"
            ]
          },
          "metadata": {
            "tags": []
          },
          "execution_count": 186
        }
      ]
    },
    {
      "cell_type": "code",
      "metadata": {
        "id": "J1JLzB1BnGEB",
        "colab_type": "code",
        "colab": {
          "base_uri": "https://localhost:8080/",
          "height": 35
        },
        "outputId": "98656c97-c144-4f00-cd34-8462733966e2"
      },
      "source": [
        "lineas_codigo= np.array(range(2,9, 1 ))\n",
        "lineas_codigo"
      ],
      "execution_count": 197,
      "outputs": [
        {
          "output_type": "execute_result",
          "data": {
            "text/plain": [
              "array([2, 3, 4, 5, 6, 7, 8])"
            ]
          },
          "metadata": {
            "tags": []
          },
          "execution_count": 197
        }
      ]
    },
    {
      "cell_type": "code",
      "metadata": {
        "id": "oO_vUaoNpFvY",
        "colab_type": "code",
        "colab": {
          "base_uri": "https://localhost:8080/",
          "height": 141
        },
        "outputId": "85b4eb90-aaa8-40dc-ef62-a7d55151ce40"
      },
      "source": [
        "times = ['n', 'n-1', 'n-1', 'suma de j=2 a n, de tj', 'suma de j=2 a n, de tj-1', 'suma de j=2 a n, de tj-1', 'n-1']\n",
        "times"
      ],
      "execution_count": 198,
      "outputs": [
        {
          "output_type": "execute_result",
          "data": {
            "text/plain": [
              "['n',\n",
              " 'n-1',\n",
              " 'n-1',\n",
              " 'suma de j=2 a n, de tj',\n",
              " 'suma de j=2 a n, de tj-1',\n",
              " 'suma de j=2 a n, de tj-1',\n",
              " 'n-1']"
            ]
          },
          "metadata": {
            "tags": []
          },
          "execution_count": 198
        }
      ]
    },
    {
      "cell_type": "markdown",
      "metadata": {
        "id": "L43giHk2qX31",
        "colab_type": "text"
      },
      "source": [
        "Nota: $t_j$ es el número de vcs que el ciclo while en $linea 5$  es ejecutado para ese valor $j$"
      ]
    },
    {
      "cell_type": "code",
      "metadata": {
        "id": "zEGpmaEEtm-X",
        "colab_type": "code",
        "colab": {}
      },
      "source": [
        "constantes = ['c1','c2', 'c3', 'c4', 'c5', 'c6', 'c7']"
      ],
      "execution_count": 0,
      "outputs": []
    },
    {
      "cell_type": "code",
      "metadata": {
        "id": "Vje49Mwoq0Ic",
        "colab_type": "code",
        "colab": {
          "base_uri": "https://localhost:8080/",
          "height": 264
        },
        "outputId": "6f94fd0a-6025-4ab2-8ae5-65ec023434ae"
      },
      "source": [
        "df = pd.DataFrame({\n",
        "    'lineas': lineas_codigo,\n",
        "    'times':times,\n",
        "    'constantes': constantes\n",
        "})\n",
        "df.head(8)"
      ],
      "execution_count": 203,
      "outputs": [
        {
          "output_type": "execute_result",
          "data": {
            "text/html": [
              "<div>\n",
              "<style scoped>\n",
              "    .dataframe tbody tr th:only-of-type {\n",
              "        vertical-align: middle;\n",
              "    }\n",
              "\n",
              "    .dataframe tbody tr th {\n",
              "        vertical-align: top;\n",
              "    }\n",
              "\n",
              "    .dataframe thead th {\n",
              "        text-align: right;\n",
              "    }\n",
              "</style>\n",
              "<table border=\"1\" class=\"dataframe\">\n",
              "  <thead>\n",
              "    <tr style=\"text-align: right;\">\n",
              "      <th></th>\n",
              "      <th>lineas</th>\n",
              "      <th>times</th>\n",
              "      <th>constantes</th>\n",
              "    </tr>\n",
              "  </thead>\n",
              "  <tbody>\n",
              "    <tr>\n",
              "      <th>0</th>\n",
              "      <td>2</td>\n",
              "      <td>n</td>\n",
              "      <td>c1</td>\n",
              "    </tr>\n",
              "    <tr>\n",
              "      <th>1</th>\n",
              "      <td>3</td>\n",
              "      <td>n-1</td>\n",
              "      <td>c2</td>\n",
              "    </tr>\n",
              "    <tr>\n",
              "      <th>2</th>\n",
              "      <td>4</td>\n",
              "      <td>n-1</td>\n",
              "      <td>c3</td>\n",
              "    </tr>\n",
              "    <tr>\n",
              "      <th>3</th>\n",
              "      <td>5</td>\n",
              "      <td>suma de j=2 a n, de tj</td>\n",
              "      <td>c4</td>\n",
              "    </tr>\n",
              "    <tr>\n",
              "      <th>4</th>\n",
              "      <td>6</td>\n",
              "      <td>suma de j=2 a n, de tj-1</td>\n",
              "      <td>c5</td>\n",
              "    </tr>\n",
              "    <tr>\n",
              "      <th>5</th>\n",
              "      <td>7</td>\n",
              "      <td>suma de j=2 a n, de tj-1</td>\n",
              "      <td>c6</td>\n",
              "    </tr>\n",
              "    <tr>\n",
              "      <th>6</th>\n",
              "      <td>8</td>\n",
              "      <td>n-1</td>\n",
              "      <td>c7</td>\n",
              "    </tr>\n",
              "  </tbody>\n",
              "</table>\n",
              "</div>"
            ],
            "text/plain": [
              "   lineas                     times constantes\n",
              "0       2                         n         c1\n",
              "1       3                       n-1         c2\n",
              "2       4                       n-1         c3\n",
              "3       5    suma de j=2 a n, de tj         c4\n",
              "4       6  suma de j=2 a n, de tj-1         c5\n",
              "5       7  suma de j=2 a n, de tj-1         c6\n",
              "6       8                       n-1         c7"
            ]
          },
          "metadata": {
            "tags": []
          },
          "execution_count": 203
        }
      ]
    },
    {
      "cell_type": "markdown",
      "metadata": {
        "id": "KPa0CJLfrGhP",
        "colab_type": "text"
      },
      "source": [
        "El costo de tiempo total $T(n)$= suma de (los costos x vcs) en cada línea.\n",
        "\n",
        "$T(n)= c_1*n+c_2*(n-1)+c_3*(n-1)+c_4*(\\sum_{j=2}^{n}t_j) \n",
        "+c_5*(\\sum_{j=2}^{n}t_j-1)+c_6*(\\sum_{j=2}^{n}t_j-1)+c_7*(n-1)$"
      ]
    },
    {
      "cell_type": "markdown",
      "metadata": {
        "id": "8YhWJ9RmtYvh",
        "colab_type": "text"
      },
      "source": [
        "#### Caso 1: En el mejor de los casos los números ya estan ordenados en la lista."
      ]
    },
    {
      "cell_type": "markdown",
      "metadata": {
        "id": "REuxwo7gxVsC",
        "colab_type": "text"
      },
      "source": [
        "Nota= En este caso $t_j = 1$ entonces $c_4*(\\sum_{j=2}^{n}t_j)= c_4(n-1)$   y las lineas 6 y 7 se ejecutan 0 vcs\n",
        "\n",
        "\n",
        "\n"
      ]
    },
    {
      "cell_type": "markdown",
      "metadata": {
        "id": "SBoJD0stxuwQ",
        "colab_type": "text"
      },
      "source": [
        "$T(n)= c_1*n+c_2*(n-1)+c_3*(n-1)+c_4(n-1)\n",
        "+c_7*(n-1)$"
      ]
    },
    {
      "cell_type": "markdown",
      "metadata": {
        "id": "GOKTENQ2x9bz",
        "colab_type": "text"
      },
      "source": [
        "$T(n)= (c_1+c_2+c_3*+c_4+c_7)*n+(c_2+c_3*+c_4+c_7)$"
      ]
    },
    {
      "cell_type": "markdown",
      "metadata": {
        "id": "z3WkKtM-zuCT",
        "colab_type": "text"
      },
      "source": [
        "$T(n)= C*n+C'$ entonces aplicando propiedas es O(n), es lineal"
      ]
    },
    {
      "cell_type": "markdown",
      "metadata": {
        "id": "foHr8Qi-z-Y6",
        "colab_type": "text"
      },
      "source": [
        "#### Caso 2: Para el peor caso los números estan en orden inverso."
      ]
    },
    {
      "cell_type": "markdown",
      "metadata": {
        "id": "ul2VMHLV2MqA",
        "colab_type": "text"
      },
      "source": [
        "Nota= En este caso $t_j = j$ entonces $c_4*(\\sum_{j=2}^{n}t_j)= c_4((n(n+1)/2)-1)$   y las lineas 6 y 7 se ejecutan $(\\sum_{j=2}^{n}t_j-1) = n(n-1)/2$ vcs"
      ]
    },
    {
      "cell_type": "markdown",
      "metadata": {
        "id": "l0d5cyHn3Q2J",
        "colab_type": "text"
      },
      "source": [
        "En la linea anterio se aplico la formula de Gauss sobre la sumatoria cunado $t_j = j$ [Formula de Gauss](https://www.youtube.com/watch?v=gp9jNcnvheI)"
      ]
    },
    {
      "cell_type": "markdown",
      "metadata": {
        "id": "pctuCSsF4cBq",
        "colab_type": "text"
      },
      "source": [
        "$T(n)= c_1*n+c_2*(n-1)+c_3*(n-1)+c_4*((n(n+1)/2)-1)  \n",
        "+c_5*n(n−1)/2+c_6*n(n−1)/2+c_7*(n-1)$"
      ]
    },
    {
      "cell_type": "markdown",
      "metadata": {
        "id": "6You1m8z5mR9",
        "colab_type": "text"
      },
      "source": [
        "Aplicando álgebra de toda la vida a lo anterior me queda una ecuacion del tipo:  $an^2+bn+c$"
      ]
    },
    {
      "cell_type": "markdown",
      "metadata": {
        "id": "NW8RVLZF59xH",
        "colab_type": "text"
      },
      "source": [
        "La Big O aplicando las propiedades es O(n²) una funcion cuadratica "
      ]
    },
    {
      "cell_type": "markdown",
      "metadata": {
        "id": "z9GHy_cP6JJ6",
        "colab_type": "text"
      },
      "source": [
        "# Por Fin se termino lo esencial....\n",
        "Investigar sobre [Problemas P y NP](https://www.youtube.com/watch?v=UR2oDYZ-Sao)"
      ]
    },
    {
      "cell_type": "code",
      "metadata": {
        "id": "5J2jbCJU7gfM",
        "colab_type": "code",
        "colab": {}
      },
      "source": [
        ""
      ],
      "execution_count": 0,
      "outputs": []
    }
  ]
}