{
  "nbformat": 4,
  "nbformat_minor": 0,
  "metadata": {
    "colab": {
      "name": "new-r-colab.ipynb",
      "provenance": [],
      "include_colab_link": true
    },
    "kernelspec": {
      "name": "ir",
      "display_name": "R"
    },
    "language_info": {
      "name": "R"
    }
  },
  "cells": [
    {
      "cell_type": "markdown",
      "metadata": {
        "id": "view-in-github",
        "colab_type": "text"
      },
      "source": [
        "<a href=\"https://colab.research.google.com/github/difo23/bitacoras-data-science/blob/main/new_r_colab.ipynb\" target=\"_parent\"><img src=\"https://colab.research.google.com/assets/colab-badge.svg\" alt=\"Open In Colab\"/></a>"
      ]
    },
    {
      "cell_type": "markdown",
      "metadata": {
        "id": "2R7W7pAZhOFh"
      },
      "source": [
        "# Usando R en google colab"
      ]
    },
    {
      "cell_type": "markdown",
      "metadata": {
        "id": "86oMGoSJhVog"
      },
      "source": [
        "\n",
        "[R new notebook](https://colab.research.google.com/notebook#create=true&language=r)"
      ]
    },
    {
      "cell_type": "markdown",
      "metadata": {
        "id": "RGugcsswns2f"
      },
      "source": [
        "## Install new packages"
      ]
    },
    {
      "cell_type": "code",
      "metadata": {
        "id": "CZ17ZdZPfm9n",
        "colab": {
          "base_uri": "https://localhost:8080/"
        },
        "outputId": "9454b342-c68c-4017-9f55-1ff4a8df42d5"
      },
      "source": [
        "install.packages(\"palmerpenguins\")"
      ],
      "execution_count": 5,
      "outputs": [
        {
          "output_type": "stream",
          "text": [
            "Installing package into ‘/usr/local/lib/R/site-library’\n",
            "(as ‘lib’ is unspecified)\n",
            "\n"
          ],
          "name": "stderr"
        }
      ]
    },
    {
      "cell_type": "markdown",
      "metadata": {
        "id": "anoz5ep6nyks"
      },
      "source": [
        "## Use library"
      ]
    },
    {
      "cell_type": "code",
      "metadata": {
        "id": "tvLsewfhmUWw"
      },
      "source": [
        "library(\"palmerpenguins\")"
      ],
      "execution_count": 6,
      "outputs": []
    },
    {
      "cell_type": "markdown",
      "metadata": {
        "id": "iiAFV6-gn6B1"
      },
      "source": [
        "# Use summary for describe datasets"
      ]
    },
    {
      "cell_type": "code",
      "metadata": {
        "colab": {
          "base_uri": "https://localhost:8080/",
          "height": 305
        },
        "id": "1cU_QIxGmaTx",
        "outputId": "64506f74-2df7-48a4-c276-2772db025338"
      },
      "source": [
        "summary(penguins)"
      ],
      "execution_count": 7,
      "outputs": [
        {
          "output_type": "display_data",
          "data": {
            "text/plain": [
              "      species          island    bill_length_mm  bill_depth_mm  \n",
              " Adelie   :152   Biscoe   :168   Min.   :32.10   Min.   :13.10  \n",
              " Chinstrap: 68   Dream    :124   1st Qu.:39.23   1st Qu.:15.60  \n",
              " Gentoo   :124   Torgersen: 52   Median :44.45   Median :17.30  \n",
              "                                 Mean   :43.92   Mean   :17.15  \n",
              "                                 3rd Qu.:48.50   3rd Qu.:18.70  \n",
              "                                 Max.   :59.60   Max.   :21.50  \n",
              "                                 NA's   :2       NA's   :2      \n",
              " flipper_length_mm  body_mass_g       sex           year     \n",
              " Min.   :172.0     Min.   :2700   female:165   Min.   :2007  \n",
              " 1st Qu.:190.0     1st Qu.:3550   male  :168   1st Qu.:2007  \n",
              " Median :197.0     Median :4050   NA's  : 11   Median :2008  \n",
              " Mean   :200.9     Mean   :4202                Mean   :2008  \n",
              " 3rd Qu.:213.0     3rd Qu.:4750                3rd Qu.:2009  \n",
              " Max.   :231.0     Max.   :6300                Max.   :2009  \n",
              " NA's   :2         NA's   :2                                 "
            ]
          },
          "metadata": {
            "tags": []
          }
        }
      ]
    },
    {
      "cell_type": "code",
      "metadata": {
        "colab": {
          "base_uri": "https://localhost:8080/",
          "height": 407
        },
        "id": "nhyvNWdBmnqj",
        "outputId": "38f082dd-4af8-4c49-a048-4300d008eb94"
      },
      "source": [
        "# Head for show the first line of the data set\n",
        "head(penguins, 10)"
      ],
      "execution_count": 13,
      "outputs": [
        {
          "output_type": "display_data",
          "data": {
            "text/plain": [
              "   species island    bill_length_mm bill_depth_mm flipper_length_mm body_mass_g\n",
              "1  Adelie  Torgersen 39.1           18.7          181               3750       \n",
              "2  Adelie  Torgersen 39.5           17.4          186               3800       \n",
              "3  Adelie  Torgersen 40.3           18.0          195               3250       \n",
              "4  Adelie  Torgersen   NA             NA           NA                 NA       \n",
              "5  Adelie  Torgersen 36.7           19.3          193               3450       \n",
              "6  Adelie  Torgersen 39.3           20.6          190               3650       \n",
              "7  Adelie  Torgersen 38.9           17.8          181               3625       \n",
              "8  Adelie  Torgersen 39.2           19.6          195               4675       \n",
              "9  Adelie  Torgersen 34.1           18.1          193               3475       \n",
              "10 Adelie  Torgersen 42.0           20.2          190               4250       \n",
              "   sex    year\n",
              "1  male   2007\n",
              "2  female 2007\n",
              "3  female 2007\n",
              "4  NA     2007\n",
              "5  female 2007\n",
              "6  male   2007\n",
              "7  female 2007\n",
              "8  male   2007\n",
              "9  NA     2007\n",
              "10 NA     2007"
            ],
            "text/latex": "A tibble: 10 × 8\n\\begin{tabular}{llllllll}\n species & island & bill\\_length\\_mm & bill\\_depth\\_mm & flipper\\_length\\_mm & body\\_mass\\_g & sex & year\\\\\n <fct> & <fct> & <dbl> & <dbl> & <int> & <int> & <fct> & <int>\\\\\n\\hline\n\t Adelie & Torgersen & 39.1 & 18.7 & 181 & 3750 & male   & 2007\\\\\n\t Adelie & Torgersen & 39.5 & 17.4 & 186 & 3800 & female & 2007\\\\\n\t Adelie & Torgersen & 40.3 & 18.0 & 195 & 3250 & female & 2007\\\\\n\t Adelie & Torgersen &   NA &   NA &  NA &   NA & NA     & 2007\\\\\n\t Adelie & Torgersen & 36.7 & 19.3 & 193 & 3450 & female & 2007\\\\\n\t Adelie & Torgersen & 39.3 & 20.6 & 190 & 3650 & male   & 2007\\\\\n\t Adelie & Torgersen & 38.9 & 17.8 & 181 & 3625 & female & 2007\\\\\n\t Adelie & Torgersen & 39.2 & 19.6 & 195 & 4675 & male   & 2007\\\\\n\t Adelie & Torgersen & 34.1 & 18.1 & 193 & 3475 & NA     & 2007\\\\\n\t Adelie & Torgersen & 42.0 & 20.2 & 190 & 4250 & NA     & 2007\\\\\n\\end{tabular}\n",
            "text/markdown": "\nA tibble: 10 × 8\n\n| species &lt;fct&gt; | island &lt;fct&gt; | bill_length_mm &lt;dbl&gt; | bill_depth_mm &lt;dbl&gt; | flipper_length_mm &lt;int&gt; | body_mass_g &lt;int&gt; | sex &lt;fct&gt; | year &lt;int&gt; |\n|---|---|---|---|---|---|---|---|\n| Adelie | Torgersen | 39.1 | 18.7 | 181 | 3750 | male   | 2007 |\n| Adelie | Torgersen | 39.5 | 17.4 | 186 | 3800 | female | 2007 |\n| Adelie | Torgersen | 40.3 | 18.0 | 195 | 3250 | female | 2007 |\n| Adelie | Torgersen |   NA |   NA |  NA |   NA | NA     | 2007 |\n| Adelie | Torgersen | 36.7 | 19.3 | 193 | 3450 | female | 2007 |\n| Adelie | Torgersen | 39.3 | 20.6 | 190 | 3650 | male   | 2007 |\n| Adelie | Torgersen | 38.9 | 17.8 | 181 | 3625 | female | 2007 |\n| Adelie | Torgersen | 39.2 | 19.6 | 195 | 4675 | male   | 2007 |\n| Adelie | Torgersen | 34.1 | 18.1 | 193 | 3475 | NA     | 2007 |\n| Adelie | Torgersen | 42.0 | 20.2 | 190 | 4250 | NA     | 2007 |\n\n",
            "text/html": [
              "<table class=\"dataframe\">\n",
              "<caption>A tibble: 10 × 8</caption>\n",
              "<thead>\n",
              "\t<tr><th scope=col>species</th><th scope=col>island</th><th scope=col>bill_length_mm</th><th scope=col>bill_depth_mm</th><th scope=col>flipper_length_mm</th><th scope=col>body_mass_g</th><th scope=col>sex</th><th scope=col>year</th></tr>\n",
              "\t<tr><th scope=col>&lt;fct&gt;</th><th scope=col>&lt;fct&gt;</th><th scope=col>&lt;dbl&gt;</th><th scope=col>&lt;dbl&gt;</th><th scope=col>&lt;int&gt;</th><th scope=col>&lt;int&gt;</th><th scope=col>&lt;fct&gt;</th><th scope=col>&lt;int&gt;</th></tr>\n",
              "</thead>\n",
              "<tbody>\n",
              "\t<tr><td>Adelie</td><td>Torgersen</td><td>39.1</td><td>18.7</td><td>181</td><td>3750</td><td>male  </td><td>2007</td></tr>\n",
              "\t<tr><td>Adelie</td><td>Torgersen</td><td>39.5</td><td>17.4</td><td>186</td><td>3800</td><td>female</td><td>2007</td></tr>\n",
              "\t<tr><td>Adelie</td><td>Torgersen</td><td>40.3</td><td>18.0</td><td>195</td><td>3250</td><td>female</td><td>2007</td></tr>\n",
              "\t<tr><td>Adelie</td><td>Torgersen</td><td>  NA</td><td>  NA</td><td> NA</td><td>  NA</td><td>NA    </td><td>2007</td></tr>\n",
              "\t<tr><td>Adelie</td><td>Torgersen</td><td>36.7</td><td>19.3</td><td>193</td><td>3450</td><td>female</td><td>2007</td></tr>\n",
              "\t<tr><td>Adelie</td><td>Torgersen</td><td>39.3</td><td>20.6</td><td>190</td><td>3650</td><td>male  </td><td>2007</td></tr>\n",
              "\t<tr><td>Adelie</td><td>Torgersen</td><td>38.9</td><td>17.8</td><td>181</td><td>3625</td><td>female</td><td>2007</td></tr>\n",
              "\t<tr><td>Adelie</td><td>Torgersen</td><td>39.2</td><td>19.6</td><td>195</td><td>4675</td><td>male  </td><td>2007</td></tr>\n",
              "\t<tr><td>Adelie</td><td>Torgersen</td><td>34.1</td><td>18.1</td><td>193</td><td>3475</td><td>NA    </td><td>2007</td></tr>\n",
              "\t<tr><td>Adelie</td><td>Torgersen</td><td>42.0</td><td>20.2</td><td>190</td><td>4250</td><td>NA    </td><td>2007</td></tr>\n",
              "</tbody>\n",
              "</table>\n"
            ]
          },
          "metadata": {
            "tags": []
          }
        }
      ]
    },
    {
      "cell_type": "code",
      "metadata": {
        "id": "4OTUJQEaoGhY"
      },
      "source": [
        ""
      ],
      "execution_count": null,
      "outputs": []
    }
  ]
}