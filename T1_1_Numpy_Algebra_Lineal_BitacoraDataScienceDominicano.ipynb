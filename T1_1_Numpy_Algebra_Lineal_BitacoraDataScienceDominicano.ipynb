{
  "nbformat": 4,
  "nbformat_minor": 0,
  "metadata": {
    "colab": {
      "name": "T1.1_Numpy_Algebra_Lineal_BitacoraDataScienceDominicano.ipynb",
      "version": "0.3.2",
      "provenance": [],
      "collapsed_sections": [],
      "toc_visible": true,
      "include_colab_link": true
    },
    "kernelspec": {
      "name": "python3",
      "display_name": "Python 3"
    }
  },
  "cells": [
    {
      "cell_type": "markdown",
      "metadata": {
        "id": "view-in-github",
        "colab_type": "text"
      },
      "source": [
        "<a href=\"https://colab.research.google.com/github/difo23/BitacorasDataScienceDominicano/blob/master/T1_1_Numpy_Algebra_Lineal_BitacoraDataScienceDominicano.ipynb\" target=\"_parent\"><img src=\"https://colab.research.google.com/assets/colab-badge.svg\" alt=\"Open In Colab\"/></a>"
      ]
    },
    {
      "cell_type": "markdown",
      "metadata": {
        "id": "aLTVxQAJrhqj",
        "colab_type": "text"
      },
      "source": [
        "# Bitácora de un Data Science Dominicano:\n",
        "### NumPy y Álgebra lineal\n",
        "* Itertools: Funciones que crean iteradores para un bucle eficiente\n",
        "* Permutaciones y Combinaciones con itertools.\n",
        "* ¿ Que es el álgebra lineal ?\n",
        "* Aplicaciones del álgebra lineal.\n",
        "* Matrices.\n",
        "* Vectores.\n",
        "* Transformación Lineal.\n",
        "* Eigenvalues y Eigenvectors.\n",
        "* Operaciones aritmeticas con matrices.\n",
        "* Multiplicacion de matrices con el operador @.\n",
        "* Librerias NumPy para algebra lineal 'numpy.linalg'.\n",
        "* Transponer Matrices con NumPy.\n",
        "* Matriz inversa con NumPy.\n",
        "* Determinante y trazo.\n",
        "* Multiplicacion punto.\n",
        "* Proyecciones.\n",
        "\n",
        "\n"
      ]
    },
    {
      "cell_type": "markdown",
      "metadata": {
        "id": "nb_IAEk9nUcc",
        "colab_type": "text"
      },
      "source": [
        "## [Itertools:](https://docs.python.org/3/library/itertools.html) Funciones que crean iteradores para un bucle eficiente"
      ]
    },
    {
      "cell_type": "markdown",
      "metadata": {
        "id": "k4Qvm3jZe0x0",
        "colab_type": "text"
      },
      "source": [
        "### Introducción a Itertools:"
      ]
    },
    {
      "cell_type": "code",
      "metadata": {
        "colab_type": "code",
        "id": "Tf9y3Mqdezb4",
        "colab": {}
      },
      "source": [
        "#Librería usada para trabajar con iteradores, utilidades para permutaciones y combinaciones.\n",
        "import itertools as it"
      ],
      "execution_count": 0,
      "outputs": []
    },
    {
      "cell_type": "code",
      "metadata": {
        "id": "dcpTIVEJbHE_",
        "colab_type": "code",
        "colab": {}
      },
      "source": [
        "it.count?"
      ],
      "execution_count": 0,
      "outputs": []
    },
    {
      "cell_type": "code",
      "metadata": {
        "id": "g_b-8VjgbfNM",
        "colab_type": "code",
        "colab": {}
      },
      "source": [
        "#creo una variable itertools, que contiene un contador desde start=8, con pasos  step=8.\n",
        "result_count = it.count(8, 8)"
      ],
      "execution_count": 0,
      "outputs": []
    },
    {
      "cell_type": "code",
      "metadata": {
        "id": "ZFXEAGorbr4W",
        "colab_type": "code",
        "outputId": "e10eec1f-f857-4d8b-b36e-5daa01f49877",
        "colab": {
          "base_uri": "https://localhost:8080/",
          "height": 34
        }
      },
      "source": [
        "type(result_count)"
      ],
      "execution_count": 0,
      "outputs": [
        {
          "output_type": "execute_result",
          "data": {
            "text/plain": [
              "itertools.count"
            ]
          },
          "metadata": {
            "tags": []
          },
          "execution_count": 12
        }
      ]
    },
    {
      "cell_type": "code",
      "metadata": {
        "id": "vptYRhxVck1U",
        "colab_type": "code",
        "colab": {}
      },
      "source": [
        "# Puedo recorrer mi variable como un iterador , \n",
        "# si no limito el conteo hasta 60 sera infinito\n",
        "for elemento in result_count:\n",
        "  print(elemento)\n",
        "  if elemento > 60:\n",
        "    break"
      ],
      "execution_count": 0,
      "outputs": []
    },
    {
      "cell_type": "code",
      "metadata": {
        "id": "y20XLsoQc-z_",
        "colab_type": "code",
        "outputId": "3acf5bfd-1af1-4b7e-ea05-91b673774c77",
        "colab": {
          "base_uri": "https://localhost:8080/",
          "height": 34
        }
      },
      "source": [
        "# Mi variable almacena la posicion de conteo. Ejemplo este resultado presentara\n",
        "# un count(72,8) donde 72 representa el siguiente numero al salir del loop for\n",
        "print(result_count)"
      ],
      "execution_count": 0,
      "outputs": [
        {
          "output_type": "stream",
          "text": [
            "count(72, 8)\n"
          ],
          "name": "stdout"
        }
      ]
    },
    {
      "cell_type": "code",
      "metadata": {
        "id": "5xpGgByfdUDR",
        "colab_type": "code",
        "colab": {}
      },
      "source": [
        "# Otra funcion de Itertools es repeat, en este caso crea un iterador \n",
        "# con cinco 1's\n",
        "result_repeat = it.repeat(1,5)"
      ],
      "execution_count": 0,
      "outputs": []
    },
    {
      "cell_type": "code",
      "metadata": {
        "id": "xIiHu-6QdtNV",
        "colab_type": "code",
        "outputId": "0dd325d8-8066-4ab3-a454-e398f3441848",
        "colab": {
          "base_uri": "https://localhost:8080/",
          "height": 34
        }
      },
      "source": [
        "type(result_repeat)"
      ],
      "execution_count": 0,
      "outputs": [
        {
          "output_type": "execute_result",
          "data": {
            "text/plain": [
              "itertools.repeat"
            ]
          },
          "metadata": {
            "tags": []
          },
          "execution_count": 19
        }
      ]
    },
    {
      "cell_type": "code",
      "metadata": {
        "id": "jF-FNnw0d5lq",
        "colab_type": "code",
        "outputId": "50f7e6a4-6c39-483f-b9f0-d36a268b420a",
        "colab": {
          "base_uri": "https://localhost:8080/",
          "height": 104
        }
      },
      "source": [
        "# imprimo los cinco 1's por pantalla\n",
        "for elemento in result_repeat:\n",
        "  print(elemento)"
      ],
      "execution_count": 0,
      "outputs": [
        {
          "output_type": "stream",
          "text": [
            "1\n",
            "1\n",
            "1\n",
            "1\n",
            "1\n"
          ],
          "name": "stdout"
        }
      ]
    },
    {
      "cell_type": "code",
      "metadata": {
        "id": "DF2nTcCaeLAb",
        "colab_type": "code",
        "colab": {}
      },
      "source": [
        "# importo la libreria numpy, es recomendables importar todas las librerias\n",
        "# que usaras al inicio de cada notebook\n",
        "import numpy as np"
      ],
      "execution_count": 0,
      "outputs": []
    },
    {
      "cell_type": "code",
      "metadata": {
        "id": "UocsdZLheUE5",
        "colab_type": "code",
        "colab": {}
      },
      "source": [
        "# Puedo convertir el itertools obj en una lista comun.\n",
        "arr = list(result_repeat)"
      ],
      "execution_count": 0,
      "outputs": []
    },
    {
      "cell_type": "code",
      "metadata": {
        "id": "J9PIvnlLed8R",
        "colab_type": "code",
        "outputId": "a98bd354-b887-481e-8bac-291d2e4a767e",
        "colab": {
          "base_uri": "https://localhost:8080/",
          "height": 34
        }
      },
      "source": [
        "arr"
      ],
      "execution_count": 0,
      "outputs": [
        {
          "output_type": "execute_result",
          "data": {
            "text/plain": [
              "[1, 1, 1, 1, 1]"
            ]
          },
          "metadata": {
            "tags": []
          },
          "execution_count": 38
        }
      ]
    },
    {
      "cell_type": "code",
      "metadata": {
        "id": "H2MV7PSleoJ5",
        "colab_type": "code",
        "outputId": "8ec0381c-7ff1-44ee-f054-aef09baac02c",
        "colab": {
          "base_uri": "https://localhost:8080/",
          "height": 34
        }
      },
      "source": [
        "# Puedo crear un arreglo numpy con este resultado.\n",
        "arr_numpy = np.array(arr)\n",
        "arr_numpy"
      ],
      "execution_count": 0,
      "outputs": [
        {
          "output_type": "execute_result",
          "data": {
            "text/plain": [
              "array([1, 1, 1, 1, 1])"
            ]
          },
          "metadata": {
            "tags": []
          },
          "execution_count": 41
        }
      ]
    },
    {
      "cell_type": "markdown",
      "metadata": {
        "id": "wkRwL-Dyeqgx",
        "colab_type": "text"
      },
      "source": [
        "### Producto cartesiano:"
      ]
    },
    {
      "cell_type": "code",
      "metadata": {
        "id": "uJj9lKiEvWaT",
        "colab_type": "code",
        "colab": {}
      },
      "source": [
        "# itertools.product(*iterables, repeat=1)\n",
        "# realiza el producto cartesiano entre el iterable str 'ABCD' y el iterable 'XYZ'\n",
        "# Resp. conjunto de tuplas con cada operacion ('A', 'X'), ('A', 'Y') ...\n",
        "\n",
        "result_product = it.product('ABCD', 'XYZ', repeat=1)"
      ],
      "execution_count": 0,
      "outputs": []
    },
    {
      "cell_type": "code",
      "metadata": {
        "id": "YUJeIfIIwJJX",
        "colab_type": "code",
        "colab": {}
      },
      "source": [
        "for element in result_product:\n",
        "  print(element)"
      ],
      "execution_count": 0,
      "outputs": []
    },
    {
      "cell_type": "markdown",
      "metadata": {
        "id": "fV-n-Vrq40sx",
        "colab_type": "text"
      },
      "source": [
        "### Permutaciones:\n",
        "Una permutación de un conjunto de elementos, es una disposición de dichos elementos teniendo en cuenta el orden. El número de permutaciones de “n” elementos tomados de “k” en “k” se calcula con itertools:\n"
      ]
    },
    {
      "cell_type": "code",
      "metadata": {
        "id": "lnkfeKTdwYP_",
        "colab_type": "code",
        "colab": {}
      },
      "source": [
        "# permutaciones itertools.permutations(iterable, r=None)\n",
        "result_permut= it.permutations(range(1,4))"
      ],
      "execution_count": 0,
      "outputs": []
    },
    {
      "cell_type": "code",
      "metadata": {
        "id": "cm8CDNO12jjh",
        "colab_type": "code",
        "colab": {
          "base_uri": "https://localhost:8080/",
          "height": 120
        },
        "outputId": "0b7dd8e1-6a9f-434d-e763-68353b798d47"
      },
      "source": [
        "for element in result_permut:\n",
        "  print(element)"
      ],
      "execution_count": 53,
      "outputs": [
        {
          "output_type": "stream",
          "text": [
            "(1, 2, 3)\n",
            "(1, 3, 2)\n",
            "(2, 1, 3)\n",
            "(2, 3, 1)\n",
            "(3, 1, 2)\n",
            "(3, 2, 1)\n"
          ],
          "name": "stdout"
        }
      ]
    },
    {
      "cell_type": "code",
      "metadata": {
        "id": "4TbtwXmd22CH",
        "colab_type": "code",
        "colab": {}
      },
      "source": [
        "result_permut= it.permutations('ABC')"
      ],
      "execution_count": 0,
      "outputs": []
    },
    {
      "cell_type": "code",
      "metadata": {
        "id": "6cyC06Ll3WWS",
        "colab_type": "code",
        "colab": {
          "base_uri": "https://localhost:8080/",
          "height": 120
        },
        "outputId": "204ce7b0-da71-441f-b5e1-d695190baef4"
      },
      "source": [
        "for element in result_permut:\n",
        "  print(element)"
      ],
      "execution_count": 57,
      "outputs": [
        {
          "output_type": "stream",
          "text": [
            "('A', 'B', 'C')\n",
            "('A', 'C', 'B')\n",
            "('B', 'A', 'C')\n",
            "('B', 'C', 'A')\n",
            "('C', 'A', 'B')\n",
            "('C', 'B', 'A')\n"
          ],
          "name": "stdout"
        }
      ]
    },
    {
      "cell_type": "code",
      "metadata": {
        "id": "K0JNhTWj3Yih",
        "colab_type": "code",
        "colab": {}
      },
      "source": [
        "result_permut= it.permutations('ABC', r= 2)"
      ],
      "execution_count": 0,
      "outputs": []
    },
    {
      "cell_type": "code",
      "metadata": {
        "id": "TE_RQeGL4nwG",
        "colab_type": "code",
        "colab": {
          "resources": {
            "http://localhost:8080/gen204?invalidResponse=q=https%3A%2F%2Ftranslate.googleapis.com%2Ftranslate_a%2Fsingle%3Fclient%3Dgtx%26s,ql=147,r=,rl=0": {
              "data": "CjwhRE9DVFlQRSBodG1sPgo8aHRtbCBsYW5nPWVuPgogIDxtZXRhIGNoYXJzZXQ9dXRmLTg+CiAgPG1ldGEgbmFtZT12aWV3cG9ydCBjb250ZW50PSJpbml0aWFsLXNjYWxlPTEsIG1pbmltdW0tc2NhbGU9MSwgd2lkdGg9ZGV2aWNlLXdpZHRoIj4KICA8dGl0bGU+RXJyb3IgNDA0IChOb3QgRm91bmQpISExPC90aXRsZT4KICA8c3R5bGU+CiAgICAqe21hcmdpbjowO3BhZGRpbmc6MH1odG1sLGNvZGV7Zm9udDoxNXB4LzIycHggYXJpYWwsc2Fucy1zZXJpZn1odG1se2JhY2tncm91bmQ6I2ZmZjtjb2xvcjojMjIyO3BhZGRpbmc6MTVweH1ib2R5e21hcmdpbjo3JSBhdXRvIDA7bWF4LXdpZHRoOjM5MHB4O21pbi1oZWlnaHQ6MTgwcHg7cGFkZGluZzozMHB4IDAgMTVweH0qID4gYm9keXtiYWNrZ3JvdW5kOnVybCgvL3d3dy5nb29nbGUuY29tL2ltYWdlcy9lcnJvcnMvcm9ib3QucG5nKSAxMDAlIDVweCBuby1yZXBlYXQ7cGFkZGluZy1yaWdodDoyMDVweH1we21hcmdpbjoxMXB4IDAgMjJweDtvdmVyZmxvdzpoaWRkZW59aW5ze2NvbG9yOiM3Nzc7dGV4dC1kZWNvcmF0aW9uOm5vbmV9YSBpbWd7Ym9yZGVyOjB9QG1lZGlhIHNjcmVlbiBhbmQgKG1heC13aWR0aDo3NzJweCl7Ym9keXtiYWNrZ3JvdW5kOm5vbmU7bWFyZ2luLXRvcDowO21heC13aWR0aDpub25lO3BhZGRpbmctcmlnaHQ6MH19I2xvZ297YmFja2dyb3VuZDp1cmwoLy93d3cuZ29vZ2xlLmNvbS9pbWFnZXMvbG9nb3MvZXJyb3JwYWdlL2Vycm9yX2xvZ28tMTUweDU0LnBuZykgbm8tcmVwZWF0O21hcmdpbi1sZWZ0Oi01cHh9QG1lZGlhIG9ubHkgc2NyZWVuIGFuZCAobWluLXJlc29sdXRpb246MTkyZHBpKXsjbG9nb3tiYWNrZ3JvdW5kOnVybCgvL3d3dy5nb29nbGUuY29tL2ltYWdlcy9sb2dvcy9lcnJvcnBhZ2UvZXJyb3JfbG9nby0xNTB4NTQtMngucG5nKSBuby1yZXBlYXQgMCUgMCUvMTAwJSAxMDAlOy1tb3otYm9yZGVyLWltYWdlOnVybCgvL3d3dy5nb29nbGUuY29tL2ltYWdlcy9sb2dvcy9lcnJvcnBhZ2UvZXJyb3JfbG9nby0xNTB4NTQtMngucG5nKSAwfX1AbWVkaWEgb25seSBzY3JlZW4gYW5kICgtd2Via2l0LW1pbi1kZXZpY2UtcGl4ZWwtcmF0aW86Mil7I2xvZ297YmFja2dyb3VuZDp1cmwoLy93d3cuZ29vZ2xlLmNvbS9pbWFnZXMvbG9nb3MvZXJyb3JwYWdlL2Vycm9yX2xvZ28tMTUweDU0LTJ4LnBuZykgbm8tcmVwZWF0Oy13ZWJraXQtYmFja2dyb3VuZC1zaXplOjEwMCUgMTAwJX19I2xvZ297ZGlzcGxheTppbmxpbmUtYmxvY2s7aGVpZ2h0OjU0cHg7d2lkdGg6MTUwcHh9CiAgPC9zdHlsZT4KICA8YSBocmVmPS8vd3d3Lmdvb2dsZS5jb20vPjxzcGFuIGlkPWxvZ28gYXJpYS1sYWJlbD1Hb29nbGU+PC9zcGFuPjwvYT4KICA8cD48Yj40MDQuPC9iPiA8aW5zPlRoYXTigJlzIGFuIGVycm9yLjwvaW5zPgogIDxwPiAgPGlucz5UaGF04oCZcyBhbGwgd2Uga25vdy48L2lucz4K",
              "ok": false,
              "headers": [
                [
                  "content-length",
                  "1449"
                ],
                [
                  "content-type",
                  "text/html; charset=utf-8"
                ]
              ],
              "status": 404,
              "status_text": ""
            }
          },
          "base_uri": "https://localhost:8080/",
          "height": 120
        },
        "outputId": "fa366576-07d6-443c-f07c-b75d28a1f1e3"
      },
      "source": [
        "for element in result_permut:\n",
        "  print(element)"
      ],
      "execution_count": 59,
      "outputs": [
        {
          "output_type": "stream",
          "text": [
            "('A', 'B')\n",
            "('A', 'C')\n",
            "('B', 'A')\n",
            "('B', 'C')\n",
            "('C', 'A')\n",
            "('C', 'B')\n"
          ],
          "name": "stdout"
        }
      ]
    },
    {
      "cell_type": "markdown",
      "metadata": {
        "id": "-3wNeWCF4pk-",
        "colab_type": "text"
      },
      "source": [
        "### *Combinaciones*\n",
        "Una combinación de un conjunto de elementos, es una selección de dichos elementos sin tener en cuenta el orden."
      ]
    },
    {
      "cell_type": "code",
      "metadata": {
        "id": "1Tf2u_4i47cL",
        "colab_type": "code",
        "colab": {}
      },
      "source": [
        "# itertools.combinations(iterable, r)\n",
        "result_comb= it.combinations('ABC', r= 2)"
      ],
      "execution_count": 0,
      "outputs": []
    },
    {
      "cell_type": "code",
      "metadata": {
        "id": "XMPHKzAg5Nbh",
        "colab_type": "code",
        "colab": {
          "base_uri": "https://localhost:8080/",
          "height": 68
        },
        "outputId": "e8aa33b6-f9e6-440a-807e-38b3d697586e"
      },
      "source": [
        "for element in result_comb:\n",
        "  print(element)"
      ],
      "execution_count": 63,
      "outputs": [
        {
          "output_type": "stream",
          "text": [
            "('A', 'B')\n",
            "('A', 'C')\n",
            "('B', 'C')\n"
          ],
          "name": "stdout"
        }
      ]
    },
    {
      "cell_type": "markdown",
      "metadata": {
        "id": "EtO38LPwg6rY",
        "colab_type": "text"
      },
      "source": [
        "### Combinaciones con remplazo"
      ]
    },
    {
      "cell_type": "code",
      "metadata": {
        "colab_type": "code",
        "id": "OO1vNoHYg6NI",
        "colab": {}
      },
      "source": [
        "# itertools.combinations_with_replacement(iterable, r)\n",
        "result_comb_with_replacement= it.combinations_with_replacement('ABC', r= 2)"
      ],
      "execution_count": 0,
      "outputs": []
    },
    {
      "cell_type": "code",
      "metadata": {
        "id": "qIULUpls5r-L",
        "colab_type": "code",
        "colab": {
          "base_uri": "https://localhost:8080/",
          "height": 120
        },
        "outputId": "3e07c9d4-5599-4749-847d-b8ac5c7c2a33"
      },
      "source": [
        "for element in result_comb_with_replacement:\n",
        "  print(element)"
      ],
      "execution_count": 67,
      "outputs": [
        {
          "output_type": "stream",
          "text": [
            "('A', 'A')\n",
            "('A', 'B')\n",
            "('A', 'C')\n",
            "('B', 'B')\n",
            "('B', 'C')\n",
            "('C', 'C')\n"
          ],
          "name": "stdout"
        }
      ]
    },
    {
      "cell_type": "markdown",
      "metadata": {
        "id": "X3jIsIfa5t5N",
        "colab_type": "text"
      },
      "source": [
        "### Ejercicios:"
      ]
    },
    {
      "cell_type": "markdown",
      "metadata": {
        "id": "HG400Z6m70HV",
        "colab_type": "text"
      },
      "source": [
        "1. Eduardo, Carlos y Sergio se han presentado a un concurso de pintura. El concurso otorga 200 pesos al  primer  lugar  y 100 pesos al segundo. ¿De cuántas formas se pueden repartir los premios de primer y segundo lugar?\n"
      ]
    },
    {
      "cell_type": "code",
      "metadata": {
        "id": "f8bB5Z3t8D1v",
        "colab_type": "code",
        "colab": {}
      },
      "source": [
        "#creo un objeto iterable con los elementos a ordenar.\n",
        "\n",
        "iter = ['Eduardo', 'Carlos', 'Sergio']"
      ],
      "execution_count": 0,
      "outputs": []
    },
    {
      "cell_type": "code",
      "metadata": {
        "id": "JrSTq6No8oEj",
        "colab_type": "code",
        "colab": {}
      },
      "source": [
        "# notar que importa el orden de los elementos, asi que es una permutaciòn.\n",
        "# r= 2 por los lugares del premio en cuestion.\n",
        "result = it.permutations(iter, r=2)\n",
        "arrx = []"
      ],
      "execution_count": 0,
      "outputs": []
    },
    {
      "cell_type": "code",
      "metadata": {
        "id": "QlxKe0C287E5",
        "colab_type": "code",
        "colab": {
          "base_uri": "https://localhost:8080/",
          "height": 120
        },
        "outputId": "7df9083e-64fb-4d7e-f726-e2df18919617"
      },
      "source": [
        "for element in result:\n",
        "  print(element)\n",
        "  arrx.append(element)"
      ],
      "execution_count": 81,
      "outputs": [
        {
          "output_type": "stream",
          "text": [
            "('Eduardo', 'Carlos')\n",
            "('Eduardo', 'Sergio')\n",
            "('Carlos', 'Eduardo')\n",
            "('Carlos', 'Sergio')\n",
            "('Sergio', 'Eduardo')\n",
            "('Sergio', 'Carlos')\n"
          ],
          "name": "stdout"
        }
      ]
    },
    {
      "cell_type": "code",
      "metadata": {
        "id": "IT5J5Uet8_xo",
        "colab_type": "code",
        "colab": {
          "base_uri": "https://localhost:8080/",
          "height": 34
        },
        "outputId": "db27a85d-ae42-44c0-e9cb-9f2509214df6"
      },
      "source": [
        "result = len(arrx)\n",
        "print('El numero de formas en que puedo repartir los premios es: ',result)"
      ],
      "execution_count": 83,
      "outputs": [
        {
          "output_type": "stream",
          "text": [
            "El numero de formas en que puedo repartir los premios es:  6\n"
          ],
          "name": "stdout"
        }
      ]
    },
    {
      "cell_type": "markdown",
      "metadata": {
        "id": "faaWfKBN9QqQ",
        "colab_type": "text"
      },
      "source": [
        "2.  Un chef va a preparar una ensalada de verduras con tomate, zanahoria, papa y brócoli. ¿De cuántas formas se puede preparar la ensalada usando solo 2 ingredientes?"
      ]
    },
    {
      "cell_type": "code",
      "metadata": {
        "id": "stG4TIMpZ1Ix",
        "colab_type": "code",
        "colab": {}
      },
      "source": [
        "iter = ['Tomate', 'Zanahoria', 'Papa', 'Brócoli']"
      ],
      "execution_count": 0,
      "outputs": []
    },
    {
      "cell_type": "code",
      "metadata": {
        "id": "VHIRwAz9aiKo",
        "colab_type": "code",
        "colab": {}
      },
      "source": [
        "# Aqui el orden no importa!\n",
        "result = it.combinations(iter, r=2)\n",
        "arrx = []"
      ],
      "execution_count": 0,
      "outputs": []
    },
    {
      "cell_type": "code",
      "metadata": {
        "id": "Q2h8qv9SayZQ",
        "colab_type": "code",
        "colab": {
          "base_uri": "https://localhost:8080/",
          "height": 120
        },
        "outputId": "a91ad74a-4e76-4ae7-bf2d-b1980ca93f17"
      },
      "source": [
        "for element in result:\n",
        "  print(element)\n",
        "  arrx.append(element)"
      ],
      "execution_count": 86,
      "outputs": [
        {
          "output_type": "stream",
          "text": [
            "('Tomate', 'Zanahoria')\n",
            "('Tomate', 'Papa')\n",
            "('Tomate', 'Brócoli')\n",
            "('Zanahoria', 'Papa')\n",
            "('Zanahoria', 'Brócoli')\n",
            "('Papa', 'Brócoli')\n"
          ],
          "name": "stdout"
        }
      ]
    },
    {
      "cell_type": "code",
      "metadata": {
        "id": "wB8tUFBwa0nb",
        "colab_type": "code",
        "colab": {
          "base_uri": "https://localhost:8080/",
          "height": 34
        },
        "outputId": "550e25cb-7ae9-42b3-ae78-24ffac25c845"
      },
      "source": [
        "result = len(arrx)\n",
        "print('El numero de formas en que puedo repartir las verduras es: ',result)"
      ],
      "execution_count": 87,
      "outputs": [
        {
          "output_type": "stream",
          "text": [
            "El numero de formas en que puedo repartir las verduras es:  6\n"
          ],
          "name": "stdout"
        }
      ]
    },
    {
      "cell_type": "markdown",
      "metadata": {
        "id": "j3Ui25yoa8xq",
        "colab_type": "text"
      },
      "source": [
        "3. ¿Cuántas fichas tiene el juego del dominó?\n",
        "\n",
        "* Nota: Una ficha de dominó es un rectángulo en el que hay dos partes, en cada una de ellas hay una serie de puntos que indican la puntuación de esa parte. Estas puntuaciones van de blanca (0 puntos) a 6. Tenemos pares de puntuaciones de 0 a 6."
      ]
    },
    {
      "cell_type": "code",
      "metadata": {
        "id": "DsWL6iw-dLN1",
        "colab_type": "code",
        "colab": {}
      },
      "source": [
        "#Estas puntuaciones van de blanca (0 puntos) a 6\n",
        "iter = ['0', '1', '2','3', '4', '5', '6']"
      ],
      "execution_count": 0,
      "outputs": []
    },
    {
      "cell_type": "code",
      "metadata": {
        "id": "B5eXGllwdsn-",
        "colab_type": "code",
        "colab": {}
      },
      "source": [
        "#Una ficha de dominó es un rectángulo en el que hay dos partes, r=2 (partes)\n",
        "result = it.combinations_with_replacement(iter, r=2)\n",
        "arrx = []"
      ],
      "execution_count": 0,
      "outputs": []
    },
    {
      "cell_type": "code",
      "metadata": {
        "id": "QxvqugvHeCCe",
        "colab_type": "code",
        "colab": {
          "base_uri": "https://localhost:8080/",
          "height": 496
        },
        "outputId": "a153441d-63a6-4427-a74a-59ca9510c39e"
      },
      "source": [
        "for element in result:\n",
        "  print(element)\n",
        "  arrx.append(element)"
      ],
      "execution_count": 96,
      "outputs": [
        {
          "output_type": "stream",
          "text": [
            "('0', '0')\n",
            "('0', '1')\n",
            "('0', '2')\n",
            "('0', '3')\n",
            "('0', '4')\n",
            "('0', '5')\n",
            "('0', '6')\n",
            "('1', '1')\n",
            "('1', '2')\n",
            "('1', '3')\n",
            "('1', '4')\n",
            "('1', '5')\n",
            "('1', '6')\n",
            "('2', '2')\n",
            "('2', '3')\n",
            "('2', '4')\n",
            "('2', '5')\n",
            "('2', '6')\n",
            "('3', '3')\n",
            "('3', '4')\n",
            "('3', '5')\n",
            "('3', '6')\n",
            "('4', '4')\n",
            "('4', '5')\n",
            "('4', '6')\n",
            "('5', '5')\n",
            "('5', '6')\n",
            "('6', '6')\n"
          ],
          "name": "stdout"
        }
      ]
    },
    {
      "cell_type": "code",
      "metadata": {
        "id": "k8OGtNileHF9",
        "colab_type": "code",
        "colab": {
          "base_uri": "https://localhost:8080/",
          "height": 34
        },
        "outputId": "6c0d294c-2e8a-4486-d067-089adc01948e"
      },
      "source": [
        "result = len(arrx)\n",
        "print('El numero de piezas de domino es: ',result)"
      ],
      "execution_count": 98,
      "outputs": [
        {
          "output_type": "stream",
          "text": [
            "El numero de piezas de domino es:  28\n"
          ],
          "name": "stdout"
        }
      ]
    },
    {
      "cell_type": "code",
      "metadata": {
        "id": "K87UTcVEeRBz",
        "colab_type": "code",
        "colab": {}
      },
      "source": [
        ""
      ],
      "execution_count": 0,
      "outputs": []
    },
    {
      "cell_type": "markdown",
      "metadata": {
        "id": "KGVvOIGNjLCt",
        "colab_type": "text"
      },
      "source": [
        "## [Numpy.linalg](https://docs.scipy.org/doc/numpy/reference/routines.linalg.html): Álgebra lineal"
      ]
    },
    {
      "cell_type": "markdown",
      "metadata": {
        "id": "xw1BxpAojUw4",
        "colab_type": "text"
      },
      "source": [
        "### Matrices usando NumPy"
      ]
    },
    {
      "cell_type": "code",
      "metadata": {
        "id": "UChF3h1oqDp9",
        "colab_type": "code",
        "colab": {
          "base_uri": "https://localhost:8080/",
          "height": 68
        },
        "outputId": "22629cfb-ac2b-408c-dcfc-43f2adc3c094"
      },
      "source": [
        "import numpy as np\n",
        "# un arreglo de valores en columnas Cx y Filas Fx.\n",
        "#  c0   c1\n",
        "# [ 3,  5], f0\n",
        "# [ 3,  7], f1\n",
        "# [-4,  3]  f2\n",
        "# una matrice fx por  cx, filas x columnas\n",
        "# Un arreglo bidimensional en Numpy\n",
        "arreglo_bidimensional = np.array([[3,5],[3,7],[-4,3]])\n",
        "arreglo_bidimensional\n"
      ],
      "execution_count": 100,
      "outputs": [
        {
          "output_type": "execute_result",
          "data": {
            "text/plain": [
              "array([[ 3,  5],\n",
              "       [ 3,  7],\n",
              "       [-4,  3]])"
            ]
          },
          "metadata": {
            "tags": []
          },
          "execution_count": 100
        }
      ]
    },
    {
      "cell_type": "markdown",
      "metadata": {
        "id": "Aom05CqXrtrW",
        "colab_type": "text"
      },
      "source": [
        "#### Operaciones con matrices"
      ]
    },
    {
      "cell_type": "code",
      "metadata": {
        "id": "Xlai5bW7KKwq",
        "colab_type": "code",
        "colab": {
          "base_uri": "https://localhost:8080/",
          "height": 68
        },
        "outputId": "1208f83c-598d-4164-a4b7-f2048a556aa2"
      },
      "source": [
        "A = np.array([[3,5],[3,7],[-4,3]])\n",
        "A"
      ],
      "execution_count": 102,
      "outputs": [
        {
          "output_type": "execute_result",
          "data": {
            "text/plain": [
              "array([[ 3,  5],\n",
              "       [ 3,  7],\n",
              "       [-4,  3]])"
            ]
          },
          "metadata": {
            "tags": []
          },
          "execution_count": 102
        }
      ]
    },
    {
      "cell_type": "code",
      "metadata": {
        "id": "x2AXjZNHKPwM",
        "colab_type": "code",
        "colab": {
          "base_uri": "https://localhost:8080/",
          "height": 68
        },
        "outputId": "10dfaac5-3872-4e48-f6e1-6ccaa0298bc5"
      },
      "source": [
        "B = np.array([[2,6],[2,4],[-4,1]])\n",
        "B"
      ],
      "execution_count": 104,
      "outputs": [
        {
          "output_type": "execute_result",
          "data": {
            "text/plain": [
              "array([[ 2,  6],\n",
              "       [ 2,  4],\n",
              "       [-4,  1]])"
            ]
          },
          "metadata": {
            "tags": []
          },
          "execution_count": 104
        }
      ]
    },
    {
      "cell_type": "code",
      "metadata": {
        "id": "yv_RqU_zMyix",
        "colab_type": "code",
        "colab": {
          "base_uri": "https://localhost:8080/",
          "height": 51
        },
        "outputId": "be083d09-5cf9-45f5-f28d-c9d05e4edc6e"
      },
      "source": [
        "C = np.array([[9,3,2],[8,4,7]])\n",
        "C"
      ],
      "execution_count": 122,
      "outputs": [
        {
          "output_type": "execute_result",
          "data": {
            "text/plain": [
              "array([[9, 3, 2],\n",
              "       [8, 4, 7]])"
            ]
          },
          "metadata": {
            "tags": []
          },
          "execution_count": 122
        }
      ]
    },
    {
      "cell_type": "code",
      "metadata": {
        "id": "AhqJmcotO1E_",
        "colab_type": "code",
        "colab": {
          "base_uri": "https://localhost:8080/",
          "height": 68
        },
        "outputId": "8d79de57-d087-4601-fb75-0ead07cb4121"
      },
      "source": [
        "D = np.array([[9,3,2],[8,4,7],[1,3,2]])\n",
        "D"
      ],
      "execution_count": 128,
      "outputs": [
        {
          "output_type": "execute_result",
          "data": {
            "text/plain": [
              "array([[9, 3, 2],\n",
              "       [8, 4, 7],\n",
              "       [1, 3, 2]])"
            ]
          },
          "metadata": {
            "tags": []
          },
          "execution_count": 128
        }
      ]
    },
    {
      "cell_type": "markdown",
      "metadata": {
        "id": "8sdqrmY6scsc",
        "colab_type": "text"
      },
      "source": [
        "##### Suma de matrices"
      ]
    },
    {
      "cell_type": "code",
      "metadata": {
        "id": "EOrotpfPKaor",
        "colab_type": "code",
        "colab": {
          "base_uri": "https://localhost:8080/",
          "height": 68
        },
        "outputId": "d0cac0d9-9755-4529-d34d-b1755250f36d"
      },
      "source": [
        "A+B"
      ],
      "execution_count": 106,
      "outputs": [
        {
          "output_type": "execute_result",
          "data": {
            "text/plain": [
              "array([[ 5, 11],\n",
              "       [ 5, 11],\n",
              "       [-8,  4]])"
            ]
          },
          "metadata": {
            "tags": []
          },
          "execution_count": 106
        }
      ]
    },
    {
      "cell_type": "code",
      "metadata": {
        "id": "MQVQmAWNK6PX",
        "colab_type": "code",
        "colab": {
          "base_uri": "https://localhost:8080/",
          "height": 68
        },
        "outputId": "b89d4508-4d93-420d-f116-8c4534a9cd76"
      },
      "source": [
        "B+A"
      ],
      "execution_count": 107,
      "outputs": [
        {
          "output_type": "execute_result",
          "data": {
            "text/plain": [
              "array([[ 5, 11],\n",
              "       [ 5, 11],\n",
              "       [-8,  4]])"
            ]
          },
          "metadata": {
            "tags": []
          },
          "execution_count": 107
        }
      ]
    },
    {
      "cell_type": "markdown",
      "metadata": {
        "id": "N2zqo0urKerb",
        "colab_type": "text"
      },
      "source": [
        "##### Resta de matrices:"
      ]
    },
    {
      "cell_type": "code",
      "metadata": {
        "id": "JTKcI5fyK0PQ",
        "colab_type": "code",
        "colab": {
          "base_uri": "https://localhost:8080/",
          "height": 68
        },
        "outputId": "fdf98726-2bab-4b11-ca91-3fac0d69685e"
      },
      "source": [
        "A - B"
      ],
      "execution_count": 108,
      "outputs": [
        {
          "output_type": "execute_result",
          "data": {
            "text/plain": [
              "array([[ 1, -1],\n",
              "       [ 1,  3],\n",
              "       [ 0,  2]])"
            ]
          },
          "metadata": {
            "tags": []
          },
          "execution_count": 108
        }
      ]
    },
    {
      "cell_type": "code",
      "metadata": {
        "id": "zDJVE7AeLCSe",
        "colab_type": "code",
        "colab": {
          "base_uri": "https://localhost:8080/",
          "height": 68
        },
        "outputId": "4aca71c0-5476-4e60-a93e-9006392fe28c"
      },
      "source": [
        "B - A"
      ],
      "execution_count": 109,
      "outputs": [
        {
          "output_type": "execute_result",
          "data": {
            "text/plain": [
              "array([[-1,  1],\n",
              "       [-1, -3],\n",
              "       [ 0, -2]])"
            ]
          },
          "metadata": {
            "tags": []
          },
          "execution_count": 109
        }
      ]
    },
    {
      "cell_type": "markdown",
      "metadata": {
        "id": "Nrz8CIcXLDx9",
        "colab_type": "text"
      },
      "source": [
        "##### Multiplicar por un escalar"
      ]
    },
    {
      "cell_type": "code",
      "metadata": {
        "id": "_BXADTGVLiAU",
        "colab_type": "code",
        "colab": {
          "base_uri": "https://localhost:8080/",
          "height": 68
        },
        "outputId": "19f9411b-8a50-4bec-d41f-932625070088"
      },
      "source": [
        "10 * A"
      ],
      "execution_count": 110,
      "outputs": [
        {
          "output_type": "execute_result",
          "data": {
            "text/plain": [
              "array([[ 30,  50],\n",
              "       [ 30,  70],\n",
              "       [-40,  30]])"
            ]
          },
          "metadata": {
            "tags": []
          },
          "execution_count": 110
        }
      ]
    },
    {
      "cell_type": "markdown",
      "metadata": {
        "id": "siHcc-nPLkiZ",
        "colab_type": "text"
      },
      "source": [
        "##### Multiplicación de matrices\n",
        "1. Matrices pueden ser multiplicadas solo si el numero de columnas en el fator de la izquierda es igual al numero de filas del factor de la derecha.\n",
        "2.  Una matrix M x N multiplicada por una matriz N x P da como resultado una matrix M x P"
      ]
    },
    {
      "cell_type": "code",
      "metadata": {
        "id": "zOHj5ax3MESm",
        "colab_type": "code",
        "colab": {
          "base_uri": "https://localhost:8080/",
          "height": 34
        },
        "outputId": "bc92ce38-b642-4939-b728-5825b62fb7fb"
      },
      "source": [
        "A.shape\n"
      ],
      "execution_count": 138,
      "outputs": [
        {
          "output_type": "execute_result",
          "data": {
            "text/plain": [
              "(3, 2)"
            ]
          },
          "metadata": {
            "tags": []
          },
          "execution_count": 138
        }
      ]
    },
    {
      "cell_type": "code",
      "metadata": {
        "id": "72aOI89rPXyv",
        "colab_type": "code",
        "colab": {
          "base_uri": "https://localhost:8080/",
          "height": 34
        },
        "outputId": "0bbea1a8-8e07-4d05-9c7c-7994a74cb4a4"
      },
      "source": [
        "B.shape"
      ],
      "execution_count": 139,
      "outputs": [
        {
          "output_type": "execute_result",
          "data": {
            "text/plain": [
              "(3, 2)"
            ]
          },
          "metadata": {
            "tags": []
          },
          "execution_count": 139
        }
      ]
    },
    {
      "cell_type": "code",
      "metadata": {
        "id": "yHi06dB7NFZT",
        "colab_type": "code",
        "colab": {
          "base_uri": "https://localhost:8080/",
          "height": 34
        },
        "outputId": "85902466-043b-4a0d-8488-8adaaa468f90"
      },
      "source": [
        "C.shape"
      ],
      "execution_count": 130,
      "outputs": [
        {
          "output_type": "execute_result",
          "data": {
            "text/plain": [
              "(2, 3)"
            ]
          },
          "metadata": {
            "tags": []
          },
          "execution_count": 130
        }
      ]
    },
    {
      "cell_type": "code",
      "metadata": {
        "id": "FMPDqPQyPF-Q",
        "colab_type": "code",
        "colab": {
          "base_uri": "https://localhost:8080/",
          "height": 34
        },
        "outputId": "d62654d0-a6e2-4542-fe46-e1909546aff9"
      },
      "source": [
        "D.shape"
      ],
      "execution_count": 131,
      "outputs": [
        {
          "output_type": "execute_result",
          "data": {
            "text/plain": [
              "(3, 3)"
            ]
          },
          "metadata": {
            "tags": []
          },
          "execution_count": 131
        }
      ]
    },
    {
      "cell_type": "code",
      "metadata": {
        "id": "0SnQSvRoNJMX",
        "colab_type": "code",
        "colab": {
          "base_uri": "https://localhost:8080/",
          "height": 164
        },
        "outputId": "614574e3-1f41-4ea3-8a83-f668f93d7440"
      },
      "source": [
        "C * A"
      ],
      "execution_count": 133,
      "outputs": [
        {
          "output_type": "error",
          "ename": "ValueError",
          "evalue": "ignored",
          "traceback": [
            "\u001b[0;31m---------------------------------------------------------------------------\u001b[0m",
            "\u001b[0;31mValueError\u001b[0m                                Traceback (most recent call last)",
            "\u001b[0;32m<ipython-input-133-cbae4c009e52>\u001b[0m in \u001b[0;36m<module>\u001b[0;34m()\u001b[0m\n\u001b[0;32m----> 1\u001b[0;31m \u001b[0mC\u001b[0m\u001b[0;34m*\u001b[0m\u001b[0mA\u001b[0m\u001b[0;34m\u001b[0m\u001b[0;34m\u001b[0m\u001b[0m\n\u001b[0m",
            "\u001b[0;31mValueError\u001b[0m: operands could not be broadcast together with shapes (2,3) (3,2) "
          ]
        }
      ]
    },
    {
      "cell_type": "code",
      "metadata": {
        "id": "GU8HU8hGPPto",
        "colab_type": "code",
        "colab": {
          "base_uri": "https://localhost:8080/",
          "height": 164
        },
        "outputId": "221e1fc2-e244-4ba7-9f29-4def7507b74f"
      },
      "source": [
        "A * C"
      ],
      "execution_count": 136,
      "outputs": [
        {
          "output_type": "error",
          "ename": "ValueError",
          "evalue": "ignored",
          "traceback": [
            "\u001b[0;31m---------------------------------------------------------------------------\u001b[0m",
            "\u001b[0;31mValueError\u001b[0m                                Traceback (most recent call last)",
            "\u001b[0;32m<ipython-input-136-7775f665b7b1>\u001b[0m in \u001b[0;36m<module>\u001b[0;34m()\u001b[0m\n\u001b[0;32m----> 1\u001b[0;31m \u001b[0mA\u001b[0m \u001b[0;34m*\u001b[0m \u001b[0mC\u001b[0m\u001b[0;34m\u001b[0m\u001b[0;34m\u001b[0m\u001b[0m\n\u001b[0m",
            "\u001b[0;31mValueError\u001b[0m: operands could not be broadcast together with shapes (3,2) (2,3) "
          ]
        }
      ]
    },
    {
      "cell_type": "code",
      "metadata": {
        "id": "DkVajIN_PUFX",
        "colab_type": "code",
        "colab": {
          "base_uri": "https://localhost:8080/",
          "height": 68
        },
        "outputId": "cb12f218-ceb7-492b-d39c-a33a1c008dd8"
      },
      "source": [
        "A * B"
      ],
      "execution_count": 137,
      "outputs": [
        {
          "output_type": "execute_result",
          "data": {
            "text/plain": [
              "array([[ 6, 30],\n",
              "       [ 6, 28],\n",
              "       [16,  3]])"
            ]
          },
          "metadata": {
            "tags": []
          },
          "execution_count": 137
        }
      ]
    },
    {
      "cell_type": "code",
      "metadata": {
        "id": "sTZeYxMSOb9Z",
        "colab_type": "code",
        "colab": {
          "base_uri": "https://localhost:8080/",
          "height": 51
        },
        "outputId": "a107c0e7-94de-4d61-98ce-73125a834f40"
      },
      "source": [
        "C @ A"
      ],
      "execution_count": 126,
      "outputs": [
        {
          "output_type": "execute_result",
          "data": {
            "text/plain": [
              "array([[28, 72],\n",
              "       [ 8, 89]])"
            ]
          },
          "metadata": {
            "tags": []
          },
          "execution_count": 126
        }
      ]
    },
    {
      "cell_type": "code",
      "metadata": {
        "id": "SyB0QtYMOmTX",
        "colab_type": "code",
        "colab": {
          "base_uri": "https://localhost:8080/",
          "height": 68
        },
        "outputId": "c98bf2d3-254d-428e-eb7f-6f55c50f5ab3"
      },
      "source": [
        "A @ C"
      ],
      "execution_count": 127,
      "outputs": [
        {
          "output_type": "execute_result",
          "data": {
            "text/plain": [
              "array([[ 67,  29,  41],\n",
              "       [ 83,  37,  55],\n",
              "       [-12,   0,  13]])"
            ]
          },
          "metadata": {
            "tags": []
          },
          "execution_count": 127
        }
      ]
    },
    {
      "cell_type": "code",
      "metadata": {
        "id": "uslAVPtfOooW",
        "colab_type": "code",
        "colab": {
          "base_uri": "https://localhost:8080/",
          "height": 184
        },
        "outputId": "ad82c834-b3d5-4785-8fe5-c5b165be1d29"
      },
      "source": [
        "A @ D"
      ],
      "execution_count": 132,
      "outputs": [
        {
          "output_type": "error",
          "ename": "ValueError",
          "evalue": "ignored",
          "traceback": [
            "\u001b[0;31m---------------------------------------------------------------------------\u001b[0m",
            "\u001b[0;31mValueError\u001b[0m                                Traceback (most recent call last)",
            "\u001b[0;32m<ipython-input-132-5c09248d7622>\u001b[0m in \u001b[0;36m<module>\u001b[0;34m()\u001b[0m\n\u001b[0;32m----> 1\u001b[0;31m \u001b[0mA\u001b[0m \u001b[0;34m@\u001b[0m \u001b[0mD\u001b[0m\u001b[0;34m\u001b[0m\u001b[0;34m\u001b[0m\u001b[0m\n\u001b[0m",
            "\u001b[0;31mValueError\u001b[0m: matmul: Input operand 1 has a mismatch in its core dimension 0, with gufunc signature (n?,k),(k,m?)->(n?,m?) (size 3 is different from 2)"
          ]
        }
      ]
    },
    {
      "cell_type": "code",
      "metadata": {
        "id": "gx5DP56HPK5q",
        "colab_type": "code",
        "colab": {
          "base_uri": "https://localhost:8080/",
          "height": 68
        },
        "outputId": "dff2c432-84e6-4135-b360-b77dbdc96684"
      },
      "source": [
        "D @ A"
      ],
      "execution_count": 140,
      "outputs": [
        {
          "output_type": "execute_result",
          "data": {
            "text/plain": [
              "array([[28, 72],\n",
              "       [ 8, 89],\n",
              "       [ 4, 32]])"
            ]
          },
          "metadata": {
            "tags": []
          },
          "execution_count": 140
        }
      ]
    },
    {
      "cell_type": "markdown",
      "metadata": {
        "id": "IbFLsMVlRZo2",
        "colab_type": "text"
      },
      "source": [
        "### Matrices Especiales con NumPy"
      ]
    },
    {
      "cell_type": "markdown",
      "metadata": {
        "id": "K9-rJe6MSDx9",
        "colab_type": "text"
      },
      "source": [
        "#### Matrices Cero"
      ]
    },
    {
      "cell_type": "code",
      "metadata": {
        "id": "aeQfLI2rTVhe",
        "colab_type": "code",
        "colab": {
          "base_uri": "https://localhost:8080/",
          "height": 68
        },
        "outputId": "1d09c642-eff0-4895-b683-967fa1940921"
      },
      "source": [
        "np.zeros( (3,4) )"
      ],
      "execution_count": 142,
      "outputs": [
        {
          "output_type": "execute_result",
          "data": {
            "text/plain": [
              "array([[0., 0., 0., 0.],\n",
              "       [0., 0., 0., 0.],\n",
              "       [0., 0., 0., 0.]])"
            ]
          },
          "metadata": {
            "tags": []
          },
          "execution_count": 142
        }
      ]
    },
    {
      "cell_type": "markdown",
      "metadata": {
        "id": "L3iTsKy-TnGf",
        "colab_type": "text"
      },
      "source": [
        "#### Matrices Transpuestas"
      ]
    },
    {
      "cell_type": "code",
      "metadata": {
        "id": "gUEpGzkJTtgV",
        "colab_type": "code",
        "colab": {
          "base_uri": "https://localhost:8080/",
          "height": 51
        },
        "outputId": "670c515f-a77b-4eb1-e124-ec7b812f6f7d"
      },
      "source": [
        "# Cambio la estructura de la matrix , \n",
        "# ejemplo una matrix 2 x 3 su transpuesta seria 3 x 2\n",
        "C"
      ],
      "execution_count": 146,
      "outputs": [
        {
          "output_type": "execute_result",
          "data": {
            "text/plain": [
              "array([[9, 3, 2],\n",
              "       [8, 4, 7]])"
            ]
          },
          "metadata": {
            "tags": []
          },
          "execution_count": 146
        }
      ]
    },
    {
      "cell_type": "code",
      "metadata": {
        "id": "XPHpB-DrT7Ir",
        "colab_type": "code",
        "colab": {
          "base_uri": "https://localhost:8080/",
          "height": 68
        },
        "outputId": "4dbf216f-0999-4139-f95b-3dba2272c5c5"
      },
      "source": [
        "C_t = C.transpose()\n",
        "C_t"
      ],
      "execution_count": 152,
      "outputs": [
        {
          "output_type": "execute_result",
          "data": {
            "text/plain": [
              "array([[9, 8],\n",
              "       [3, 4],\n",
              "       [2, 7]])"
            ]
          },
          "metadata": {
            "tags": []
          },
          "execution_count": 152
        }
      ]
    },
    {
      "cell_type": "code",
      "metadata": {
        "id": "UoZMze9KUpqq",
        "colab_type": "code",
        "colab": {
          "base_uri": "https://localhost:8080/",
          "height": 51
        },
        "outputId": "1ba4ad93-1576-41fe-9534-d65e11646d85"
      },
      "source": [
        "C"
      ],
      "execution_count": 156,
      "outputs": [
        {
          "output_type": "execute_result",
          "data": {
            "text/plain": [
              "array([[9, 3, 2],\n",
              "       [8, 4, 7]])"
            ]
          },
          "metadata": {
            "tags": []
          },
          "execution_count": 156
        }
      ]
    },
    {
      "cell_type": "code",
      "metadata": {
        "id": "7-xaZibiUMVZ",
        "colab_type": "code",
        "colab": {}
      },
      "source": [
        "C_T = C.T"
      ],
      "execution_count": 0,
      "outputs": []
    },
    {
      "cell_type": "code",
      "metadata": {
        "id": "ETNJiVZyUbXQ",
        "colab_type": "code",
        "colab": {
          "base_uri": "https://localhost:8080/",
          "height": 68
        },
        "outputId": "91b2cf77-e075-4b7a-c050-7b8fffe9db37"
      },
      "source": [
        "C_T"
      ],
      "execution_count": 155,
      "outputs": [
        {
          "output_type": "execute_result",
          "data": {
            "text/plain": [
              "array([[9, 8],\n",
              "       [3, 4],\n",
              "       [2, 7]])"
            ]
          },
          "metadata": {
            "tags": []
          },
          "execution_count": 155
        }
      ]
    },
    {
      "cell_type": "markdown",
      "metadata": {
        "id": "88mdK2AXUmlF",
        "colab_type": "text"
      },
      "source": [
        "#### Matrices Simetricas"
      ]
    },
    {
      "cell_type": "code",
      "metadata": {
        "id": "nshkcWjyU6Ig",
        "colab_type": "code",
        "colab": {}
      },
      "source": [
        ""
      ],
      "execution_count": 0,
      "outputs": []
    }
  ]
}