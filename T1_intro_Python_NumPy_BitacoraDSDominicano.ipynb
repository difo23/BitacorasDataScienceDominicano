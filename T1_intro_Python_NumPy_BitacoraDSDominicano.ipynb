{
  "nbformat": 4,
  "nbformat_minor": 0,
  "metadata": {
    "colab": {
      "name": "T1_intro_Python_NumPy_BitacoraDSDominicano.ipynb",
      "version": "0.3.2",
      "provenance": [],
      "collapsed_sections": [
        "gQP2ITCRnxtA",
        "0iHxbgylrskf",
        "xCmRIATY1eIf"
      ],
      "include_colab_link": true
    },
    "kernelspec": {
      "name": "python3",
      "display_name": "Python 3"
    }
  },
  "cells": [
    {
      "cell_type": "markdown",
      "metadata": {
        "id": "view-in-github",
        "colab_type": "text"
      },
      "source": [
        "<a href=\"https://colab.research.google.com/github/difo23/BitacorasDataScienceDominicano/blob/master/T1_intro_Python_NumPy_BitacoraDSDominicano.ipynb\" target=\"_parent\"><img src=\"https://colab.research.google.com/assets/colab-badge.svg\" alt=\"Open In Colab\"/></a>"
      ]
    },
    {
      "cell_type": "markdown",
      "metadata": {
        "id": "9kjoXD4zoQtW",
        "colab_type": "text"
      },
      "source": [
        "# Bitácoras de un Data Science Dominicano:  \n",
        "##  Intro a Python y Numpy\n",
        "[Más información sobre Numpy](https://numpy.org/)\n",
        "\n",
        "    1. Importar librerias  y agregar alias.\n",
        "    2. Usar ayuda en python y autocompletado.\n",
        "    3. Python y sus caracteristicas principales.\n",
        "        a.  Variables y tipos de datos en Python.\n",
        "    4. ¿Por que usar Numpy?\n",
        "        a.  Arreglos N-Dimensionales.\n",
        "        b.  Diferencias entre el clasico array.array y los Numpy.array.\n",
        "        c.  Atributo axis.\n",
        "\n",
        "Mención especial a LaTex.\n",
        "  "
      ]
    },
    {
      "cell_type": "markdown",
      "metadata": {
        "id": "gQP2ITCRnxtA",
        "colab_type": "text"
      },
      "source": [
        "## 1. Importar librerías y agregar alias:"
      ]
    },
    {
      "cell_type": "code",
      "metadata": {
        "id": "zey4hfOSoB9w",
        "colab_type": "code",
        "outputId": "e605103c-aa09-4658-c4f5-7910aa32391d",
        "colab": {
          "base_uri": "https://localhost:8080/",
          "height": 54
        }
      },
      "source": [
        "import numpy as np \n",
        "# Comentarios de una sola linea usan '#':\n",
        "# np es el alias comun en el uso de numpy.\n",
        "# En caso de no usar alias, tendrias que escribir 'numpy' \n",
        "# cada vez que uses la librería en este notebook.\n",
        "\"\"\" \n",
        "Comentarios de varias lineas usan:\n",
        "   Triple comilla doble para abrir el bloque de comentarios y \n",
        "    para cerrar el bloque.\n",
        "\n",
        "\"\"\"\n"
      ],
      "execution_count": 0,
      "outputs": [
        {
          "output_type": "execute_result",
          "data": {
            "text/plain": [
              "' \\nComentarios de varias lineas usan:\\n   Triple comilla doble para abrir el bloque de comentarios y \\n    para cerrar el bloque.\\n\\n'"
            ]
          },
          "metadata": {
            "tags": []
          },
          "execution_count": 2
        }
      ]
    },
    {
      "cell_type": "markdown",
      "metadata": {
        "id": "0iHxbgylrskf",
        "colab_type": "text"
      },
      "source": [
        "## 2. Usar ayuda en python y autocompletado:"
      ]
    },
    {
      "cell_type": "code",
      "metadata": {
        "id": "SUgkgJ6Pr8lm",
        "colab_type": "code",
        "colab": {}
      },
      "source": [
        "# Para solicitar ayuda sobre un modulo o funcion solo tienes que terminar con el signo '?' de interrogación.\n",
        "# Dirigete a la pestaña ayuda para obtener la información.\n",
        "np?"
      ],
      "execution_count": 0,
      "outputs": []
    },
    {
      "cell_type": "code",
      "metadata": {
        "id": "upVpoxndtYKA",
        "colab_type": "code",
        "colab": {}
      },
      "source": [
        "np.array?"
      ],
      "execution_count": 0,
      "outputs": []
    },
    {
      "cell_type": "code",
      "metadata": {
        "id": "yuctYs85s3qd",
        "colab_type": "code",
        "outputId": "84300237-5f3c-45a1-beff-a52f706cf4b7",
        "colab": {
          "base_uri": "https://localhost:8080/",
          "height": 34
        }
      },
      "source": [
        "# Usando la tecla tab inicias la sugerencias de autocompletado. Con enter autocompletas.\n",
        "np.shape"
      ],
      "execution_count": 0,
      "outputs": [
        {
          "output_type": "execute_result",
          "data": {
            "text/plain": [
              "<function numpy.shape>"
            ]
          },
          "metadata": {
            "tags": []
          },
          "execution_count": 21
        }
      ]
    },
    {
      "cell_type": "markdown",
      "metadata": {
        "id": "xCmRIATY1eIf",
        "colab_type": "text"
      },
      "source": [
        "##  3.  Python y sus caracteristicas principales:\n",
        "[Pagina Oficial de Python](https://www.python.org/doc/)\n",
        "   *  [Tutorial Oficial de Pyhton en Español](http://docs.python.org.ar/tutorial/3/index.html)\n",
        "   * Python es un lenguaje debilmente tipado   [Más info...](https://parzibyte.me/blog/2017/10/13/tipado-debil-tipado-fuerte-diferencias-explicacion/)\n",
        "   * Python es un lenguaje interpretado [Más info...](https://blog.makeitreal.camp/lenguajes-compilados-e-interpretados/)\n",
        "   * Python es un lenguaje multi paradigma [Más info...](http://www.4rsoluciones.com/blog/que-son-los-paradigmas-de-programacion-2/)\n",
        "   * Todo en Python es un objeto. [Más info...](https://pythonista.io/cursos/py101/orientacion-a-objetos)"
      ]
    },
    {
      "cell_type": "markdown",
      "metadata": {
        "id": "UCfPc25IyllK",
        "colab_type": "text"
      },
      "source": [
        "### Variables y tipos de datos en Python:\n",
        "\n",
        "#### Tipos Basicos:\n",
        "\n",
        "    * Números enteros.\n",
        "    * Números de punto flotante.\n",
        "    * Números complejos.\n",
        "    * Iterables.\n",
        "    * Strings.\n",
        "    * Tuplas.\n",
        "    * Listas.\n",
        "    * Diccionarios.\n",
        "   [Más info...](https://manuais.iessanclemente.net/index.php/Python_-_Tipos_de_datos)"
      ]
    },
    {
      "cell_type": "code",
      "metadata": {
        "id": "Ks5oPadrvso7",
        "colab_type": "code",
        "colab": {}
      },
      "source": [
        "# Creacion de un arreglo o lista normal de una sola dimensión.\n",
        "arreglo_normal = [2, 0Xff, 0b111, False, True, 'hola', 12.25, [1,2], \n",
        "                  (2,4,5,\"hola\"), {'maria':12, 'Juana':15}]"
      ],
      "execution_count": 0,
      "outputs": []
    },
    {
      "cell_type": "code",
      "metadata": {
        "id": "EWYpYNrjFA8_",
        "colab_type": "code",
        "colab": {}
      },
      "source": [
        "# Busco ayuda sobre la funcion type()\n",
        "type?"
      ],
      "execution_count": 0,
      "outputs": []
    },
    {
      "cell_type": "code",
      "metadata": {
        "id": "mC7PDZZUxpY4",
        "colab_type": "code",
        "colab": {}
      },
      "source": [
        "# Busco ayuda sobre la funcion len\n",
        "len?"
      ],
      "execution_count": 0,
      "outputs": []
    },
    {
      "cell_type": "code",
      "metadata": {
        "id": "eAnkYLlAxGaT",
        "colab_type": "code",
        "outputId": "b1f34f65-6e1f-40e9-f4dc-81911e21b156",
        "colab": {
          "base_uri": "https://localhost:8080/",
          "height": 34
        }
      },
      "source": [
        "#Tamaño de un arreglo normal o list\n",
        "len(arreglo_normal)"
      ],
      "execution_count": 0,
      "outputs": [
        {
          "output_type": "execute_result",
          "data": {
            "text/plain": [
              "10"
            ]
          },
          "metadata": {
            "tags": []
          },
          "execution_count": 65
        }
      ]
    },
    {
      "cell_type": "code",
      "metadata": {
        "id": "ooy6sW4K_C4U",
        "colab_type": "code",
        "colab": {}
      },
      "source": [
        "# Los arreglos en python pueden contener varios tipos de datos distintos\n",
        "type_0 = type( arreglo_normal[0] )\n",
        "type_1 = type( arreglo_normal[1] )\n",
        "type_2 = type( arreglo_normal[2] )\n",
        "type_3 = type( arreglo_normal[3] )\n",
        "type_4 = type( arreglo_normal[4] )\n",
        "type_5 = type( arreglo_normal[5] )\n",
        "type_6 = type( arreglo_normal[6] )\n",
        "type_7 = type( arreglo_normal[7] )\n",
        "type_8 = type( arreglo_normal[8] )\n",
        "type_9 = type( arreglo_normal[9] )\n",
        "\n",
        "\n",
        "#Notar que creo un arreglo con parentesis en esta ocasion ¿ Cual es la diferencia con el arreglo_normal?\n",
        "arreglo_type = (type_0, type_1, type_2, type_3, type_4, type_5, type_6, type_7, type_8, type_9)\n"
      ],
      "execution_count": 0,
      "outputs": []
    },
    {
      "cell_type": "code",
      "metadata": {
        "id": "UqmfgYdFBbDq",
        "colab_type": "code",
        "outputId": "e1eb9296-b22b-46ea-c333-8d068152b699",
        "colab": {
          "base_uri": "https://localhost:8080/",
          "height": 34
        }
      },
      "source": [
        "arreglo_type"
      ],
      "execution_count": 0,
      "outputs": [
        {
          "output_type": "execute_result",
          "data": {
            "text/plain": [
              "(int, int, int, bool, bool, str, float, list, tuple, dict)"
            ]
          },
          "metadata": {
            "tags": []
          },
          "execution_count": 67
        }
      ]
    },
    {
      "cell_type": "code",
      "metadata": {
        "id": "lCUNvhn3BiqD",
        "colab_type": "code",
        "outputId": "d8f20dda-c86f-4384-b92e-4e413b42ecaa",
        "colab": {
          "base_uri": "https://localhost:8080/",
          "height": 34
        }
      },
      "source": [
        "type(arreglo_type)"
      ],
      "execution_count": 0,
      "outputs": [
        {
          "output_type": "execute_result",
          "data": {
            "text/plain": [
              "tuple"
            ]
          },
          "metadata": {
            "tags": []
          },
          "execution_count": 68
        }
      ]
    },
    {
      "cell_type": "code",
      "metadata": {
        "id": "NgpQY73CwcX4",
        "colab_type": "code",
        "outputId": "0d2632da-b342-481e-85d3-f331f051aeef",
        "colab": {
          "base_uri": "https://localhost:8080/",
          "height": 34
        }
      },
      "source": [
        "# Tipo de datos de una variable\n",
        "type(arreglo_normal)"
      ],
      "execution_count": 0,
      "outputs": [
        {
          "output_type": "execute_result",
          "data": {
            "text/plain": [
              "list"
            ]
          },
          "metadata": {
            "tags": []
          },
          "execution_count": 69
        }
      ]
    },
    {
      "cell_type": "code",
      "metadata": {
        "id": "_KqT7nRvwszz",
        "colab_type": "code",
        "outputId": "e5d345e7-cda0-48ee-c889-c7076e8b1e7c",
        "colab": {
          "base_uri": "https://localhost:8080/",
          "height": 188
        }
      },
      "source": [
        "# Recorrido del arreglo con los indices desde 0 a len(arreglo_normal) -1\n",
        "# Uso el ciclo for.\n",
        "for elemento in arreglo_normal:\n",
        "  print(elemento)"
      ],
      "execution_count": 0,
      "outputs": [
        {
          "output_type": "stream",
          "text": [
            "2\n",
            "255\n",
            "7\n",
            "False\n",
            "True\n",
            "hola\n",
            "12.25\n",
            "[1, 2]\n",
            "(2, 4, 5, 'hola')\n",
            "{'maria': 12, 'Juana': 15}\n"
          ],
          "name": "stdout"
        }
      ]
    },
    {
      "cell_type": "markdown",
      "metadata": {
        "id": "JjTk7KNTupCG",
        "colab_type": "text"
      },
      "source": [
        "## 4. ¿Por qué  usar Numpy?\n",
        "* Álgebra lineal: \n",
        "El álgebra lineal es una rama de las matemáticas que estudia conceptos tales como vectores, matrices, espacio dual, sistemas de ecuaciones lineales y en su enfoque de manera más formal, espacios vectoriales y sus transformaciones lineales. [Curso de Àlgebra Lineal en Khan Academy](https://es.khanacademy.org/math/linear-algebra)\n"
      ]
    },
    {
      "cell_type": "markdown",
      "metadata": {
        "id": "oKIWP6DZvUzM",
        "colab_type": "text"
      },
      "source": [
        "### Arreglos N-Dimensionales:\n",
        " [Uso de LaTex](https://www.math.ubc.ca/~pwalls/math-python/jupyter/latex/)\n",
        "* Matrices y Vectores\n",
        "$$\n",
        "\\begin{matrix} \n",
        "a & b \\\\\n",
        "c & d \n",
        "\\end{matrix}\n",
        "\\quad\n",
        "\\begin{pmatrix} \n",
        "a & b \\\\\n",
        "c & d \n",
        "\\end{pmatrix}\n",
        "\\quad\n",
        "\\begin{bmatrix} \n",
        "a & b \\\\\n",
        "c & d \n",
        "\\end{bmatrix}\n",
        "\\quad\n",
        "\\begin{vmatrix} \n",
        "a & b \\\\\n",
        "c & d \n",
        "\\end{vmatrix}\n",
        "\\quad\n",
        "\\begin{Vmatrix} \n",
        "a & b \\\\\n",
        "c & d \n",
        "\\end{Vmatrix}\n",
        "$$\n",
        "\n",
        "\n",
        "\n",
        "\n"
      ]
    },
    {
      "cell_type": "markdown",
      "metadata": {
        "id": "_zs3kCuOSUT_",
        "colab_type": "text"
      },
      "source": [
        "  * Tablas \n",
        "      * Insertar imagenes."
      ]
    },
    {
      "cell_type": "markdown",
      "metadata": {
        "id": "nZWnzDjYSd52",
        "colab_type": "text"
      },
      "source": [
        "![Ejemplo de tablas](https://www.monografias.com/trabajos91/prueba-hipotesis-f-fisher-empleando-excel-y-winstats/image011.png)"
      ]
    },
    {
      "cell_type": "markdown",
      "metadata": {
        "id": "i3qtJHNRVbuf",
        "colab_type": "text"
      },
      "source": [
        " \n",
        "### Diferencias entre el clasico array.array y los Numpy.array:\n",
        "[Más información](https://webcourses.ucf.edu/courses/1249560/pages/python-lists-vs-numpy-arrays-what-is-the-difference)\n",
        "*  Tamaño: las estructuras de datos de Numpy ocupan menos espacio\n",
        "*  Rendimiento: son más rápidos en termino de acceso a datos que las listas\n",
        "*  Funcionalidad: SciPy y NumPy tienen funciones optimizadas, como las operaciones de álgebra lineal integradas."
      ]
    },
    {
      "cell_type": "code",
      "metadata": {
        "id": "aeCXTleuOEPu",
        "colab_type": "code",
        "colab": {}
      },
      "source": [
        "#vamos a crear un arreglo numpy de 1 dimension\n",
        "\n",
        "arreglo_numpy = np.array([3,4,4.5, 'Hola', -3])"
      ],
      "execution_count": 0,
      "outputs": []
    },
    {
      "cell_type": "code",
      "metadata": {
        "id": "Mmu9YAqVOsjH",
        "colab_type": "code",
        "outputId": "c5ebea79-abb4-43ce-9949-8c48c3400fd8",
        "colab": {
          "base_uri": "https://localhost:8080/",
          "height": 34
        }
      },
      "source": [
        "arreglo_numpy\n",
        "# Nota como el tipo de los elementos cambia de tipo en Numpy, todos los \n",
        "# elementos del arreglo son unicode strings\n",
        "# dtype='<U32'"
      ],
      "execution_count": 0,
      "outputs": [
        {
          "output_type": "execute_result",
          "data": {
            "text/plain": [
              "array(['3', '4', '4.5', 'Hola', '-3'], dtype='<U32')"
            ]
          },
          "metadata": {
            "tags": []
          },
          "execution_count": 20
        }
      ]
    },
    {
      "cell_type": "code",
      "metadata": {
        "id": "7QzaNoQdQHTt",
        "colab_type": "code",
        "outputId": "c7d6aee0-40f7-4153-d7cc-b0d916774c39",
        "colab": {
          "base_uri": "https://localhost:8080/",
          "height": 34
        }
      },
      "source": [
        "arreglo_numpy = np.array([3, 4.5, 5, 6])\n",
        "arreglo_numpy\n",
        "# Nota como todos los elementos del array cambian a float\n",
        "# podemos decir que numpy trabaja con arreglos de un solo tipo de datos."
      ],
      "execution_count": 0,
      "outputs": [
        {
          "output_type": "execute_result",
          "data": {
            "text/plain": [
              "array([3. , 4.5, 5. , 6. ])"
            ]
          },
          "metadata": {
            "tags": []
          },
          "execution_count": 6
        }
      ]
    },
    {
      "cell_type": "code",
      "metadata": {
        "id": "Ss8chyBkQ0-_",
        "colab_type": "code",
        "outputId": "d943fd5f-1a9d-4132-8212-956ea20bad5b",
        "colab": {
          "base_uri": "https://localhost:8080/",
          "height": 34
        }
      },
      "source": [
        "arreglo_numpy[0]\n",
        "#Los arreglos en numpy se recorren igual que los arreglos clasicos."
      ],
      "execution_count": 0,
      "outputs": [
        {
          "output_type": "execute_result",
          "data": {
            "text/plain": [
              "3.0"
            ]
          },
          "metadata": {
            "tags": []
          },
          "execution_count": 7
        }
      ]
    },
    {
      "cell_type": "code",
      "metadata": {
        "id": "K_vPdfxeQ5d-",
        "colab_type": "code",
        "outputId": "dc017f49-2f90-4a53-a271-b11311ba688c",
        "colab": {
          "base_uri": "https://localhost:8080/",
          "height": 34
        }
      },
      "source": [
        "type(arreglo_numpy)"
      ],
      "execution_count": 0,
      "outputs": [
        {
          "output_type": "execute_result",
          "data": {
            "text/plain": [
              "numpy.ndarray"
            ]
          },
          "metadata": {
            "tags": []
          },
          "execution_count": 8
        }
      ]
    },
    {
      "cell_type": "code",
      "metadata": {
        "id": "-OSJajQhQ852",
        "colab_type": "code",
        "outputId": "ee5976b8-2186-4f51-eeed-0aeced567e6c",
        "colab": {
          "base_uri": "https://localhost:8080/",
          "height": 34
        }
      },
      "source": [
        "type(arreglo_numpy[0])\n",
        "#nota que los tipos ahora son tipos especiales de numpy"
      ],
      "execution_count": 0,
      "outputs": [
        {
          "output_type": "execute_result",
          "data": {
            "text/plain": [
              "numpy.float64"
            ]
          },
          "metadata": {
            "tags": []
          },
          "execution_count": 9
        }
      ]
    },
    {
      "cell_type": "code",
      "metadata": {
        "id": "EX2EvY5lR0m8",
        "colab_type": "code",
        "outputId": "97577c44-5d12-47b9-e6d0-533c7b73f631",
        "colab": {
          "base_uri": "https://localhost:8080/",
          "height": 34
        }
      },
      "source": [
        "# para saber la dimensiones que tiene un array numpy\n",
        "arreglo_numpy.ndim"
      ],
      "execution_count": 0,
      "outputs": [
        {
          "output_type": "execute_result",
          "data": {
            "text/plain": [
              "1"
            ]
          },
          "metadata": {
            "tags": []
          },
          "execution_count": 10
        }
      ]
    },
    {
      "cell_type": "code",
      "metadata": {
        "id": "onmhvdWpSVWk",
        "colab_type": "code",
        "outputId": "bb333ad7-65b3-461a-b86f-67ad7c36392d",
        "colab": {
          "base_uri": "https://localhost:8080/",
          "height": 34
        }
      },
      "source": [
        "arreglo_numpy.shape \n",
        "# Nos permite ver la forma de nuestro arreglo tiene 4, retorna una tupla"
      ],
      "execution_count": 0,
      "outputs": [
        {
          "output_type": "execute_result",
          "data": {
            "text/plain": [
              "(4,)"
            ]
          },
          "metadata": {
            "tags": []
          },
          "execution_count": 11
        }
      ]
    },
    {
      "cell_type": "code",
      "metadata": {
        "id": "Liu3HHvBSq_B",
        "colab_type": "code",
        "outputId": "82b9f8da-d38a-4180-bb64-8c8b2c03f130",
        "colab": {
          "base_uri": "https://localhost:8080/",
          "height": 34
        }
      },
      "source": [
        "arreglo_numpy.size\n",
        "# la cantidad de lementos"
      ],
      "execution_count": 0,
      "outputs": [
        {
          "output_type": "execute_result",
          "data": {
            "text/plain": [
              "4"
            ]
          },
          "metadata": {
            "tags": []
          },
          "execution_count": 13
        }
      ]
    },
    {
      "cell_type": "code",
      "metadata": {
        "id": "ypbmwcSXSzWA",
        "colab_type": "code",
        "outputId": "fc29f5da-ea4e-4381-987a-eda205d042b9",
        "colab": {
          "base_uri": "https://localhost:8080/",
          "height": 68
        }
      },
      "source": [
        "# Crear un arrglo bidimensional\n",
        "arreglo_bidimensional = np.array([[1,'Hola'],[3,7],[-1,5]])\n",
        "arreglo_bidimensional\n",
        "# volvemos a ver el cambio de tipo pero esta vez a '<U21'"
      ],
      "execution_count": 0,
      "outputs": [
        {
          "output_type": "execute_result",
          "data": {
            "text/plain": [
              "array([['1', 'Hola'],\n",
              "       ['3', '7'],\n",
              "       ['-1', '5']], dtype='<U21')"
            ]
          },
          "metadata": {
            "tags": []
          },
          "execution_count": 16
        }
      ]
    },
    {
      "cell_type": "markdown",
      "metadata": {
        "id": "fuK1E_BRVqn9",
        "colab_type": "text"
      },
      "source": [
        "¿Por qué uno de los array es del tipo '<U32' y el otro es  '<U21'?\n",
        "* [Significado de los Numpy type](http://lagrange.univ-lyon1.fr/docs/numpy/1.11.0/reference/arrays.dtypes.html)\n",
        "*[Big-Endian y Little-Endian\n",
        "](https://www.arumeinformatica.es/blog/los-formatos-big-endian-y-little-endian/)"
      ]
    },
    {
      "cell_type": "code",
      "metadata": {
        "id": "Bvlk-i_rXIPI",
        "colab_type": "code",
        "outputId": "1582260b-f966-4412-acd7-dc1d2b64a4e3",
        "colab": {
          "base_uri": "https://localhost:8080/",
          "height": 68
        }
      },
      "source": [
        "# Crear un arrglo bidimensional\n",
        "arreglo_bidimensional = np.array([[3,5],[3,7],[-4,3]])\n",
        "arreglo_bidimensional"
      ],
      "execution_count": 0,
      "outputs": [
        {
          "output_type": "execute_result",
          "data": {
            "text/plain": [
              "array([[ 3,  5],\n",
              "       [ 3,  7],\n",
              "       [-4,  3]])"
            ]
          },
          "metadata": {
            "tags": []
          },
          "execution_count": 21
        }
      ]
    },
    {
      "cell_type": "code",
      "metadata": {
        "id": "D3wY7g1-XSW9",
        "colab_type": "code",
        "outputId": "c2c71a66-8877-4ae2-c775-02ddc179f01c",
        "colab": {
          "base_uri": "https://localhost:8080/",
          "height": 34
        }
      },
      "source": [
        "arreglo_bidimensional.shape"
      ],
      "execution_count": 0,
      "outputs": [
        {
          "output_type": "execute_result",
          "data": {
            "text/plain": [
              "(3, 2)"
            ]
          },
          "metadata": {
            "tags": []
          },
          "execution_count": 22
        }
      ]
    },
    {
      "cell_type": "code",
      "metadata": {
        "id": "xYofsG6lXc01",
        "colab_type": "code",
        "outputId": "1213b538-a2d9-4a90-f768-f6e61eb9108c",
        "colab": {
          "base_uri": "https://localhost:8080/",
          "height": 34
        }
      },
      "source": [
        "arreglo_bidimensional.ndim"
      ],
      "execution_count": 0,
      "outputs": [
        {
          "output_type": "execute_result",
          "data": {
            "text/plain": [
              "2"
            ]
          },
          "metadata": {
            "tags": []
          },
          "execution_count": 23
        }
      ]
    },
    {
      "cell_type": "code",
      "metadata": {
        "id": "rhZ_uivbXhMk",
        "colab_type": "code",
        "outputId": "47a818c0-6355-453b-8635-641924970042",
        "colab": {
          "base_uri": "https://localhost:8080/",
          "height": 34
        }
      },
      "source": [
        "arreglo_bidimensional.size"
      ],
      "execution_count": 0,
      "outputs": [
        {
          "output_type": "execute_result",
          "data": {
            "text/plain": [
              "6"
            ]
          },
          "metadata": {
            "tags": []
          },
          "execution_count": 24
        }
      ]
    },
    {
      "cell_type": "code",
      "metadata": {
        "id": "XKShiYuBY-Db",
        "colab_type": "code",
        "outputId": "9f824063-7318-464a-8c86-22d5701d3b01",
        "colab": {
          "base_uri": "https://localhost:8080/",
          "height": 34
        }
      },
      "source": [
        "# Recorrer Numpy 2 dimension array\n",
        "#  c0   c1\n",
        "# [ 3,  5], f0\n",
        "# [ 3,  7], f1\n",
        "# [-4,  3]  f2\n",
        "#arreglo_bidimensional[fx, cx]\n",
        "arreglo_bidimensional[2, 1]\n",
        "# toma el elemento en fila 2 y la columna 1, en este caso el resultado es 3"
      ],
      "execution_count": 0,
      "outputs": [
        {
          "output_type": "execute_result",
          "data": {
            "text/plain": [
              "3"
            ]
          },
          "metadata": {
            "tags": []
          },
          "execution_count": 30
        }
      ]
    },
    {
      "cell_type": "code",
      "metadata": {
        "id": "MkjsTTjwbgJ2",
        "colab_type": "code",
        "outputId": "7ba75a84-5b11-46ae-f692-a88c6e0bb8d1",
        "colab": {
          "base_uri": "https://localhost:8080/",
          "height": 34
        }
      },
      "source": [
        "# 0:3 es un rango que va de 0, 1 y 2 no llega a 3,\n",
        "#este recorre las 3 filas en la columna 0\n",
        "arreglo_bidimensional[0:3, 0]\n"
      ],
      "execution_count": 0,
      "outputs": [
        {
          "output_type": "execute_result",
          "data": {
            "text/plain": [
              "array([ 3,  3, -4])"
            ]
          },
          "metadata": {
            "tags": []
          },
          "execution_count": 33
        }
      ]
    },
    {
      "cell_type": "code",
      "metadata": {
        "id": "x_KYFerkftkQ",
        "colab_type": "code",
        "outputId": "6f1d29ff-ff6a-4d63-8c20-340d47d753ba",
        "colab": {
          "base_uri": "https://localhost:8080/",
          "height": 68
        }
      },
      "source": [
        "#retorna todo el arreglo\n",
        "arreglo_bidimensional[0:3, 0:2]"
      ],
      "execution_count": 0,
      "outputs": [
        {
          "output_type": "execute_result",
          "data": {
            "text/plain": [
              "array([[ 3,  5],\n",
              "       [ 3,  7],\n",
              "       [-4,  3]])"
            ]
          },
          "metadata": {
            "tags": []
          },
          "execution_count": 34
        }
      ]
    },
    {
      "cell_type": "code",
      "metadata": {
        "id": "qgjE00UIg8gW",
        "colab_type": "code",
        "outputId": "5aeb3a11-2930-4b59-997b-7c20cf93b910",
        "colab": {
          "base_uri": "https://localhost:8080/",
          "height": 34
        }
      },
      "source": [
        "col0 = arreglo_bidimensional[0:3, 0]\n",
        "col0"
      ],
      "execution_count": 0,
      "outputs": [
        {
          "output_type": "execute_result",
          "data": {
            "text/plain": [
              "array([ 3,  3, -4])"
            ]
          },
          "metadata": {
            "tags": []
          },
          "execution_count": 37
        }
      ]
    },
    {
      "cell_type": "code",
      "metadata": {
        "id": "USsiqLbLii8G",
        "colab_type": "code",
        "outputId": "f5b56112-7cd0-4207-9d99-1d58d5e30e40",
        "colab": {
          "base_uri": "https://localhost:8080/",
          "height": 34
        }
      },
      "source": [
        "col0.shape"
      ],
      "execution_count": 0,
      "outputs": [
        {
          "output_type": "execute_result",
          "data": {
            "text/plain": [
              "(3,)"
            ]
          },
          "metadata": {
            "tags": []
          },
          "execution_count": 39
        }
      ]
    },
    {
      "cell_type": "code",
      "metadata": {
        "id": "NhJzi5BUhW6o",
        "colab_type": "code",
        "colab": {}
      },
      "source": [
        "# Cambia la estructura de la columna, transfomandola  a 3 filas y una columana\n",
        "col0 = col0.reshape(3,1)"
      ],
      "execution_count": 0,
      "outputs": []
    },
    {
      "cell_type": "code",
      "metadata": {
        "id": "mV8Cliwmi3BC",
        "colab_type": "code",
        "outputId": "da5ab36b-9d99-4336-c94c-6e774cd9b0c4",
        "colab": {
          "base_uri": "https://localhost:8080/",
          "height": 68
        }
      },
      "source": [
        "col0"
      ],
      "execution_count": 0,
      "outputs": [
        {
          "output_type": "execute_result",
          "data": {
            "text/plain": [
              "array([[ 3],\n",
              "       [ 3],\n",
              "       [-4]])"
            ]
          },
          "metadata": {
            "tags": []
          },
          "execution_count": 42
        }
      ]
    },
    {
      "cell_type": "code",
      "metadata": {
        "id": "x7uUWl3HiwIm",
        "colab_type": "code",
        "colab": {}
      },
      "source": [
        "col0.shape"
      ],
      "execution_count": 0,
      "outputs": []
    },
    {
      "cell_type": "code",
      "metadata": {
        "id": "LuNKhgddjixu",
        "colab_type": "code",
        "outputId": "04713410-d0c7-4774-c68d-b35df824ab36",
        "colab": {
          "base_uri": "https://localhost:8080/",
          "height": 34
        }
      },
      "source": [
        "col0 = col0.reshape(1,3)\n",
        "col0\n",
        "#nota que el arreglo esta dentro de otro arreglo."
      ],
      "execution_count": 0,
      "outputs": [
        {
          "output_type": "execute_result",
          "data": {
            "text/plain": [
              "array([[ 3,  3, -4]])"
            ]
          },
          "metadata": {
            "tags": []
          },
          "execution_count": 49
        }
      ]
    },
    {
      "cell_type": "code",
      "metadata": {
        "id": "kEQ45U5Nj_cI",
        "colab_type": "code",
        "outputId": "c97fb7b6-88ba-4813-83c2-26369ce200f4",
        "colab": {
          "base_uri": "https://localhost:8080/",
          "height": 34
        }
      },
      "source": [
        "col0.shape"
      ],
      "execution_count": 0,
      "outputs": [
        {
          "output_type": "execute_result",
          "data": {
            "text/plain": [
              "(1, 3)"
            ]
          },
          "metadata": {
            "tags": []
          },
          "execution_count": 50
        }
      ]
    },
    {
      "cell_type": "code",
      "metadata": {
        "id": "FF--uWXJk9jw",
        "colab_type": "code",
        "outputId": "f10775d0-4d24-45ff-ba60-7894e365c14d",
        "colab": {
          "base_uri": "https://localhost:8080/",
          "height": 51
        }
      },
      "source": [
        "array_complejos = np.array( [ [1,2], [3,4] ], dtype=complex )\n",
        "array_complejos"
      ],
      "execution_count": 0,
      "outputs": [
        {
          "output_type": "execute_result",
          "data": {
            "text/plain": [
              "array([[1.+0.j, 2.+0.j],\n",
              "       [3.+0.j, 4.+0.j]])"
            ]
          },
          "metadata": {
            "tags": []
          },
          "execution_count": 52
        }
      ]
    },
    {
      "cell_type": "code",
      "metadata": {
        "id": "TnuQm1MrzoeH",
        "colab_type": "code",
        "outputId": "d09c197a-006f-4714-f370-b4520bccaf99",
        "colab": {
          "base_uri": "https://localhost:8080/",
          "height": 68
        }
      },
      "source": [
        "#Arreglo completo de zeros\n",
        "np.zeros( (3,4) )"
      ],
      "execution_count": 0,
      "outputs": [
        {
          "output_type": "execute_result",
          "data": {
            "text/plain": [
              "array([[0., 0., 0., 0.],\n",
              "       [0., 0., 0., 0.],\n",
              "       [0., 0., 0., 0.]])"
            ]
          },
          "metadata": {
            "tags": []
          },
          "execution_count": 53
        }
      ]
    },
    {
      "cell_type": "code",
      "metadata": {
        "id": "weV_youY0JNm",
        "colab_type": "code",
        "colab": {}
      },
      "source": [
        "# crear un arreglo de 3 dim con 1`s tipo int16\n",
        "array_ones = np.ones( (2,3,4), dtype=np.int16 ) "
      ],
      "execution_count": 0,
      "outputs": []
    },
    {
      "cell_type": "code",
      "metadata": {
        "id": "-XIGr56p0dYS",
        "colab_type": "code",
        "outputId": "efa743eb-87e1-4ea7-e04d-fa76514a4cdb",
        "colab": {
          "base_uri": "https://localhost:8080/",
          "height": 137
        }
      },
      "source": [
        "array_ones"
      ],
      "execution_count": 0,
      "outputs": [
        {
          "output_type": "execute_result",
          "data": {
            "text/plain": [
              "array([[[1, 1, 1, 1],\n",
              "        [1, 1, 1, 1],\n",
              "        [1, 1, 1, 1]],\n",
              "\n",
              "       [[1, 1, 1, 1],\n",
              "        [1, 1, 1, 1],\n",
              "        [1, 1, 1, 1]]], dtype=int16)"
            ]
          },
          "metadata": {
            "tags": []
          },
          "execution_count": 60
        }
      ]
    },
    {
      "cell_type": "code",
      "metadata": {
        "id": "thOq1_Q60hrM",
        "colab_type": "code",
        "outputId": "13e9bb92-3f55-45c6-dcfa-8a00b9091395",
        "colab": {
          "base_uri": "https://localhost:8080/",
          "height": 34
        }
      },
      "source": [
        "array_ones.ndim"
      ],
      "execution_count": 0,
      "outputs": [
        {
          "output_type": "execute_result",
          "data": {
            "text/plain": [
              "3"
            ]
          },
          "metadata": {
            "tags": []
          },
          "execution_count": 58
        }
      ]
    },
    {
      "cell_type": "code",
      "metadata": {
        "id": "RGuq9yqQ1CUv",
        "colab_type": "code",
        "colab": {}
      },
      "source": [
        "#crea array vacio\n",
        "np.empty( (2,3) )  "
      ],
      "execution_count": 0,
      "outputs": []
    },
    {
      "cell_type": "code",
      "metadata": {
        "id": "oTAzPoGW1VBV",
        "colab_type": "code",
        "outputId": "131e2d07-2951-45a3-d893-50395f06c595",
        "colab": {
          "base_uri": "https://localhost:8080/",
          "height": 34
        }
      },
      "source": [
        "#Crea un arreglo de una dim con los numeros del 5 al menor que 30 con pasos de 5 en 5\n",
        "np.arange( 10, 30, 5 )\n"
      ],
      "execution_count": 0,
      "outputs": [
        {
          "output_type": "execute_result",
          "data": {
            "text/plain": [
              "array([10, 15, 20, 25])"
            ]
          },
          "metadata": {
            "tags": []
          },
          "execution_count": 63
        }
      ]
    },
    {
      "cell_type": "markdown",
      "metadata": {
        "id": "rAmJgBMA1E2e",
        "colab_type": "text"
      },
      "source": [
        "# Fin..."
      ]
    }
  ]
}