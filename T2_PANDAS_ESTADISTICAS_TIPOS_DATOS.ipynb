{
  "nbformat": 4,
  "nbformat_minor": 0,
  "metadata": {
    "kernelspec": {
      "display_name": "Python 3",
      "language": "python",
      "name": "python3"
    },
    "language_info": {
      "codemirror_mode": {
        "name": "ipython",
        "version": 3
      },
      "file_extension": ".py",
      "mimetype": "text/x-python",
      "name": "python",
      "nbconvert_exporter": "python",
      "pygments_lexer": "ipython3",
      "version": "3.6.7"
    },
    "colab": {
      "name": "T2-PANDAS_ESTADISTICAS_TIPOS_DATOS.ipynb",
      "version": "0.3.2",
      "provenance": [],
      "collapsed_sections": [],
      "toc_visible": true,
      "include_colab_link": true
    }
  },
  "cells": [
    {
      "cell_type": "markdown",
      "metadata": {
        "id": "view-in-github",
        "colab_type": "text"
      },
      "source": [
        "<a href=\"https://colab.research.google.com/github/difo23/BitacorasDataScienceDominicano/blob/master/T2_PANDAS_ESTADISTICAS_TIPOS_DATOS.ipynb\" target=\"_parent\"><img src=\"https://colab.research.google.com/assets/colab-badge.svg\" alt=\"Open In Colab\"/></a>"
      ]
    },
    {
      "cell_type": "markdown",
      "metadata": {
        "id": "Mo30dnDy1RYj",
        "colab_type": "text"
      },
      "source": [
        "# Bitácoras de un Data Science Dominicano: \n",
        "## Python Tipos de Datos\n",
        "[Tipos de datos más info...](http://descargas.pntic.mec.es/cedec/mat3/contenidos/u11/M3_U11_contenidos/12_tipos_de_datos.html)"
      ]
    },
    {
      "cell_type": "markdown",
      "metadata": {
        "id": "88m8nb9t1RYs",
        "colab_type": "text"
      },
      "source": [
        "En estadísticas existen dos tipos de datos generales:\n",
        "* Datos Numéricos (Cuantitativas)\n",
        "* Datos Categóricos (Cualitativas)"
      ]
    },
    {
      "cell_type": "markdown",
      "metadata": {
        "id": "GbM2-Yn21RYy",
        "colab_type": "text"
      },
      "source": [
        "### Ejemplo: Datos de una encuesta.\n",
        "* P0. ¿Eres fanatico de la serie Game of Thrones?\n",
        "    1. Si.\n",
        "    2. No.\n",
        "        \n",
        "* P1. ¿Cuál es tu altura en metros?_____\n",
        "* P2. ¿Cuál es tu impresión por el último capítulo de Game Of Thrones?\n",
        "  1. Muy bueno\n",
        "  2. Bueno\n",
        "  3. Regular\n",
        "  4. Malo\n",
        "  5. Muy malo\n",
        "  6. No lo he visto.\n",
        "  \n",
        "* P3. ¿Cuál  es tu sexo?\n",
        "    1. Masculino.\n",
        "    2. Femenino.\n",
        "\n",
        "* P4. ¿Cuál es tu edad? ___\n",
        "* P5. ¿Cuál es el nombre de tu personaje favorito en la serie? __\n"
      ]
    },
    {
      "cell_type": "markdown",
      "metadata": {
        "id": "l4Mftld82HP9",
        "colab_type": "text"
      },
      "source": [
        "## Tipos de datos estadisticos relacionados con los tipos de datos en Python:"
      ]
    },
    {
      "cell_type": "code",
      "metadata": {
        "id": "lk_2dnxm1RY3",
        "colab_type": "code",
        "colab": {}
      },
      "source": [
        "# variables en python para una sola respuesta de la encuesta:\n",
        "fanatico = True\n",
        "sexo = 'Masculino'\n",
        "edad = 34\n",
        "altura = 1.68\n",
        "impr_ult_cap = 'Muy bueno'\n"
      ],
      "execution_count": 0,
      "outputs": []
    },
    {
      "cell_type": "markdown",
      "metadata": {
        "id": "FgR8HEt047AU",
        "colab_type": "text"
      },
      "source": [
        "### Cadena de carácteres o Strings (Categóricos o cualitativos)"
      ]
    },
    {
      "cell_type": "code",
      "metadata": {
        "id": "UmH-HWed1RZK",
        "colab_type": "code",
        "outputId": "f47c4c29-37e1-4fc9-bd4c-7fe67b2c963a",
        "colab": {
          "base_uri": "https://localhost:8080/",
          "height": 34
        }
      },
      "source": [
        "sexo"
      ],
      "execution_count": 0,
      "outputs": [
        {
          "output_type": "execute_result",
          "data": {
            "text/plain": [
              "'Masculino'"
            ]
          },
          "metadata": {
            "tags": []
          },
          "execution_count": 21
        }
      ]
    },
    {
      "cell_type": "code",
      "metadata": {
        "id": "2UzBnHl_1RZc",
        "colab_type": "code",
        "outputId": "9bb843db-ccdf-429a-b16d-e05b6ffacfb3",
        "colab": {
          "base_uri": "https://localhost:8080/",
          "height": 34
        }
      },
      "source": [
        "type(sexo)"
      ],
      "execution_count": 0,
      "outputs": [
        {
          "output_type": "execute_result",
          "data": {
            "text/plain": [
              "str"
            ]
          },
          "metadata": {
            "tags": []
          },
          "execution_count": 22
        }
      ]
    },
    {
      "cell_type": "markdown",
      "metadata": {
        "id": "B7GH4SOO5DDg",
        "colab_type": "text"
      },
      "source": [
        "### Enteros discretos"
      ]
    },
    {
      "cell_type": "code",
      "metadata": {
        "id": "lD1D6aMy1RZn",
        "colab_type": "code",
        "outputId": "144b95b6-5f3d-4dec-aba2-c4c613c43b21",
        "colab": {
          "base_uri": "https://localhost:8080/",
          "height": 34
        }
      },
      "source": [
        "edad"
      ],
      "execution_count": 0,
      "outputs": [
        {
          "output_type": "execute_result",
          "data": {
            "text/plain": [
              "34"
            ]
          },
          "metadata": {
            "tags": []
          },
          "execution_count": 23
        }
      ]
    },
    {
      "cell_type": "code",
      "metadata": {
        "id": "CTy2ZZ6i1RZ0",
        "colab_type": "code",
        "outputId": "f85154cf-d301-4282-d669-b47baf123c99",
        "colab": {
          "base_uri": "https://localhost:8080/",
          "height": 34
        }
      },
      "source": [
        "type(edad)"
      ],
      "execution_count": 0,
      "outputs": [
        {
          "output_type": "execute_result",
          "data": {
            "text/plain": [
              "int"
            ]
          },
          "metadata": {
            "tags": []
          },
          "execution_count": 24
        }
      ]
    },
    {
      "cell_type": "markdown",
      "metadata": {
        "id": "9ehP9-wy5RtM",
        "colab_type": "text"
      },
      "source": [
        "### Flotantes Continuos "
      ]
    },
    {
      "cell_type": "code",
      "metadata": {
        "id": "kpUB0qfd1RaA",
        "colab_type": "code",
        "outputId": "4223e6d4-132c-430f-a25f-fbf88c5041d9",
        "colab": {
          "base_uri": "https://localhost:8080/",
          "height": 34
        }
      },
      "source": [
        "altura"
      ],
      "execution_count": 0,
      "outputs": [
        {
          "output_type": "execute_result",
          "data": {
            "text/plain": [
              "1.68"
            ]
          },
          "metadata": {
            "tags": []
          },
          "execution_count": 25
        }
      ]
    },
    {
      "cell_type": "code",
      "metadata": {
        "id": "uG8tuGah1RaL",
        "colab_type": "code",
        "outputId": "b9893dd4-d66f-407a-d46d-8cd81177a850",
        "colab": {
          "base_uri": "https://localhost:8080/",
          "height": 34
        }
      },
      "source": [
        "type(altura)"
      ],
      "execution_count": 0,
      "outputs": [
        {
          "output_type": "execute_result",
          "data": {
            "text/plain": [
              "float"
            ]
          },
          "metadata": {
            "tags": []
          },
          "execution_count": 26
        }
      ]
    },
    {
      "cell_type": "markdown",
      "metadata": {
        "id": "AOYtkIrL6PL9",
        "colab_type": "text"
      },
      "source": [
        "### Booleanos (variables que aceptan solo dos valores posible; True o False, 1 ó 0)"
      ]
    },
    {
      "cell_type": "code",
      "metadata": {
        "id": "IcCGqL2S1RaZ",
        "colab_type": "code",
        "outputId": "548686e2-5738-4f98-c7bf-de8b393d1dca",
        "colab": {
          "base_uri": "https://localhost:8080/",
          "height": 34
        }
      },
      "source": [
        "fanatico"
      ],
      "execution_count": 0,
      "outputs": [
        {
          "output_type": "execute_result",
          "data": {
            "text/plain": [
              "True"
            ]
          },
          "metadata": {
            "tags": []
          },
          "execution_count": 27
        }
      ]
    },
    {
      "cell_type": "code",
      "metadata": {
        "id": "6UHFk5D21Rak",
        "colab_type": "code",
        "outputId": "6e5b342f-db08-4841-ad90-48f34795ef7b",
        "colab": {
          "base_uri": "https://localhost:8080/",
          "height": 34
        }
      },
      "source": [
        "type(fanatico)"
      ],
      "execution_count": 0,
      "outputs": [
        {
          "output_type": "execute_result",
          "data": {
            "text/plain": [
              "bool"
            ]
          },
          "metadata": {
            "tags": []
          },
          "execution_count": 28
        }
      ]
    },
    {
      "cell_type": "markdown",
      "metadata": {
        "id": "vsBCW3Gi2fOb",
        "colab_type": "text"
      },
      "source": [
        "## Estructuras de datos en Python:"
      ]
    },
    {
      "cell_type": "markdown",
      "metadata": {
        "id": "GrLVAEm34UDK",
        "colab_type": "text"
      },
      "source": [
        "### Listas:"
      ]
    },
    {
      "cell_type": "code",
      "metadata": {
        "id": "dKr1Rh191Raw",
        "colab_type": "code",
        "colab": {}
      },
      "source": [
        "entrevistado_1 = [impr_ult_cap, edad, altura, sexo]"
      ],
      "execution_count": 0,
      "outputs": []
    },
    {
      "cell_type": "code",
      "metadata": {
        "id": "39Zb_Pg71Ra7",
        "colab_type": "code",
        "outputId": "2bb2f209-216d-4544-c100-72cfdbb1171a",
        "colab": {
          "base_uri": "https://localhost:8080/",
          "height": 34
        }
      },
      "source": [
        "entrevistado_1"
      ],
      "execution_count": 0,
      "outputs": [
        {
          "output_type": "execute_result",
          "data": {
            "text/plain": [
              "['Muy bueno', 34, 1.68, 'Masculino']"
            ]
          },
          "metadata": {
            "tags": []
          },
          "execution_count": 30
        }
      ]
    },
    {
      "cell_type": "code",
      "metadata": {
        "id": "n1mLRt-W1RbF",
        "colab_type": "code",
        "outputId": "a38ebc2d-3bb5-4481-9602-208e5a30637d",
        "colab": {
          "base_uri": "https://localhost:8080/",
          "height": 34
        }
      },
      "source": [
        "entrevistado_1[0]"
      ],
      "execution_count": 0,
      "outputs": [
        {
          "output_type": "execute_result",
          "data": {
            "text/plain": [
              "'Muy bueno'"
            ]
          },
          "metadata": {
            "tags": []
          },
          "execution_count": 31
        }
      ]
    },
    {
      "cell_type": "code",
      "metadata": {
        "id": "Jni49dW21RbN",
        "colab_type": "code",
        "outputId": "aa99015b-d892-422d-9ae5-ba14f0cda3a3",
        "colab": {
          "base_uri": "https://localhost:8080/",
          "height": 34
        }
      },
      "source": [
        "type(entrevistado_1)"
      ],
      "execution_count": 0,
      "outputs": [
        {
          "output_type": "execute_result",
          "data": {
            "text/plain": [
              "list"
            ]
          },
          "metadata": {
            "tags": []
          },
          "execution_count": 32
        }
      ]
    },
    {
      "cell_type": "markdown",
      "metadata": {
        "id": "83Fm-BC4BSy8",
        "colab_type": "text"
      },
      "source": [
        "[Más info Listas...](https://www.geeksforgeeks.org/python-list-comprehension-and-slicing/)"
      ]
    },
    {
      "cell_type": "markdown",
      "metadata": {
        "id": "CDDCHEvA4did",
        "colab_type": "text"
      },
      "source": [
        "### Tuplas"
      ]
    },
    {
      "cell_type": "code",
      "metadata": {
        "id": "vgVsgyci1RbZ",
        "colab_type": "code",
        "colab": {}
      },
      "source": [
        "entrevistado_1 = (impr_ult_cap, edad, altura, sexo)"
      ],
      "execution_count": 0,
      "outputs": []
    },
    {
      "cell_type": "code",
      "metadata": {
        "id": "FhYEvOka1Rbh",
        "colab_type": "code",
        "outputId": "37b7bc32-3589-412d-da51-ccf23855e2e3",
        "colab": {
          "base_uri": "https://localhost:8080/",
          "height": 34
        }
      },
      "source": [
        "type(entrevistado_1)"
      ],
      "execution_count": 0,
      "outputs": [
        {
          "output_type": "execute_result",
          "data": {
            "text/plain": [
              "tuple"
            ]
          },
          "metadata": {
            "tags": []
          },
          "execution_count": 34
        }
      ]
    },
    {
      "cell_type": "code",
      "metadata": {
        "id": "OlIEFfmp1Rbq",
        "colab_type": "code",
        "outputId": "336e23f8-25ac-4429-f7f0-314ac249bf6b",
        "colab": {
          "base_uri": "https://localhost:8080/",
          "height": 34
        }
      },
      "source": [
        "entrevistado_1"
      ],
      "execution_count": 0,
      "outputs": [
        {
          "output_type": "execute_result",
          "data": {
            "text/plain": [
              "('Muy bueno', 34, 1.68, 'Masculino')"
            ]
          },
          "metadata": {
            "tags": []
          },
          "execution_count": 35
        }
      ]
    },
    {
      "cell_type": "code",
      "metadata": {
        "id": "y-SEnrn-9gOH",
        "colab_type": "code",
        "outputId": "16e40719-de30-4cbf-c095-0c03e223f14d",
        "colab": {
          "base_uri": "https://localhost:8080/",
          "height": 34
        }
      },
      "source": [
        "entrevistado_2"
      ],
      "execution_count": 0,
      "outputs": [
        {
          "output_type": "execute_result",
          "data": {
            "text/plain": [
              "{'edad': 45, 'fanatico': True, 'sexo': 'masculino'}"
            ]
          },
          "metadata": {
            "tags": []
          },
          "execution_count": 36
        }
      ]
    },
    {
      "cell_type": "markdown",
      "metadata": {
        "id": "aaAjwuPnBndE",
        "colab_type": "text"
      },
      "source": [
        "[Más info sobre Tuplas...](https://www.geeksforgeeks.org/tuples-in-python/)"
      ]
    },
    {
      "cell_type": "markdown",
      "metadata": {
        "id": "FVk1zwOB4lUX",
        "colab_type": "text"
      },
      "source": [
        "### Sets"
      ]
    },
    {
      "cell_type": "code",
      "metadata": {
        "id": "7C105bGy1Rb2",
        "colab_type": "code",
        "colab": {}
      },
      "source": [
        "entrevistado_1 = {impr_ult_cap, edad, altura, sexo}"
      ],
      "execution_count": 0,
      "outputs": []
    },
    {
      "cell_type": "code",
      "metadata": {
        "id": "K36sk9Zj1Rb8",
        "colab_type": "code",
        "outputId": "f044c472-602e-4a0e-93ef-df51ffa58ec8",
        "colab": {
          "base_uri": "https://localhost:8080/",
          "height": 34
        }
      },
      "source": [
        "entrevistado_1"
      ],
      "execution_count": 0,
      "outputs": [
        {
          "output_type": "execute_result",
          "data": {
            "text/plain": [
              "{1.68, 34, 'Masculino', 'Muy bueno'}"
            ]
          },
          "metadata": {
            "tags": []
          },
          "execution_count": 38
        }
      ]
    },
    {
      "cell_type": "code",
      "metadata": {
        "id": "CkV9stdr1RcJ",
        "colab_type": "code",
        "outputId": "dcaa6056-ae53-4074-e716-604ced71379a",
        "colab": {
          "base_uri": "https://localhost:8080/",
          "height": 34
        }
      },
      "source": [
        "type(entrevistado_1)"
      ],
      "execution_count": 0,
      "outputs": [
        {
          "output_type": "execute_result",
          "data": {
            "text/plain": [
              "set"
            ]
          },
          "metadata": {
            "tags": []
          },
          "execution_count": 39
        }
      ]
    },
    {
      "cell_type": "markdown",
      "metadata": {
        "id": "UMU6A3Aq_awT",
        "colab_type": "text"
      },
      "source": [
        "[Más info sobre Sets...](https://www.geeksforgeeks.org/sets-in-python/)"
      ]
    },
    {
      "cell_type": "markdown",
      "metadata": {
        "id": "Gfh0D7ur4wh-",
        "colab_type": "text"
      },
      "source": [
        "### Diccionarios"
      ]
    },
    {
      "cell_type": "code",
      "metadata": {
        "id": "IEhAEMAp1RcT",
        "colab_type": "code",
        "colab": {}
      },
      "source": [
        "entrevistado_2 = {'fanatico': True, 'edad': 45, 'sexo': 'masculino'}"
      ],
      "execution_count": 0,
      "outputs": []
    },
    {
      "cell_type": "code",
      "metadata": {
        "id": "U6x6RiA-4LpB",
        "colab_type": "code",
        "outputId": "3bf7a99b-8c1f-4b3f-afd7-576fc8f4936a",
        "colab": {
          "base_uri": "https://localhost:8080/",
          "height": 34
        }
      },
      "source": [
        "type(entrevistado_2)"
      ],
      "execution_count": 0,
      "outputs": [
        {
          "output_type": "execute_result",
          "data": {
            "text/plain": [
              "dict"
            ]
          },
          "metadata": {
            "tags": []
          },
          "execution_count": 2
        }
      ]
    },
    {
      "cell_type": "code",
      "metadata": {
        "id": "Y9ua9Afv4tn9",
        "colab_type": "code",
        "outputId": "720bed09-a7e9-41a0-84d7-b22f1b2ed204",
        "colab": {
          "base_uri": "https://localhost:8080/",
          "height": 34
        }
      },
      "source": [
        "entrevistado_2"
      ],
      "execution_count": 0,
      "outputs": [
        {
          "output_type": "execute_result",
          "data": {
            "text/plain": [
              "{'edad': 45, 'fanatico': True, 'sexo': 'masculino'}"
            ]
          },
          "metadata": {
            "tags": []
          },
          "execution_count": 3
        }
      ]
    },
    {
      "cell_type": "markdown",
      "metadata": {
        "id": "z3Zv5NhH4QG3",
        "colab_type": "text"
      },
      "source": [
        "[Más info Diccionarios...](https://devcode.la/tutoriales/diccionarios-en-python/)"
      ]
    }
  ]
}