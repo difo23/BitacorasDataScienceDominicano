{
 "cells": [
  {
   "cell_type": "markdown",
   "source": "# Python Cardio Platzi Datacademy\nby [@difo23](https://github.com/difo23) in github.",
   "metadata": {
    "tags": [],
    "cell_id": "00000-8c1c7d99-282a-45ae-9676-1c3e1bc8e72e",
    "deepnote_cell_type": "markdown"
   }
  },
  {
   "cell_type": "markdown",
   "source": "## Reto 1 - Área de un triángulo   \n\n### Descripcion:  \n\nEs momento de poner ese conocimiento a la práctica. El área de un triángulo se describe de la siguiente manera: A = (b * h) / 2 .\n\nEscribe un programa que tome la base y la altura como parámetros y calcule el área del triángulo.\n\n** Bonus: el programa debe determinar si el triángulo es isósceles, equilátero o escaleno.**\n",
   "metadata": {
    "tags": [],
    "cell_id": "00001-0957e2f5-afeb-464c-b51f-2ea3f5dec8fe",
    "deepnote_cell_type": "markdown"
   }
  },
  {
   "cell_type": "markdown",
   "source": "### Solución",
   "metadata": {
    "tags": [],
    "cell_id": "00002-9779a46f-1ba8-4f6d-a937-c2dfaed377d5",
    "deepnote_cell_type": "text-cell-h3"
   }
  },
  {
   "cell_type": "code",
   "metadata": {
    "tags": [],
    "cell_id": "00000-e6c92e61-a65a-4da1-afd7-d2852fd0a141",
    "deepnote_to_be_reexecuted": false,
    "source_hash": "a0534d94",
    "execution_start": 1621282723389,
    "execution_millis": 46,
    "deepnote_cell_type": "code"
   },
   "source": "import math\n\n# Para hacerlo mas interesante calcularemos el area solo conociendo los lados.\n\ndef calc_area_triangulo( tipo = 1, lados = [1,1,1]):\n\n    area = 0\n   \n    if tipo == 1:\n\n        # Area equilatero\n        area =( math.sqrt(3)/4 ) * lados[0] ** 2\n\n    elif tipo == 2:\n\n        # Area isoseles\n        a, b = 1, 2 # a uno de los lados iguales y b diferente\n\n        if lados[0] == lados[1]:\n            a , b  = lados[0], lados[2]\n        else:\n            b , a  = lados[0], lados[2]\n\n        area = (b * math.sqrt(a**2 - ((b**2)/4))) /2\n\n    else: \n        \n        # Area escaleno\n        s = sum(lados)/2\n        area = math.sqrt(s*(s-lados[0])*(s- lados[1])*(s-lados[2]))\n\n    return area\n\ndef tipo_triangulo(lados = [1,1,1]):\n\n    tipo = 0\n\n    if lados[0] == lados[1] and lados[1] == lados[2]:\n        print (\"Triangulo Equilatero\")\n        print(lados)\n        tipo = 1 # Equilatero todos los lados iguales\n\n    elif lados[0] == lados[1] or lados[1] == lados[2]:\n        print (\"Triangulo Isoseles\")\n        print(lados)\n        tipo = 2 # Isoseles dos lados iguales\n\n    else:\n        print (\"Triangulo Escaleno\")\n        print(lados)\n        tipo = 3  # Escaleno no tiene lados iguales\n    \n    return tipo\n\n\ndef desc_triangulo(lado_a, lado_b, lado_c):\n\n    # Ordeno los lados de menor a mayor.\n    lados = sorted([lado_a, lado_b, lado_c])\n    tipo = tipo_triangulo(lados)\n    area = calc_area_triangulo(tipo, lados)\n\n    print(\"Tipo: \",tipo,\"Area: \",area)\n\n# Calc eqilatero\ndesc_triangulo(10,10,10)\n\n# Calc Isoseles \ndesc_triangulo(11.0,11.0,7.5)\n\n# Calc Escaleno\ndesc_triangulo(3,4,5)",
   "execution_count": 1,
   "outputs": [
    {
     "name": "stdout",
     "text": "Triangulo Equilatero\n[10, 10, 10]\nTipo:  1 Area:  43.30127018922193\nTriangulo Isoseles\n[7.5, 11.0, 11.0]\nTipo:  2 Area:  38.77897102489957\nTriangulo Escaleno\n[3, 4, 5]\nTipo:  3 Area:  6.0\n",
     "output_type": "stream"
    }
   ]
  },
  {
   "cell_type": "markdown",
   "source": "## Reto 2 - Piedra, papel o tijera\n\n### Descripcion: \nEste es un juego en el que nunca fui bueno, pero eso no significa que hacer un programa sea difícil. Escribe un programa que reciba como parámetro “piedra”, “papel”, o “tijera” y determine si ganó el jugador 1 o el jugador 2.\n\n** Bonus: determina que el ganador sea el jugador que gane 2 de 3 encuentros.**\n\nEjemplo: \n\n```py\nppt(“piedra”, “papel”) ➞ “El ganador es el jugador 2\n```",
   "metadata": {
    "tags": [],
    "cell_id": "00004-735a31a8-bbf0-49d7-8f6e-80a3cac6317e",
    "deepnote_cell_type": "markdown"
   }
  },
  {
   "cell_type": "code",
   "metadata": {
    "tags": [],
    "cell_id": "00005-f6d8f334-38f1-4a84-a758-2710ffba8233",
    "deepnote_to_be_reexecuted": false,
    "source_hash": "90437811",
    "execution_start": 1621282723431,
    "execution_millis": 26,
    "deepnote_cell_type": "code"
   },
   "source": "# Piedra gana a tijera\n# Piedra pierde con papel\n\ndef ppt(player1, player2):\n    \n    if player1 == player2:\n        print(\"Empate!\")\n    \n    elif player1 == \"piedra\" and player2 == \"tijera\":\n        print(\"Gana player 1\")\n    \n    elif player1 == \"papel\" and player2 == \"piedra\":\n        print(\"Gana player 1\")    \n    \n    elif player1 == \"tijera\" and player2 == \"papel\":\n        print(\"Gana player 1\")\n\n    else:\n        print(\"Gana player 2 \")\n\n\nppt(\"piedra\", \"papel\")\nppt(\"tijera\", \"piedra\")\nppt(\"papel\", \"piedra\")\nppt(\"piedra\", \"piedra\")",
   "execution_count": 2,
   "outputs": [
    {
     "name": "stdout",
     "text": "Gana player 2 \nGana player 2 \nGana player 1\nEmpate!\n",
     "output_type": "stream"
    }
   ]
  },
  {
   "cell_type": "markdown",
   "source": "## Reto 3 - Conversor de millas a kilómetros\n\n### Descripcion:\n\nImagina que quieres calcular los kilómetros que son cierta cantidad de millas. Para no estar repitiendo este cálculo escribe un programa en que el usuario indique una cantidad de millas y en pantalla se muestre el resultado convertido a kilómetros.\n\nToma en cuenta que en cada milla hay 1.609344 Km\n\n** Bonus: haz que el usuario pueda escoger entre convertir millas a kilómetros o kilómetros a millas.**",
   "metadata": {
    "tags": [],
    "cell_id": "00006-f1c8f6a7-62b5-42be-8529-7ccf82793150",
    "deepnote_cell_type": "markdown"
   }
  },
  {
   "cell_type": "code",
   "metadata": {
    "tags": [],
    "cell_id": "00006-e08d69dd-e83c-4413-b0d1-bd3fce98c2ca",
    "deepnote_to_be_reexecuted": false,
    "source_hash": "a5b4f834",
    "execution_start": 1621282723464,
    "execution_millis": 57791,
    "deepnote_cell_type": "code"
   },
   "source": "\ndef convertir_milla_kmts( dist = 1, tipo = True ):\n    MILLA_TO_KMTS = 1.609344\n    result = 0\n\n    destino, origen = \"kilometros\", \"millas\"\n\n    if tipo:\n        # Calculo kilometros\n        result = dist * MILLA_TO_KMTS\n    else:\n        # Calculo millas\n        result = dist / MILLA_TO_KMTS\n        destino, origen = \"millas\" , \"kilometros\"\n    \n    print(f\"Convertir {dist} {origen} a  {result} {destino}\")\n\n\nconvertir_milla_kmts()\nconvertir_milla_kmts(1.609344, tipo = False)\n\n# Inputs\ntipo = input(\n    \"\"\" Selecciona el tipo de conversion (k) para kilometos a millas\n    y (m) es para millas a kilometros\n    \"\"\"\n    )\n\nif tipo == \"k\":\n    tipo = False\nelse:\n    tipo == True\n\ndist = int(input(\"Introduce la distancia convertir. Ejemplo: 10\"))\n\nconvertir_milla_kmts(dist, tipo )\n",
   "execution_count": 3,
   "outputs": [
    {
     "name": "stdout",
     "text": "Convertir 1 millas a  1.609344 kilometros\nConvertir 1.609344 kilometros a  1.0 millas\n",
     "output_type": "stream"
    },
    {
     "output_type": "error",
     "ename": "KeyboardInterrupt",
     "evalue": "Interrupted by user",
     "traceback": [
      "\u001b[0;31m---------------------------------------------------------------------------\u001b[0m",
      "\u001b[0;31mKeyboardInterrupt\u001b[0m                         Traceback (most recent call last)",
      "\u001b[0;32m<ipython-input-3-c39d9ee7533a>\u001b[0m in \u001b[0;36m<module>\u001b[0;34m\u001b[0m\n\u001b[1;32m     23\u001b[0m     \"\"\" Selecciona el tipo de conversion (k) para kilometos a millas\n\u001b[1;32m     24\u001b[0m     \u001b[0my\u001b[0m \u001b[0;34m(\u001b[0m\u001b[0mm\u001b[0m\u001b[0;34m)\u001b[0m \u001b[0mes\u001b[0m \u001b[0mpara\u001b[0m \u001b[0mmillas\u001b[0m \u001b[0ma\u001b[0m \u001b[0mkilometros\u001b[0m\u001b[0;34m\u001b[0m\u001b[0;34m\u001b[0m\u001b[0m\n\u001b[0;32m---> 25\u001b[0;31m     \"\"\"\n\u001b[0m\u001b[1;32m     26\u001b[0m     )\n\u001b[1;32m     27\u001b[0m \u001b[0;34m\u001b[0m\u001b[0m\n",
      "\u001b[0;32m/shared-libs/python3.7/py-core/lib/python3.7/site-packages/ipykernel/kernelbase.py\u001b[0m in \u001b[0;36mraw_input\u001b[0;34m(self, prompt)\u001b[0m\n\u001b[1;32m    849\u001b[0m             \u001b[0mself\u001b[0m\u001b[0;34m.\u001b[0m\u001b[0m_parent_ident\u001b[0m\u001b[0;34m,\u001b[0m\u001b[0;34m\u001b[0m\u001b[0;34m\u001b[0m\u001b[0m\n\u001b[1;32m    850\u001b[0m             \u001b[0mself\u001b[0m\u001b[0;34m.\u001b[0m\u001b[0m_parent_header\u001b[0m\u001b[0;34m,\u001b[0m\u001b[0;34m\u001b[0m\u001b[0;34m\u001b[0m\u001b[0m\n\u001b[0;32m--> 851\u001b[0;31m             \u001b[0mpassword\u001b[0m\u001b[0;34m=\u001b[0m\u001b[0;32mFalse\u001b[0m\u001b[0;34m,\u001b[0m\u001b[0;34m\u001b[0m\u001b[0;34m\u001b[0m\u001b[0m\n\u001b[0m\u001b[1;32m    852\u001b[0m         )\n\u001b[1;32m    853\u001b[0m \u001b[0;34m\u001b[0m\u001b[0m\n",
      "\u001b[0;32m/shared-libs/python3.7/py-core/lib/python3.7/site-packages/ipykernel/kernelbase.py\u001b[0m in \u001b[0;36m_input_request\u001b[0;34m(self, prompt, ident, parent, password)\u001b[0m\n\u001b[1;32m    890\u001b[0m             \u001b[0;32mexcept\u001b[0m \u001b[0mKeyboardInterrupt\u001b[0m\u001b[0;34m:\u001b[0m\u001b[0;34m\u001b[0m\u001b[0;34m\u001b[0m\u001b[0m\n\u001b[1;32m    891\u001b[0m                 \u001b[0;31m# re-raise KeyboardInterrupt, to truncate traceback\u001b[0m\u001b[0;34m\u001b[0m\u001b[0;34m\u001b[0m\u001b[0;34m\u001b[0m\u001b[0m\n\u001b[0;32m--> 892\u001b[0;31m                 \u001b[0;32mraise\u001b[0m \u001b[0mKeyboardInterrupt\u001b[0m\u001b[0;34m(\u001b[0m\u001b[0;34m\"Interrupted by user\"\u001b[0m\u001b[0;34m)\u001b[0m \u001b[0;32mfrom\u001b[0m \u001b[0;32mNone\u001b[0m\u001b[0;34m\u001b[0m\u001b[0;34m\u001b[0m\u001b[0m\n\u001b[0m\u001b[1;32m    893\u001b[0m             \u001b[0;32mexcept\u001b[0m \u001b[0mException\u001b[0m \u001b[0;32mas\u001b[0m \u001b[0me\u001b[0m\u001b[0;34m:\u001b[0m\u001b[0;34m\u001b[0m\u001b[0;34m\u001b[0m\u001b[0m\n\u001b[1;32m    894\u001b[0m                 \u001b[0mself\u001b[0m\u001b[0;34m.\u001b[0m\u001b[0mlog\u001b[0m\u001b[0;34m.\u001b[0m\u001b[0mwarning\u001b[0m\u001b[0;34m(\u001b[0m\u001b[0;34m\"Invalid Message:\"\u001b[0m\u001b[0;34m,\u001b[0m \u001b[0mexc_info\u001b[0m\u001b[0;34m=\u001b[0m\u001b[0;32mTrue\u001b[0m\u001b[0;34m)\u001b[0m\u001b[0;34m\u001b[0m\u001b[0;34m\u001b[0m\u001b[0m\n",
      "\u001b[0;31mKeyboardInterrupt\u001b[0m: Interrupted by user"
     ]
    }
   ]
  },
  {
   "cell_type": "markdown",
   "source": "## Reto 4 - Calculadora de volúmenes\n\n### Descripcion:\nSigamos con matemáticas elementales para no perder la costumbre y retar nuestras habilidades. Escribe un programa donde apliques las diferentes fórmulas matemáticas para calcular el volumen de un cilindro.\n\nRecuerda que la base del cilindro es un círculo y necesitarás calcular su área. Aplica las fórmulas en tu programa recibiendo datos como altura y radio.\n\n** Bonus: agrega otras figuras geométricas a tu programa y que el usuario pueda escoger cuál calcular. **",
   "metadata": {
    "tags": [],
    "cell_id": "00008-ad9f337a-a214-4b3a-87ad-bdc690691f48",
    "deepnote_cell_type": "markdown"
   }
  },
  {
   "cell_type": "code",
   "source": "# v_cilindro = π r² h\n# Una solucion para practicar diccionarios,\n# con programacion orientada objetos se puede hacer mejor.\n\n# Plantilla para agregar figuras\nfig_config = {\n    \"cilindro\":  {\n        \"operaciones\":{\n            \"volumen\": lambda v: math.pi * v[\"radio\"] ** 2 * v[\"altura\"]\n        },\n        \"params\": [\"radio\", \"altura\"]\n    },\n    \n    \"cubo\":  {\n        \"operaciones\":{\n            \"volumen\": lambda v: v[\"lado\"] ** 3\n         },\n        \"params\": [\"lado\"]\n    },\n    \n    \"cono\":  {\n        \"operaciones\":{\n            \"volumen\": lambda v: (math.pi * v[\"radio\"] ** 2 * v[\"altura\"])/3\n        },\n        \"params\":  [\"radio\", \"altura\"]\n    },\n    \"esfera\": {\n        \"operaciones\":{\n            \"volumen\": lambda v: (3/4)*(math.pi * v[\"radio\"] ** 3)\n        },\n        \"params\": [\"radio\"]\n    }   \n}\n\n\nclass Figura():\n    def __init__(self, config):\n        self.caracteristicas = {}\n        self.build(config[\"params\"])\n        self.operaciones = config[\"operaciones\"]\n\n    def build(self, params):\n        for key in params:\n            self.caracteristicas[key] = 1\n\n    def calc(self, op): \n        formula = self.operaciones[op]\n        return formula(self.caracteristicas)\n\n\n\n\ndef calc(figura, tipo, op ):\n    \n    result = 0\n    try: \n         result = figura.calc(op)\n    except:\n        print(\"Error en calculo\")\n    \n    print(f\"La operacion {op} del {tipo} resultado {result}\")\n\n\n\n\n# Inputs\ntipos= fig_config.keys()\ntipo = input(\n    f\"\"\" \n        Seleccionar entre: {[x for x in tipos]}\n    \"\"\"\n    )\n\n\n\nprint(f\"La figura seleccionada es {tipo}\")\n\ntry:\n    config = fig_config[tipo]\n    operaciones = config[\"operaciones\"].keys()\n\n    op = input(f\"\"\" Seleccionar operacion: {[x for x in operaciones]}\"\"\")\n\n\n    figura = Figura(config)\n\n    # Parametros para el calculo\n    for k,v in figura.caracteristicas.items(): \n        value = input(f\"Introduce valor para {k}: \")\n        if(value != '' and int(value)):\n            figura.caracteristicas[k] = int(value)\n            print(f\"{k} = {value}\")\n\n    calc(figura, tipo, op)\nexcept:\n    print(\"No encontrado. Seleccionar entre: [cilindro, cubo, cono, esfera]\")\n\n\n",
   "metadata": {
    "tags": [],
    "cell_id": "00008-1a4460ce-4b0f-4774-aa52-15812d950860",
    "deepnote_to_be_reexecuted": false,
    "source_hash": "2242c437",
    "execution_start": 1621287769561,
    "execution_millis": 26400,
    "deepnote_cell_type": "code"
   },
   "outputs": [
    {
     "name": "stdout",
     "text": "La figura seleccionada es cono\nradio = 5\naltura = 20\nLa operacion volumen del cono resultado 523.5987755982989\n",
     "output_type": "stream"
    }
   ],
   "execution_count": 34
  },
  {
   "cell_type": "markdown",
   "source": "## Reto 5 - Rangos cambiantes\n\n### Descripcion\nPara este reto final juguemos con números. En tu programa pide al usuario ingresar 3 números: un límite inferior, un límite superior y uno de comparación.\n\nSi tu número de comparación se encuentra en el rango de los dos límites, imprímelo en pantalla.\n\nEn caso de estar por debajo del inferior o arriba del superior, también muéstralo en pantalla y pide ingresar otro número para repetir el proceso.",
   "metadata": {
    "tags": [],
    "cell_id": "00010-ed73d2df-610e-40f7-a753-e560a626a5aa",
    "deepnote_cell_type": "markdown"
   }
  },
  {
   "cell_type": "code",
   "source": " \n \nlimite_inferior = input(f\"\"\" Ingresa el limite inferior\"\"\")\nlimite_superior = input(f\"\"\" Ingresa el limite superior\"\"\")\ncomparacion = input(f\"Ingresa comparacion\")\n\nwhile True:\n\n    if limite_inferior > comparacion or limite_superior < comparacion:\n        print(f\"Te pasas con {comparacion}\")\n        comparacion = input(f\"Ingresa otro numero comparacion\")\n\n    elif limite_inferior <= comparacion or limite_superior >= comparacion:\n        print(f\" Excelente! Adivinaste con {comparacion} estas en el rango\")\n        break\n\n\n",
   "metadata": {
    "tags": [],
    "cell_id": "00010-3df8763f-3a68-409b-905e-98c169263fc7",
    "deepnote_to_be_reexecuted": false,
    "source_hash": "4a992859",
    "execution_start": 1621289566386,
    "execution_millis": 27499,
    "deepnote_cell_type": "code"
   },
   "outputs": [
    {
     "name": "stdout",
     "text": "Te pasas con 15\nTe pasas con 56\nTe pasas con 456\n Excelente! Adivinaste con 14 estas en el rango\n",
     "output_type": "stream"
    }
   ],
   "execution_count": 37
  },
  {
   "cell_type": "code",
   "source": "",
   "metadata": {
    "tags": [],
    "cell_id": "00012-db9da26d-1b17-4c6b-a5d4-f651fe57386c",
    "deepnote_cell_type": "code"
   },
   "outputs": [],
   "execution_count": null
  },
  {
   "cell_type": "markdown",
   "source": "<a style='text-decoration:none;line-height:16px;display:flex;color:#5B5B62;padding:10px;justify-content:end;' href='https://deepnote.com?utm_source=created-in-deepnote-cell&projectId=6d68cbb2-0f70-4bf5-aa75-6a7a95e084a1' target=\"_blank\">\n<img alt='Created in deepnote.com' style='display:inline;max-height:16px;margin:0px;margin-right:7.5px;' src='data:image/svg+xml;base64,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' > </img>\nCreated in <span style='font-weight:600;margin-left:4px;'>Deepnote</span></a>",
   "metadata": {
    "tags": [],
    "created_in_deepnote_cell": true,
    "deepnote_cell_type": "markdown"
   }
  }
 ],
 "nbformat": 4,
 "nbformat_minor": 2,
 "metadata": {
  "orig_nbformat": 2,
  "deepnote": {
   "is_reactive": false
  },
  "deepnote_notebook_id": "ee671581-d176-416d-a3a5-4d3d5567bbf6",
  "deepnote_execution_queue": []
 }
}