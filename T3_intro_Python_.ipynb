{
  "nbformat": 4,
  "nbformat_minor": 0,
  "metadata": {
    "colab": {
      "name": "T3_intro_Python_.ipynb",
      "provenance": [],
      "collapsed_sections": [],
      "toc_visible": true,
      "include_colab_link": true
    },
    "kernelspec": {
      "name": "python3",
      "display_name": "Python 3"
    }
  },
  "cells": [
    {
      "cell_type": "markdown",
      "metadata": {
        "id": "view-in-github",
        "colab_type": "text"
      },
      "source": [
        "<a href=\"https://colab.research.google.com/github/difo23/BitacorasDataScienceDominicano/blob/master/T3_intro_Python_.ipynb\" target=\"_parent\"><img src=\"https://colab.research.google.com/assets/colab-badge.svg\" alt=\"Open In Colab\"/></a>"
      ]
    },
    {
      "cell_type": "markdown",
      "metadata": {
        "id": "9kjoXD4zoQtW",
        "colab_type": "text"
      },
      "source": [
        "\n",
        "#  Intro a Python \n",
        "\n",
        "\n",
        "    1. Importar librerias  y agregar alias.\n",
        "    2. Usar ayuda en python y autocompletado.\n",
        "    3. Python y sus caracteristicas principales.\n",
        "      \n",
        "Mención especial a LaTex.\n",
        "  "
      ]
    },
    {
      "cell_type": "markdown",
      "metadata": {
        "id": "gQP2ITCRnxtA",
        "colab_type": "text"
      },
      "source": [
        "## 1. Importar librerías y agregar alias:"
      ]
    },
    {
      "cell_type": "code",
      "metadata": {
        "id": "zey4hfOSoB9w",
        "colab_type": "code",
        "colab": {
          "base_uri": "https://localhost:8080/",
          "height": 54
        },
        "outputId": "1fb70d05-f434-42c7-b488-98a2eb27f1b2"
      },
      "source": [
        "import numpy as np \n",
        "\n",
        "# Comentarios de una sola linea usan '#':\n",
        "# np es el alias comun en el uso de numpy.\n",
        "# En caso de no usar alias, tendrias que escribir 'numpy' \n",
        "# cada vez que uses la librería en este notebook.\n",
        "\n",
        "\"\"\" \n",
        "Comentarios de varias lineas usan:\n",
        "   Triple comilla doble para abrir el bloque de comentarios y \n",
        "    para cerrar el bloque.\n",
        "\n",
        "\"\"\"\n"
      ],
      "execution_count": 1,
      "outputs": [
        {
          "output_type": "execute_result",
          "data": {
            "application/vnd.google.colaboratory.intrinsic+json": {
              "type": "string"
            },
            "text/plain": [
              "' \\nComentarios de varias lineas usan:\\n   Triple comilla doble para abrir el bloque de comentarios y \\n    para cerrar el bloque.\\n\\n'"
            ]
          },
          "metadata": {
            "tags": []
          },
          "execution_count": 1
        }
      ]
    },
    {
      "cell_type": "markdown",
      "metadata": {
        "id": "0iHxbgylrskf",
        "colab_type": "text"
      },
      "source": [
        "## 2. Usar ayuda en python y autocompletado:"
      ]
    },
    {
      "cell_type": "code",
      "metadata": {
        "id": "SUgkgJ6Pr8lm",
        "colab_type": "code",
        "colab": {}
      },
      "source": [
        "# Para solicitar ayuda sobre un modulo o funcion solo tienes que terminar con el signo '?' de interrogación.\n",
        "# Dirigete a la pestaña ayuda para obtener la información.\n",
        "np?"
      ],
      "execution_count": 65,
      "outputs": []
    },
    {
      "cell_type": "code",
      "metadata": {
        "id": "upVpoxndtYKA",
        "colab_type": "code",
        "colab": {}
      },
      "source": [
        "np.array?"
      ],
      "execution_count": 66,
      "outputs": []
    },
    {
      "cell_type": "code",
      "metadata": {
        "id": "yuctYs85s3qd",
        "colab_type": "code",
        "colab": {
          "base_uri": "https://localhost:8080/",
          "height": 34
        },
        "outputId": "fee3f7a8-ce53-439f-bf39-23bbbac81b96"
      },
      "source": [
        "# Usando la tecla tab inicias la sugerencias de autocompletado. Con enter autocompletas.\n",
        "np.shape"
      ],
      "execution_count": null,
      "outputs": [
        {
          "output_type": "execute_result",
          "data": {
            "text/plain": [
              "<function numpy.shape>"
            ]
          },
          "metadata": {
            "tags": []
          },
          "execution_count": 4
        }
      ]
    },
    {
      "cell_type": "markdown",
      "metadata": {
        "id": "xCmRIATY1eIf",
        "colab_type": "text"
      },
      "source": [
        "##  3.  Python y sus caracteristicas principales:\n",
        "[Pagina Oficial de Python](https://www.python.org/doc/)\n",
        "   *  [Tutorial Oficial de Pyhton en Español](http://docs.python.org.ar/tutorial/3/index.html)\n",
        "   * Python es un lenguaje debilmente tipado   [Más info...](https://parzibyte.me/blog/2017/10/13/tipado-debil-tipado-fuerte-diferencias-explicacion/)\n",
        "   * Python es un lenguaje interpretado [Más info...](https://blog.makeitreal.camp/lenguajes-compilados-e-interpretados/)\n",
        "   * Python es un lenguaje multi paradigma [Más info...](http://www.4rsoluciones.com/blog/que-son-los-paradigmas-de-programacion-2/)\n",
        "   "
      ]
    },
    {
      "cell_type": "markdown",
      "metadata": {
        "id": "UCfPc25IyllK",
        "colab_type": "text"
      },
      "source": [
        "### Variables y tipos de datos en Python:\n",
        "\n"
      ]
    },
    {
      "cell_type": "markdown",
      "metadata": {
        "id": "LbCgMg_6P6vR",
        "colab_type": "text"
      },
      "source": [
        "![Variables](https://www.aprendeprogramando.es/images/python/variables-y-tipos-de-datos/variables-en-programacion.png)"
      ]
    },
    {
      "cell_type": "markdown",
      "metadata": {
        "id": "fEFS5iLjRTHs",
        "colab_type": "text"
      },
      "source": [
        "#### Tipos más usados\n",
        "\n",
        "    * Números enteros.\n",
        "    * Números de punto flotante.\n",
        "    * Números complejos.\n",
        "    * Iterables.\n",
        "    * Strings.\n",
        "    * Tuplas.\n",
        "    * Listas.\n",
        "    * Diccionarios.\n",
        "   [Más info...](https://manuais.iessanclemente.net/index.php/Python_-_Tipos_de_datos)"
      ]
    },
    {
      "cell_type": "code",
      "metadata": {
        "id": "lLN5LmFh8BZb",
        "colab_type": "code",
        "colab": {}
      },
      "source": [
        "#Variables\n",
        "\n",
        "cadenas = 'hola'\n",
        "enteros = 2\n",
        "booleano = False\n",
        "listas =  [1,2]\n",
        "tuplas = (1,2)\n",
        "diccionarios = {'nombre': 'Maria', 'apellidos': 'Ramos', 'edad': 12, 'peso': [40.5, 'kg']}\n"
      ],
      "execution_count": 3,
      "outputs": []
    },
    {
      "cell_type": "markdown",
      "metadata": {
        "id": "1ETCbJb8co9J",
        "colab_type": "text"
      },
      "source": [
        " #### Propiedades de cada tipo de dato y el autocompletado"
      ]
    },
    {
      "cell_type": "code",
      "metadata": {
        "id": "ypvo5brDaknV",
        "colab_type": "code",
        "colab": {
          "base_uri": "https://localhost:8080/",
          "height": 36
        },
        "outputId": "d75ce5bd-301d-4301-9833-e3ef598e6322"
      },
      "source": [
        "# propiedades de cada tipo de dato y el auto completado (azules propiedades, morados metodos)\n",
        "cadenas.center(10)\n"
      ],
      "execution_count": 13,
      "outputs": [
        {
          "output_type": "execute_result",
          "data": {
            "application/vnd.google.colaboratory.intrinsic+json": {
              "type": "string"
            },
            "text/plain": [
              "'   hola   '"
            ]
          },
          "metadata": {
            "tags": []
          },
          "execution_count": 13
        }
      ]
    },
    {
      "cell_type": "markdown",
      "metadata": {
        "id": "dH53JCtWQFV5",
        "colab_type": "text"
      },
      "source": [
        "#### Los tipos de datos primitivos o elementales\n",
        "\n",
        "Comunes en los lenguajes de programación son los siguientes:\n",
        "\n",
        "* Números enteros (y con signo negativo)\n",
        "* Números en coma flotante (decimales)\n",
        "* Caracteres (alfanuméricos)\n",
        "* Cadenas de caracteres (textos)\n",
        "* Estados lógicos (booleanos)"
      ]
    },
    {
      "cell_type": "markdown",
      "metadata": {
        "id": "YL5tvDMIUDke",
        "colab_type": "text"
      },
      "source": [
        "#### Datos primitivos  paso por valor:\n"
      ]
    },
    {
      "cell_type": "code",
      "metadata": {
        "id": "pk0jEglXUjis",
        "colab_type": "code",
        "colab": {}
      },
      "source": [
        "a = 120"
      ],
      "execution_count": 70,
      "outputs": []
    },
    {
      "cell_type": "code",
      "metadata": {
        "id": "8KO_87LZUnhO",
        "colab_type": "code",
        "colab": {}
      },
      "source": [
        "b = a"
      ],
      "execution_count": 71,
      "outputs": []
    },
    {
      "cell_type": "code",
      "metadata": {
        "id": "FPwKrpCNUpRc",
        "colab_type": "code",
        "colab": {
          "base_uri": "https://localhost:8080/",
          "height": 35
        },
        "outputId": "269e0ec9-4af8-4523-aa4f-0fdc35ebae0e"
      },
      "source": [
        "b = 10\n",
        "b"
      ],
      "execution_count": 76,
      "outputs": [
        {
          "output_type": "execute_result",
          "data": {
            "text/plain": [
              "10"
            ]
          },
          "metadata": {
            "tags": []
          },
          "execution_count": 76
        }
      ]
    },
    {
      "cell_type": "code",
      "metadata": {
        "id": "b9umHb5FUuXk",
        "colab_type": "code",
        "colab": {
          "base_uri": "https://localhost:8080/",
          "height": 35
        },
        "outputId": "0d68bea8-722e-4507-f883-eb3da3de325c"
      },
      "source": [
        "a"
      ],
      "execution_count": 77,
      "outputs": [
        {
          "output_type": "execute_result",
          "data": {
            "text/plain": [
              "120"
            ]
          },
          "metadata": {
            "tags": []
          },
          "execution_count": 77
        }
      ]
    },
    {
      "cell_type": "markdown",
      "metadata": {
        "id": "ezgbyZI1XD0C",
        "colab_type": "text"
      },
      "source": [
        "#### Los objetos str considerados inmutables y con muchas similitudes con las tuplas."
      ]
    },
    {
      "cell_type": "code",
      "metadata": {
        "id": "sHKYilwYUODu",
        "colab_type": "code",
        "colab": {}
      },
      "source": [
        "a = 'hola'"
      ],
      "execution_count": 79,
      "outputs": []
    },
    {
      "cell_type": "code",
      "metadata": {
        "id": "x0g1DoGdVBIN",
        "colab_type": "code",
        "colab": {
          "base_uri": "https://localhost:8080/",
          "height": 36
        },
        "outputId": "c15f1f89-ecab-4497-9f2a-3171413f86b4"
      },
      "source": [
        "a[0]"
      ],
      "execution_count": 80,
      "outputs": [
        {
          "output_type": "execute_result",
          "data": {
            "application/vnd.google.colaboratory.intrinsic+json": {
              "type": "string"
            },
            "text/plain": [
              "'h'"
            ]
          },
          "metadata": {
            "tags": []
          },
          "execution_count": 80
        }
      ]
    },
    {
      "cell_type": "code",
      "metadata": {
        "id": "-akVZQ3qUS_Y",
        "colab_type": "code",
        "colab": {}
      },
      "source": [
        "b = a"
      ],
      "execution_count": 81,
      "outputs": []
    },
    {
      "cell_type": "code",
      "metadata": {
        "id": "PZnnwV35UVd_",
        "colab_type": "code",
        "colab": {
          "base_uri": "https://localhost:8080/",
          "height": 169
        },
        "outputId": "3236124d-60d1-4541-9846-a9f280fe7a8d"
      },
      "source": [
        "b[0]= 'x' # Los strings son objetos compuestos inmutables."
      ],
      "execution_count": 83,
      "outputs": [
        {
          "output_type": "error",
          "ename": "TypeError",
          "evalue": "ignored",
          "traceback": [
            "\u001b[0;31m---------------------------------------------------------------------------\u001b[0m",
            "\u001b[0;31mTypeError\u001b[0m                                 Traceback (most recent call last)",
            "\u001b[0;32m<ipython-input-83-d34deee3bd33>\u001b[0m in \u001b[0;36m<module>\u001b[0;34m()\u001b[0m\n\u001b[0;32m----> 1\u001b[0;31m \u001b[0mb\u001b[0m\u001b[0;34m[\u001b[0m\u001b[0;36m0\u001b[0m\u001b[0;34m]\u001b[0m\u001b[0;34m=\u001b[0m \u001b[0;34m'x'\u001b[0m \u001b[0;31m# Los strings son objetos compuestos inmutables.\u001b[0m\u001b[0;34m\u001b[0m\u001b[0;34m\u001b[0m\u001b[0m\n\u001b[0m",
            "\u001b[0;31mTypeError\u001b[0m: 'str' object does not support item assignment"
          ]
        }
      ]
    },
    {
      "cell_type": "markdown",
      "metadata": {
        "id": "V1r0ZICkXy6N",
        "colab_type": "text"
      },
      "source": [
        "#### Listas con multiples tipos de datos."
      ]
    },
    {
      "cell_type": "code",
      "metadata": {
        "id": "Ks5oPadrvso7",
        "colab_type": "code",
        "colab": {}
      },
      "source": [
        "# Creacion de un arreglo o lista normal de una sola dimensión.\n",
        "arreglo_normal = [2, 0Xff, 0b111, False, True, 'hola', 12.25, [1,2], \n",
        "                  (2,4,5,\"hola\"), {'maria':12, 'Juana':15}]\n"
      ],
      "execution_count": 1,
      "outputs": []
    },
    {
      "cell_type": "markdown",
      "metadata": {
        "id": "SgflJTbuX6OT",
        "colab_type": "text"
      },
      "source": [
        "#### Funciones type() y len()\n"
      ]
    },
    {
      "cell_type": "code",
      "metadata": {
        "id": "EWYpYNrjFA8_",
        "colab_type": "code",
        "colab": {}
      },
      "source": [
        "# Busco ayuda sobre la funcion type()\n",
        "type?"
      ],
      "execution_count": 19,
      "outputs": []
    },
    {
      "cell_type": "code",
      "metadata": {
        "id": "jiYY05Dn_uHh",
        "colab_type": "code",
        "colab": {
          "base_uri": "https://localhost:8080/",
          "height": 35
        },
        "outputId": "8007fd99-12b9-4496-8dbc-ab529bfd626b"
      },
      "source": [
        "type(diccionarios)"
      ],
      "execution_count": 25,
      "outputs": [
        {
          "output_type": "execute_result",
          "data": {
            "text/plain": [
              "dict"
            ]
          },
          "metadata": {
            "tags": []
          },
          "execution_count": 25
        }
      ]
    },
    {
      "cell_type": "code",
      "metadata": {
        "id": "mC7PDZZUxpY4",
        "colab_type": "code",
        "colab": {}
      },
      "source": [
        "# Busco ayuda sobre la funcion len\n",
        "len?"
      ],
      "execution_count": 18,
      "outputs": []
    },
    {
      "cell_type": "code",
      "metadata": {
        "id": "eAnkYLlAxGaT",
        "colab_type": "code",
        "colab": {
          "base_uri": "https://localhost:8080/",
          "height": 35
        },
        "outputId": "90b508f8-25da-4f8e-ffd4-f312132d8551"
      },
      "source": [
        "#Tamaño de un arreglo normal o list\n",
        "len(arreglo_normal)"
      ],
      "execution_count": 4,
      "outputs": [
        {
          "output_type": "execute_result",
          "data": {
            "text/plain": [
              "10"
            ]
          },
          "metadata": {
            "tags": []
          },
          "execution_count": 4
        }
      ]
    },
    {
      "cell_type": "code",
      "metadata": {
        "id": "ooy6sW4K_C4U",
        "colab_type": "code",
        "colab": {}
      },
      "source": [
        "# Los arreglos en python pueden contener varios tipos de datos distintos\n",
        "type_0 = type( arreglo_normal[0] )\n",
        "type_1 = type( arreglo_normal[1] )\n",
        "type_2 = type( arreglo_normal[2] )\n",
        "type_3 = type( arreglo_normal[3] )\n",
        "type_4 = type( arreglo_normal[4] )\n",
        "type_5 = type( arreglo_normal[5] )\n",
        "type_6 = type( arreglo_normal[6] )\n",
        "type_7 = type( arreglo_normal[7] )\n",
        "type_8 = type( arreglo_normal[8] )\n",
        "type_9 = type( arreglo_normal[9] )\n",
        "\n",
        "\n",
        "#Notar que creo una tupla con parentesis en esta ocasion ¿ Cual es la diferencia con el arreglo_normal?\n",
        "arreglo_type = (type_0, type_1, type_2, type_3, type_4, type_5, type_6, type_7, type_8, type_9)\n"
      ],
      "execution_count": 20,
      "outputs": []
    },
    {
      "cell_type": "code",
      "metadata": {
        "id": "UqmfgYdFBbDq",
        "colab_type": "code",
        "colab": {
          "base_uri": "https://localhost:8080/",
          "height": 35
        },
        "outputId": "9a5ec7a2-7eb2-4afa-a291-6578e173cef0"
      },
      "source": [
        "arreglo_type"
      ],
      "execution_count": 6,
      "outputs": [
        {
          "output_type": "execute_result",
          "data": {
            "text/plain": [
              "(int, int, int, bool, bool, str, float, list, tuple, dict)"
            ]
          },
          "metadata": {
            "tags": []
          },
          "execution_count": 6
        }
      ]
    },
    {
      "cell_type": "markdown",
      "metadata": {
        "id": "-F3tzp2hCjSD",
        "colab_type": "text"
      },
      "source": [
        "#### List"
      ]
    },
    {
      "cell_type": "code",
      "metadata": {
        "id": "NgpQY73CwcX4",
        "colab_type": "code",
        "colab": {
          "base_uri": "https://localhost:8080/",
          "height": 35
        },
        "outputId": "4ee94f54-45ac-4f56-8e4f-40371d826bb4"
      },
      "source": [
        "# Tipo de datos de una variable\n",
        "type(arreglo_normal)"
      ],
      "execution_count": 26,
      "outputs": [
        {
          "output_type": "execute_result",
          "data": {
            "text/plain": [
              "list"
            ]
          },
          "metadata": {
            "tags": []
          },
          "execution_count": 26
        }
      ]
    },
    {
      "cell_type": "code",
      "metadata": {
        "id": "e-xrlyBwPVkB",
        "colab_type": "code",
        "colab": {
          "base_uri": "https://localhost:8080/",
          "height": 35
        },
        "outputId": "fb1c71a9-ba81-4250-e064-c4f50a5ff736"
      },
      "source": [
        "arreglo_normal[2] # busco el valor guardado en la posicion 2 de la lista."
      ],
      "execution_count": 60,
      "outputs": [
        {
          "output_type": "execute_result",
          "data": {
            "text/plain": [
              "40"
            ]
          },
          "metadata": {
            "tags": []
          },
          "execution_count": 60
        }
      ]
    },
    {
      "cell_type": "code",
      "metadata": {
        "id": "OK2_3mkNA1m-",
        "colab_type": "code",
        "colab": {
          "base_uri": "https://localhost:8080/",
          "height": 35
        },
        "outputId": "8f535518-76e1-469f-888c-a2083f0b53e1"
      },
      "source": [
        "# Usar print para imprimir por pantalla.\n",
        "print(arreglo_normal)"
      ],
      "execution_count": 38,
      "outputs": [
        {
          "output_type": "stream",
          "text": [
            "[2, 255, 40, False, True, 'hola', 12.25, [1, 2], (2, 4, 5, 'hola'), {'maria': 12, 'Juana': 15}]\n"
          ],
          "name": "stdout"
        }
      ]
    },
    {
      "cell_type": "markdown",
      "metadata": {
        "id": "MYNLcx1pOL3i",
        "colab_type": "text"
      },
      "source": [
        "#### Paso por referencia"
      ]
    },
    {
      "cell_type": "code",
      "metadata": {
        "id": "_lrsyTimPfXn",
        "colab_type": "code",
        "colab": {
          "base_uri": "https://localhost:8080/"
        },
        "outputId": "69b6cdca-c24e-4afa-a293-90600ca6080f"
      },
      "source": [
        "# Paso por referencia con objetos en python.\n",
        "# No creas un nuevo objeto, solo cambias la referencia.\n",
        "\n",
        "lista = arreglo_normal\n",
        "lista"
      ],
      "execution_count": 89,
      "outputs": [
        {
          "output_type": "execute_result",
          "data": {
            "text/plain": [
              "[2,\n",
              " 255,\n",
              " 20,\n",
              " False,\n",
              " True,\n",
              " 'hola',\n",
              " 12.25,\n",
              " [1, 2],\n",
              " (2, 4, 5, 'hola'),\n",
              " {'Juana': 15, 'maria': 12}]"
            ]
          },
          "metadata": {
            "tags": []
          },
          "execution_count": 89
        }
      ]
    },
    {
      "cell_type": "markdown",
      "metadata": {
        "id": "rTBVwaIdOFGx",
        "colab_type": "text"
      },
      "source": [
        "![WhatsApp Image 2020-09-16 at 2.40.07 PM.jpeg](data:image/jpeg;base64,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)"
      ]
    },
    {
      "cell_type": "code",
      "metadata": {
        "id": "U5C_LIpNP3NK",
        "colab_type": "code",
        "colab": {}
      },
      "source": [
        "lista[2] = 20 "
      ],
      "execution_count": 88,
      "outputs": []
    },
    {
      "cell_type": "code",
      "metadata": {
        "id": "048JLrPmP7ow",
        "colab_type": "code",
        "colab": {
          "base_uri": "https://localhost:8080/",
          "height": 198
        },
        "outputId": "49d2f52c-0d3b-4181-92bb-075d3badc3a3"
      },
      "source": [
        "lista"
      ],
      "execution_count": 62,
      "outputs": [
        {
          "output_type": "execute_result",
          "data": {
            "text/plain": [
              "[2,\n",
              " 255,\n",
              " 20,\n",
              " False,\n",
              " True,\n",
              " 'hola',\n",
              " 12.25,\n",
              " [1, 2],\n",
              " (2, 4, 5, 'hola'),\n",
              " {'Juana': 15, 'maria': 12}]"
            ]
          },
          "metadata": {
            "tags": []
          },
          "execution_count": 62
        }
      ]
    },
    {
      "cell_type": "code",
      "metadata": {
        "id": "LGnDO3GqATmm",
        "colab_type": "code",
        "colab": {
          "base_uri": "https://localhost:8080/",
          "height": 198
        },
        "outputId": "a07922c0-f55a-4d6c-dea1-aee4a61847cd"
      },
      "source": [
        "arreglo_normal"
      ],
      "execution_count": 34,
      "outputs": [
        {
          "output_type": "execute_result",
          "data": {
            "text/plain": [
              "[2,\n",
              " 255,\n",
              " 40,\n",
              " False,\n",
              " True,\n",
              " 'hola',\n",
              " 12.25,\n",
              " [1, 2],\n",
              " (2, 4, 5, 'hola'),\n",
              " {'Juana': 15, 'maria': 12}]"
            ]
          },
          "metadata": {
            "tags": []
          },
          "execution_count": 34
        }
      ]
    },
    {
      "cell_type": "markdown",
      "metadata": {
        "id": "GLp_PnEZCXP3",
        "colab_type": "text"
      },
      "source": [
        "#### Tuple"
      ]
    },
    {
      "cell_type": "code",
      "metadata": {
        "id": "lCUNvhn3BiqD",
        "colab_type": "code",
        "colab": {
          "base_uri": "https://localhost:8080/",
          "height": 35
        },
        "outputId": "a6056e13-f009-44d8-ef8c-f5a14026be4a"
      },
      "source": [
        "type(arreglo_type)"
      ],
      "execution_count": 13,
      "outputs": [
        {
          "output_type": "execute_result",
          "data": {
            "text/plain": [
              "tuple"
            ]
          },
          "metadata": {
            "tags": []
          },
          "execution_count": 13
        }
      ]
    },
    {
      "cell_type": "code",
      "metadata": {
        "id": "xTZ_y2a_PoHD",
        "colab_type": "code",
        "colab": {}
      },
      "source": [
        "tupla = arreglo_type"
      ],
      "execution_count": 14,
      "outputs": []
    },
    {
      "cell_type": "code",
      "metadata": {
        "id": "T0DnjZj3PF_N",
        "colab_type": "code",
        "colab": {
          "base_uri": "https://localhost:8080/",
          "height": 35
        },
        "outputId": "54ab55c8-b958-4a80-84a0-e2d8bf0992b2"
      },
      "source": [
        "tupla[2] # busco el valor guardado en la posicion 2 de la tupla."
      ],
      "execution_count": 15,
      "outputs": [
        {
          "output_type": "execute_result",
          "data": {
            "text/plain": [
              "int"
            ]
          },
          "metadata": {
            "tags": []
          },
          "execution_count": 15
        }
      ]
    },
    {
      "cell_type": "code",
      "metadata": {
        "id": "Au7IUt-VPxN1",
        "colab_type": "code",
        "colab": {
          "base_uri": "https://localhost:8080/",
          "height": 168
        },
        "outputId": "348b01d1-c1f6-4b2c-ca5e-50b92f13960b"
      },
      "source": [
        "tupla[2] = 20"
      ],
      "execution_count": 39,
      "outputs": [
        {
          "output_type": "error",
          "ename": "TypeError",
          "evalue": "ignored",
          "traceback": [
            "\u001b[0;31m---------------------------------------------------------------------------\u001b[0m",
            "\u001b[0;31mTypeError\u001b[0m                                 Traceback (most recent call last)",
            "\u001b[0;32m<ipython-input-39-9c3d2192807e>\u001b[0m in \u001b[0;36m<module>\u001b[0;34m()\u001b[0m\n\u001b[0;32m----> 1\u001b[0;31m \u001b[0mtupla\u001b[0m\u001b[0;34m[\u001b[0m\u001b[0;36m2\u001b[0m\u001b[0;34m]\u001b[0m \u001b[0;34m=\u001b[0m \u001b[0;36m20\u001b[0m\u001b[0;34m\u001b[0m\u001b[0;34m\u001b[0m\u001b[0m\n\u001b[0m",
            "\u001b[0;31mTypeError\u001b[0m: 'tuple' object does not support item assignment"
          ]
        }
      ]
    },
    {
      "cell_type": "markdown",
      "metadata": {
        "id": "2EDc38LkGbdD",
        "colab_type": "text"
      },
      "source": [
        "#### Diccionarios\n"
      ]
    },
    {
      "cell_type": "code",
      "metadata": {
        "id": "atardN0rGeM6",
        "colab_type": "code",
        "colab": {
          "base_uri": "https://localhost:8080/",
          "height": 35
        },
        "outputId": "8348d7bd-a4bb-484f-c201-0c822775222c"
      },
      "source": [
        "diccionarios"
      ],
      "execution_count": 53,
      "outputs": [
        {
          "output_type": "execute_result",
          "data": {
            "text/plain": [
              "{'apellidos': 'Ramos', 'edad': 12, 'nombre': 'Maria', 'peso': [40.5, 'kg']}"
            ]
          },
          "metadata": {
            "tags": []
          },
          "execution_count": 53
        }
      ]
    },
    {
      "cell_type": "code",
      "metadata": {
        "id": "gw8kB9eCGbME",
        "colab_type": "code",
        "colab": {
          "base_uri": "https://localhost:8080/",
          "height": 35
        },
        "outputId": "361e0068-4fdd-43ae-ce1d-95c5c9de13f8"
      },
      "source": [
        "diccionarios.get('peso') #obtener el valor apartir de una clave"
      ],
      "execution_count": 56,
      "outputs": [
        {
          "output_type": "execute_result",
          "data": {
            "text/plain": [
              "[40.5, 'kg']"
            ]
          },
          "metadata": {
            "tags": []
          },
          "execution_count": 56
        }
      ]
    },
    {
      "cell_type": "code",
      "metadata": {
        "id": "aLBbWSjlG3g3",
        "colab_type": "code",
        "colab": {
          "base_uri": "https://localhost:8080/",
          "height": 35
        },
        "outputId": "e8e32476-68f6-4ce5-ed56-143171094117"
      },
      "source": [
        "diccionarios.keys() #obtener todas claves"
      ],
      "execution_count": 57,
      "outputs": [
        {
          "output_type": "execute_result",
          "data": {
            "text/plain": [
              "dict_keys(['nombre', 'apellidos', 'edad', 'peso'])"
            ]
          },
          "metadata": {
            "tags": []
          },
          "execution_count": 57
        }
      ]
    },
    {
      "cell_type": "code",
      "metadata": {
        "id": "346LMCrUHAqt",
        "colab_type": "code",
        "colab": {
          "base_uri": "https://localhost:8080/",
          "height": 35
        },
        "outputId": "8b5042fc-e70d-45c7-ced6-fb146a1df58a"
      },
      "source": [
        "diccionarios.values() #obtener todos valores"
      ],
      "execution_count": 58,
      "outputs": [
        {
          "output_type": "execute_result",
          "data": {
            "text/plain": [
              "dict_values(['Maria', 'Ramos', 12, [40.5, 'kg']])"
            ]
          },
          "metadata": {
            "tags": []
          },
          "execution_count": 58
        }
      ]
    },
    {
      "cell_type": "code",
      "metadata": {
        "id": "tGS23YzMHSE1",
        "colab_type": "code",
        "colab": {}
      },
      "source": [
        ""
      ],
      "execution_count": null,
      "outputs": []
    },
    {
      "cell_type": "markdown",
      "metadata": {
        "id": "-gwPyu5cCKMi",
        "colab_type": "text"
      },
      "source": [
        "### Ciclos en Python:"
      ]
    },
    {
      "cell_type": "markdown",
      "metadata": {
        "id": "FKqDWW-HEc71",
        "colab_type": "text"
      },
      "source": [
        "#### Range muy importante para crear ciclos"
      ]
    },
    {
      "cell_type": "code",
      "metadata": {
        "id": "7cNITcDsCjtm",
        "colab_type": "code",
        "colab": {}
      },
      "source": [
        "range?"
      ],
      "execution_count": 42,
      "outputs": []
    },
    {
      "cell_type": "code",
      "metadata": {
        "id": "ILDzONCsDixX",
        "colab_type": "code",
        "colab": {
          "base_uri": "https://localhost:8080/",
          "height": 35
        },
        "outputId": "d9ee7a92-99cf-47ae-bac4-dc88d5f64fc3"
      },
      "source": [
        "type(range(13))"
      ],
      "execution_count": 44,
      "outputs": [
        {
          "output_type": "execute_result",
          "data": {
            "text/plain": [
              "range"
            ]
          },
          "metadata": {
            "tags": []
          },
          "execution_count": 44
        }
      ]
    },
    {
      "cell_type": "code",
      "metadata": {
        "id": "k_ixOqPMD_dD",
        "colab_type": "code",
        "colab": {
          "base_uri": "https://localhost:8080/",
          "height": 35
        },
        "outputId": "4d2f5f10-e5af-4f43-c72e-2332ce898b71"
      },
      "source": [
        "range(0, 13)"
      ],
      "execution_count": 46,
      "outputs": [
        {
          "output_type": "execute_result",
          "data": {
            "text/plain": [
              "range(0, 11, 2)"
            ]
          },
          "metadata": {
            "tags": []
          },
          "execution_count": 46
        }
      ]
    },
    {
      "cell_type": "code",
      "metadata": {
        "id": "yZZV8-dTD_MJ",
        "colab_type": "code",
        "colab": {
          "base_uri": "https://localhost:8080/",
          "height": 35
        },
        "outputId": "03bb4bc5-137f-408f-b8c5-e62855b37119"
      },
      "source": [
        "my_list = list(range(1, 11, 1))\n",
        "\n",
        "print(my_list)"
      ],
      "execution_count": 49,
      "outputs": [
        {
          "output_type": "stream",
          "text": [
            "[1, 2, 3, 4, 5, 6, 7, 8, 9, 10]\n"
          ],
          "name": "stdout"
        }
      ]
    },
    {
      "cell_type": "code",
      "metadata": {
        "id": "m02Qrx_AEW6o",
        "colab_type": "code",
        "colab": {
          "base_uri": "https://localhost:8080/",
          "height": 35
        },
        "outputId": "ac409c81-5d7c-48af-b684-eef1b16bdcc1"
      },
      "source": [
        "my_list = list(range(1, 11, 3))\n",
        "\n",
        "print(my_list)"
      ],
      "execution_count": 50,
      "outputs": [
        {
          "output_type": "stream",
          "text": [
            "[1, 4, 7, 10]\n"
          ],
          "name": "stdout"
        }
      ]
    },
    {
      "cell_type": "code",
      "metadata": {
        "id": "99oCCVDECRCi",
        "colab_type": "code",
        "colab": {}
      },
      "source": [
        "for contador in range(0, 11, 1):\n",
        "  print(contador)"
      ],
      "execution_count": null,
      "outputs": []
    },
    {
      "cell_type": "code",
      "metadata": {
        "id": "nPILKVJ2FSZX",
        "colab_type": "code",
        "colab": {
          "base_uri": "https://localhost:8080/",
          "height": 88
        },
        "outputId": "27f1702b-e854-44a9-8f13-bb37404de6ae"
      },
      "source": [
        "for contador in my_list:\n",
        "  print(contador)"
      ],
      "execution_count": 52,
      "outputs": [
        {
          "output_type": "stream",
          "text": [
            "1\n",
            "4\n",
            "7\n",
            "10\n"
          ],
          "name": "stdout"
        }
      ]
    },
    {
      "cell_type": "markdown",
      "metadata": {
        "id": "8Bz33QApC33-",
        "colab_type": "text"
      },
      "source": [
        "#### Recorrido de un arreglo"
      ]
    },
    {
      "cell_type": "code",
      "metadata": {
        "id": "_KqT7nRvwszz",
        "colab_type": "code",
        "colab": {}
      },
      "source": [
        "# Recorrido del arreglo con los indices desde 0 a len(arreglo_normal) -1\n",
        "# Uso el ciclo for.\n",
        "for elemento in arreglo_normal:\n",
        "  print(elemento)"
      ],
      "execution_count": null,
      "outputs": []
    },
    {
      "cell_type": "markdown",
      "metadata": {
        "id": "AbIcJxjADGXA",
        "colab_type": "text"
      },
      "source": [
        "#### Recorrido de un arreglo usando enumerate y zip"
      ]
    },
    {
      "cell_type": "code",
      "metadata": {
        "id": "X-jU1w-mEgoL",
        "colab_type": "code",
        "colab": {}
      },
      "source": [
        "# Recorrido del arreglo con los indices desde 0 a len(arreglo_normal) -1\n",
        "# Uso el ciclo for.\n",
        "for index, elemento in enumerate(arreglo_normal):\n",
        "  print(index, elemento)"
      ],
      "execution_count": null,
      "outputs": []
    },
    {
      "cell_type": "code",
      "metadata": {
        "id": "e3M_uZ-bFFms",
        "colab_type": "code",
        "colab": {}
      },
      "source": [
        "# Recorrido del arreglo con los indices desde 0 a len(arreglo_normal) -1\n",
        "# Uso el ciclo for.\n",
        "for elemento, elemento_type in zip(arreglo_normal, arreglo_type):\n",
        "  print(f'El elemento {elemento}, pertenece al tipo {elemento_type}')"
      ],
      "execution_count": null,
      "outputs": []
    },
    {
      "cell_type": "markdown",
      "metadata": {
        "id": "rAmJgBMA1E2e",
        "colab_type": "text"
      },
      "source": [
        "# Fin..."
      ]
    }
  ]
}