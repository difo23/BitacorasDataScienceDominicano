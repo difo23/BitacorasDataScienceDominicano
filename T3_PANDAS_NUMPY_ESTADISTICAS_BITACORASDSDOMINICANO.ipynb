{
  "nbformat": 4,
  "nbformat_minor": 0,
  "metadata": {
    "colab": {
      "name": "T3_PANDAS_NUMPY_ESTADISTICAS_BITACORASDSDOMINICANO.ipynb",
      "version": "0.3.2",
      "provenance": [],
      "collapsed_sections": [],
      "include_colab_link": true
    },
    "kernelspec": {
      "name": "python3",
      "display_name": "Python 3"
    }
  },
  "cells": [
    {
      "cell_type": "markdown",
      "metadata": {
        "id": "view-in-github",
        "colab_type": "text"
      },
      "source": [
        "<a href=\"https://colab.research.google.com/github/difo23/BitacorasDataScienceDominicano/blob/master/T3_PANDAS_NUMPY_ESTADISTICAS_BITACORASDSDOMINICANO.ipynb\" target=\"_parent\"><img src=\"https://colab.research.google.com/assets/colab-badge.svg\" alt=\"Open In Colab\"/></a>"
      ]
    },
    {
      "cell_type": "markdown",
      "metadata": {
        "id": "kb8w9Z8HaND3",
        "colab_type": "text"
      },
      "source": [
        "#Bitácoras de un Data Scientist Dominicano: \n",
        "Pandas y NumPy aplicado a la Estadísticas.\n"
      ]
    },
    {
      "cell_type": "markdown",
      "metadata": {
        "id": "c08qNENpbBXq",
        "colab_type": "text"
      },
      "source": [
        "## Introducción a Pandas:\n",
        "\n"
      ]
    },
    {
      "cell_type": "markdown",
      "metadata": {
        "id": "BIIEYJXMbxio",
        "colab_type": "text"
      },
      "source": [
        "### Importamos las librerias:"
      ]
    },
    {
      "cell_type": "code",
      "metadata": {
        "id": "doyQIvDcbatl",
        "colab_type": "code",
        "colab": {}
      },
      "source": [
        "#importamos las librerias que usaremos \n",
        "\n",
        "import pandas as pd\n",
        "import numpy as np"
      ],
      "execution_count": 0,
      "outputs": []
    },
    {
      "cell_type": "markdown",
      "metadata": {
        "id": "ZBHYPjBze3p2",
        "colab_type": "text"
      },
      "source": [
        "### Creamos arreglos en numpy usando range(start, end, step):"
      ]
    },
    {
      "cell_type": "code",
      "metadata": {
        "id": "IB_9j8HAcDv7",
        "colab_type": "code",
        "outputId": "138e1a8c-45a2-45e2-a08e-3b29949c6f66",
        "colab": {
          "base_uri": "https://localhost:8080/",
          "height": 69
        }
      },
      "source": [
        "#Creamos un dataframe formado por arreglos numpy\n",
        "# Representaremos los precios de 50 tiendas de zapatos en una plaza\n",
        "tiendas = np.array(range(1,51))\n",
        "tiendas"
      ],
      "execution_count": 0,
      "outputs": [
        {
          "output_type": "execute_result",
          "data": {
            "text/plain": [
              "array([ 1,  2,  3,  4,  5,  6,  7,  8,  9, 10, 11, 12, 13, 14, 15, 16, 17,\n",
              "       18, 19, 20, 21, 22, 23, 24, 25, 26, 27, 28, 29, 30, 31, 32, 33, 34,\n",
              "       35, 36, 37, 38, 39, 40, 41, 42, 43, 44, 45, 46, 47, 48, 49, 50])"
            ]
          },
          "metadata": {
            "tags": []
          },
          "execution_count": 6
        }
      ]
    },
    {
      "cell_type": "markdown",
      "metadata": {
        "id": "WR-6vwCRfaze",
        "colab_type": "text"
      },
      "source": [
        "### Crear arreglo de números aleatorios usando numpy.random.randint:"
      ]
    },
    {
      "cell_type": "code",
      "metadata": {
        "id": "3fdAYLc4ePva",
        "colab_type": "code",
        "outputId": "1b43b731-a965-4ffe-f771-ae95fbbe28e7",
        "colab": {
          "base_uri": "https://localhost:8080/",
          "height": 86
        }
      },
      "source": [
        "precios = np.random.randint(500, 1000, 50, dtype= 'int')\n",
        "precios"
      ],
      "execution_count": 0,
      "outputs": [
        {
          "output_type": "execute_result",
          "data": {
            "text/plain": [
              "array([697, 660, 816, 903, 656, 605, 867, 659, 818, 884, 904, 709, 943,\n",
              "       657, 780, 872, 749, 977, 728, 735, 671, 761, 686, 901, 624, 603,\n",
              "       610, 591, 738, 772, 901, 679, 661, 689, 635, 669, 898, 903, 765,\n",
              "       585, 699, 649, 894, 772, 573, 691, 842, 716, 680, 868])"
            ]
          },
          "metadata": {
            "tags": []
          },
          "execution_count": 7
        }
      ]
    },
    {
      "cell_type": "markdown",
      "metadata": {
        "id": "weC3UOvZf29Z",
        "colab_type": "text"
      },
      "source": [
        "### Crear Pandas DataFrame con arreglos numpy:"
      ]
    },
    {
      "cell_type": "code",
      "metadata": {
        "id": "iv8XDxgmfEag",
        "colab_type": "code",
        "colab": {}
      },
      "source": [
        "# El dataframe es una estructura de datos que veremos en todos los programas de anlisis\n",
        "\n",
        "df = pd.DataFrame({\n",
        "    'tiendas': tiendas,\n",
        "    'precios': precios\n",
        "})"
      ],
      "execution_count": 0,
      "outputs": []
    },
    {
      "cell_type": "markdown",
      "metadata": {
        "id": "EoCXFIcYgKh1",
        "colab_type": "text"
      },
      "source": [
        "### Uso de función df.head() para explorar DataFrame(DF):"
      ]
    },
    {
      "cell_type": "code",
      "metadata": {
        "id": "zLmCOou0f80X",
        "colab_type": "code",
        "outputId": "942cc6ee-f07e-4b46-b94b-776544e500c6",
        "colab": {
          "base_uri": "https://localhost:8080/",
          "height": 206
        }
      },
      "source": [
        "#datos en forma de tabla\n",
        "df.head()"
      ],
      "execution_count": 0,
      "outputs": [
        {
          "output_type": "execute_result",
          "data": {
            "text/html": [
              "<div>\n",
              "<style scoped>\n",
              "    .dataframe tbody tr th:only-of-type {\n",
              "        vertical-align: middle;\n",
              "    }\n",
              "\n",
              "    .dataframe tbody tr th {\n",
              "        vertical-align: top;\n",
              "    }\n",
              "\n",
              "    .dataframe thead th {\n",
              "        text-align: right;\n",
              "    }\n",
              "</style>\n",
              "<table border=\"1\" class=\"dataframe\">\n",
              "  <thead>\n",
              "    <tr style=\"text-align: right;\">\n",
              "      <th></th>\n",
              "      <th>tiendas</th>\n",
              "      <th>precios</th>\n",
              "    </tr>\n",
              "  </thead>\n",
              "  <tbody>\n",
              "    <tr>\n",
              "      <th>0</th>\n",
              "      <td>1</td>\n",
              "      <td>697</td>\n",
              "    </tr>\n",
              "    <tr>\n",
              "      <th>1</th>\n",
              "      <td>2</td>\n",
              "      <td>660</td>\n",
              "    </tr>\n",
              "    <tr>\n",
              "      <th>2</th>\n",
              "      <td>3</td>\n",
              "      <td>816</td>\n",
              "    </tr>\n",
              "    <tr>\n",
              "      <th>3</th>\n",
              "      <td>4</td>\n",
              "      <td>903</td>\n",
              "    </tr>\n",
              "    <tr>\n",
              "      <th>4</th>\n",
              "      <td>5</td>\n",
              "      <td>656</td>\n",
              "    </tr>\n",
              "  </tbody>\n",
              "</table>\n",
              "</div>"
            ],
            "text/plain": [
              "   tiendas  precios\n",
              "0        1      697\n",
              "1        2      660\n",
              "2        3      816\n",
              "3        4      903\n",
              "4        5      656"
            ]
          },
          "metadata": {
            "tags": []
          },
          "execution_count": 9
        }
      ]
    },
    {
      "cell_type": "code",
      "metadata": {
        "id": "3WYsd4TLhRMe",
        "colab_type": "code",
        "outputId": "2a3c2275-6c5c-495b-98ce-0a1bb4489a72",
        "colab": {
          "base_uri": "https://localhost:8080/",
          "height": 363
        }
      },
      "source": [
        "#Puedes usar numeros para indicar la cantidad de filas que quieres que se cean.\n",
        "df.head(10)"
      ],
      "execution_count": 0,
      "outputs": [
        {
          "output_type": "execute_result",
          "data": {
            "text/html": [
              "<div>\n",
              "<style scoped>\n",
              "    .dataframe tbody tr th:only-of-type {\n",
              "        vertical-align: middle;\n",
              "    }\n",
              "\n",
              "    .dataframe tbody tr th {\n",
              "        vertical-align: top;\n",
              "    }\n",
              "\n",
              "    .dataframe thead th {\n",
              "        text-align: right;\n",
              "    }\n",
              "</style>\n",
              "<table border=\"1\" class=\"dataframe\">\n",
              "  <thead>\n",
              "    <tr style=\"text-align: right;\">\n",
              "      <th></th>\n",
              "      <th>tiendas</th>\n",
              "      <th>precios</th>\n",
              "    </tr>\n",
              "  </thead>\n",
              "  <tbody>\n",
              "    <tr>\n",
              "      <th>0</th>\n",
              "      <td>1</td>\n",
              "      <td>697</td>\n",
              "    </tr>\n",
              "    <tr>\n",
              "      <th>1</th>\n",
              "      <td>2</td>\n",
              "      <td>660</td>\n",
              "    </tr>\n",
              "    <tr>\n",
              "      <th>2</th>\n",
              "      <td>3</td>\n",
              "      <td>816</td>\n",
              "    </tr>\n",
              "    <tr>\n",
              "      <th>3</th>\n",
              "      <td>4</td>\n",
              "      <td>903</td>\n",
              "    </tr>\n",
              "    <tr>\n",
              "      <th>4</th>\n",
              "      <td>5</td>\n",
              "      <td>656</td>\n",
              "    </tr>\n",
              "    <tr>\n",
              "      <th>5</th>\n",
              "      <td>6</td>\n",
              "      <td>605</td>\n",
              "    </tr>\n",
              "    <tr>\n",
              "      <th>6</th>\n",
              "      <td>7</td>\n",
              "      <td>867</td>\n",
              "    </tr>\n",
              "    <tr>\n",
              "      <th>7</th>\n",
              "      <td>8</td>\n",
              "      <td>659</td>\n",
              "    </tr>\n",
              "    <tr>\n",
              "      <th>8</th>\n",
              "      <td>9</td>\n",
              "      <td>818</td>\n",
              "    </tr>\n",
              "    <tr>\n",
              "      <th>9</th>\n",
              "      <td>10</td>\n",
              "      <td>884</td>\n",
              "    </tr>\n",
              "  </tbody>\n",
              "</table>\n",
              "</div>"
            ],
            "text/plain": [
              "   tiendas  precios\n",
              "0        1      697\n",
              "1        2      660\n",
              "2        3      816\n",
              "3        4      903\n",
              "4        5      656\n",
              "5        6      605\n",
              "6        7      867\n",
              "7        8      659\n",
              "8        9      818\n",
              "9       10      884"
            ]
          },
          "metadata": {
            "tags": []
          },
          "execution_count": 10
        }
      ]
    },
    {
      "cell_type": "code",
      "metadata": {
        "id": "-ck9Q11Wh4fo",
        "colab_type": "code",
        "outputId": "3aa5a6a2-c64e-4bdc-8859-eeabbf7c993b",
        "colab": {
          "base_uri": "https://localhost:8080/",
          "height": 363
        }
      },
      "source": [
        "# Puedes usar numeros negativos para representar los elementos que no deseas\n",
        "df.head(-40)"
      ],
      "execution_count": 0,
      "outputs": [
        {
          "output_type": "execute_result",
          "data": {
            "text/html": [
              "<div>\n",
              "<style scoped>\n",
              "    .dataframe tbody tr th:only-of-type {\n",
              "        vertical-align: middle;\n",
              "    }\n",
              "\n",
              "    .dataframe tbody tr th {\n",
              "        vertical-align: top;\n",
              "    }\n",
              "\n",
              "    .dataframe thead th {\n",
              "        text-align: right;\n",
              "    }\n",
              "</style>\n",
              "<table border=\"1\" class=\"dataframe\">\n",
              "  <thead>\n",
              "    <tr style=\"text-align: right;\">\n",
              "      <th></th>\n",
              "      <th>tiendas</th>\n",
              "      <th>precios</th>\n",
              "    </tr>\n",
              "  </thead>\n",
              "  <tbody>\n",
              "    <tr>\n",
              "      <th>0</th>\n",
              "      <td>1</td>\n",
              "      <td>697</td>\n",
              "    </tr>\n",
              "    <tr>\n",
              "      <th>1</th>\n",
              "      <td>2</td>\n",
              "      <td>660</td>\n",
              "    </tr>\n",
              "    <tr>\n",
              "      <th>2</th>\n",
              "      <td>3</td>\n",
              "      <td>816</td>\n",
              "    </tr>\n",
              "    <tr>\n",
              "      <th>3</th>\n",
              "      <td>4</td>\n",
              "      <td>903</td>\n",
              "    </tr>\n",
              "    <tr>\n",
              "      <th>4</th>\n",
              "      <td>5</td>\n",
              "      <td>656</td>\n",
              "    </tr>\n",
              "    <tr>\n",
              "      <th>5</th>\n",
              "      <td>6</td>\n",
              "      <td>605</td>\n",
              "    </tr>\n",
              "    <tr>\n",
              "      <th>6</th>\n",
              "      <td>7</td>\n",
              "      <td>867</td>\n",
              "    </tr>\n",
              "    <tr>\n",
              "      <th>7</th>\n",
              "      <td>8</td>\n",
              "      <td>659</td>\n",
              "    </tr>\n",
              "    <tr>\n",
              "      <th>8</th>\n",
              "      <td>9</td>\n",
              "      <td>818</td>\n",
              "    </tr>\n",
              "    <tr>\n",
              "      <th>9</th>\n",
              "      <td>10</td>\n",
              "      <td>884</td>\n",
              "    </tr>\n",
              "  </tbody>\n",
              "</table>\n",
              "</div>"
            ],
            "text/plain": [
              "   tiendas  precios\n",
              "0        1      697\n",
              "1        2      660\n",
              "2        3      816\n",
              "3        4      903\n",
              "4        5      656\n",
              "5        6      605\n",
              "6        7      867\n",
              "7        8      659\n",
              "8        9      818\n",
              "9       10      884"
            ]
          },
          "metadata": {
            "tags": []
          },
          "execution_count": 11
        }
      ]
    },
    {
      "cell_type": "markdown",
      "metadata": {
        "id": "jS_Gh8KUhhlW",
        "colab_type": "text"
      },
      "source": [
        "### Uso de la líbreria numpy para crear histogramas, frecuencias y rangos:"
      ]
    },
    {
      "cell_type": "code",
      "metadata": {
        "id": "UW0c4CZ0iAC0",
        "colab_type": "code",
        "colab": {}
      },
      "source": [
        "# El numero 5 nos da la cantidad de divisiones o rangos de frecuencia\n",
        "frecuencias, rangos = np.histogram(precios, 5)\n",
        "histogram = np.histogram(precios, 5)"
      ],
      "execution_count": 0,
      "outputs": []
    },
    {
      "cell_type": "code",
      "metadata": {
        "id": "50LqNWeMiNSG",
        "colab_type": "code",
        "outputId": "762bb861-5b63-44a1-eed2-7fd3303885b3",
        "colab": {
          "base_uri": "https://localhost:8080/",
          "height": 34
        }
      },
      "source": [
        "frecuencias"
      ],
      "execution_count": 0,
      "outputs": [
        {
          "output_type": "execute_result",
          "data": {
            "text/plain": [
              "array([ 9, 17,  8,  8,  8])"
            ]
          },
          "metadata": {
            "tags": []
          },
          "execution_count": 18
        }
      ]
    },
    {
      "cell_type": "code",
      "metadata": {
        "id": "SbHSinxqku67",
        "colab_type": "code",
        "outputId": "be6d6150-8f13-4026-d8d6-233926bd0db7",
        "colab": {
          "base_uri": "https://localhost:8080/",
          "height": 34
        }
      },
      "source": [
        "rangos"
      ],
      "execution_count": 0,
      "outputs": [
        {
          "output_type": "execute_result",
          "data": {
            "text/plain": [
              "array([573. , 653.8, 734.6, 815.4, 896.2, 977. ])"
            ]
          },
          "metadata": {
            "tags": []
          },
          "execution_count": 13
        }
      ]
    },
    {
      "cell_type": "code",
      "metadata": {
        "id": "5Z_lUHoBk0VN",
        "colab_type": "code",
        "outputId": "4673ae34-6903-44ea-e0b5-bebfe06e2ebc",
        "colab": {
          "base_uri": "https://localhost:8080/",
          "height": 52
        }
      },
      "source": [
        "histogram"
      ],
      "execution_count": 0,
      "outputs": [
        {
          "output_type": "execute_result",
          "data": {
            "text/plain": [
              "(array([ 9, 17,  8,  8,  8]),\n",
              " array([573. , 653.8, 734.6, 815.4, 896.2, 977. ]))"
            ]
          },
          "metadata": {
            "tags": []
          },
          "execution_count": 14
        }
      ]
    },
    {
      "cell_type": "markdown",
      "metadata": {
        "id": "2PaOHeG6ihmN",
        "colab_type": "text"
      },
      "source": [
        "### Creación de histograma desde Pandas DF:"
      ]
    },
    {
      "cell_type": "code",
      "metadata": {
        "id": "woRwKpn6pCiP",
        "colab_type": "code",
        "outputId": "d91dc7b9-ad4c-435f-ecc5-53a9ade3a95c",
        "colab": {
          "base_uri": "https://localhost:8080/",
          "height": 281
        }
      },
      "source": [
        "histo = df.hist( ['precios'], bins=5)"
      ],
      "execution_count": 0,
      "outputs": [
        {
          "output_type": "display_data",
          "data": {
            "image/png": "[encoded data removed]",
            "text/plain": [
              "<Figure size 432x288 with 1 Axes>"
            ]
          },
          "metadata": {
            "tags": []
          }
        }
      ]
    },
    {
      "cell_type": "markdown",
      "metadata": {
        "id": "EtPSaKjsiwvQ",
        "colab_type": "text"
      },
      "source": [
        "### Usar la función describe() de pandas DF para encontrar medidas de distribución:"
      ]
    },
    {
      "cell_type": "code",
      "metadata": {
        "id": "9WZceFwxZBZN",
        "colab_type": "code",
        "outputId": "6e60329d-f17d-49f8-9a84-5d197a24cd58",
        "colab": {
          "base_uri": "https://localhost:8080/",
          "height": 173
        }
      },
      "source": [
        "df['precios'].describe()"
      ],
      "execution_count": 0,
      "outputs": [
        {
          "output_type": "execute_result",
          "data": {
            "text/plain": [
              "count     50.000000\n",
              "mean     746.900000\n",
              "std      110.424459\n",
              "min      573.000000\n",
              "25%      660.250000\n",
              "50%      722.000000\n",
              "75%      860.750000\n",
              "max      977.000000\n",
              "Name: precios, dtype: float64"
            ]
          },
          "metadata": {
            "tags": []
          },
          "execution_count": 16
        }
      ]
    },
    {
      "cell_type": "markdown",
      "metadata": {
        "id": "eUQw41kjjgWF",
        "colab_type": "text"
      },
      "source": [
        "### Uso de DF plot.box()  para graficar cajas y bigotes:"
      ]
    },
    {
      "cell_type": "code",
      "metadata": {
        "id": "BYAxfxPxZL57",
        "colab_type": "code",
        "outputId": "07b1a23a-f0b4-4d04-d7d8-efe6f947bec3",
        "colab": {
          "base_uri": "https://localhost:8080/",
          "height": 286
        }
      },
      "source": [
        "df['precios'].plot.box()"
      ],
      "execution_count": 0,
      "outputs": [
        {
          "output_type": "execute_result",
          "data": {
            "text/plain": [
              "<matplotlib.axes._subplots.AxesSubplot at 0x7fcbfdba7588>"
            ]
          },
          "metadata": {
            "tags": []
          },
          "execution_count": 17
        },
        {
          "output_type": "display_data",
          "data": {
            "image/png": "[encoded data removed]",
            "text/plain": [
              "<Figure size 432x288 with 1 Axes>"
            ]
          },
          "metadata": {
            "tags": []
          }
        }
      ]
    },
    {
      "cell_type": "code",
      "metadata": {
        "id": "N_oCL5A6bZ99",
        "colab_type": "code",
        "colab": {}
      },
      "source": [
        ""
      ],
      "execution_count": 0,
      "outputs": []
    }
  ]
}
