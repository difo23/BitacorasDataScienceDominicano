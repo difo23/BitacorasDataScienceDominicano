{
 "cells": [
  {
   "cell_type": "markdown",
   "metadata": {},
   "source": [
    "## Regresion Lineal con ScikitLearn"
   ]
  },
  {
   "cell_type": "code",
   "execution_count": 23,
   "metadata": {},
   "outputs": [],
   "source": [
    "from sklearn.feature_selection import RFE\n",
    "from sklearn.svm import SVR\n",
    "from sklearn.linear_model import LinearRegression\n",
    "from sklearn.model_selection import train_test_split\n",
    "import pandas as pd"
   ]
  },
  {
   "cell_type": "code",
   "execution_count": 5,
   "metadata": {},
   "outputs": [],
   "source": [
    "df = pd.read_csv('Advertising.csv')"
   ]
  },
  {
   "cell_type": "code",
   "execution_count": 6,
   "metadata": {},
   "outputs": [],
   "source": [
    "feature_cols = ['TV', 'Radio', 'Newspaper']"
   ]
  },
  {
   "cell_type": "code",
   "execution_count": 7,
   "metadata": {},
   "outputs": [],
   "source": [
    "x = df[feature_cols]\n",
    "y = df['Sales']"
   ]
  },
  {
   "cell_type": "code",
   "execution_count": 8,
   "metadata": {},
   "outputs": [],
   "source": [
    "estimator = SVR(kernel =\"linear\")\n",
    "selector = RFE(estimator, 2, step=1)\n",
    "selector = selector.fit(x,y)"
   ]
  },
  {
   "cell_type": "code",
   "execution_count": 9,
   "metadata": {},
   "outputs": [
    {
     "data": {
      "text/plain": [
       "array([ True,  True, False])"
      ]
     },
     "execution_count": 9,
     "metadata": {},
     "output_type": "execute_result"
    }
   ],
   "source": [
    "selector.support_"
   ]
  },
  {
   "cell_type": "code",
   "execution_count": 10,
   "metadata": {},
   "outputs": [],
   "source": [
    "# La variable TV y radio fuero seleccionadas para le modelo, Newspaper no!"
   ]
  },
  {
   "cell_type": "code",
   "execution_count": 11,
   "metadata": {},
   "outputs": [
    {
     "data": {
      "text/plain": [
       "array([1, 1, 2])"
      ]
     },
     "execution_count": 11,
     "metadata": {},
     "output_type": "execute_result"
    }
   ],
   "source": [
    "selector.ranking_"
   ]
  },
  {
   "cell_type": "code",
   "execution_count": 12,
   "metadata": {},
   "outputs": [],
   "source": [
    "# La variables con ranking 1 son las mejores para le modelo"
   ]
  },
  {
   "cell_type": "code",
   "execution_count": 24,
   "metadata": {},
   "outputs": [],
   "source": [
    "data_training, data_testing = train_test_split(df, test_size=0.2)"
   ]
  },
  {
   "cell_type": "code",
   "execution_count": 49,
   "metadata": {},
   "outputs": [
    {
     "data": {
      "text/plain": [
       "LinearRegression(copy_X=True, fit_intercept=True, n_jobs=None, normalize=False)"
      ]
     },
     "execution_count": 49,
     "metadata": {},
     "output_type": "execute_result"
    }
   ],
   "source": [
    "x = data_training[feature_cols]\n",
    "x_t= data_testing[feature_cols]\n",
    "\n",
    "y = data_training['Sales']\n",
    "y_t = data_testing['Sales']\n",
    "\n",
    "x_pred = x[['TV', 'Radio']]\n",
    "x_t_pred = x_t[['TV','Radio']]\n",
    "\n",
    "lm = LinearRegression()\n",
    "lm.fit(x_pred, y)\n"
   ]
  },
  {
   "cell_type": "code",
   "execution_count": 37,
   "metadata": {},
   "outputs": [
    {
     "data": {
      "text/plain": [
       "3.015859168753906"
      ]
     },
     "execution_count": 37,
     "metadata": {},
     "output_type": "execute_result"
    }
   ],
   "source": [
    "lm.intercept_"
   ]
  },
  {
   "cell_type": "code",
   "execution_count": 38,
   "metadata": {},
   "outputs": [
    {
     "data": {
      "text/plain": [
       "array([0.04739357, 0.17839354])"
      ]
     },
     "execution_count": 38,
     "metadata": {},
     "output_type": "execute_result"
    }
   ],
   "source": [
    "lm.coef_"
   ]
  },
  {
   "cell_type": "code",
   "execution_count": 39,
   "metadata": {},
   "outputs": [
    {
     "data": {
      "text/plain": [
       "0.90605445196227"
      ]
     },
     "execution_count": 39,
     "metadata": {},
     "output_type": "execute_result"
    }
   ],
   "source": [
    "lm.score(x_pred, y)"
   ]
  },
  {
   "cell_type": "code",
   "execution_count": 50,
   "metadata": {},
   "outputs": [],
   "source": [
    "y_pred_testing = 3.015859168753906+ x_t_pred['TV'] * 0.04739357 + x_t_pred['Radio']*0.17839354"
   ]
  },
  {
   "cell_type": "code",
   "execution_count": 51,
   "metadata": {},
   "outputs": [
    {
     "data": {
      "text/plain": [
       "122    14.060163\n",
       "22      6.477912\n",
       "43     14.320095\n",
       "107     7.353756\n",
       "114    15.070854\n",
       "161    13.463977\n",
       "9      12.948918\n",
       "180    10.901515\n",
       "0      20.664395\n",
       "2      12.019292\n",
       "48     16.602296\n",
       "62     17.122240\n",
       "195     5.486350\n",
       "8       3.798070\n",
       "56      8.374691\n",
       "82     10.205984\n",
       "38      9.821630\n",
       "90     10.254944\n",
       "21     15.176900\n",
       "197    13.063581\n",
       "39     20.547030\n",
       "174    14.162727\n",
       "71     10.770701\n",
       "53     19.911707\n",
       "100    14.323281\n",
       "89     16.746884\n",
       "185    20.777090\n",
       "92     19.309623\n",
       "192     4.562442\n",
       "73     10.165430\n",
       "51      9.486752\n",
       "78      8.605751\n",
       "118    15.555953\n",
       "178    16.539965\n",
       "81     15.112251\n",
       "169    18.380823\n",
       "52     20.710838\n",
       "129     7.981238\n",
       "50     13.038114\n",
       "150    18.798904\n",
       "dtype: float64"
      ]
     },
     "execution_count": 51,
     "metadata": {},
     "output_type": "execute_result"
    }
   ],
   "source": [
    "y_pred_testing"
   ]
  },
  {
   "cell_type": "code",
   "execution_count": 52,
   "metadata": {},
   "outputs": [],
   "source": [
    "y_pred_testing = lm.predict(x_t_pred)"
   ]
  },
  {
   "cell_type": "code",
   "execution_count": 53,
   "metadata": {},
   "outputs": [
    {
     "data": {
      "text/plain": [
       "array([14.060163  ,  6.47791157, 14.32009422,  7.35375582, 15.07085393,\n",
       "       13.46397675, 12.94891735, 10.90151519, 20.66439511, 12.01929207,\n",
       "       16.60229586, 17.12223998,  5.48634958,  3.79807029,  8.37469071,\n",
       "       10.20598375,  9.82162951, 10.25494376, 15.17689938, 13.06358071,\n",
       "       20.54702926, 14.16272683, 10.77070062, 19.91170635, 14.32328102,\n",
       "       16.74688423, 20.77708939, 19.30962264,  4.56244206, 10.16543011,\n",
       "        9.48675143,  8.60575131, 15.55595238, 16.5399647 , 15.1122504 ,\n",
       "       18.38082221, 20.71083803,  7.98123834, 13.03811412, 18.79890405])"
      ]
     },
     "execution_count": 53,
     "metadata": {},
     "output_type": "execute_result"
    }
   ],
   "source": [
    "y_pred_testing"
   ]
  },
  {
   "cell_type": "code",
   "execution_count": 56,
   "metadata": {},
   "outputs": [
    {
     "data": {
      "text/plain": [
       "122    11.6\n",
       "22      5.6\n",
       "43     12.9\n",
       "107     8.7\n",
       "114    14.6\n",
       "161    13.3\n",
       "9      10.6\n",
       "180    10.5\n",
       "0      22.1\n",
       "2       9.3\n",
       "48     14.8\n",
       "62     15.7\n",
       "195     7.6\n",
       "8       4.8\n",
       "56      5.5\n",
       "82     11.3\n",
       "38     10.1\n",
       "90     11.2\n",
       "21     12.5\n",
       "197    12.8\n",
       "39     21.5\n",
       "174    11.5\n",
       "71     12.4\n",
       "53     21.2\n",
       "100    11.7\n",
       "89     16.7\n",
       "185    22.6\n",
       "92     19.4\n",
       "192     5.9\n",
       "73     11.0\n",
       "51     10.7\n",
       "78      5.3\n",
       "118    15.9\n",
       "178    11.8\n",
       "81     12.3\n",
       "169    15.0\n",
       "52     22.6\n",
       "129     9.7\n",
       "50     11.4\n",
       "150    16.1\n",
       "Name: Sales, dtype: float64"
      ]
     },
     "execution_count": 56,
     "metadata": {},
     "output_type": "execute_result"
    }
   ],
   "source": [
    "y_t"
   ]
  },
  {
   "cell_type": "code",
   "execution_count": null,
   "metadata": {},
   "outputs": [],
   "source": [
    "\n"
   ]
  },
  {
   "cell_type": "code",
   "execution_count": null,
   "metadata": {},
   "outputs": [],
   "source": []
  }
 ],
 "metadata": {
  "kernelspec": {
   "display_name": "Python 3",
   "language": "python",
   "name": "python3"
  },
  "language_info": {
   "codemirror_mode": {
    "name": "ipython",
    "version": 3
   },
   "file_extension": ".py",
   "mimetype": "text/x-python",
   "name": "python",
   "nbconvert_exporter": "python",
   "pygments_lexer": "ipython3",
   "version": "3.6.7"
  }
 },
 "nbformat": 4,
 "nbformat_minor": 4
}
