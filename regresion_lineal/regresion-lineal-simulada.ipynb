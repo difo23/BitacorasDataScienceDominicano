{
 "cells": [
  {
   "cell_type": "markdown",
   "metadata": {},
   "source": [
    "# Modelos de Regresion Lineal simulado"
   ]
  },
  {
   "cell_type": "markdown",
   "metadata": {},
   "source": [
    "$y = a + b*x$\n",
    "* x: 100 valores distribuidos segun N(1.5, 2.5)\n",
    "* Ye =  5 + 1.9 * x + e \n",
    "* e (error o residuo): esta distribuido segun una N(0,0.8)"
   ]
  },
  {
   "cell_type": "code",
   "execution_count": 3,
   "metadata": {},
   "outputs": [],
   "source": [
    "import pandas as pd\n",
    "import numpy as np\n",
    "import matplotlib.pyplot as plt"
   ]
  },
  {
   "cell_type": "code",
   "execution_count": 4,
   "metadata": {},
   "outputs": [],
   "source": [
    "# Vamos a simular los datos usando random de una distribubion normal para x (el tiempo)\n",
    "x = 1.5 + 2.5 * np.random.randn(100)"
   ]
  },
  {
   "cell_type": "code",
   "execution_count": 5,
   "metadata": {},
   "outputs": [],
   "source": [
    "# Vamos a simular los datos usando random de una distribubion normal para res o error (errores tomados en la medicion)\n",
    "res = 0 + 0.8 * np.random.randn(100)"
   ]
  },
  {
   "cell_type": "code",
   "execution_count": 6,
   "metadata": {},
   "outputs": [],
   "source": [
    "# y_pred representa los valores esperados en la prediccion\n",
    "y_pred = 5 +1.9 * x"
   ]
  },
  {
   "cell_type": "code",
   "execution_count": 7,
   "metadata": {},
   "outputs": [],
   "source": [
    "# Representa el valor de y actualmente con los errores introducidos\n",
    "y_act = 5 + 1.9 *x + res"
   ]
  },
  {
   "cell_type": "markdown",
   "metadata": {},
   "source": [
    "$ Distancia = a + Velocidad * Tiempo$ Donde V es la velocidad, en la grafica se conoce como pendiente o variacion. Suponiendo que la velocidad es constante y se introduce un error de medicion."
   ]
  },
  {
   "cell_type": "code",
   "execution_count": 8,
   "metadata": {},
   "outputs": [],
   "source": [
    "df = pd.DataFrame({\n",
    "    'tiempo': x,\n",
    "    'distancia_pred': y_pred,\n",
    "    'distancia_real': y_act\n",
    "})"
   ]
  },
  {
   "cell_type": "code",
   "execution_count": 9,
   "metadata": {},
   "outputs": [
    {
     "data": {
      "text/html": [
       "<div>\n",
       "<style scoped>\n",
       "    .dataframe tbody tr th:only-of-type {\n",
       "        vertical-align: middle;\n",
       "    }\n",
       "\n",
       "    .dataframe tbody tr th {\n",
       "        vertical-align: top;\n",
       "    }\n",
       "\n",
       "    .dataframe thead th {\n",
       "        text-align: right;\n",
       "    }\n",
       "</style>\n",
       "<table border=\"1\" class=\"dataframe\">\n",
       "  <thead>\n",
       "    <tr style=\"text-align: right;\">\n",
       "      <th></th>\n",
       "      <th>tiempo</th>\n",
       "      <th>distancia_pred</th>\n",
       "      <th>distancia_real</th>\n",
       "    </tr>\n",
       "  </thead>\n",
       "  <tbody>\n",
       "    <tr>\n",
       "      <th>0</th>\n",
       "      <td>1.170903</td>\n",
       "      <td>7.224715</td>\n",
       "      <td>5.711598</td>\n",
       "    </tr>\n",
       "    <tr>\n",
       "      <th>1</th>\n",
       "      <td>0.232948</td>\n",
       "      <td>5.442600</td>\n",
       "      <td>5.364020</td>\n",
       "    </tr>\n",
       "    <tr>\n",
       "      <th>2</th>\n",
       "      <td>-2.838272</td>\n",
       "      <td>-0.392717</td>\n",
       "      <td>-0.326662</td>\n",
       "    </tr>\n",
       "    <tr>\n",
       "      <th>3</th>\n",
       "      <td>3.142069</td>\n",
       "      <td>10.969932</td>\n",
       "      <td>10.671065</td>\n",
       "    </tr>\n",
       "    <tr>\n",
       "      <th>4</th>\n",
       "      <td>-0.238859</td>\n",
       "      <td>4.546168</td>\n",
       "      <td>4.637410</td>\n",
       "    </tr>\n",
       "  </tbody>\n",
       "</table>\n",
       "</div>"
      ],
      "text/plain": [
       "     tiempo  distancia_pred  distancia_real\n",
       "0  1.170903        7.224715        5.711598\n",
       "1  0.232948        5.442600        5.364020\n",
       "2 -2.838272       -0.392717       -0.326662\n",
       "3  3.142069       10.969932       10.671065\n",
       "4 -0.238859        4.546168        4.637410"
      ]
     },
     "execution_count": 9,
     "metadata": {},
     "output_type": "execute_result"
    }
   ],
   "source": [
    "df.head()"
   ]
  },
  {
   "cell_type": "code",
   "execution_count": 10,
   "metadata": {},
   "outputs": [],
   "source": [
    "# un tiempo y distancia negativo no viene al caso asi que eliminamos los tiempos negativos\n",
    "time = df.tiempo > 0.0 "
   ]
  },
  {
   "cell_type": "code",
   "execution_count": 11,
   "metadata": {},
   "outputs": [
    {
     "data": {
      "text/plain": [
       "0     True\n",
       "1     True\n",
       "2    False\n",
       "3     True\n",
       "4    False\n",
       "Name: tiempo, dtype: bool"
      ]
     },
     "execution_count": 11,
     "metadata": {},
     "output_type": "execute_result"
    }
   ],
   "source": [
    "time.head()"
   ]
  },
  {
   "cell_type": "code",
   "execution_count": 12,
   "metadata": {},
   "outputs": [],
   "source": [
    "df = df[time]"
   ]
  },
  {
   "cell_type": "code",
   "execution_count": 13,
   "metadata": {},
   "outputs": [
    {
     "data": {
      "text/plain": [
       "(68, 3)"
      ]
     },
     "execution_count": 13,
     "metadata": {},
     "output_type": "execute_result"
    }
   ],
   "source": [
    "df.shape"
   ]
  },
  {
   "cell_type": "code",
   "execution_count": 14,
   "metadata": {},
   "outputs": [
    {
     "data": {
      "text/plain": [
       "[2.6920885160529373,\n",
       " 2.6920885160529373,\n",
       " 2.6920885160529373,\n",
       " 2.6920885160529373,\n",
       " 2.6920885160529373,\n",
       " 2.6920885160529373,\n",
       " 2.6920885160529373,\n",
       " 2.6920885160529373,\n",
       " 2.6920885160529373,\n",
       " 2.6920885160529373,\n",
       " 2.6920885160529373,\n",
       " 2.6920885160529373,\n",
       " 2.6920885160529373,\n",
       " 2.6920885160529373,\n",
       " 2.6920885160529373,\n",
       " 2.6920885160529373,\n",
       " 2.6920885160529373,\n",
       " 2.6920885160529373,\n",
       " 2.6920885160529373,\n",
       " 2.6920885160529373,\n",
       " 2.6920885160529373,\n",
       " 2.6920885160529373,\n",
       " 2.6920885160529373,\n",
       " 2.6920885160529373,\n",
       " 2.6920885160529373,\n",
       " 2.6920885160529373,\n",
       " 2.6920885160529373,\n",
       " 2.6920885160529373,\n",
       " 2.6920885160529373,\n",
       " 2.6920885160529373,\n",
       " 2.6920885160529373,\n",
       " 2.6920885160529373,\n",
       " 2.6920885160529373,\n",
       " 2.6920885160529373,\n",
       " 2.6920885160529373,\n",
       " 2.6920885160529373,\n",
       " 2.6920885160529373,\n",
       " 2.6920885160529373,\n",
       " 2.6920885160529373,\n",
       " 2.6920885160529373,\n",
       " 2.6920885160529373,\n",
       " 2.6920885160529373,\n",
       " 2.6920885160529373,\n",
       " 2.6920885160529373,\n",
       " 2.6920885160529373,\n",
       " 2.6920885160529373,\n",
       " 2.6920885160529373,\n",
       " 2.6920885160529373,\n",
       " 2.6920885160529373,\n",
       " 2.6920885160529373,\n",
       " 2.6920885160529373,\n",
       " 2.6920885160529373,\n",
       " 2.6920885160529373,\n",
       " 2.6920885160529373,\n",
       " 2.6920885160529373,\n",
       " 2.6920885160529373,\n",
       " 2.6920885160529373,\n",
       " 2.6920885160529373,\n",
       " 2.6920885160529373,\n",
       " 2.6920885160529373,\n",
       " 2.6920885160529373,\n",
       " 2.6920885160529373,\n",
       " 2.6920885160529373,\n",
       " 2.6920885160529373,\n",
       " 2.6920885160529373,\n",
       " 2.6920885160529373,\n",
       " 2.6920885160529373,\n",
       " 2.6920885160529373]"
      ]
     },
     "execution_count": 14,
     "metadata": {},
     "output_type": "execute_result"
    }
   ],
   "source": [
    "x_mean = [np.mean(df.tiempo) for i in range(0, len(df.tiempo))]\n",
    "df['tiempo_media']= x_mean\n",
    "x_mean"
   ]
  },
  {
   "cell_type": "code",
   "execution_count": 15,
   "metadata": {},
   "outputs": [
    {
     "data": {
      "text/plain": [
       "[10.148107748599971,\n",
       " 10.148107748599971,\n",
       " 10.148107748599971,\n",
       " 10.148107748599971,\n",
       " 10.148107748599971,\n",
       " 10.148107748599971,\n",
       " 10.148107748599971,\n",
       " 10.148107748599971,\n",
       " 10.148107748599971,\n",
       " 10.148107748599971,\n",
       " 10.148107748599971,\n",
       " 10.148107748599971,\n",
       " 10.148107748599971,\n",
       " 10.148107748599971,\n",
       " 10.148107748599971,\n",
       " 10.148107748599971,\n",
       " 10.148107748599971,\n",
       " 10.148107748599971,\n",
       " 10.148107748599971,\n",
       " 10.148107748599971,\n",
       " 10.148107748599971,\n",
       " 10.148107748599971,\n",
       " 10.148107748599971,\n",
       " 10.148107748599971,\n",
       " 10.148107748599971,\n",
       " 10.148107748599971,\n",
       " 10.148107748599971,\n",
       " 10.148107748599971,\n",
       " 10.148107748599971,\n",
       " 10.148107748599971,\n",
       " 10.148107748599971,\n",
       " 10.148107748599971,\n",
       " 10.148107748599971,\n",
       " 10.148107748599971,\n",
       " 10.148107748599971,\n",
       " 10.148107748599971,\n",
       " 10.148107748599971,\n",
       " 10.148107748599971,\n",
       " 10.148107748599971,\n",
       " 10.148107748599971,\n",
       " 10.148107748599971,\n",
       " 10.148107748599971,\n",
       " 10.148107748599971,\n",
       " 10.148107748599971,\n",
       " 10.148107748599971,\n",
       " 10.148107748599971,\n",
       " 10.148107748599971,\n",
       " 10.148107748599971,\n",
       " 10.148107748599971,\n",
       " 10.148107748599971,\n",
       " 10.148107748599971,\n",
       " 10.148107748599971,\n",
       " 10.148107748599971,\n",
       " 10.148107748599971,\n",
       " 10.148107748599971,\n",
       " 10.148107748599971,\n",
       " 10.148107748599971,\n",
       " 10.148107748599971,\n",
       " 10.148107748599971,\n",
       " 10.148107748599971,\n",
       " 10.148107748599971,\n",
       " 10.148107748599971,\n",
       " 10.148107748599971,\n",
       " 10.148107748599971,\n",
       " 10.148107748599971,\n",
       " 10.148107748599971,\n",
       " 10.148107748599971,\n",
       " 10.148107748599971]"
      ]
     },
     "execution_count": 15,
     "metadata": {},
     "output_type": "execute_result"
    }
   ],
   "source": [
    "y_mean = [np.mean(df.distancia_real) for i in range(0, len(df.tiempo))]\n",
    "df['distancia_media']= y_mean\n",
    "y_mean"
   ]
  },
  {
   "cell_type": "code",
   "execution_count": 16,
   "metadata": {},
   "outputs": [
    {
     "data": {
      "text/plain": [
       "Text(0.5, 0, 'Tiempo')"
      ]
     },
     "execution_count": 16,
     "metadata": {},
     "output_type": "execute_result"
    },
    {
     "data": {
      "image/png": "[encoded data removed]",
      "text/plain": [
       "<Figure size 432x288 with 1 Axes>"
      ]
     },
     "metadata": {
      "needs_background": "light"
     },
     "output_type": "display_data"
    }
   ],
   "source": [
    "%matplotlib inline\n",
    "plt.plot (df.tiempo, df.distancia_pred)\n",
    "plt.plot(df.tiempo, df.distancia_real,'ro ')\n",
    "plt.plot(df.tiempo, df.distancia_media)\n",
    "plt.plot(df.tiempo_media, df.distancia_real)\n",
    "plt.title('Valor actual vs Prediccion')\n",
    "plt.ylabel('Distancia')\n",
    "plt.xlabel('Tiempo')"
   ]
  },
  {
   "cell_type": "code",
   "execution_count": 17,
   "metadata": {},
   "outputs": [],
   "source": [
    "sx = (df.tiempo - np.mean(df.tiempo))"
   ]
  },
  {
   "cell_type": "code",
   "execution_count": 18,
   "metadata": {},
   "outputs": [],
   "source": [
    "sy = (df.distancia_real - np.mean(df.distancia_real))"
   ]
  },
  {
   "cell_type": "code",
   "execution_count": 19,
   "metadata": {},
   "outputs": [],
   "source": [
    "df['sx'] = sx"
   ]
  },
  {
   "cell_type": "code",
   "execution_count": 20,
   "metadata": {},
   "outputs": [],
   "source": [
    "df['sy'] = sy"
   ]
  },
  {
   "cell_type": "code",
   "execution_count": 21,
   "metadata": {},
   "outputs": [
    {
     "data": {
      "text/html": [
       "<div>\n",
       "<style scoped>\n",
       "    .dataframe tbody tr th:only-of-type {\n",
       "        vertical-align: middle;\n",
       "    }\n",
       "\n",
       "    .dataframe tbody tr th {\n",
       "        vertical-align: top;\n",
       "    }\n",
       "\n",
       "    .dataframe thead th {\n",
       "        text-align: right;\n",
       "    }\n",
       "</style>\n",
       "<table border=\"1\" class=\"dataframe\">\n",
       "  <thead>\n",
       "    <tr style=\"text-align: right;\">\n",
       "      <th></th>\n",
       "      <th>tiempo</th>\n",
       "      <th>distancia_pred</th>\n",
       "      <th>distancia_real</th>\n",
       "      <th>tiempo_media</th>\n",
       "      <th>distancia_media</th>\n",
       "      <th>sx</th>\n",
       "      <th>sy</th>\n",
       "    </tr>\n",
       "  </thead>\n",
       "  <tbody>\n",
       "    <tr>\n",
       "      <th>0</th>\n",
       "      <td>1.170903</td>\n",
       "      <td>7.224715</td>\n",
       "      <td>5.711598</td>\n",
       "      <td>2.692089</td>\n",
       "      <td>10.148108</td>\n",
       "      <td>-1.521186</td>\n",
       "      <td>-4.436509</td>\n",
       "    </tr>\n",
       "    <tr>\n",
       "      <th>1</th>\n",
       "      <td>0.232948</td>\n",
       "      <td>5.442600</td>\n",
       "      <td>5.364020</td>\n",
       "      <td>2.692089</td>\n",
       "      <td>10.148108</td>\n",
       "      <td>-2.459141</td>\n",
       "      <td>-4.784088</td>\n",
       "    </tr>\n",
       "    <tr>\n",
       "      <th>3</th>\n",
       "      <td>3.142069</td>\n",
       "      <td>10.969932</td>\n",
       "      <td>10.671065</td>\n",
       "      <td>2.692089</td>\n",
       "      <td>10.148108</td>\n",
       "      <td>0.449981</td>\n",
       "      <td>0.522957</td>\n",
       "    </tr>\n",
       "    <tr>\n",
       "      <th>7</th>\n",
       "      <td>1.913064</td>\n",
       "      <td>8.634821</td>\n",
       "      <td>8.249350</td>\n",
       "      <td>2.692089</td>\n",
       "      <td>10.148108</td>\n",
       "      <td>-0.779025</td>\n",
       "      <td>-1.898758</td>\n",
       "    </tr>\n",
       "    <tr>\n",
       "      <th>9</th>\n",
       "      <td>0.632905</td>\n",
       "      <td>6.202519</td>\n",
       "      <td>6.690622</td>\n",
       "      <td>2.692089</td>\n",
       "      <td>10.148108</td>\n",
       "      <td>-2.059184</td>\n",
       "      <td>-3.457486</td>\n",
       "    </tr>\n",
       "  </tbody>\n",
       "</table>\n",
       "</div>"
      ],
      "text/plain": [
       "     tiempo  distancia_pred  distancia_real  tiempo_media  distancia_media  \\\n",
       "0  1.170903        7.224715        5.711598      2.692089        10.148108   \n",
       "1  0.232948        5.442600        5.364020      2.692089        10.148108   \n",
       "3  3.142069       10.969932       10.671065      2.692089        10.148108   \n",
       "7  1.913064        8.634821        8.249350      2.692089        10.148108   \n",
       "9  0.632905        6.202519        6.690622      2.692089        10.148108   \n",
       "\n",
       "         sx        sy  \n",
       "0 -1.521186 -4.436509  \n",
       "1 -2.459141 -4.784088  \n",
       "3  0.449981  0.522957  \n",
       "7 -0.779025 -1.898758  \n",
       "9 -2.059184 -3.457486  "
      ]
     },
     "execution_count": 21,
     "metadata": {},
     "output_type": "execute_result"
    }
   ],
   "source": [
    "df.head()"
   ]
  },
  {
   "cell_type": "code",
   "execution_count": 22,
   "metadata": {},
   "outputs": [],
   "source": [
    "Sx = np.sum(df.sx)"
   ]
  },
  {
   "cell_type": "code",
   "execution_count": 23,
   "metadata": {},
   "outputs": [],
   "source": [
    "Sy = np.sum(df.sy)"
   ]
  },
  {
   "cell_type": "code",
   "execution_count": 24,
   "metadata": {},
   "outputs": [],
   "source": [
    "sxx = (df.sx)**2"
   ]
  },
  {
   "cell_type": "code",
   "execution_count": 25,
   "metadata": {},
   "outputs": [],
   "source": [
    "syy = (df.sy)**2"
   ]
  },
  {
   "cell_type": "code",
   "execution_count": 26,
   "metadata": {},
   "outputs": [],
   "source": [
    "Sxx = np.sum(sxx)"
   ]
  },
  {
   "cell_type": "code",
   "execution_count": 27,
   "metadata": {},
   "outputs": [],
   "source": [
    "Syy = np.sum(syy)"
   ]
  },
  {
   "cell_type": "code",
   "execution_count": 28,
   "metadata": {},
   "outputs": [],
   "source": [
    "sxy = df.sx * df.sy"
   ]
  },
  {
   "cell_type": "code",
   "execution_count": 29,
   "metadata": {},
   "outputs": [],
   "source": [
    "Sxy = np.sum(sxy)"
   ]
  },
  {
   "cell_type": "code",
   "execution_count": 30,
   "metadata": {},
   "outputs": [],
   "source": [
    "df['sxx']= sxx"
   ]
  },
  {
   "cell_type": "code",
   "execution_count": 31,
   "metadata": {},
   "outputs": [],
   "source": [
    "df['syy'] = syy"
   ]
  },
  {
   "cell_type": "code",
   "execution_count": 32,
   "metadata": {},
   "outputs": [],
   "source": [
    "df['sxy'] = sxy"
   ]
  },
  {
   "cell_type": "code",
   "execution_count": 33,
   "metadata": {},
   "outputs": [
    {
     "data": {
      "text/html": [
       "<div>\n",
       "<style scoped>\n",
       "    .dataframe tbody tr th:only-of-type {\n",
       "        vertical-align: middle;\n",
       "    }\n",
       "\n",
       "    .dataframe tbody tr th {\n",
       "        vertical-align: top;\n",
       "    }\n",
       "\n",
       "    .dataframe thead th {\n",
       "        text-align: right;\n",
       "    }\n",
       "</style>\n",
       "<table border=\"1\" class=\"dataframe\">\n",
       "  <thead>\n",
       "    <tr style=\"text-align: right;\">\n",
       "      <th></th>\n",
       "      <th>tiempo</th>\n",
       "      <th>distancia_pred</th>\n",
       "      <th>distancia_real</th>\n",
       "      <th>tiempo_media</th>\n",
       "      <th>distancia_media</th>\n",
       "      <th>sx</th>\n",
       "      <th>sy</th>\n",
       "      <th>sxx</th>\n",
       "      <th>syy</th>\n",
       "      <th>sxy</th>\n",
       "    </tr>\n",
       "  </thead>\n",
       "  <tbody>\n",
       "    <tr>\n",
       "      <th>0</th>\n",
       "      <td>1.170903</td>\n",
       "      <td>7.224715</td>\n",
       "      <td>5.711598</td>\n",
       "      <td>2.692089</td>\n",
       "      <td>10.148108</td>\n",
       "      <td>-1.521186</td>\n",
       "      <td>-4.436509</td>\n",
       "      <td>2.314006</td>\n",
       "      <td>19.682616</td>\n",
       "      <td>6.748755</td>\n",
       "    </tr>\n",
       "    <tr>\n",
       "      <th>1</th>\n",
       "      <td>0.232948</td>\n",
       "      <td>5.442600</td>\n",
       "      <td>5.364020</td>\n",
       "      <td>2.692089</td>\n",
       "      <td>10.148108</td>\n",
       "      <td>-2.459141</td>\n",
       "      <td>-4.784088</td>\n",
       "      <td>6.047374</td>\n",
       "      <td>22.887494</td>\n",
       "      <td>11.764746</td>\n",
       "    </tr>\n",
       "    <tr>\n",
       "      <th>3</th>\n",
       "      <td>3.142069</td>\n",
       "      <td>10.969932</td>\n",
       "      <td>10.671065</td>\n",
       "      <td>2.692089</td>\n",
       "      <td>10.148108</td>\n",
       "      <td>0.449981</td>\n",
       "      <td>0.522957</td>\n",
       "      <td>0.202483</td>\n",
       "      <td>0.273484</td>\n",
       "      <td>0.235321</td>\n",
       "    </tr>\n",
       "    <tr>\n",
       "      <th>7</th>\n",
       "      <td>1.913064</td>\n",
       "      <td>8.634821</td>\n",
       "      <td>8.249350</td>\n",
       "      <td>2.692089</td>\n",
       "      <td>10.148108</td>\n",
       "      <td>-0.779025</td>\n",
       "      <td>-1.898758</td>\n",
       "      <td>0.606879</td>\n",
       "      <td>3.605282</td>\n",
       "      <td>1.479179</td>\n",
       "    </tr>\n",
       "    <tr>\n",
       "      <th>9</th>\n",
       "      <td>0.632905</td>\n",
       "      <td>6.202519</td>\n",
       "      <td>6.690622</td>\n",
       "      <td>2.692089</td>\n",
       "      <td>10.148108</td>\n",
       "      <td>-2.059184</td>\n",
       "      <td>-3.457486</td>\n",
       "      <td>4.240239</td>\n",
       "      <td>11.954207</td>\n",
       "      <td>7.119599</td>\n",
       "    </tr>\n",
       "  </tbody>\n",
       "</table>\n",
       "</div>"
      ],
      "text/plain": [
       "     tiempo  distancia_pred  distancia_real  tiempo_media  distancia_media  \\\n",
       "0  1.170903        7.224715        5.711598      2.692089        10.148108   \n",
       "1  0.232948        5.442600        5.364020      2.692089        10.148108   \n",
       "3  3.142069       10.969932       10.671065      2.692089        10.148108   \n",
       "7  1.913064        8.634821        8.249350      2.692089        10.148108   \n",
       "9  0.632905        6.202519        6.690622      2.692089        10.148108   \n",
       "\n",
       "         sx        sy       sxx        syy        sxy  \n",
       "0 -1.521186 -4.436509  2.314006  19.682616   6.748755  \n",
       "1 -2.459141 -4.784088  6.047374  22.887494  11.764746  \n",
       "3  0.449981  0.522957  0.202483   0.273484   0.235321  \n",
       "7 -0.779025 -1.898758  0.606879   3.605282   1.479179  \n",
       "9 -2.059184 -3.457486  4.240239  11.954207   7.119599  "
      ]
     },
     "execution_count": 33,
     "metadata": {},
     "output_type": "execute_result"
    }
   ],
   "source": [
    "df.head()"
   ]
  },
  {
   "cell_type": "markdown",
   "metadata": {},
   "source": [
    "$y = a + b*x$"
   ]
  },
  {
   "cell_type": "markdown",
   "metadata": {},
   "source": [
    "$a = y' - x' *b$"
   ]
  },
  {
   "cell_type": "markdown",
   "metadata": {},
   "source": [
    "$b = \\frac {Sxy} {Sxx}$"
   ]
  },
  {
   "cell_type": "code",
   "execution_count": 34,
   "metadata": {},
   "outputs": [],
   "source": [
    "b = Sxy/Sxx"
   ]
  },
  {
   "cell_type": "code",
   "execution_count": 35,
   "metadata": {},
   "outputs": [],
   "source": [
    "a = np.mean(df.distancia_pred) - np.mean(df.tiempo)*b "
   ]
  },
  {
   "cell_type": "code",
   "execution_count": 36,
   "metadata": {},
   "outputs": [
    {
     "data": {
      "text/plain": [
       "4.699287960736678"
      ]
     },
     "execution_count": 36,
     "metadata": {},
     "output_type": "execute_result"
    }
   ],
   "source": [
    "a"
   ]
  },
  {
   "cell_type": "code",
   "execution_count": 37,
   "metadata": {},
   "outputs": [
    {
     "data": {
      "text/plain": [
       "2.0117021366385885"
      ]
     },
     "execution_count": 37,
     "metadata": {},
     "output_type": "execute_result"
    }
   ],
   "source": [
    "b"
   ]
  },
  {
   "cell_type": "markdown",
   "metadata": {},
   "source": [
    "Calcular coeficiente de correlacion R"
   ]
  },
  {
   "cell_type": "markdown",
   "metadata": {},
   "source": [
    "$R = Syy\"/sqrt(Syy * Sy\"y\")$"
   ]
  },
  {
   "cell_type": "code",
   "execution_count": 38,
   "metadata": {},
   "outputs": [],
   "source": [
    "y_predicha = b*df.tiempo + a"
   ]
  },
  {
   "cell_type": "code",
   "execution_count": 39,
   "metadata": {},
   "outputs": [
    {
     "data": {
      "text/plain": [
       "0      7.054796\n",
       "1      5.167909\n",
       "3     11.020196\n",
       "7      8.547803\n",
       "9      5.972503\n",
       "11     8.057579\n",
       "12    11.347522\n",
       "13    13.056767\n",
       "14    11.720841\n",
       "15     8.241747\n",
       "16    14.618295\n",
       "17    11.466386\n",
       "18    11.872282\n",
       "19    17.095634\n",
       "21     7.900998\n",
       "22     9.509916\n",
       "23    11.120473\n",
       "26    14.246898\n",
       "27     9.611119\n",
       "28    14.056221\n",
       "29     8.564286\n",
       "31     8.563768\n",
       "32     7.748309\n",
       "33    10.104702\n",
       "34    14.347129\n",
       "35     9.865288\n",
       "36    13.382068\n",
       "37    11.987813\n",
       "39     8.883757\n",
       "41     6.661168\n",
       "        ...    \n",
       "52    14.499019\n",
       "55    12.591371\n",
       "58     7.510716\n",
       "61    20.785520\n",
       "64    15.173114\n",
       "65     9.837697\n",
       "69     7.708299\n",
       "70     8.925433\n",
       "72    16.236122\n",
       "73    13.265730\n",
       "74     8.602573\n",
       "75     5.484834\n",
       "76     7.671102\n",
       "77     5.214505\n",
       "79     6.886026\n",
       "82     9.760577\n",
       "83    15.222588\n",
       "84    10.248765\n",
       "85     5.034888\n",
       "86     8.475463\n",
       "87    16.805329\n",
       "88    12.875373\n",
       "89     9.453173\n",
       "91     6.039042\n",
       "92     8.126330\n",
       "93     7.481029\n",
       "95    12.812047\n",
       "96     8.718133\n",
       "97     8.608313\n",
       "99     6.293059\n",
       "Name: tiempo, Length: 68, dtype: float64"
      ]
     },
     "execution_count": 39,
     "metadata": {},
     "output_type": "execute_result"
    }
   ],
   "source": [
    "y_predicha"
   ]
  },
  {
   "cell_type": "code",
   "execution_count": 40,
   "metadata": {},
   "outputs": [
    {
     "data": {
      "text/plain": [
       "Text(0.5, 0, 'Tiempo')"
      ]
     },
     "execution_count": 40,
     "metadata": {},
     "output_type": "execute_result"
    },
    {
     "data": {
      "image/png": "[encoded data removed]",
      "text/plain": [
       "<Figure size 432x288 with 1 Axes>"
      ]
     },
     "metadata": {
      "needs_background": "light"
     },
     "output_type": "display_data"
    }
   ],
   "source": [
    "%matplotlib inline\n",
    "plt.plot (df.tiempo, y_predicha, 'y')\n",
    "plt.plot(df.tiempo, df.distancia_real,'ro ')\n",
    "#plt.plot(df.tiempo, df.distancia_pred, 'g')\n",
    "plt.title('Valor actual vs Prediccion')\n",
    "plt.ylabel('Distancia')\n",
    "plt.xlabel('Tiempo')"
   ]
  },
  {
   "cell_type": "code",
   "execution_count": 41,
   "metadata": {},
   "outputs": [],
   "source": [
    "df['y_pred']= y_predicha"
   ]
  },
  {
   "cell_type": "code",
   "execution_count": 42,
   "metadata": {},
   "outputs": [
    {
     "data": {
      "text/html": [
       "<div>\n",
       "<style scoped>\n",
       "    .dataframe tbody tr th:only-of-type {\n",
       "        vertical-align: middle;\n",
       "    }\n",
       "\n",
       "    .dataframe tbody tr th {\n",
       "        vertical-align: top;\n",
       "    }\n",
       "\n",
       "    .dataframe thead th {\n",
       "        text-align: right;\n",
       "    }\n",
       "</style>\n",
       "<table border=\"1\" class=\"dataframe\">\n",
       "  <thead>\n",
       "    <tr style=\"text-align: right;\">\n",
       "      <th></th>\n",
       "      <th>tiempo</th>\n",
       "      <th>distancia_pred</th>\n",
       "      <th>distancia_real</th>\n",
       "      <th>tiempo_media</th>\n",
       "      <th>distancia_media</th>\n",
       "      <th>sx</th>\n",
       "      <th>sy</th>\n",
       "      <th>sxx</th>\n",
       "      <th>syy</th>\n",
       "      <th>sxy</th>\n",
       "      <th>y_pred</th>\n",
       "    </tr>\n",
       "  </thead>\n",
       "  <tbody>\n",
       "    <tr>\n",
       "      <th>0</th>\n",
       "      <td>1.170903</td>\n",
       "      <td>7.224715</td>\n",
       "      <td>5.711598</td>\n",
       "      <td>2.692089</td>\n",
       "      <td>10.148108</td>\n",
       "      <td>-1.521186</td>\n",
       "      <td>-4.436509</td>\n",
       "      <td>2.314006</td>\n",
       "      <td>19.682616</td>\n",
       "      <td>6.748755</td>\n",
       "      <td>7.054796</td>\n",
       "    </tr>\n",
       "    <tr>\n",
       "      <th>1</th>\n",
       "      <td>0.232948</td>\n",
       "      <td>5.442600</td>\n",
       "      <td>5.364020</td>\n",
       "      <td>2.692089</td>\n",
       "      <td>10.148108</td>\n",
       "      <td>-2.459141</td>\n",
       "      <td>-4.784088</td>\n",
       "      <td>6.047374</td>\n",
       "      <td>22.887494</td>\n",
       "      <td>11.764746</td>\n",
       "      <td>5.167909</td>\n",
       "    </tr>\n",
       "    <tr>\n",
       "      <th>3</th>\n",
       "      <td>3.142069</td>\n",
       "      <td>10.969932</td>\n",
       "      <td>10.671065</td>\n",
       "      <td>2.692089</td>\n",
       "      <td>10.148108</td>\n",
       "      <td>0.449981</td>\n",
       "      <td>0.522957</td>\n",
       "      <td>0.202483</td>\n",
       "      <td>0.273484</td>\n",
       "      <td>0.235321</td>\n",
       "      <td>11.020196</td>\n",
       "    </tr>\n",
       "    <tr>\n",
       "      <th>7</th>\n",
       "      <td>1.913064</td>\n",
       "      <td>8.634821</td>\n",
       "      <td>8.249350</td>\n",
       "      <td>2.692089</td>\n",
       "      <td>10.148108</td>\n",
       "      <td>-0.779025</td>\n",
       "      <td>-1.898758</td>\n",
       "      <td>0.606879</td>\n",
       "      <td>3.605282</td>\n",
       "      <td>1.479179</td>\n",
       "      <td>8.547803</td>\n",
       "    </tr>\n",
       "    <tr>\n",
       "      <th>9</th>\n",
       "      <td>0.632905</td>\n",
       "      <td>6.202519</td>\n",
       "      <td>6.690622</td>\n",
       "      <td>2.692089</td>\n",
       "      <td>10.148108</td>\n",
       "      <td>-2.059184</td>\n",
       "      <td>-3.457486</td>\n",
       "      <td>4.240239</td>\n",
       "      <td>11.954207</td>\n",
       "      <td>7.119599</td>\n",
       "      <td>5.972503</td>\n",
       "    </tr>\n",
       "  </tbody>\n",
       "</table>\n",
       "</div>"
      ],
      "text/plain": [
       "     tiempo  distancia_pred  distancia_real  tiempo_media  distancia_media  \\\n",
       "0  1.170903        7.224715        5.711598      2.692089        10.148108   \n",
       "1  0.232948        5.442600        5.364020      2.692089        10.148108   \n",
       "3  3.142069       10.969932       10.671065      2.692089        10.148108   \n",
       "7  1.913064        8.634821        8.249350      2.692089        10.148108   \n",
       "9  0.632905        6.202519        6.690622      2.692089        10.148108   \n",
       "\n",
       "         sx        sy       sxx        syy        sxy     y_pred  \n",
       "0 -1.521186 -4.436509  2.314006  19.682616   6.748755   7.054796  \n",
       "1 -2.459141 -4.784088  6.047374  22.887494  11.764746   5.167909  \n",
       "3  0.449981  0.522957  0.202483   0.273484   0.235321  11.020196  \n",
       "7 -0.779025 -1.898758  0.606879   3.605282   1.479179   8.547803  \n",
       "9 -2.059184 -3.457486  4.240239  11.954207   7.119599   5.972503  "
      ]
     },
     "execution_count": 42,
     "metadata": {},
     "output_type": "execute_result"
    }
   ],
   "source": [
    "df.head()"
   ]
  },
  {
   "cell_type": "code",
   "execution_count": 43,
   "metadata": {},
   "outputs": [],
   "source": [
    "sy_pre = df.y_pred - np.mean(df.y_pred)"
   ]
  },
  {
   "cell_type": "code",
   "execution_count": 44,
   "metadata": {},
   "outputs": [],
   "source": [
    "df['sy_pre'] =  sy_pre"
   ]
  },
  {
   "cell_type": "code",
   "execution_count": 45,
   "metadata": {},
   "outputs": [
    {
     "data": {
      "text/html": [
       "<div>\n",
       "<style scoped>\n",
       "    .dataframe tbody tr th:only-of-type {\n",
       "        vertical-align: middle;\n",
       "    }\n",
       "\n",
       "    .dataframe tbody tr th {\n",
       "        vertical-align: top;\n",
       "    }\n",
       "\n",
       "    .dataframe thead th {\n",
       "        text-align: right;\n",
       "    }\n",
       "</style>\n",
       "<table border=\"1\" class=\"dataframe\">\n",
       "  <thead>\n",
       "    <tr style=\"text-align: right;\">\n",
       "      <th></th>\n",
       "      <th>tiempo</th>\n",
       "      <th>distancia_pred</th>\n",
       "      <th>distancia_real</th>\n",
       "      <th>tiempo_media</th>\n",
       "      <th>distancia_media</th>\n",
       "      <th>sx</th>\n",
       "      <th>sy</th>\n",
       "      <th>sxx</th>\n",
       "      <th>syy</th>\n",
       "      <th>sxy</th>\n",
       "      <th>y_pred</th>\n",
       "      <th>sy_pre</th>\n",
       "    </tr>\n",
       "  </thead>\n",
       "  <tbody>\n",
       "    <tr>\n",
       "      <th>0</th>\n",
       "      <td>1.170903</td>\n",
       "      <td>7.224715</td>\n",
       "      <td>5.711598</td>\n",
       "      <td>2.692089</td>\n",
       "      <td>10.148108</td>\n",
       "      <td>-1.521186</td>\n",
       "      <td>-4.436509</td>\n",
       "      <td>2.314006</td>\n",
       "      <td>19.682616</td>\n",
       "      <td>6.748755</td>\n",
       "      <td>7.054796</td>\n",
       "      <td>-3.060173</td>\n",
       "    </tr>\n",
       "    <tr>\n",
       "      <th>1</th>\n",
       "      <td>0.232948</td>\n",
       "      <td>5.442600</td>\n",
       "      <td>5.364020</td>\n",
       "      <td>2.692089</td>\n",
       "      <td>10.148108</td>\n",
       "      <td>-2.459141</td>\n",
       "      <td>-4.784088</td>\n",
       "      <td>6.047374</td>\n",
       "      <td>22.887494</td>\n",
       "      <td>11.764746</td>\n",
       "      <td>5.167909</td>\n",
       "      <td>-4.947059</td>\n",
       "    </tr>\n",
       "    <tr>\n",
       "      <th>3</th>\n",
       "      <td>3.142069</td>\n",
       "      <td>10.969932</td>\n",
       "      <td>10.671065</td>\n",
       "      <td>2.692089</td>\n",
       "      <td>10.148108</td>\n",
       "      <td>0.449981</td>\n",
       "      <td>0.522957</td>\n",
       "      <td>0.202483</td>\n",
       "      <td>0.273484</td>\n",
       "      <td>0.235321</td>\n",
       "      <td>11.020196</td>\n",
       "      <td>0.905228</td>\n",
       "    </tr>\n",
       "    <tr>\n",
       "      <th>7</th>\n",
       "      <td>1.913064</td>\n",
       "      <td>8.634821</td>\n",
       "      <td>8.249350</td>\n",
       "      <td>2.692089</td>\n",
       "      <td>10.148108</td>\n",
       "      <td>-0.779025</td>\n",
       "      <td>-1.898758</td>\n",
       "      <td>0.606879</td>\n",
       "      <td>3.605282</td>\n",
       "      <td>1.479179</td>\n",
       "      <td>8.547803</td>\n",
       "      <td>-1.567166</td>\n",
       "    </tr>\n",
       "    <tr>\n",
       "      <th>9</th>\n",
       "      <td>0.632905</td>\n",
       "      <td>6.202519</td>\n",
       "      <td>6.690622</td>\n",
       "      <td>2.692089</td>\n",
       "      <td>10.148108</td>\n",
       "      <td>-2.059184</td>\n",
       "      <td>-3.457486</td>\n",
       "      <td>4.240239</td>\n",
       "      <td>11.954207</td>\n",
       "      <td>7.119599</td>\n",
       "      <td>5.972503</td>\n",
       "      <td>-4.142465</td>\n",
       "    </tr>\n",
       "  </tbody>\n",
       "</table>\n",
       "</div>"
      ],
      "text/plain": [
       "     tiempo  distancia_pred  distancia_real  tiempo_media  distancia_media  \\\n",
       "0  1.170903        7.224715        5.711598      2.692089        10.148108   \n",
       "1  0.232948        5.442600        5.364020      2.692089        10.148108   \n",
       "3  3.142069       10.969932       10.671065      2.692089        10.148108   \n",
       "7  1.913064        8.634821        8.249350      2.692089        10.148108   \n",
       "9  0.632905        6.202519        6.690622      2.692089        10.148108   \n",
       "\n",
       "         sx        sy       sxx        syy        sxy     y_pred    sy_pre  \n",
       "0 -1.521186 -4.436509  2.314006  19.682616   6.748755   7.054796 -3.060173  \n",
       "1 -2.459141 -4.784088  6.047374  22.887494  11.764746   5.167909 -4.947059  \n",
       "3  0.449981  0.522957  0.202483   0.273484   0.235321  11.020196  0.905228  \n",
       "7 -0.779025 -1.898758  0.606879   3.605282   1.479179   8.547803 -1.567166  \n",
       "9 -2.059184 -3.457486  4.240239  11.954207   7.119599   5.972503 -4.142465  "
      ]
     },
     "execution_count": 45,
     "metadata": {},
     "output_type": "execute_result"
    }
   ],
   "source": [
    "df.head()"
   ]
  },
  {
   "cell_type": "code",
   "execution_count": 46,
   "metadata": {},
   "outputs": [],
   "source": [
    "syy_pre = (sy_pre)**2"
   ]
  },
  {
   "cell_type": "code",
   "execution_count": 47,
   "metadata": {},
   "outputs": [],
   "source": [
    "Sy_pre = np.sum(sy_pre)"
   ]
  },
  {
   "cell_type": "code",
   "execution_count": 48,
   "metadata": {},
   "outputs": [],
   "source": [
    "Syy_pre = np.sum(syy_pre)"
   ]
  },
  {
   "cell_type": "code",
   "execution_count": 49,
   "metadata": {},
   "outputs": [],
   "source": [
    "sy_ypre= sy*sy_pre"
   ]
  },
  {
   "cell_type": "code",
   "execution_count": 50,
   "metadata": {},
   "outputs": [],
   "source": [
    "Sy_ypre = np.sum(sy_ypre)"
   ]
  },
  {
   "cell_type": "code",
   "execution_count": 51,
   "metadata": {},
   "outputs": [],
   "source": [
    "R = Sy_ypre / np.sqrt(Syy*Syy_pre)"
   ]
  },
  {
   "cell_type": "code",
   "execution_count": 52,
   "metadata": {},
   "outputs": [
    {
     "data": {
      "text/plain": [
       "0.9776610453261808"
      ]
     },
     "execution_count": 52,
     "metadata": {},
     "output_type": "execute_result"
    }
   ],
   "source": [
    "R"
   ]
  },
  {
   "cell_type": "markdown",
   "metadata": {},
   "source": [
    "Coeficiente de Determinacion R^2"
   ]
  },
  {
   "cell_type": "code",
   "execution_count": 53,
   "metadata": {},
   "outputs": [],
   "source": [
    "R2 = R**2"
   ]
  },
  {
   "cell_type": "code",
   "execution_count": 54,
   "metadata": {},
   "outputs": [
    {
     "data": {
      "text/plain": [
       "0.9558211195482805"
      ]
     },
     "execution_count": 54,
     "metadata": {},
     "output_type": "execute_result"
    }
   ],
   "source": [
    "R2 # mienstras mas cerca de 1 el modelo es mas preciso"
   ]
  },
  {
   "cell_type": "code",
   "execution_count": 55,
   "metadata": {},
   "outputs": [],
   "source": [
    "se = (df.distancia_real - df.y_pred)**2"
   ]
  },
  {
   "cell_type": "code",
   "execution_count": 56,
   "metadata": {},
   "outputs": [
    {
     "data": {
      "text/plain": [
       "0     1.804179\n",
       "1     0.038460\n",
       "3     0.121893\n",
       "7     0.089074\n",
       "9     0.515695\n",
       "11    0.009850\n",
       "12    0.173214\n",
       "13    0.538575\n",
       "14    0.012733\n",
       "15    0.387090\n",
       "16    1.140883\n",
       "17    0.273239\n",
       "18    0.811559\n",
       "19    0.003063\n",
       "21    1.180985\n",
       "22    4.080301\n",
       "23    0.041976\n",
       "26    0.465223\n",
       "27    0.000609\n",
       "28    0.826143\n",
       "29    0.354707\n",
       "31    0.862712\n",
       "32    0.087619\n",
       "33    0.093381\n",
       "34    1.015055\n",
       "35    0.054674\n",
       "36    0.061381\n",
       "37    0.255813\n",
       "39    1.424781\n",
       "41    0.007148\n",
       "        ...   \n",
       "52    0.006853\n",
       "55    2.002512\n",
       "58    0.028339\n",
       "61    2.549303\n",
       "64    1.431656\n",
       "65    0.014179\n",
       "69    1.141582\n",
       "70    0.056980\n",
       "72    0.430255\n",
       "73    0.163449\n",
       "74    0.321186\n",
       "75    0.208594\n",
       "76    0.196922\n",
       "77    0.004959\n",
       "79    0.113536\n",
       "82    0.389453\n",
       "83    0.000044\n",
       "84    0.017930\n",
       "85    0.018216\n",
       "86    1.028315\n",
       "87    0.022409\n",
       "88    0.254266\n",
       "89    1.001317\n",
       "91    0.731776\n",
       "92    0.384158\n",
       "93    1.572232\n",
       "95    0.594372\n",
       "96    0.465442\n",
       "97    0.286679\n",
       "99    0.401220\n",
       "Length: 68, dtype: float64"
      ]
     },
     "execution_count": 56,
     "metadata": {},
     "output_type": "execute_result"
    }
   ],
   "source": [
    "se"
   ]
  },
  {
   "cell_type": "code",
   "execution_count": 57,
   "metadata": {},
   "outputs": [],
   "source": [
    "Se= np.sum(se)"
   ]
  },
  {
   "cell_type": "code",
   "execution_count": 58,
   "metadata": {},
   "outputs": [
    {
     "data": {
      "text/plain": [
       "37.169821256451684"
      ]
     },
     "execution_count": 58,
     "metadata": {},
     "output_type": "execute_result"
    }
   ],
   "source": [
    "Se"
   ]
  },
  {
   "cell_type": "markdown",
   "metadata": {},
   "source": [
    "R2 = (b * Sxy)/Syy = 1- Se/Syy  "
   ]
  },
  {
   "cell_type": "code",
   "execution_count": 59,
   "metadata": {},
   "outputs": [
    {
     "data": {
      "text/plain": [
       "0.9558211195482808"
      ]
     },
     "execution_count": 59,
     "metadata": {},
     "output_type": "execute_result"
    }
   ],
   "source": [
    "b*Sxy/Syy"
   ]
  },
  {
   "cell_type": "code",
   "execution_count": 60,
   "metadata": {},
   "outputs": [
    {
     "data": {
      "text/plain": [
       "0.9557321789033512"
      ]
     },
     "execution_count": 60,
     "metadata": {},
     "output_type": "execute_result"
    }
   ],
   "source": [
    "1-Se/Syy"
   ]
  },
  {
   "cell_type": "markdown",
   "metadata": {},
   "source": [
    "# Otro Metodo para encontrar R2 con solo 3 parametros cuadrados"
   ]
  },
  {
   "cell_type": "code",
   "execution_count": 66,
   "metadata": {},
   "outputs": [],
   "source": [
    "#SST= SSR+SSD\n",
    "df['SST'] = (df['distancia_real'] - np.mean(df['distancia_real']))**2\n",
    "df['SSD'] = (df['y_pred']-df['distancia_real'])**2\n",
    "df['SSR'] = (df['y_pred']-np.mean(df['distancia_real']))**2"
   ]
  },
  {
   "cell_type": "code",
   "execution_count": 67,
   "metadata": {},
   "outputs": [
    {
     "data": {
      "text/html": [
       "<div>\n",
       "<style scoped>\n",
       "    .dataframe tbody tr th:only-of-type {\n",
       "        vertical-align: middle;\n",
       "    }\n",
       "\n",
       "    .dataframe tbody tr th {\n",
       "        vertical-align: top;\n",
       "    }\n",
       "\n",
       "    .dataframe thead th {\n",
       "        text-align: right;\n",
       "    }\n",
       "</style>\n",
       "<table border=\"1\" class=\"dataframe\">\n",
       "  <thead>\n",
       "    <tr style=\"text-align: right;\">\n",
       "      <th></th>\n",
       "      <th>SST</th>\n",
       "      <th>SSD</th>\n",
       "      <th>SSR</th>\n",
       "    </tr>\n",
       "  </thead>\n",
       "  <tbody>\n",
       "    <tr>\n",
       "      <th>0</th>\n",
       "      <td>19.682616</td>\n",
       "      <td>1.804179</td>\n",
       "      <td>9.568580</td>\n",
       "    </tr>\n",
       "    <tr>\n",
       "      <th>1</th>\n",
       "      <td>22.887494</td>\n",
       "      <td>0.038460</td>\n",
       "      <td>24.802379</td>\n",
       "    </tr>\n",
       "    <tr>\n",
       "      <th>3</th>\n",
       "      <td>0.273484</td>\n",
       "      <td>0.121893</td>\n",
       "      <td>0.760538</td>\n",
       "    </tr>\n",
       "    <tr>\n",
       "      <th>7</th>\n",
       "      <td>3.605282</td>\n",
       "      <td>0.089074</td>\n",
       "      <td>2.560977</td>\n",
       "    </tr>\n",
       "    <tr>\n",
       "      <th>9</th>\n",
       "      <td>11.954207</td>\n",
       "      <td>0.515695</td>\n",
       "      <td>17.435672</td>\n",
       "    </tr>\n",
       "  </tbody>\n",
       "</table>\n",
       "</div>"
      ],
      "text/plain": [
       "         SST       SSD        SSR\n",
       "0  19.682616  1.804179   9.568580\n",
       "1  22.887494  0.038460  24.802379\n",
       "3   0.273484  0.121893   0.760538\n",
       "7   3.605282  0.089074   2.560977\n",
       "9  11.954207  0.515695  17.435672"
      ]
     },
     "execution_count": 67,
     "metadata": {},
     "output_type": "execute_result"
    }
   ],
   "source": [
    "df[['SST','SSD','SSR']].head()"
   ]
  },
  {
   "cell_type": "code",
   "execution_count": 68,
   "metadata": {},
   "outputs": [],
   "source": [
    "#R2= SSR/SST\n",
    "R2 = np.sum(df['SSR'])/np.sum(df['SST'])"
   ]
  },
  {
   "cell_type": "code",
   "execution_count": 69,
   "metadata": {},
   "outputs": [
    {
     "data": {
      "text/plain": [
       "0.9559100601932105"
      ]
     },
     "execution_count": 69,
     "metadata": {},
     "output_type": "execute_result"
    }
   ],
   "source": [
    "R2"
   ]
  },
  {
   "cell_type": "markdown",
   "metadata": {},
   "source": []
  }
 ],
 "metadata": {
  "kernelspec": {
   "display_name": "Python 3",
   "language": "python",
   "name": "python3"
  },
  "language_info": {
   "codemirror_mode": {
    "name": "ipython",
    "version": 3
   },
   "file_extension": ".py",
   "mimetype": "text/x-python",
   "name": "python",
   "nbconvert_exporter": "python",
   "pygments_lexer": "ipython3",
   "version": "3.6.7"
  }
 },
 "nbformat": 4,
 "nbformat_minor": 4
}
