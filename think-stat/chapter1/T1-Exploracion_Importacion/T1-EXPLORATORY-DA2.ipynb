{
 "cells": [
  {
   "cell_type": "markdown",
   "metadata": {},
   "source": [
    "# T1: Análisis exploratorio de datos"
   ]
  },
  {
   "cell_type": "code",
   "execution_count": 1,
   "metadata": {},
   "outputs": [
    {
     "name": "stdout",
     "output_type": "stream",
     "text": [
      "/home/digdata/Documents/Notebooks/thinkstat/chapter1/T1-Exploracion_Importacion\n"
     ]
    }
   ],
   "source": [
    "!pwd"
   ]
  },
  {
   "cell_type": "code",
   "execution_count": 2,
   "metadata": {},
   "outputs": [
    {
     "name": "stdout",
     "output_type": "stream",
     "text": [
      "2002FemPreg.dat  2002FemPreg.dat.gz  2002FemPreg.dct  T1-EXPLORATORY-DA2.ipynb\n"
     ]
    }
   ],
   "source": [
    "!ls"
   ]
  },
  {
   "cell_type": "markdown",
   "metadata": {},
   "source": [
    "### Importando los datos para el analisis"
   ]
  },
  {
   "cell_type": "markdown",
   "metadata": {},
   "source": [
    "Desde 1973, los Centros de Control y Prevención de Enfermedades de EE. UU. (CDC)\n",
    "han realizado la Encuesta Nacional de Crecimiento Familiar (NSFG), que es\n",
    "destinado a recopilar “información sobre la vida familiar, el matrimonio y el divorcio, el embarazo, la infertilidad, el uso de métodos anticonceptivos y la salud de hombres y mujeres. los\n",
    "los resultados de la encuesta se utilizan ... para planificar servicios de salud y programas de educación para la salud, y para realizar estudios estadísticos de las familias, la fertilidad y la salud \". Ver\n",
    "http://cdc.gov/nchs/nsfg.htm."
   ]
  },
  {
   "cell_type": "markdown",
   "metadata": {},
   "source": [
    "Archivo que detalla los campos del data frame Pregnacy ftp://ftp.cdc.gov/pub/Health_Statistics/NCHS/Dataset_Documentation/NSFG/Cycle6Codebook-Pregnancy.pdf"
   ]
  },
  {
   "cell_type": "code",
   "execution_count": 3,
   "metadata": {},
   "outputs": [],
   "source": [
    "#Importando librerias utilizadas\n",
    "\n",
    "import re\n",
    "import numpy as np\n",
    "import pandas as pd\n",
    "from io import open\n"
   ]
  },
  {
   "cell_type": "code",
   "execution_count": 4,
   "metadata": {},
   "outputs": [],
   "source": [
    "#Contiene la cabecera del archivo\n",
    "dct_file = '2002FemPreg.dct' "
   ]
  },
  {
   "cell_type": "code",
   "execution_count": 5,
   "metadata": {},
   "outputs": [],
   "source": [
    "#Contiene los datos recolectados de los elementos de analisis\n",
    "dat_file = '2002FemPreg.dat'"
   ]
  },
  {
   "cell_type": "code",
   "execution_count": 6,
   "metadata": {},
   "outputs": [],
   "source": [
    "\n",
    "# Por ejemplo, aquí hay algunas líneas de 2002FemPreg.dct, una sola columna:\n",
    "# infile dictionary {\n",
    "# _column(1) str12 caseid %12s \"RESPONDENT ID NUMBER\"\n",
    "# _column(13) byte pregordr %2f \"PREGNANCY ORDER (NUMBER)\"\n",
    "# }"
   ]
  },
  {
   "cell_type": "code",
   "execution_count": 7,
   "metadata": {},
   "outputs": [],
   "source": [
    "#Esto es una sola linea de 2002FemPreg.dat:\n",
    "#            1 1     6 1     11093 1084     9 039 9   0  1 813             1093 13837                        1                5                                                                        116610931166 9201093                111             3    1   12  11         5391 110933316108432411211     2995 1212 69544441116122222 2 2224693215    000000000000000000000000000000000000003410.38939935294273869.3496019830486 6448.2711117047512 91231\n"
   ]
  },
  {
   "cell_type": "markdown",
   "metadata": {},
   "source": [
    "Consideraciones al transformar los datos a un DataFrame:\n",
    "   * 2002FemPreg.dct es una especie de diccionario que tiene guardado el numero de columna, tipo de dato que almacena la columna, el nombre de la columna, el tamaño en caracteres de los datos de la columna y una pequeña descripcion de la misma."
   ]
  },
  {
   "cell_type": "code",
   "execution_count": 8,
   "metadata": {},
   "outputs": [],
   "source": [
    "# Necesitamos extraer el nombre y el tipo de datos que almacenaran las columnas de nuetro dataframe.\n",
    "\n",
    "type_map = dict(byte=int, int=int, long=int, float=float, \n",
    "                    double=float, str12= int)"
   ]
  },
  {
   "cell_type": "code",
   "execution_count": 181,
   "metadata": {},
   "outputs": [
    {
     "data": {
      "text/plain": [
       "{'byte': int,\n",
       " 'int': int,\n",
       " 'long': int,\n",
       " 'float': float,\n",
       " 'double': float,\n",
       " 'str12': int}"
      ]
     },
     "execution_count": 181,
     "metadata": {},
     "output_type": "execute_result"
    }
   ],
   "source": [
    "#Estos son los tipos de columnas que vimos al abrir el archivo .dct\n",
    "#Tonaremos los tipos byte como int, eso se aplicara para otros tipos de datos #como muestra el dicccionario type_map\n",
    "\n",
    "type_map"
   ]
  },
  {
   "cell_type": "code",
   "execution_count": 9,
   "metadata": {},
   "outputs": [],
   "source": [
    "# creo un arrelgo para contener la informacion de nuestras variables a analizar\n",
    "var_info = []"
   ]
  },
  {
   "cell_type": "code",
   "execution_count": 183,
   "metadata": {},
   "outputs": [],
   "source": [
    "# Abrimos el archivo usando la funcion open de la libreria io\n",
    "dct = open(dct_file)"
   ]
  },
  {
   "cell_type": "code",
   "execution_count": 184,
   "metadata": {},
   "outputs": [
    {
     "data": {
      "text/plain": [
       "'infile dictionary {\\n'"
      ]
     },
     "execution_count": 184,
     "metadata": {},
     "output_type": "execute_result"
    }
   ],
   "source": [
    "# la estrategia que usaremos sera leer cada linea del archivo e ir extrayendo la informacion util de este archivo linea por linea.\n",
    "dct.readline()"
   ]
  },
  {
   "cell_type": "code",
   "execution_count": 185,
   "metadata": {},
   "outputs": [
    {
     "data": {
      "text/plain": [
       "'    _column(1)      str12                             caseid  %12s  \"RESPONDENT ID NUMBER\"\\n'"
      ]
     },
     "execution_count": 185,
     "metadata": {},
     "output_type": "execute_result"
    }
   ],
   "source": [
    "dct.readline()"
   ]
  },
  {
   "cell_type": "code",
   "execution_count": 186,
   "metadata": {},
   "outputs": [],
   "source": [
    "line = dct.readline()"
   ]
  },
  {
   "cell_type": "code",
   "execution_count": 187,
   "metadata": {},
   "outputs": [
    {
     "name": "stdout",
     "output_type": "stream",
     "text": [
      "Linea del archivo .dct\n",
      "   _column(13)       byte                           pregordr   %2f  \"PREGNANCY ORDER (NUMBER)\"\n",
      "\n"
     ]
    }
   ],
   "source": [
    "print('Linea del archivo .dct')\n",
    "print(line)"
   ]
  },
  {
   "cell_type": "code",
   "execution_count": 188,
   "metadata": {},
   "outputs": [],
   "source": [
    "# Busco el match columna dentro del archivo para empezar a dividir\n",
    "# expresiones regulares con re\n",
    "match = re.search( r'_column\\(([^)]*)\\)', line)"
   ]
  },
  {
   "cell_type": "code",
   "execution_count": 189,
   "metadata": {},
   "outputs": [
    {
     "data": {
      "text/plain": [
       "<_sre.SRE_Match object; span=(3, 14), match='_column(13)'>"
      ]
     },
     "execution_count": 189,
     "metadata": {},
     "output_type": "execute_result"
    }
   ],
   "source": [
    "match"
   ]
  },
  {
   "cell_type": "code",
   "execution_count": 190,
   "metadata": {},
   "outputs": [
    {
     "name": "stdout",
     "output_type": "stream",
     "text": [
      "Match group 1 .dct\n",
      "13\n",
      "<class 'str'>\n"
     ]
    }
   ],
   "source": [
    "print('Match group 1 .dct')\n",
    "print(match.group(1)) \n",
    "print(type(match.group(1)) )      "
   ]
  },
  {
   "cell_type": "code",
   "execution_count": 191,
   "metadata": {},
   "outputs": [
    {
     "data": {
      "text/plain": [
       "\u001b[0;31mDocstring:\u001b[0m\n",
       "group([group1, ...]) -> str or tuple.\n",
       "Return subgroup(s) of the match by indices or names.\n",
       "For 0 returns the entire match.\n",
       "\u001b[0;31mType:\u001b[0m      builtin_function_or_method\n"
      ]
     },
     "metadata": {},
     "output_type": "display_data"
    }
   ],
   "source": [
    "match.group?"
   ]
  },
  {
   "cell_type": "code",
   "execution_count": 192,
   "metadata": {},
   "outputs": [
    {
     "name": "stdout",
     "output_type": "stream",
     "text": [
      " start match group 1 .dct\n",
      "13\n",
      "<class 'int'>\n"
     ]
    }
   ],
   "source": [
    "#Paso a intero el numero de la columna\n",
    "start = int(match.group(1))         \n",
    "print(' start match group 1 .dct')\n",
    "print(start )\n",
    "print(type(start ) )"
   ]
  },
  {
   "cell_type": "code",
   "execution_count": 193,
   "metadata": {},
   "outputs": [
    {
     "name": "stdout",
     "output_type": "stream",
     "text": [
      "Arreglo T con los datos \n",
      "['_column(13)', 'byte', 'pregordr', '%2f', '\"PREGNANCY', 'ORDER', '(NUMBER)\"']\n"
     ]
    }
   ],
   "source": [
    "# divido la linea por espacios en blanco\n",
    "t = line.split()     \n",
    "print('Arreglo T con los datos ')\n",
    "print(t)\n"
   ]
  },
  {
   "cell_type": "code",
   "execution_count": 194,
   "metadata": {},
   "outputs": [],
   "source": [
    " vtype, name, fstring = t[1:4]"
   ]
  },
  {
   "cell_type": "code",
   "execution_count": 195,
   "metadata": {},
   "outputs": [
    {
     "name": "stdout",
     "output_type": "stream",
     "text": [
      "variable name aplicandole lower\n",
      "pregordr\n"
     ]
    }
   ],
   "source": [
    "name = name.lower()        \n",
    "print('variable name aplicandole lower')\n",
    "print(name)\n",
    "        \n",
    "       "
   ]
  },
  {
   "cell_type": "code",
   "execution_count": 196,
   "metadata": {},
   "outputs": [
    {
     "name": "stdout",
     "output_type": "stream",
     "text": [
      "variable vtype antes de estandarizarte con type_map\n",
      "byte\n",
      "<class 'str'>\n"
     ]
    }
   ],
   "source": [
    "print('variable vtype antes de estandarizarte con type_map')      \n",
    "print(vtype)\n",
    "print(type(vtype))"
   ]
  },
  {
   "cell_type": "code",
   "execution_count": 197,
   "metadata": {},
   "outputs": [
    {
     "name": "stdout",
     "output_type": "stream",
     "text": [
      "variable vtype despues de estandarizarte con type_map\n",
      "<class 'int'>\n",
      "<class 'type'>\n"
     ]
    }
   ],
   "source": [
    "vtype = type_map[vtype]   \n",
    "print('variable vtype despues de estandarizarte con type_map')\n",
    "print(vtype) \n",
    "print(type(vtype))"
   ]
  },
  {
   "cell_type": "code",
   "execution_count": 198,
   "metadata": {},
   "outputs": [
    {
     "name": "stdout",
     "output_type": "stream",
     "text": [
      "variable long_desc guarda la descripcion larga del comando sin strip\n",
      "\"PREGNANCY ORDER (NUMBER)\"\n",
      "variable long_desc guarda la descripcion larga del comando sin strip\n",
      "PREGNANCY ORDER (NUMBER)\n"
     ]
    }
   ],
   "source": [
    "long_desc = ' '.join(t[4:])\n",
    "print('variable long_desc guarda la descripcion larga del comando sin strip')\n",
    "print(long_desc)\n",
    "\n",
    "long_desc = ' '.join(t[4:]).strip('\"')\n",
    "print('variable long_desc guarda la descripcion larga del comando sin strip')\n",
    "print(long_desc)"
   ]
  },
  {
   "cell_type": "code",
   "execution_count": 199,
   "metadata": {},
   "outputs": [
    {
     "data": {
      "text/plain": [
       "[(13, int, 'pregordr', '%2f', 'PREGNANCY ORDER (NUMBER)')]"
      ]
     },
     "execution_count": 199,
     "metadata": {},
     "output_type": "execute_result"
    }
   ],
   "source": [
    "#agregamos la primera variable creada para a nuestro arreglo var_info\n",
    "var_info=[] \n",
    "# para la prueba de contexto volvemos a limpiar el arreglo en esta linea\n",
    "# var_ info debe contener todas las variables del dct.\n",
    "var_info.append((start, vtype, name, fstring, long_desc))\n",
    "var_info"
   ]
  },
  {
   "cell_type": "code",
   "execution_count": 200,
   "metadata": {},
   "outputs": [],
   "source": [
    "# Creo nombres de columnas estandar  para formar un dataframe\n",
    "columns = ['start', 'type', 'name', 'fstring', 'desc']\n"
   ]
  },
  {
   "cell_type": "code",
   "execution_count": 201,
   "metadata": {},
   "outputs": [],
   "source": [
    "#Uno la inforacion de las variables obtenidas de dct y las columnas estandard \n",
    "#Con esto busco formar mi pirmer dataframe \n",
    "variables = pd.DataFrame(var_info, columns=columns)"
   ]
  },
  {
   "cell_type": "code",
   "execution_count": 202,
   "metadata": {},
   "outputs": [
    {
     "data": {
      "text/html": [
       "<div>\n",
       "<style scoped>\n",
       "    .dataframe tbody tr th:only-of-type {\n",
       "        vertical-align: middle;\n",
       "    }\n",
       "\n",
       "    .dataframe tbody tr th {\n",
       "        vertical-align: top;\n",
       "    }\n",
       "\n",
       "    .dataframe thead th {\n",
       "        text-align: right;\n",
       "    }\n",
       "</style>\n",
       "<table border=\"1\" class=\"dataframe\">\n",
       "  <thead>\n",
       "    <tr style=\"text-align: right;\">\n",
       "      <th></th>\n",
       "      <th>start</th>\n",
       "      <th>type</th>\n",
       "      <th>name</th>\n",
       "      <th>fstring</th>\n",
       "      <th>desc</th>\n",
       "    </tr>\n",
       "  </thead>\n",
       "  <tbody>\n",
       "    <tr>\n",
       "      <th>0</th>\n",
       "      <td>13</td>\n",
       "      <td>&lt;class 'int'&gt;</td>\n",
       "      <td>pregordr</td>\n",
       "      <td>%2f</td>\n",
       "      <td>PREGNANCY ORDER (NUMBER)</td>\n",
       "    </tr>\n",
       "  </tbody>\n",
       "</table>\n",
       "</div>"
      ],
      "text/plain": [
       "   start           type      name fstring                      desc\n",
       "0     13  <class 'int'>  pregordr     %2f  PREGNANCY ORDER (NUMBER)"
      ]
     },
     "execution_count": 202,
     "metadata": {},
     "output_type": "execute_result"
    }
   ],
   "source": [
    "variables.head()"
   ]
  },
  {
   "cell_type": "code",
   "execution_count": 203,
   "metadata": {},
   "outputs": [],
   "source": [
    "#variables es nuestro primer data frame para trabajar\n",
    "# Pandas dataframe.shift () función Desplazar índice por el número deseado de períodos con una frecuencia de tiempo opcional. Esta función toma un parámetro escalar llamado período, que representa el número de cambios que se realizarán sobre el eje deseado. Esta función es muy útil cuando se trata de datos de series de tiempo.\n",
    "# rellene la columna final desplazando la columna de inicio\n",
    "variables['end'] = variables.start.shift(-1)\n"
   ]
  },
  {
   "cell_type": "code",
   "execution_count": 204,
   "metadata": {},
   "outputs": [],
   "source": [
    "h = variables.start"
   ]
  },
  {
   "cell_type": "code",
   "execution_count": 205,
   "metadata": {},
   "outputs": [
    {
     "data": {
      "text/plain": [
       "0    13\n",
       "Name: start, dtype: int64"
      ]
     },
     "execution_count": 205,
     "metadata": {},
     "output_type": "execute_result"
    }
   ],
   "source": [
    "h"
   ]
  },
  {
   "cell_type": "code",
   "execution_count": 206,
   "metadata": {},
   "outputs": [
    {
     "data": {
      "text/plain": [
       "0   NaN\n",
       "Name: start, dtype: float64"
      ]
     },
     "execution_count": 206,
     "metadata": {},
     "output_type": "execute_result"
    }
   ],
   "source": [
    "h.shift(-1)"
   ]
  },
  {
   "cell_type": "code",
   "execution_count": 207,
   "metadata": {},
   "outputs": [
    {
     "data": {
      "text/html": [
       "<div>\n",
       "<style scoped>\n",
       "    .dataframe tbody tr th:only-of-type {\n",
       "        vertical-align: middle;\n",
       "    }\n",
       "\n",
       "    .dataframe tbody tr th {\n",
       "        vertical-align: top;\n",
       "    }\n",
       "\n",
       "    .dataframe thead th {\n",
       "        text-align: right;\n",
       "    }\n",
       "</style>\n",
       "<table border=\"1\" class=\"dataframe\">\n",
       "  <thead>\n",
       "    <tr style=\"text-align: right;\">\n",
       "      <th></th>\n",
       "      <th>start</th>\n",
       "      <th>type</th>\n",
       "      <th>name</th>\n",
       "      <th>fstring</th>\n",
       "      <th>desc</th>\n",
       "      <th>end</th>\n",
       "    </tr>\n",
       "  </thead>\n",
       "  <tbody>\n",
       "    <tr>\n",
       "      <th>0</th>\n",
       "      <td>13</td>\n",
       "      <td>&lt;class 'int'&gt;</td>\n",
       "      <td>pregordr</td>\n",
       "      <td>%2f</td>\n",
       "      <td>PREGNANCY ORDER (NUMBER)</td>\n",
       "      <td>NaN</td>\n",
       "    </tr>\n",
       "  </tbody>\n",
       "</table>\n",
       "</div>"
      ],
      "text/plain": [
       "   start           type      name fstring                      desc  end\n",
       "0     13  <class 'int'>  pregordr     %2f  PREGNANCY ORDER (NUMBER)  NaN"
      ]
     },
     "execution_count": 207,
     "metadata": {},
     "output_type": "execute_result"
    }
   ],
   "source": [
    "variables.head()"
   ]
  },
  {
   "cell_type": "code",
   "execution_count": 208,
   "metadata": {},
   "outputs": [],
   "source": [
    "variables.loc[len(variables)-1, 'end'] = 0"
   ]
  },
  {
   "cell_type": "code",
   "execution_count": 209,
   "metadata": {},
   "outputs": [
    {
     "data": {
      "text/html": [
       "<div>\n",
       "<style scoped>\n",
       "    .dataframe tbody tr th:only-of-type {\n",
       "        vertical-align: middle;\n",
       "    }\n",
       "\n",
       "    .dataframe tbody tr th {\n",
       "        vertical-align: top;\n",
       "    }\n",
       "\n",
       "    .dataframe thead th {\n",
       "        text-align: right;\n",
       "    }\n",
       "</style>\n",
       "<table border=\"1\" class=\"dataframe\">\n",
       "  <thead>\n",
       "    <tr style=\"text-align: right;\">\n",
       "      <th></th>\n",
       "      <th>start</th>\n",
       "      <th>type</th>\n",
       "      <th>name</th>\n",
       "      <th>fstring</th>\n",
       "      <th>desc</th>\n",
       "      <th>end</th>\n",
       "    </tr>\n",
       "  </thead>\n",
       "  <tbody>\n",
       "    <tr>\n",
       "      <th>0</th>\n",
       "      <td>13</td>\n",
       "      <td>&lt;class 'int'&gt;</td>\n",
       "      <td>pregordr</td>\n",
       "      <td>%2f</td>\n",
       "      <td>PREGNANCY ORDER (NUMBER)</td>\n",
       "      <td>0.0</td>\n",
       "    </tr>\n",
       "  </tbody>\n",
       "</table>\n",
       "</div>"
      ],
      "text/plain": [
       "   start           type      name fstring                      desc  end\n",
       "0     13  <class 'int'>  pregordr     %2f  PREGNANCY ORDER (NUMBER)  0.0"
      ]
     },
     "execution_count": 209,
     "metadata": {},
     "output_type": "execute_result"
    }
   ],
   "source": [
    "variables.head()"
   ]
  },
  {
   "cell_type": "markdown",
   "metadata": {},
   "source": [
    "## Funcion para crear dataframe dct para todas las variables:"
   ]
  },
  {
   "cell_type": "code",
   "execution_count": 24,
   "metadata": {},
   "outputs": [],
   "source": [
    "columns = ['start', 'type', 'name', 'fstring', 'desc']\n",
    "\n",
    "def convertir_dct (dct_file, type_map, columns):\n",
    "    var_info = []\n",
    "    with open(dct_file) as dct:\n",
    "        for line in dct:\n",
    "            match = re.search( r'_column\\(([^)]*)\\)', line)\n",
    "            if not match:\n",
    "                continue\n",
    "            start = int(match.group(1))\n",
    "            t = line.split()\n",
    "            vtype, name, fstring = t[1:4]\n",
    "            name = name.lower()\n",
    "            vtype = type_map[vtype]\n",
    "            long_desc = ' '.join(t[4:]).strip('\"')\n",
    "            var_info.append((start, vtype, name, fstring, long_desc))\n",
    "    \n",
    "    variables = pd.DataFrame(var_info, columns=columns)\n",
    "    # rellene la columna final desplazando la columna de inicio\n",
    "    variables['end'] = variables.start.shift(-1)\n",
    "    variables.loc[len(variables)-1, 'end'] = 0\n",
    "    return variables\n",
    "    "
   ]
  },
  {
   "cell_type": "code",
   "execution_count": 25,
   "metadata": {},
   "outputs": [],
   "source": [
    "dct_variables = convertir_dct(dct_file, type_map, columns)"
   ]
  },
  {
   "cell_type": "code",
   "execution_count": 26,
   "metadata": {},
   "outputs": [
    {
     "data": {
      "text/html": [
       "<div>\n",
       "<style scoped>\n",
       "    .dataframe tbody tr th:only-of-type {\n",
       "        vertical-align: middle;\n",
       "    }\n",
       "\n",
       "    .dataframe tbody tr th {\n",
       "        vertical-align: top;\n",
       "    }\n",
       "\n",
       "    .dataframe thead th {\n",
       "        text-align: right;\n",
       "    }\n",
       "</style>\n",
       "<table border=\"1\" class=\"dataframe\">\n",
       "  <thead>\n",
       "    <tr style=\"text-align: right;\">\n",
       "      <th></th>\n",
       "      <th>start</th>\n",
       "      <th>type</th>\n",
       "      <th>name</th>\n",
       "      <th>fstring</th>\n",
       "      <th>desc</th>\n",
       "      <th>end</th>\n",
       "    </tr>\n",
       "  </thead>\n",
       "  <tbody>\n",
       "    <tr>\n",
       "      <th>0</th>\n",
       "      <td>1</td>\n",
       "      <td>&lt;class 'int'&gt;</td>\n",
       "      <td>caseid</td>\n",
       "      <td>%12s</td>\n",
       "      <td>RESPONDENT ID NUMBER</td>\n",
       "      <td>13.0</td>\n",
       "    </tr>\n",
       "    <tr>\n",
       "      <th>1</th>\n",
       "      <td>13</td>\n",
       "      <td>&lt;class 'int'&gt;</td>\n",
       "      <td>pregordr</td>\n",
       "      <td>%2f</td>\n",
       "      <td>PREGNANCY ORDER (NUMBER)</td>\n",
       "      <td>15.0</td>\n",
       "    </tr>\n",
       "    <tr>\n",
       "      <th>2</th>\n",
       "      <td>15</td>\n",
       "      <td>&lt;class 'int'&gt;</td>\n",
       "      <td>howpreg_n</td>\n",
       "      <td>%2f</td>\n",
       "      <td>BB-2 # OF WEEKS OR MONTHS CURRENTLY PREGNANT</td>\n",
       "      <td>17.0</td>\n",
       "    </tr>\n",
       "    <tr>\n",
       "      <th>3</th>\n",
       "      <td>17</td>\n",
       "      <td>&lt;class 'int'&gt;</td>\n",
       "      <td>howpreg_p</td>\n",
       "      <td>%1f</td>\n",
       "      <td>BB-2 CURRENT PREGNANCY LENGTH REPORTED IN MONT...</td>\n",
       "      <td>18.0</td>\n",
       "    </tr>\n",
       "    <tr>\n",
       "      <th>4</th>\n",
       "      <td>18</td>\n",
       "      <td>&lt;class 'int'&gt;</td>\n",
       "      <td>moscurrp</td>\n",
       "      <td>%1f</td>\n",
       "      <td>NUMBER OF MONTHS CURRENTLY PREGNANT</td>\n",
       "      <td>19.0</td>\n",
       "    </tr>\n",
       "  </tbody>\n",
       "</table>\n",
       "</div>"
      ],
      "text/plain": [
       "   start           type       name fstring  \\\n",
       "0      1  <class 'int'>     caseid    %12s   \n",
       "1     13  <class 'int'>   pregordr     %2f   \n",
       "2     15  <class 'int'>  howpreg_n     %2f   \n",
       "3     17  <class 'int'>  howpreg_p     %1f   \n",
       "4     18  <class 'int'>   moscurrp     %1f   \n",
       "\n",
       "                                                desc   end  \n",
       "0                               RESPONDENT ID NUMBER  13.0  \n",
       "1                           PREGNANCY ORDER (NUMBER)  15.0  \n",
       "2       BB-2 # OF WEEKS OR MONTHS CURRENTLY PREGNANT  17.0  \n",
       "3  BB-2 CURRENT PREGNANCY LENGTH REPORTED IN MONT...  18.0  \n",
       "4                NUMBER OF MONTHS CURRENTLY PREGNANT  19.0  "
      ]
     },
     "execution_count": 26,
     "metadata": {},
     "output_type": "execute_result"
    }
   ],
   "source": [
    "dct_variables.head()"
   ]
  },
  {
   "cell_type": "code",
   "execution_count": 27,
   "metadata": {},
   "outputs": [
    {
     "data": {
      "text/plain": [
       "(243, 6)"
      ]
     },
     "execution_count": 27,
     "metadata": {},
     "output_type": "execute_result"
    }
   ],
   "source": [
    "dct_variables.shape"
   ]
  },
  {
   "cell_type": "code",
   "execution_count": 28,
   "metadata": {},
   "outputs": [],
   "source": [
    "# Ya tenemos un df con todas nuestras variables, lo siguiente es unir este con los Datos!"
   ]
  },
  {
   "cell_type": "code",
   "execution_count": 29,
   "metadata": {
    "jupyter": {
     "source_hidden": true
    }
   },
   "outputs": [
    {
     "data": {
      "text/html": [
       "<div>\n",
       "<style scoped>\n",
       "    .dataframe tbody tr th:only-of-type {\n",
       "        vertical-align: middle;\n",
       "    }\n",
       "\n",
       "    .dataframe tbody tr th {\n",
       "        vertical-align: top;\n",
       "    }\n",
       "\n",
       "    .dataframe thead th {\n",
       "        text-align: right;\n",
       "    }\n",
       "</style>\n",
       "<table border=\"1\" class=\"dataframe\">\n",
       "  <thead>\n",
       "    <tr style=\"text-align: right;\">\n",
       "      <th></th>\n",
       "      <th>start</th>\n",
       "      <th>end</th>\n",
       "    </tr>\n",
       "  </thead>\n",
       "  <tbody>\n",
       "    <tr>\n",
       "      <th>0</th>\n",
       "      <td>0</td>\n",
       "      <td>12.0</td>\n",
       "    </tr>\n",
       "    <tr>\n",
       "      <th>1</th>\n",
       "      <td>12</td>\n",
       "      <td>14.0</td>\n",
       "    </tr>\n",
       "    <tr>\n",
       "      <th>2</th>\n",
       "      <td>14</td>\n",
       "      <td>16.0</td>\n",
       "    </tr>\n",
       "    <tr>\n",
       "      <th>3</th>\n",
       "      <td>16</td>\n",
       "      <td>17.0</td>\n",
       "    </tr>\n",
       "    <tr>\n",
       "      <th>4</th>\n",
       "      <td>17</td>\n",
       "      <td>18.0</td>\n",
       "    </tr>\n",
       "    <tr>\n",
       "      <th>5</th>\n",
       "      <td>18</td>\n",
       "      <td>19.0</td>\n",
       "    </tr>\n",
       "    <tr>\n",
       "      <th>6</th>\n",
       "      <td>19</td>\n",
       "      <td>20.0</td>\n",
       "    </tr>\n",
       "    <tr>\n",
       "      <th>7</th>\n",
       "      <td>20</td>\n",
       "      <td>21.0</td>\n",
       "    </tr>\n",
       "    <tr>\n",
       "      <th>8</th>\n",
       "      <td>21</td>\n",
       "      <td>22.0</td>\n",
       "    </tr>\n",
       "    <tr>\n",
       "      <th>9</th>\n",
       "      <td>22</td>\n",
       "      <td>23.0</td>\n",
       "    </tr>\n",
       "    <tr>\n",
       "      <th>10</th>\n",
       "      <td>23</td>\n",
       "      <td>27.0</td>\n",
       "    </tr>\n",
       "    <tr>\n",
       "      <th>11</th>\n",
       "      <td>27</td>\n",
       "      <td>28.0</td>\n",
       "    </tr>\n",
       "    <tr>\n",
       "      <th>12</th>\n",
       "      <td>28</td>\n",
       "      <td>32.0</td>\n",
       "    </tr>\n",
       "    <tr>\n",
       "      <th>13</th>\n",
       "      <td>32</td>\n",
       "      <td>33.0</td>\n",
       "    </tr>\n",
       "    <tr>\n",
       "      <th>14</th>\n",
       "      <td>33</td>\n",
       "      <td>37.0</td>\n",
       "    </tr>\n",
       "    <tr>\n",
       "      <th>15</th>\n",
       "      <td>37</td>\n",
       "      <td>39.0</td>\n",
       "    </tr>\n",
       "    <tr>\n",
       "      <th>16</th>\n",
       "      <td>39</td>\n",
       "      <td>41.0</td>\n",
       "    </tr>\n",
       "    <tr>\n",
       "      <th>17</th>\n",
       "      <td>41</td>\n",
       "      <td>43.0</td>\n",
       "    </tr>\n",
       "    <tr>\n",
       "      <th>18</th>\n",
       "      <td>43</td>\n",
       "      <td>45.0</td>\n",
       "    </tr>\n",
       "    <tr>\n",
       "      <th>19</th>\n",
       "      <td>45</td>\n",
       "      <td>47.0</td>\n",
       "    </tr>\n",
       "    <tr>\n",
       "      <th>20</th>\n",
       "      <td>47</td>\n",
       "      <td>49.0</td>\n",
       "    </tr>\n",
       "    <tr>\n",
       "      <th>21</th>\n",
       "      <td>49</td>\n",
       "      <td>50.0</td>\n",
       "    </tr>\n",
       "    <tr>\n",
       "      <th>22</th>\n",
       "      <td>50</td>\n",
       "      <td>51.0</td>\n",
       "    </tr>\n",
       "    <tr>\n",
       "      <th>23</th>\n",
       "      <td>51</td>\n",
       "      <td>52.0</td>\n",
       "    </tr>\n",
       "    <tr>\n",
       "      <th>24</th>\n",
       "      <td>52</td>\n",
       "      <td>53.0</td>\n",
       "    </tr>\n",
       "    <tr>\n",
       "      <th>25</th>\n",
       "      <td>53</td>\n",
       "      <td>54.0</td>\n",
       "    </tr>\n",
       "    <tr>\n",
       "      <th>26</th>\n",
       "      <td>54</td>\n",
       "      <td>55.0</td>\n",
       "    </tr>\n",
       "    <tr>\n",
       "      <th>27</th>\n",
       "      <td>55</td>\n",
       "      <td>56.0</td>\n",
       "    </tr>\n",
       "    <tr>\n",
       "      <th>28</th>\n",
       "      <td>56</td>\n",
       "      <td>58.0</td>\n",
       "    </tr>\n",
       "    <tr>\n",
       "      <th>29</th>\n",
       "      <td>58</td>\n",
       "      <td>60.0</td>\n",
       "    </tr>\n",
       "    <tr>\n",
       "      <th>...</th>\n",
       "      <td>...</td>\n",
       "      <td>...</td>\n",
       "    </tr>\n",
       "    <tr>\n",
       "      <th>213</th>\n",
       "      <td>362</td>\n",
       "      <td>363.0</td>\n",
       "    </tr>\n",
       "    <tr>\n",
       "      <th>214</th>\n",
       "      <td>363</td>\n",
       "      <td>364.0</td>\n",
       "    </tr>\n",
       "    <tr>\n",
       "      <th>215</th>\n",
       "      <td>364</td>\n",
       "      <td>365.0</td>\n",
       "    </tr>\n",
       "    <tr>\n",
       "      <th>216</th>\n",
       "      <td>365</td>\n",
       "      <td>366.0</td>\n",
       "    </tr>\n",
       "    <tr>\n",
       "      <th>217</th>\n",
       "      <td>366</td>\n",
       "      <td>367.0</td>\n",
       "    </tr>\n",
       "    <tr>\n",
       "      <th>218</th>\n",
       "      <td>367</td>\n",
       "      <td>368.0</td>\n",
       "    </tr>\n",
       "    <tr>\n",
       "      <th>219</th>\n",
       "      <td>368</td>\n",
       "      <td>369.0</td>\n",
       "    </tr>\n",
       "    <tr>\n",
       "      <th>220</th>\n",
       "      <td>369</td>\n",
       "      <td>370.0</td>\n",
       "    </tr>\n",
       "    <tr>\n",
       "      <th>221</th>\n",
       "      <td>370</td>\n",
       "      <td>371.0</td>\n",
       "    </tr>\n",
       "    <tr>\n",
       "      <th>222</th>\n",
       "      <td>371</td>\n",
       "      <td>372.0</td>\n",
       "    </tr>\n",
       "    <tr>\n",
       "      <th>223</th>\n",
       "      <td>372</td>\n",
       "      <td>373.0</td>\n",
       "    </tr>\n",
       "    <tr>\n",
       "      <th>224</th>\n",
       "      <td>373</td>\n",
       "      <td>374.0</td>\n",
       "    </tr>\n",
       "    <tr>\n",
       "      <th>225</th>\n",
       "      <td>374</td>\n",
       "      <td>375.0</td>\n",
       "    </tr>\n",
       "    <tr>\n",
       "      <th>226</th>\n",
       "      <td>375</td>\n",
       "      <td>376.0</td>\n",
       "    </tr>\n",
       "    <tr>\n",
       "      <th>227</th>\n",
       "      <td>376</td>\n",
       "      <td>377.0</td>\n",
       "    </tr>\n",
       "    <tr>\n",
       "      <th>228</th>\n",
       "      <td>377</td>\n",
       "      <td>378.0</td>\n",
       "    </tr>\n",
       "    <tr>\n",
       "      <th>229</th>\n",
       "      <td>378</td>\n",
       "      <td>379.0</td>\n",
       "    </tr>\n",
       "    <tr>\n",
       "      <th>230</th>\n",
       "      <td>379</td>\n",
       "      <td>380.0</td>\n",
       "    </tr>\n",
       "    <tr>\n",
       "      <th>231</th>\n",
       "      <td>380</td>\n",
       "      <td>381.0</td>\n",
       "    </tr>\n",
       "    <tr>\n",
       "      <th>232</th>\n",
       "      <td>381</td>\n",
       "      <td>382.0</td>\n",
       "    </tr>\n",
       "    <tr>\n",
       "      <th>233</th>\n",
       "      <td>382</td>\n",
       "      <td>383.0</td>\n",
       "    </tr>\n",
       "    <tr>\n",
       "      <th>234</th>\n",
       "      <td>383</td>\n",
       "      <td>384.0</td>\n",
       "    </tr>\n",
       "    <tr>\n",
       "      <th>235</th>\n",
       "      <td>384</td>\n",
       "      <td>385.0</td>\n",
       "    </tr>\n",
       "    <tr>\n",
       "      <th>236</th>\n",
       "      <td>385</td>\n",
       "      <td>386.0</td>\n",
       "    </tr>\n",
       "    <tr>\n",
       "      <th>237</th>\n",
       "      <td>386</td>\n",
       "      <td>404.0</td>\n",
       "    </tr>\n",
       "    <tr>\n",
       "      <th>238</th>\n",
       "      <td>404</td>\n",
       "      <td>422.0</td>\n",
       "    </tr>\n",
       "    <tr>\n",
       "      <th>239</th>\n",
       "      <td>422</td>\n",
       "      <td>440.0</td>\n",
       "    </tr>\n",
       "    <tr>\n",
       "      <th>240</th>\n",
       "      <td>440</td>\n",
       "      <td>441.0</td>\n",
       "    </tr>\n",
       "    <tr>\n",
       "      <th>241</th>\n",
       "      <td>441</td>\n",
       "      <td>443.0</td>\n",
       "    </tr>\n",
       "    <tr>\n",
       "      <th>242</th>\n",
       "      <td>443</td>\n",
       "      <td>-1.0</td>\n",
       "    </tr>\n",
       "  </tbody>\n",
       "</table>\n",
       "<p>243 rows × 2 columns</p>\n",
       "</div>"
      ],
      "text/plain": [
       "     start    end\n",
       "0        0   12.0\n",
       "1       12   14.0\n",
       "2       14   16.0\n",
       "3       16   17.0\n",
       "4       17   18.0\n",
       "5       18   19.0\n",
       "6       19   20.0\n",
       "7       20   21.0\n",
       "8       21   22.0\n",
       "9       22   23.0\n",
       "10      23   27.0\n",
       "11      27   28.0\n",
       "12      28   32.0\n",
       "13      32   33.0\n",
       "14      33   37.0\n",
       "15      37   39.0\n",
       "16      39   41.0\n",
       "17      41   43.0\n",
       "18      43   45.0\n",
       "19      45   47.0\n",
       "20      47   49.0\n",
       "21      49   50.0\n",
       "22      50   51.0\n",
       "23      51   52.0\n",
       "24      52   53.0\n",
       "25      53   54.0\n",
       "26      54   55.0\n",
       "27      55   56.0\n",
       "28      56   58.0\n",
       "29      58   60.0\n",
       "..     ...    ...\n",
       "213    362  363.0\n",
       "214    363  364.0\n",
       "215    364  365.0\n",
       "216    365  366.0\n",
       "217    366  367.0\n",
       "218    367  368.0\n",
       "219    368  369.0\n",
       "220    369  370.0\n",
       "221    370  371.0\n",
       "222    371  372.0\n",
       "223    372  373.0\n",
       "224    373  374.0\n",
       "225    374  375.0\n",
       "226    375  376.0\n",
       "227    376  377.0\n",
       "228    377  378.0\n",
       "229    378  379.0\n",
       "230    379  380.0\n",
       "231    380  381.0\n",
       "232    381  382.0\n",
       "233    382  383.0\n",
       "234    383  384.0\n",
       "235    384  385.0\n",
       "236    385  386.0\n",
       "237    386  404.0\n",
       "238    404  422.0\n",
       "239    422  440.0\n",
       "240    440  441.0\n",
       "241    441  443.0\n",
       "242    443   -1.0\n",
       "\n",
       "[243 rows x 2 columns]"
      ]
     },
     "execution_count": 29,
     "metadata": {},
     "output_type": "execute_result"
    }
   ],
   "source": [
    "# colspecs: lista de tupla (int, int) o \"inferir\". Opcional\n",
    "# Una lista de tuplas que da la extensión de los campos de ancho fijo de cada línea como intervalos medio abiertos (es decir, [desde, hasta []). El valor de cadena \"inferir\" se puede usar para indicar al analizador que intente detectar las especificaciones de columna de las primeras 100 filas de los datos que no se omiten a través de los skiprows (por defecto = 'infer').\n",
    "\n",
    "index_base = 1\n",
    "colspecs = dct_variables[['start', 'end']] - index_base\n",
    "colspecs"
   ]
  },
  {
   "cell_type": "code",
   "execution_count": 30,
   "metadata": {},
   "outputs": [
    {
     "data": {
      "text/plain": [
       "[[0, 12],\n",
       " [12, 14],\n",
       " [14, 16],\n",
       " [16, 17],\n",
       " [17, 18],\n",
       " [18, 19],\n",
       " [19, 20],\n",
       " [20, 21],\n",
       " [21, 22],\n",
       " [22, 23],\n",
       " [23, 27],\n",
       " [27, 28],\n",
       " [28, 32],\n",
       " [32, 33],\n",
       " [33, 37],\n",
       " [37, 39],\n",
       " [39, 41],\n",
       " [41, 43],\n",
       " [43, 45],\n",
       " [45, 47],\n",
       " [47, 49],\n",
       " [49, 50],\n",
       " [50, 51],\n",
       " [51, 52],\n",
       " [52, 53],\n",
       " [53, 54],\n",
       " [54, 55],\n",
       " [55, 56],\n",
       " [56, 58],\n",
       " [58, 60],\n",
       " [60, 61],\n",
       " [61, 62],\n",
       " [62, 64],\n",
       " [64, 66],\n",
       " [66, 67],\n",
       " [67, 68],\n",
       " [68, 70],\n",
       " [70, 72],\n",
       " [72, 73],\n",
       " [73, 77],\n",
       " [77, 81],\n",
       " [81, 83],\n",
       " [83, 84],\n",
       " [84, 85],\n",
       " [85, 86],\n",
       " [86, 87],\n",
       " [87, 89],\n",
       " [89, 90],\n",
       " [90, 91],\n",
       " [91, 92],\n",
       " [92, 93],\n",
       " [93, 94],\n",
       " [94, 95],\n",
       " [95, 97],\n",
       " [97, 98],\n",
       " [98, 99],\n",
       " [99, 100],\n",
       " [100, 101],\n",
       " [101, 102],\n",
       " [102, 104],\n",
       " [104, 105],\n",
       " [105, 107],\n",
       " [107, 108],\n",
       " [108, 109],\n",
       " [109, 110],\n",
       " [110, 114],\n",
       " [114, 118],\n",
       " [118, 121],\n",
       " [121, 122],\n",
       " [122, 123],\n",
       " [123, 124],\n",
       " [124, 125],\n",
       " [125, 126],\n",
       " [126, 129],\n",
       " [129, 130],\n",
       " [130, 133],\n",
       " [133, 134],\n",
       " [134, 137],\n",
       " [137, 138],\n",
       " [138, 141],\n",
       " [141, 142],\n",
       " [142, 143],\n",
       " [143, 144],\n",
       " [144, 148],\n",
       " [148, 152],\n",
       " [152, 155],\n",
       " [155, 156],\n",
       " [156, 157],\n",
       " [157, 158],\n",
       " [158, 159],\n",
       " [159, 160],\n",
       " [160, 162],\n",
       " [162, 163],\n",
       " [163, 165],\n",
       " [165, 166],\n",
       " [166, 168],\n",
       " [168, 169],\n",
       " [169, 171],\n",
       " [171, 172],\n",
       " [172, 173],\n",
       " [173, 174],\n",
       " [174, 178],\n",
       " [178, 182],\n",
       " [182, 185],\n",
       " [185, 186],\n",
       " [186, 187],\n",
       " [187, 188],\n",
       " [188, 189],\n",
       " [189, 190],\n",
       " [190, 191],\n",
       " [191, 192],\n",
       " [192, 193],\n",
       " [193, 194],\n",
       " [194, 195],\n",
       " [195, 196],\n",
       " [196, 197],\n",
       " [197, 201],\n",
       " [201, 205],\n",
       " [205, 209],\n",
       " [209, 213],\n",
       " [213, 217],\n",
       " [217, 221],\n",
       " [221, 225],\n",
       " [225, 229],\n",
       " [229, 233],\n",
       " [233, 234],\n",
       " [234, 235],\n",
       " [235, 236],\n",
       " [236, 238],\n",
       " [238, 240],\n",
       " [240, 242],\n",
       " [242, 244],\n",
       " [244, 245],\n",
       " [245, 246],\n",
       " [246, 247],\n",
       " [247, 248],\n",
       " [248, 249],\n",
       " [249, 250],\n",
       " [250, 253],\n",
       " [253, 254],\n",
       " [254, 255],\n",
       " [255, 256],\n",
       " [256, 258],\n",
       " [258, 259],\n",
       " [259, 260],\n",
       " [260, 261],\n",
       " [261, 262],\n",
       " [262, 263],\n",
       " [263, 264],\n",
       " [264, 266],\n",
       " [266, 268],\n",
       " [268, 269],\n",
       " [269, 270],\n",
       " [270, 271],\n",
       " [271, 272],\n",
       " [272, 273],\n",
       " [273, 274],\n",
       " [274, 276],\n",
       " [276, 277],\n",
       " [277, 279],\n",
       " [279, 283],\n",
       " [283, 287],\n",
       " [287, 291],\n",
       " [291, 295],\n",
       " [295, 296],\n",
       " [296, 297],\n",
       " [297, 298],\n",
       " [298, 299],\n",
       " [299, 301],\n",
       " [301, 303],\n",
       " [303, 304],\n",
       " [304, 305],\n",
       " [305, 308],\n",
       " [308, 309],\n",
       " [309, 310],\n",
       " [310, 311],\n",
       " [311, 312],\n",
       " [312, 313],\n",
       " [313, 317],\n",
       " [317, 319],\n",
       " [319, 321],\n",
       " [321, 322],\n",
       " [322, 323],\n",
       " [323, 325],\n",
       " [325, 327],\n",
       " [327, 328],\n",
       " [328, 329],\n",
       " [329, 330],\n",
       " [330, 331],\n",
       " [331, 333],\n",
       " [333, 335],\n",
       " [335, 336],\n",
       " [336, 337],\n",
       " [337, 340],\n",
       " [340, 341],\n",
       " [341, 342],\n",
       " [342, 343],\n",
       " [343, 344],\n",
       " [344, 348],\n",
       " [348, 349],\n",
       " [349, 350],\n",
       " [350, 351],\n",
       " [351, 352],\n",
       " [352, 353],\n",
       " [353, 354],\n",
       " [354, 355],\n",
       " [355, 356],\n",
       " [356, 357],\n",
       " [357, 358],\n",
       " [358, 359],\n",
       " [359, 360],\n",
       " [360, 361],\n",
       " [361, 362],\n",
       " [362, 363],\n",
       " [363, 364],\n",
       " [364, 365],\n",
       " [365, 366],\n",
       " [366, 367],\n",
       " [367, 368],\n",
       " [368, 369],\n",
       " [369, 370],\n",
       " [370, 371],\n",
       " [371, 372],\n",
       " [372, 373],\n",
       " [373, 374],\n",
       " [374, 375],\n",
       " [375, 376],\n",
       " [376, 377],\n",
       " [377, 378],\n",
       " [378, 379],\n",
       " [379, 380],\n",
       " [380, 381],\n",
       " [381, 382],\n",
       " [382, 383],\n",
       " [383, 384],\n",
       " [384, 385],\n",
       " [385, 386],\n",
       " [386, 404],\n",
       " [404, 422],\n",
       " [422, 440],\n",
       " [440, 441],\n",
       " [441, 443],\n",
       " [443, -1]]"
      ]
     },
     "execution_count": 30,
     "metadata": {},
     "output_type": "execute_result"
    }
   ],
   "source": [
    "colspecs = colspecs.astype(np.int).values.tolist()\n",
    "colspecs"
   ]
  },
  {
   "cell_type": "code",
   "execution_count": 31,
   "metadata": {},
   "outputs": [
    {
     "data": {
      "text/plain": [
       "0               caseid\n",
       "1             pregordr\n",
       "2            howpreg_n\n",
       "3            howpreg_p\n",
       "4             moscurrp\n",
       "5             nowprgdk\n",
       "6             pregend1\n",
       "7             pregend2\n",
       "8             nbrnaliv\n",
       "9             multbrth\n",
       "10            cmotpreg\n",
       "11          prgoutcome\n",
       "12            cmprgend\n",
       "13            flgdkmo1\n",
       "14            cmprgbeg\n",
       "15            ageatend\n",
       "16            hpageend\n",
       "17          gestasun_m\n",
       "18          gestasun_w\n",
       "19             wksgest\n",
       "20             mosgest\n",
       "21             dk1gest\n",
       "22             dk2gest\n",
       "23             dk3gest\n",
       "24       bpa_bdscheck1\n",
       "25       bpa_bdscheck2\n",
       "26       bpa_bdscheck3\n",
       "27             babysex\n",
       "28         birthwgt_lb\n",
       "29         birthwgt_oz\n",
       "            ...       \n",
       "213             lbw1_i\n",
       "214         bfeedwks_i\n",
       "215         maternlv_i\n",
       "216         oldwantr_i\n",
       "217         oldwantp_i\n",
       "218         wantresp_i\n",
       "219         wantpart_i\n",
       "220             ager_i\n",
       "221         fmarital_i\n",
       "222         rmarital_i\n",
       "223           educat_i\n",
       "224           hieduc_i\n",
       "225             race_i\n",
       "226         hispanic_i\n",
       "227         hisprace_i\n",
       "228         rcurpreg_i\n",
       "229          pregnum_i\n",
       "230           parity_i\n",
       "231         insuranc_i\n",
       "232         pubassis_i\n",
       "233          poverty_i\n",
       "234         laborfor_i\n",
       "235         religion_i\n",
       "236            metro_i\n",
       "237            basewgt\n",
       "238    adj_mod_basewgt\n",
       "239           finalwgt\n",
       "240             secu_p\n",
       "241               sest\n",
       "242            cmintvw\n",
       "Name: name, Length: 243, dtype: object"
      ]
     },
     "execution_count": 31,
     "metadata": {},
     "output_type": "execute_result"
    }
   ],
   "source": [
    "names = dct_variables['name']\n",
    "names"
   ]
  },
  {
   "cell_type": "code",
   "execution_count": 32,
   "metadata": {},
   "outputs": [],
   "source": [
    " #Crear data frame final con los datos de '2002FemPreg.dat'\n",
    "df = pd.read_fwf(dat_file, colspecs=colspecs, names=names)"
   ]
  },
  {
   "cell_type": "code",
   "execution_count": 33,
   "metadata": {},
   "outputs": [
    {
     "data": {
      "text/html": [
       "<div>\n",
       "<style scoped>\n",
       "    .dataframe tbody tr th:only-of-type {\n",
       "        vertical-align: middle;\n",
       "    }\n",
       "\n",
       "    .dataframe tbody tr th {\n",
       "        vertical-align: top;\n",
       "    }\n",
       "\n",
       "    .dataframe thead th {\n",
       "        text-align: right;\n",
       "    }\n",
       "</style>\n",
       "<table border=\"1\" class=\"dataframe\">\n",
       "  <thead>\n",
       "    <tr style=\"text-align: right;\">\n",
       "      <th></th>\n",
       "      <th>caseid</th>\n",
       "      <th>pregordr</th>\n",
       "      <th>howpreg_n</th>\n",
       "      <th>howpreg_p</th>\n",
       "      <th>moscurrp</th>\n",
       "      <th>nowprgdk</th>\n",
       "      <th>pregend1</th>\n",
       "      <th>pregend2</th>\n",
       "      <th>nbrnaliv</th>\n",
       "      <th>multbrth</th>\n",
       "      <th>...</th>\n",
       "      <th>poverty_i</th>\n",
       "      <th>laborfor_i</th>\n",
       "      <th>religion_i</th>\n",
       "      <th>metro_i</th>\n",
       "      <th>basewgt</th>\n",
       "      <th>adj_mod_basewgt</th>\n",
       "      <th>finalwgt</th>\n",
       "      <th>secu_p</th>\n",
       "      <th>sest</th>\n",
       "      <th>cmintvw</th>\n",
       "    </tr>\n",
       "  </thead>\n",
       "  <tbody>\n",
       "    <tr>\n",
       "      <th>0</th>\n",
       "      <td>1</td>\n",
       "      <td>1</td>\n",
       "      <td>NaN</td>\n",
       "      <td>NaN</td>\n",
       "      <td>NaN</td>\n",
       "      <td>NaN</td>\n",
       "      <td>6.0</td>\n",
       "      <td>NaN</td>\n",
       "      <td>1.0</td>\n",
       "      <td>NaN</td>\n",
       "      <td>...</td>\n",
       "      <td>0</td>\n",
       "      <td>0</td>\n",
       "      <td>0</td>\n",
       "      <td>0</td>\n",
       "      <td>3410.389399</td>\n",
       "      <td>3869.349602</td>\n",
       "      <td>6448.271112</td>\n",
       "      <td>2</td>\n",
       "      <td>9</td>\n",
       "      <td>1231</td>\n",
       "    </tr>\n",
       "    <tr>\n",
       "      <th>1</th>\n",
       "      <td>1</td>\n",
       "      <td>2</td>\n",
       "      <td>NaN</td>\n",
       "      <td>NaN</td>\n",
       "      <td>NaN</td>\n",
       "      <td>NaN</td>\n",
       "      <td>6.0</td>\n",
       "      <td>NaN</td>\n",
       "      <td>1.0</td>\n",
       "      <td>NaN</td>\n",
       "      <td>...</td>\n",
       "      <td>0</td>\n",
       "      <td>0</td>\n",
       "      <td>0</td>\n",
       "      <td>0</td>\n",
       "      <td>3410.389399</td>\n",
       "      <td>3869.349602</td>\n",
       "      <td>6448.271112</td>\n",
       "      <td>2</td>\n",
       "      <td>9</td>\n",
       "      <td>1231</td>\n",
       "    </tr>\n",
       "    <tr>\n",
       "      <th>2</th>\n",
       "      <td>2</td>\n",
       "      <td>1</td>\n",
       "      <td>NaN</td>\n",
       "      <td>NaN</td>\n",
       "      <td>NaN</td>\n",
       "      <td>NaN</td>\n",
       "      <td>5.0</td>\n",
       "      <td>NaN</td>\n",
       "      <td>3.0</td>\n",
       "      <td>5.0</td>\n",
       "      <td>...</td>\n",
       "      <td>0</td>\n",
       "      <td>0</td>\n",
       "      <td>0</td>\n",
       "      <td>0</td>\n",
       "      <td>7226.301740</td>\n",
       "      <td>8567.549110</td>\n",
       "      <td>12999.542264</td>\n",
       "      <td>2</td>\n",
       "      <td>12</td>\n",
       "      <td>1231</td>\n",
       "    </tr>\n",
       "    <tr>\n",
       "      <th>3</th>\n",
       "      <td>2</td>\n",
       "      <td>2</td>\n",
       "      <td>NaN</td>\n",
       "      <td>NaN</td>\n",
       "      <td>NaN</td>\n",
       "      <td>NaN</td>\n",
       "      <td>6.0</td>\n",
       "      <td>NaN</td>\n",
       "      <td>1.0</td>\n",
       "      <td>NaN</td>\n",
       "      <td>...</td>\n",
       "      <td>0</td>\n",
       "      <td>0</td>\n",
       "      <td>0</td>\n",
       "      <td>0</td>\n",
       "      <td>7226.301740</td>\n",
       "      <td>8567.549110</td>\n",
       "      <td>12999.542264</td>\n",
       "      <td>2</td>\n",
       "      <td>12</td>\n",
       "      <td>1231</td>\n",
       "    </tr>\n",
       "    <tr>\n",
       "      <th>4</th>\n",
       "      <td>2</td>\n",
       "      <td>3</td>\n",
       "      <td>NaN</td>\n",
       "      <td>NaN</td>\n",
       "      <td>NaN</td>\n",
       "      <td>NaN</td>\n",
       "      <td>6.0</td>\n",
       "      <td>NaN</td>\n",
       "      <td>1.0</td>\n",
       "      <td>NaN</td>\n",
       "      <td>...</td>\n",
       "      <td>0</td>\n",
       "      <td>0</td>\n",
       "      <td>0</td>\n",
       "      <td>0</td>\n",
       "      <td>7226.301740</td>\n",
       "      <td>8567.549110</td>\n",
       "      <td>12999.542264</td>\n",
       "      <td>2</td>\n",
       "      <td>12</td>\n",
       "      <td>1231</td>\n",
       "    </tr>\n",
       "  </tbody>\n",
       "</table>\n",
       "<p>5 rows × 243 columns</p>\n",
       "</div>"
      ],
      "text/plain": [
       "   caseid  pregordr  howpreg_n  howpreg_p  moscurrp  nowprgdk  pregend1  \\\n",
       "0       1         1        NaN        NaN       NaN       NaN       6.0   \n",
       "1       1         2        NaN        NaN       NaN       NaN       6.0   \n",
       "2       2         1        NaN        NaN       NaN       NaN       5.0   \n",
       "3       2         2        NaN        NaN       NaN       NaN       6.0   \n",
       "4       2         3        NaN        NaN       NaN       NaN       6.0   \n",
       "\n",
       "   pregend2  nbrnaliv  multbrth  ...  poverty_i  laborfor_i  religion_i  \\\n",
       "0       NaN       1.0       NaN  ...          0           0           0   \n",
       "1       NaN       1.0       NaN  ...          0           0           0   \n",
       "2       NaN       3.0       5.0  ...          0           0           0   \n",
       "3       NaN       1.0       NaN  ...          0           0           0   \n",
       "4       NaN       1.0       NaN  ...          0           0           0   \n",
       "\n",
       "   metro_i      basewgt  adj_mod_basewgt      finalwgt  secu_p  sest  cmintvw  \n",
       "0        0  3410.389399      3869.349602   6448.271112       2     9     1231  \n",
       "1        0  3410.389399      3869.349602   6448.271112       2     9     1231  \n",
       "2        0  7226.301740      8567.549110  12999.542264       2    12     1231  \n",
       "3        0  7226.301740      8567.549110  12999.542264       2    12     1231  \n",
       "4        0  7226.301740      8567.549110  12999.542264       2    12     1231  \n",
       "\n",
       "[5 rows x 243 columns]"
      ]
     },
     "execution_count": 33,
     "metadata": {},
     "output_type": "execute_result"
    }
   ],
   "source": [
    "df.head()"
   ]
  },
  {
   "cell_type": "markdown",
   "metadata": {},
   "source": [
    "## Creacion de clase para transformar los archivos .dat basados en un objeto dct"
   ]
  },
  {
   "cell_type": "code",
   "execution_count": 34,
   "metadata": {},
   "outputs": [],
   "source": [
    "class DCTFixedWidthDAT(object):\n",
    "    def __init__ (self, variables, index_base=0):\n",
    "        self.variables = variables\n",
    "        self.colspecs = variables[['start', 'end']] - index_base\n",
    "        self.colspecs = self.colspecs.astype(np.int).values.tolist()\n",
    "        self.names = variables['name']\n",
    "        \n",
    "    def ReadDatToFixed(self, dat_file, **options):\n",
    "        df = pd.read_fwf( dat_file, colspecs=self.colspecs, names=self.names, **options)\n",
    "        return df"
   ]
  },
  {
   "cell_type": "markdown",
   "metadata": {},
   "source": [
    "### Usar la funcion y la clase para resumir el trabajo de exploracion dct y dat"
   ]
  },
  {
   "cell_type": "code",
   "execution_count": 35,
   "metadata": {},
   "outputs": [],
   "source": [
    "variables = convertir_dct(dct_file, type_map, columns)"
   ]
  },
  {
   "cell_type": "code",
   "execution_count": 36,
   "metadata": {},
   "outputs": [],
   "source": [
    "dct = DCTFixedWidthDAT(variables, index_base)"
   ]
  },
  {
   "cell_type": "code",
   "execution_count": 37,
   "metadata": {},
   "outputs": [],
   "source": [
    "df= dct.ReadDatToFixed(dat_file)"
   ]
  },
  {
   "cell_type": "code",
   "execution_count": 38,
   "metadata": {},
   "outputs": [
    {
     "data": {
      "text/html": [
       "<div>\n",
       "<style scoped>\n",
       "    .dataframe tbody tr th:only-of-type {\n",
       "        vertical-align: middle;\n",
       "    }\n",
       "\n",
       "    .dataframe tbody tr th {\n",
       "        vertical-align: top;\n",
       "    }\n",
       "\n",
       "    .dataframe thead th {\n",
       "        text-align: right;\n",
       "    }\n",
       "</style>\n",
       "<table border=\"1\" class=\"dataframe\">\n",
       "  <thead>\n",
       "    <tr style=\"text-align: right;\">\n",
       "      <th></th>\n",
       "      <th>caseid</th>\n",
       "      <th>pregordr</th>\n",
       "      <th>howpreg_n</th>\n",
       "      <th>howpreg_p</th>\n",
       "      <th>moscurrp</th>\n",
       "      <th>nowprgdk</th>\n",
       "      <th>pregend1</th>\n",
       "      <th>pregend2</th>\n",
       "      <th>nbrnaliv</th>\n",
       "      <th>multbrth</th>\n",
       "      <th>...</th>\n",
       "      <th>poverty_i</th>\n",
       "      <th>laborfor_i</th>\n",
       "      <th>religion_i</th>\n",
       "      <th>metro_i</th>\n",
       "      <th>basewgt</th>\n",
       "      <th>adj_mod_basewgt</th>\n",
       "      <th>finalwgt</th>\n",
       "      <th>secu_p</th>\n",
       "      <th>sest</th>\n",
       "      <th>cmintvw</th>\n",
       "    </tr>\n",
       "  </thead>\n",
       "  <tbody>\n",
       "    <tr>\n",
       "      <th>0</th>\n",
       "      <td>1</td>\n",
       "      <td>1</td>\n",
       "      <td>NaN</td>\n",
       "      <td>NaN</td>\n",
       "      <td>NaN</td>\n",
       "      <td>NaN</td>\n",
       "      <td>6.0</td>\n",
       "      <td>NaN</td>\n",
       "      <td>1.0</td>\n",
       "      <td>NaN</td>\n",
       "      <td>...</td>\n",
       "      <td>0</td>\n",
       "      <td>0</td>\n",
       "      <td>0</td>\n",
       "      <td>0</td>\n",
       "      <td>3410.389399</td>\n",
       "      <td>3869.349602</td>\n",
       "      <td>6448.271112</td>\n",
       "      <td>2</td>\n",
       "      <td>9</td>\n",
       "      <td>1231</td>\n",
       "    </tr>\n",
       "    <tr>\n",
       "      <th>1</th>\n",
       "      <td>1</td>\n",
       "      <td>2</td>\n",
       "      <td>NaN</td>\n",
       "      <td>NaN</td>\n",
       "      <td>NaN</td>\n",
       "      <td>NaN</td>\n",
       "      <td>6.0</td>\n",
       "      <td>NaN</td>\n",
       "      <td>1.0</td>\n",
       "      <td>NaN</td>\n",
       "      <td>...</td>\n",
       "      <td>0</td>\n",
       "      <td>0</td>\n",
       "      <td>0</td>\n",
       "      <td>0</td>\n",
       "      <td>3410.389399</td>\n",
       "      <td>3869.349602</td>\n",
       "      <td>6448.271112</td>\n",
       "      <td>2</td>\n",
       "      <td>9</td>\n",
       "      <td>1231</td>\n",
       "    </tr>\n",
       "    <tr>\n",
       "      <th>2</th>\n",
       "      <td>2</td>\n",
       "      <td>1</td>\n",
       "      <td>NaN</td>\n",
       "      <td>NaN</td>\n",
       "      <td>NaN</td>\n",
       "      <td>NaN</td>\n",
       "      <td>5.0</td>\n",
       "      <td>NaN</td>\n",
       "      <td>3.0</td>\n",
       "      <td>5.0</td>\n",
       "      <td>...</td>\n",
       "      <td>0</td>\n",
       "      <td>0</td>\n",
       "      <td>0</td>\n",
       "      <td>0</td>\n",
       "      <td>7226.301740</td>\n",
       "      <td>8567.549110</td>\n",
       "      <td>12999.542264</td>\n",
       "      <td>2</td>\n",
       "      <td>12</td>\n",
       "      <td>1231</td>\n",
       "    </tr>\n",
       "    <tr>\n",
       "      <th>3</th>\n",
       "      <td>2</td>\n",
       "      <td>2</td>\n",
       "      <td>NaN</td>\n",
       "      <td>NaN</td>\n",
       "      <td>NaN</td>\n",
       "      <td>NaN</td>\n",
       "      <td>6.0</td>\n",
       "      <td>NaN</td>\n",
       "      <td>1.0</td>\n",
       "      <td>NaN</td>\n",
       "      <td>...</td>\n",
       "      <td>0</td>\n",
       "      <td>0</td>\n",
       "      <td>0</td>\n",
       "      <td>0</td>\n",
       "      <td>7226.301740</td>\n",
       "      <td>8567.549110</td>\n",
       "      <td>12999.542264</td>\n",
       "      <td>2</td>\n",
       "      <td>12</td>\n",
       "      <td>1231</td>\n",
       "    </tr>\n",
       "    <tr>\n",
       "      <th>4</th>\n",
       "      <td>2</td>\n",
       "      <td>3</td>\n",
       "      <td>NaN</td>\n",
       "      <td>NaN</td>\n",
       "      <td>NaN</td>\n",
       "      <td>NaN</td>\n",
       "      <td>6.0</td>\n",
       "      <td>NaN</td>\n",
       "      <td>1.0</td>\n",
       "      <td>NaN</td>\n",
       "      <td>...</td>\n",
       "      <td>0</td>\n",
       "      <td>0</td>\n",
       "      <td>0</td>\n",
       "      <td>0</td>\n",
       "      <td>7226.301740</td>\n",
       "      <td>8567.549110</td>\n",
       "      <td>12999.542264</td>\n",
       "      <td>2</td>\n",
       "      <td>12</td>\n",
       "      <td>1231</td>\n",
       "    </tr>\n",
       "  </tbody>\n",
       "</table>\n",
       "<p>5 rows × 243 columns</p>\n",
       "</div>"
      ],
      "text/plain": [
       "   caseid  pregordr  howpreg_n  howpreg_p  moscurrp  nowprgdk  pregend1  \\\n",
       "0       1         1        NaN        NaN       NaN       NaN       6.0   \n",
       "1       1         2        NaN        NaN       NaN       NaN       6.0   \n",
       "2       2         1        NaN        NaN       NaN       NaN       5.0   \n",
       "3       2         2        NaN        NaN       NaN       NaN       6.0   \n",
       "4       2         3        NaN        NaN       NaN       NaN       6.0   \n",
       "\n",
       "   pregend2  nbrnaliv  multbrth  ...  poverty_i  laborfor_i  religion_i  \\\n",
       "0       NaN       1.0       NaN  ...          0           0           0   \n",
       "1       NaN       1.0       NaN  ...          0           0           0   \n",
       "2       NaN       3.0       5.0  ...          0           0           0   \n",
       "3       NaN       1.0       NaN  ...          0           0           0   \n",
       "4       NaN       1.0       NaN  ...          0           0           0   \n",
       "\n",
       "   metro_i      basewgt  adj_mod_basewgt      finalwgt  secu_p  sest  cmintvw  \n",
       "0        0  3410.389399      3869.349602   6448.271112       2     9     1231  \n",
       "1        0  3410.389399      3869.349602   6448.271112       2     9     1231  \n",
       "2        0  7226.301740      8567.549110  12999.542264       2    12     1231  \n",
       "3        0  7226.301740      8567.549110  12999.542264       2    12     1231  \n",
       "4        0  7226.301740      8567.549110  12999.542264       2    12     1231  \n",
       "\n",
       "[5 rows x 243 columns]"
      ]
     },
     "execution_count": 38,
     "metadata": {},
     "output_type": "execute_result"
    }
   ],
   "source": [
    "df.head()"
   ]
  },
  {
   "cell_type": "markdown",
   "metadata": {},
   "source": [
    "### Convertir los data frame a csv"
   ]
  },
  {
   "cell_type": "code",
   "execution_count": 39,
   "metadata": {},
   "outputs": [],
   "source": [
    "df.to_csv('2002fempredat.csv')\n"
   ]
  },
  {
   "cell_type": "code",
   "execution_count": 40,
   "metadata": {},
   "outputs": [],
   "source": [
    "dct = dct_variables[['start', 'type', 'name', 'fstring', 'desc']]"
   ]
  },
  {
   "cell_type": "code",
   "execution_count": 41,
   "metadata": {},
   "outputs": [],
   "source": [
    "dct.to_csv('2002fempregdct.csv')"
   ]
  },
  {
   "cell_type": "code",
   "execution_count": 43,
   "metadata": {},
   "outputs": [],
   "source": [
    "#crear un csv sin el index del dataframe orige\n",
    "\n",
    "df.to_csv('2002fempredat_noindx.csv', index=False)\n",
    "dct.to_csv('2002fempregdct_noindx.csv', index= False)"
   ]
  },
  {
   "cell_type": "code",
   "execution_count": null,
   "metadata": {},
   "outputs": [],
   "source": []
  }
 ],
 "metadata": {
  "kernelspec": {
   "display_name": "Python 3",
   "language": "python",
   "name": "python3"
  },
  "language_info": {
   "codemirror_mode": {
    "name": "ipython",
    "version": 3
   },
   "file_extension": ".py",
   "mimetype": "text/x-python",
   "name": "python",
   "nbconvert_exporter": "python",
   "pygments_lexer": "ipython3",
   "version": "3.6.7"
  }
 },
 "nbformat": 4,
 "nbformat_minor": 4
}
